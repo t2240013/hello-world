{
 "cells": [
  {
   "cell_type": "markdown",
   "metadata": {
    "toc": true
   },
   "source": [
    "<h1>Table of Contents<span class=\"tocSkip\"></span></h1>\n",
    "<div class=\"toc\" style=\"margin-top: 1em;\"><ul class=\"toc-item\"><li><span><a href=\"#有名な話\" data-toc-modified-id=\"有名な話-1\"><span class=\"toc-item-num\">1&nbsp;&nbsp;</span>有名な話</a></span></li><li><span><a href=\"#実装のポイント\" data-toc-modified-id=\"実装のポイント-2\"><span class=\"toc-item-num\">2&nbsp;&nbsp;</span>実装のポイント</a></span></li></ul></div>"
   ]
  },
  {
   "cell_type": "markdown",
   "metadata": {},
   "source": [
    "# 有名な話\n",
    "3層（以上）の細胞層を持つ多層パーセプトロンは隠れ層の細胞が十分おおきな数だけあり，かつ隠れ層の活性化関数が非線形関数であれば任意の関数を近似することが出来る万能近似器です．<br>\n",
    "https://qiita.com/Ugo-Nama/items/04814a13c9ea84978a4c"
   ]
  },
  {
   "cell_type": "markdown",
   "metadata": {},
   "source": [
    "# 実装のポイント\n",
    "* データは[0,1]が暗黙の了解っぽい。負の値も条件によっては出力できるが、[0,1]区間のサンプルの近似精度が高い気がする。\n",
    "* activationが負の値を出せないと、当然、負の値は出力できない\n",
    "* 初期値に確かに依存する。normal は駄目でもhe_normalは良かったりする\n",
    "* reluは層数が少ないと出力がガクガクするが、多層にすると滑らかになる\n",
    "\n"
   ]
  },
  {
   "cell_type": "code",
   "execution_count": 1,
   "metadata": {
    "collapsed": true
   },
   "outputs": [],
   "source": [
    "import os,sys\n",
    "import numpy as np\n",
    "import matplotlib.pyplot as plt\n",
    "import pickle\n",
    "# %matplotlib inline\n",
    "\n",
    "#from __future__ import division\n",
    "#from IPython.core.debugger import Pdb; Pdb().set_trace() #  break したい所にこの行を張り付ける\n",
    "# %pdb # 実行しておくとエラーが起きたところでデバッガが起動する"
   ]
  },
  {
   "cell_type": "code",
   "execution_count": 2,
   "metadata": {},
   "outputs": [
    {
     "name": "stderr",
     "output_type": "stream",
     "text": [
      "Using TensorFlow backend.\n"
     ]
    }
   ],
   "source": [
    "#import theano\n",
    "from keras.models import Sequential\n",
    "from keras.layers import Dense, Dropout, Flatten, Activation\n",
    "from keras.layers import Conv2D, MaxPooling2D, ZeroPadding2D, Input, UpSampling2D\n",
    "from keras.optimizers import Adam\n",
    "from keras.utils import np_utils\n",
    "#from keras.datasets import mnist\n",
    "from keras import backend as K\n",
    "from keras.callbacks import TensorBoard\n",
    "from sklearn.preprocessing import MinMaxScaler\n",
    "from sklearn.preprocessing import StandardScaler\n"
   ]
  },
  {
   "cell_type": "code",
   "execution_count": 3,
   "metadata": {
    "collapsed": true
   },
   "outputs": [],
   "source": [
    "# %qtconsole"
   ]
  },
  {
   "cell_type": "code",
   "execution_count": 4,
   "metadata": {
    "collapsed": true
   },
   "outputs": [],
   "source": [
    "def func(x):\n",
    "    return (x-1)*(x-0.5)*(x+0.5)*(x+1)*x"
   ]
  },
  {
   "cell_type": "code",
   "execution_count": 18,
   "metadata": {},
   "outputs": [],
   "source": [
    "def evalplot( x_test, y_test, y_pred ):\n",
    "    plt.clf()\n",
    "    plt.scatter( x_test, y_test, s=2 )\n",
    "    plt.scatter( x_test, y_pred, s=2 )\n",
    "#    plt.draw()\n",
    "    plt.pause(.01)"
   ]
  },
  {
   "cell_type": "code",
   "execution_count": 19,
   "metadata": {},
   "outputs": [],
   "source": [
    "# データ作成\n",
    "n_train = 100000\n",
    "x_train_data = np.random.rand( n_train, 1 )*2-1\n",
    "y_train_data = func( x_train_data )\n",
    "scl_x = MinMaxScaler()\n",
    "scl_y = MinMaxScaler()\n",
    "x_train = scl_x.fit_transform(x_train_data)\n",
    "y_train = scl_y.fit_transform(y_train_data)\n",
    "\n",
    "\n",
    "x_test_data = np.arange( -1,1,0.01 ).reshape(-1,1)\n",
    "x_test = scl_x.transform( x_test_data )\n",
    "y_test = scl_y.transform( func( x_test_data ) )"
   ]
  },
  {
   "cell_type": "code",
   "execution_count": 20,
   "metadata": {},
   "outputs": [],
   "source": [
    "# モデルの作成\n",
    "model = Sequential()\n",
    "act = 'sigmoid'\n",
    "#act = 'relu'\n",
    "\n",
    "#init = 'he_normal'\n",
    "init = 'glorot_normal'\n",
    "\n",
    "# モデルにレイヤーを積み上げていく\n",
    "model.add(Dense(units=8, input_dim=1, activation=act, kernel_initializer=init))\n",
    "model.add(Dense(units=8, input_dim=1, activation=act, kernel_initializer=init)) \n",
    "model.add(Dense(units=8, input_dim=1, activation=act, kernel_initializer=init))\n",
    "model.add(Dense(units=1, activation='sigmoid')) # sigmoidは閾値が[0,1] なので負の値が表現できない\n",
    "\n",
    "# 訓練プロセスの定義\n",
    "#losstype = 'binary_crossentropy'\n",
    "losstype = 'mse'\n",
    "\n",
    "model.compile(loss=losstype,\n",
    "              optimizer='adam',\n",
    "              metrics=['accuracy'])"
   ]
  },
  {
   "cell_type": "code",
   "execution_count": 21,
   "metadata": {},
   "outputs": [
    {
     "data": {
      "image/svg+xml": [
       "<svg height=\"387pt\" viewBox=\"0.00 0.00 300.00 387.00\" width=\"300pt\" xmlns=\"http://www.w3.org/2000/svg\" xmlns:xlink=\"http://www.w3.org/1999/xlink\">\n",
       "<g class=\"graph\" id=\"graph0\" transform=\"scale(1 1) rotate(0) translate(4 383)\">\n",
       "<title>G</title>\n",
       "<polygon fill=\"white\" points=\"-4,4 -4,-383 296,-383 296,4 -4,4\" stroke=\"none\"/>\n",
       "<!-- 1733900673264 -->\n",
       "<g class=\"node\" id=\"node1\"><title>1733900673264</title>\n",
       "<polygon fill=\"none\" points=\"0,-332.5 0,-378.5 292,-378.5 292,-332.5 0,-332.5\" stroke=\"black\"/>\n",
       "<text font-family=\"Times New Roman,serif\" font-size=\"14.00\" text-anchor=\"middle\" x=\"83\" y=\"-351.8\">dense_5_input: InputLayer</text>\n",
       "<polyline fill=\"none\" points=\"166,-332.5 166,-378.5 \" stroke=\"black\"/>\n",
       "<text font-family=\"Times New Roman,serif\" font-size=\"14.00\" text-anchor=\"middle\" x=\"194\" y=\"-363.3\">input:</text>\n",
       "<polyline fill=\"none\" points=\"166,-355.5 222,-355.5 \" stroke=\"black\"/>\n",
       "<text font-family=\"Times New Roman,serif\" font-size=\"14.00\" text-anchor=\"middle\" x=\"194\" y=\"-340.3\">output:</text>\n",
       "<polyline fill=\"none\" points=\"222,-332.5 222,-378.5 \" stroke=\"black\"/>\n",
       "<text font-family=\"Times New Roman,serif\" font-size=\"14.00\" text-anchor=\"middle\" x=\"257\" y=\"-363.3\">(None, 1)</text>\n",
       "<polyline fill=\"none\" points=\"222,-355.5 292,-355.5 \" stroke=\"black\"/>\n",
       "<text font-family=\"Times New Roman,serif\" font-size=\"14.00\" text-anchor=\"middle\" x=\"257\" y=\"-340.3\">(None, 1)</text>\n",
       "</g>\n",
       "<!-- 1733900148408 -->\n",
       "<g class=\"node\" id=\"node2\"><title>1733900148408</title>\n",
       "<polygon fill=\"none\" points=\"31,-249.5 31,-295.5 261,-295.5 261,-249.5 31,-249.5\" stroke=\"black\"/>\n",
       "<text font-family=\"Times New Roman,serif\" font-size=\"14.00\" text-anchor=\"middle\" x=\"83\" y=\"-268.8\">dense_5: Dense</text>\n",
       "<polyline fill=\"none\" points=\"135,-249.5 135,-295.5 \" stroke=\"black\"/>\n",
       "<text font-family=\"Times New Roman,serif\" font-size=\"14.00\" text-anchor=\"middle\" x=\"163\" y=\"-280.3\">input:</text>\n",
       "<polyline fill=\"none\" points=\"135,-272.5 191,-272.5 \" stroke=\"black\"/>\n",
       "<text font-family=\"Times New Roman,serif\" font-size=\"14.00\" text-anchor=\"middle\" x=\"163\" y=\"-257.3\">output:</text>\n",
       "<polyline fill=\"none\" points=\"191,-249.5 191,-295.5 \" stroke=\"black\"/>\n",
       "<text font-family=\"Times New Roman,serif\" font-size=\"14.00\" text-anchor=\"middle\" x=\"226\" y=\"-280.3\">(None, 1)</text>\n",
       "<polyline fill=\"none\" points=\"191,-272.5 261,-272.5 \" stroke=\"black\"/>\n",
       "<text font-family=\"Times New Roman,serif\" font-size=\"14.00\" text-anchor=\"middle\" x=\"226\" y=\"-257.3\">(None, 8)</text>\n",
       "</g>\n",
       "<!-- 1733900673264&#45;&gt;1733900148408 -->\n",
       "<g class=\"edge\" id=\"edge1\"><title>1733900673264-&gt;1733900148408</title>\n",
       "<path d=\"M146,-332.366C146,-324.152 146,-314.658 146,-305.725\" fill=\"none\" stroke=\"black\"/>\n",
       "<polygon fill=\"black\" points=\"149.5,-305.607 146,-295.607 142.5,-305.607 149.5,-305.607\" stroke=\"black\"/>\n",
       "</g>\n",
       "<!-- 1733900148520 -->\n",
       "<g class=\"node\" id=\"node3\"><title>1733900148520</title>\n",
       "<polygon fill=\"none\" points=\"31,-166.5 31,-212.5 261,-212.5 261,-166.5 31,-166.5\" stroke=\"black\"/>\n",
       "<text font-family=\"Times New Roman,serif\" font-size=\"14.00\" text-anchor=\"middle\" x=\"83\" y=\"-185.8\">dense_6: Dense</text>\n",
       "<polyline fill=\"none\" points=\"135,-166.5 135,-212.5 \" stroke=\"black\"/>\n",
       "<text font-family=\"Times New Roman,serif\" font-size=\"14.00\" text-anchor=\"middle\" x=\"163\" y=\"-197.3\">input:</text>\n",
       "<polyline fill=\"none\" points=\"135,-189.5 191,-189.5 \" stroke=\"black\"/>\n",
       "<text font-family=\"Times New Roman,serif\" font-size=\"14.00\" text-anchor=\"middle\" x=\"163\" y=\"-174.3\">output:</text>\n",
       "<polyline fill=\"none\" points=\"191,-166.5 191,-212.5 \" stroke=\"black\"/>\n",
       "<text font-family=\"Times New Roman,serif\" font-size=\"14.00\" text-anchor=\"middle\" x=\"226\" y=\"-197.3\">(None, 8)</text>\n",
       "<polyline fill=\"none\" points=\"191,-189.5 261,-189.5 \" stroke=\"black\"/>\n",
       "<text font-family=\"Times New Roman,serif\" font-size=\"14.00\" text-anchor=\"middle\" x=\"226\" y=\"-174.3\">(None, 8)</text>\n",
       "</g>\n",
       "<!-- 1733900148408&#45;&gt;1733900148520 -->\n",
       "<g class=\"edge\" id=\"edge2\"><title>1733900148408-&gt;1733900148520</title>\n",
       "<path d=\"M146,-249.366C146,-241.152 146,-231.658 146,-222.725\" fill=\"none\" stroke=\"black\"/>\n",
       "<polygon fill=\"black\" points=\"149.5,-222.607 146,-212.607 142.5,-222.607 149.5,-222.607\" stroke=\"black\"/>\n",
       "</g>\n",
       "<!-- 1733900673768 -->\n",
       "<g class=\"node\" id=\"node4\"><title>1733900673768</title>\n",
       "<polygon fill=\"none\" points=\"31,-83.5 31,-129.5 261,-129.5 261,-83.5 31,-83.5\" stroke=\"black\"/>\n",
       "<text font-family=\"Times New Roman,serif\" font-size=\"14.00\" text-anchor=\"middle\" x=\"83\" y=\"-102.8\">dense_7: Dense</text>\n",
       "<polyline fill=\"none\" points=\"135,-83.5 135,-129.5 \" stroke=\"black\"/>\n",
       "<text font-family=\"Times New Roman,serif\" font-size=\"14.00\" text-anchor=\"middle\" x=\"163\" y=\"-114.3\">input:</text>\n",
       "<polyline fill=\"none\" points=\"135,-106.5 191,-106.5 \" stroke=\"black\"/>\n",
       "<text font-family=\"Times New Roman,serif\" font-size=\"14.00\" text-anchor=\"middle\" x=\"163\" y=\"-91.3\">output:</text>\n",
       "<polyline fill=\"none\" points=\"191,-83.5 191,-129.5 \" stroke=\"black\"/>\n",
       "<text font-family=\"Times New Roman,serif\" font-size=\"14.00\" text-anchor=\"middle\" x=\"226\" y=\"-114.3\">(None, 8)</text>\n",
       "<polyline fill=\"none\" points=\"191,-106.5 261,-106.5 \" stroke=\"black\"/>\n",
       "<text font-family=\"Times New Roman,serif\" font-size=\"14.00\" text-anchor=\"middle\" x=\"226\" y=\"-91.3\">(None, 8)</text>\n",
       "</g>\n",
       "<!-- 1733900148520&#45;&gt;1733900673768 -->\n",
       "<g class=\"edge\" id=\"edge3\"><title>1733900148520-&gt;1733900673768</title>\n",
       "<path d=\"M146,-166.366C146,-158.152 146,-148.658 146,-139.725\" fill=\"none\" stroke=\"black\"/>\n",
       "<polygon fill=\"black\" points=\"149.5,-139.607 146,-129.607 142.5,-139.607 149.5,-139.607\" stroke=\"black\"/>\n",
       "</g>\n",
       "<!-- 1733900713040 -->\n",
       "<g class=\"node\" id=\"node5\"><title>1733900713040</title>\n",
       "<polygon fill=\"none\" points=\"31,-0.5 31,-46.5 261,-46.5 261,-0.5 31,-0.5\" stroke=\"black\"/>\n",
       "<text font-family=\"Times New Roman,serif\" font-size=\"14.00\" text-anchor=\"middle\" x=\"83\" y=\"-19.8\">dense_8: Dense</text>\n",
       "<polyline fill=\"none\" points=\"135,-0.5 135,-46.5 \" stroke=\"black\"/>\n",
       "<text font-family=\"Times New Roman,serif\" font-size=\"14.00\" text-anchor=\"middle\" x=\"163\" y=\"-31.3\">input:</text>\n",
       "<polyline fill=\"none\" points=\"135,-23.5 191,-23.5 \" stroke=\"black\"/>\n",
       "<text font-family=\"Times New Roman,serif\" font-size=\"14.00\" text-anchor=\"middle\" x=\"163\" y=\"-8.3\">output:</text>\n",
       "<polyline fill=\"none\" points=\"191,-0.5 191,-46.5 \" stroke=\"black\"/>\n",
       "<text font-family=\"Times New Roman,serif\" font-size=\"14.00\" text-anchor=\"middle\" x=\"226\" y=\"-31.3\">(None, 8)</text>\n",
       "<polyline fill=\"none\" points=\"191,-23.5 261,-23.5 \" stroke=\"black\"/>\n",
       "<text font-family=\"Times New Roman,serif\" font-size=\"14.00\" text-anchor=\"middle\" x=\"226\" y=\"-8.3\">(None, 1)</text>\n",
       "</g>\n",
       "<!-- 1733900673768&#45;&gt;1733900713040 -->\n",
       "<g class=\"edge\" id=\"edge4\"><title>1733900673768-&gt;1733900713040</title>\n",
       "<path d=\"M146,-83.3664C146,-75.1516 146,-65.6579 146,-56.7252\" fill=\"none\" stroke=\"black\"/>\n",
       "<polygon fill=\"black\" points=\"149.5,-56.6068 146,-46.6068 142.5,-56.6069 149.5,-56.6068\" stroke=\"black\"/>\n",
       "</g>\n",
       "</g>\n",
       "</svg>"
      ],
      "text/plain": [
       "<IPython.core.display.SVG object>"
      ]
     },
     "execution_count": 21,
     "metadata": {},
     "output_type": "execute_result"
    }
   ],
   "source": [
    "from IPython.display import SVG\n",
    "from keras.utils.vis_utils import model_to_dot\n",
    "\n",
    "SVG(model_to_dot(model, show_shapes=True ).create(prog='dot', format='svg'))"
   ]
  },
  {
   "cell_type": "code",
   "execution_count": 22,
   "metadata": {},
   "outputs": [
    {
     "name": "stdout",
     "output_type": "stream",
     "text": [
      "Using matplotlib backend: Qt5Agg\n"
     ]
    }
   ],
   "source": [
    "%matplotlib\n",
    "plt.ion()\n",
    "fig = plt.figure(figsize=[4,4])\n",
    "plt.show()"
   ]
  },
  {
   "cell_type": "code",
   "execution_count": 23,
   "metadata": {},
   "outputs": [
    {
     "name": "stdout",
     "output_type": "stream",
     "text": [
      "Epoch 1/5\n",
      "100000/100000 [==============================] - 2s - loss: 0.0514 - acc: 1.0000e-04     \n",
      "Epoch 2/5\n",
      "100000/100000 [==============================] - 1s - loss: 0.0399 - acc: 1.1000e-04     \n",
      "Epoch 3/5\n",
      "100000/100000 [==============================] - 1s - loss: 0.0390 - acc: 1.1000e-04     \n",
      "Epoch 4/5\n",
      "100000/100000 [==============================] - 2s - loss: 0.0382 - acc: 1.1000e-04     \n",
      "Epoch 5/5\n",
      "100000/100000 [==============================] - 2s - loss: 0.0371 - acc: 1.1000e-04     \n",
      "Epoch 1/5\n",
      "100000/100000 [==============================] - 1s - loss: 0.0351 - acc: 1.1000e-04     \n",
      "Epoch 2/5\n",
      "100000/100000 [==============================] - 1s - loss: 0.0282 - acc: 1.1000e-04     \n",
      "Epoch 3/5\n",
      "100000/100000 [==============================] - 1s - loss: 0.0135 - acc: 1.1000e-04     \n",
      "Epoch 4/5\n",
      "100000/100000 [==============================] - 1s - loss: 0.0076 - acc: 1.1000e-04     \n",
      "Epoch 5/5\n",
      "100000/100000 [==============================] - 1s - loss: 0.0052 - acc: 1.1000e-04     \n",
      "Epoch 1/5\n",
      "100000/100000 [==============================] - 1s - loss: 0.0042 - acc: 1.1000e-04     \n",
      "Epoch 2/5\n",
      "100000/100000 [==============================] - 1s - loss: 0.0039 - acc: 1.1000e-04     \n",
      "Epoch 3/5\n",
      "100000/100000 [==============================] - 1s - loss: 0.0039 - acc: 1.1000e-04     \n",
      "Epoch 4/5\n",
      "100000/100000 [==============================] - 1s - loss: 0.0038 - acc: 1.1000e-04     \n",
      "Epoch 5/5\n",
      "100000/100000 [==============================] - 1s - loss: 0.0037 - acc: 1.1000e-04     \n",
      "Epoch 1/5\n",
      "100000/100000 [==============================] - 1s - loss: 0.0037 - acc: 1.1000e-04     \n",
      "Epoch 2/5\n",
      "100000/100000 [==============================] - 1s - loss: 0.0037 - acc: 1.1000e-04     \n",
      "Epoch 3/5\n",
      "100000/100000 [==============================] - 1s - loss: 0.0036 - acc: 1.1000e-04     \n",
      "Epoch 4/5\n",
      "100000/100000 [==============================] - 1s - loss: 0.0036 - acc: 1.1000e-04     \n",
      "Epoch 5/5\n",
      "100000/100000 [==============================] - 1s - loss: 0.0036 - acc: 1.1000e-04     \n",
      "Epoch 1/5\n",
      "100000/100000 [==============================] - 1s - loss: 0.0036 - acc: 1.1000e-04     \n",
      "Epoch 2/5\n",
      "100000/100000 [==============================] - 1s - loss: 0.0035 - acc: 1.1000e-04     \n",
      "Epoch 3/5\n",
      "100000/100000 [==============================] - 1s - loss: 0.0035 - acc: 1.1000e-04     \n",
      "Epoch 4/5\n",
      "100000/100000 [==============================] - 1s - loss: 0.0035 - acc: 1.1000e-04     \n",
      "Epoch 5/5\n",
      "100000/100000 [==============================] - 1s - loss: 0.0035 - acc: 1.1000e-04     \n",
      "Epoch 1/5\n",
      "100000/100000 [==============================] - 1s - loss: 0.0035 - acc: 1.1000e-04     \n",
      "Epoch 2/5\n",
      "100000/100000 [==============================] - 1s - loss: 0.0034 - acc: 1.1000e-04     \n",
      "Epoch 3/5\n",
      "100000/100000 [==============================] - 1s - loss: 0.0034 - acc: 1.1000e-04     \n",
      "Epoch 4/5\n",
      "100000/100000 [==============================] - 1s - loss: 0.0034 - acc: 1.1000e-04     \n",
      "Epoch 5/5\n",
      "100000/100000 [==============================] - 1s - loss: 0.0034 - acc: 1.1000e-04     \n",
      "Epoch 1/5\n",
      "100000/100000 [==============================] - 1s - loss: 0.0034 - acc: 1.1000e-04     \n",
      "Epoch 2/5\n",
      "100000/100000 [==============================] - 1s - loss: 0.0033 - acc: 1.1000e-04     \n",
      "Epoch 3/5\n",
      "100000/100000 [==============================] - 1s - loss: 0.0033 - acc: 1.1000e-04     \n",
      "Epoch 4/5\n",
      "100000/100000 [==============================] - 1s - loss: 0.0033 - acc: 1.1000e-04     \n",
      "Epoch 5/5\n",
      "100000/100000 [==============================] - 1s - loss: 0.0032 - acc: 1.1000e-04     \n",
      "Epoch 1/5\n",
      "100000/100000 [==============================] - 1s - loss: 0.0032 - acc: 1.1000e-04     \n",
      "Epoch 2/5\n",
      "100000/100000 [==============================] - 1s - loss: 0.0031 - acc: 1.1000e-04     \n",
      "Epoch 3/5\n",
      "100000/100000 [==============================] - 1s - loss: 0.0030 - acc: 1.1000e-04     \n",
      "Epoch 4/5\n",
      "100000/100000 [==============================] - 1s - loss: 0.0029 - acc: 1.1000e-04     \n",
      "Epoch 5/5\n",
      "100000/100000 [==============================] - 2s - loss: 0.0028 - acc: 1.1000e-04     \n",
      "Epoch 1/5\n",
      "100000/100000 [==============================] - 2s - loss: 0.0026 - acc: 1.1000e-04     \n",
      "Epoch 2/5\n",
      "100000/100000 [==============================] - 2s - loss: 0.0023 - acc: 1.1000e-04     \n",
      "Epoch 3/5\n",
      "100000/100000 [==============================] - 1s - loss: 0.0015 - acc: 1.1000e-04     \n",
      "Epoch 4/5\n",
      "100000/100000 [==============================] - 2s - loss: 6.5694e-04 - acc: 1.1000e-04     \n",
      "Epoch 5/5\n",
      "100000/100000 [==============================] - 2s - loss: 2.4248e-04 - acc: 1.1000e-04     \n",
      "Epoch 1/5\n",
      "100000/100000 [==============================] - 2s - loss: 9.3047e-05 - acc: 1.1000e-04     \n",
      "Epoch 2/5\n",
      "100000/100000 [==============================] - 2s - loss: 5.2432e-05 - acc: 1.1000e-04     \n",
      "Epoch 3/5\n",
      "100000/100000 [==============================] - 2s - loss: 4.0066e-05 - acc: 1.1000e-04     \n",
      "Epoch 4/5\n",
      "100000/100000 [==============================] - 2s - loss: 3.3894e-05 - acc: 1.1000e-04     \n",
      "Epoch 5/5\n",
      "100000/100000 [==============================] - 2s - loss: 3.0909e-05 - acc: 1.1000e-04     \n"
     ]
    }
   ],
   "source": [
    "for _ in range(10):\n",
    "    # 訓練の実行\n",
    "    hist = model.fit(x_train, y_train, epochs=5, verbose=1,batch_size=32)\n",
    "    # 予測の実行\n",
    "    y_pred = model.predict(x_test)\n",
    "    evalplot( x_test, y_test, y_pred)"
   ]
  },
  {
   "cell_type": "code",
   "execution_count": 277,
   "metadata": {},
   "outputs": [
    {
     "data": {
      "text/plain": [
       "[<matplotlib.lines.Line2D at 0x1ae010c02e8>]"
      ]
     },
     "execution_count": 277,
     "metadata": {},
     "output_type": "execute_result"
    },
    {
     "data": {
      "image/png": "[encoded data removed]",
      "text/plain": [
       "<matplotlib.figure.Figure at 0x1ae7ad1c978>"
      ]
     },
     "metadata": {},
     "output_type": "display_data"
    }
   ],
   "source": [
    "plt.plot( hist.history['loss'], '-o' )"
   ]
  },
  {
   "cell_type": "code",
   "execution_count": null,
   "metadata": {
    "collapsed": true
   },
   "outputs": [],
   "source": []
  }
 ],
 "metadata": {
  "kernelspec": {
   "display_name": "Python 3",
   "language": "python",
   "name": "python3"
  },
  "language_info": {
   "codemirror_mode": {
    "name": "ipython",
    "version": 3
   },
   "file_extension": ".py",
   "mimetype": "text/x-python",
   "name": "python",
   "nbconvert_exporter": "python",
   "pygments_lexer": "ipython3",
   "version": "3.6.4"
  },
  "toc": {
   "nav_menu": {},
   "number_sections": true,
   "sideBar": true,
   "skip_h1_title": false,
   "toc_cell": true,
   "toc_position": {},
   "toc_section_display": "block",
   "toc_window_display": false
  }
 },
 "nbformat": 4,
 "nbformat_minor": 2
}
