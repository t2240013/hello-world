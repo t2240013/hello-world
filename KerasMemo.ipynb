{
 "cells": [
  {
   "cell_type": "markdown",
   "metadata": {
    "toc": true
   },
   "source": [
    "<h1>Table of Contents<span class=\"tocSkip\"></span></h1>\n",
    "<div class=\"toc\"><ul class=\"toc-item\"><li><span><a href=\"#多入出力（分岐、結合）のネットワーク\" data-toc-modified-id=\"多入出力（分岐、結合）のネットワーク-1\"><span class=\"toc-item-num\">1&nbsp;&nbsp;</span>多入出力（分岐、結合）のネットワーク</a></span></li><li><span><a href=\"#中間層の取得\" data-toc-modified-id=\"中間層の取得-2\"><span class=\"toc-item-num\">2&nbsp;&nbsp;</span>中間層の取得</a></span></li></ul></div>"
   ]
  },
  {
   "cell_type": "markdown",
   "metadata": {},
   "source": [
    "#  多入出力（分岐、結合）のネットワーク\n",
    "Multi input output network<br>\n",
    "* https://keras.io/ja/getting-started/functional-api-guide/"
   ]
  },
  {
   "cell_type": "markdown",
   "metadata": {},
   "source": [
    "# 中間層の取得\n",
    "https://keras.io/getting-started/faq/#how-can-i-obtain-the-output-of-an-intermediate-layer"
   ]
  },
  {
   "cell_type": "code",
   "execution_count": null,
   "metadata": {},
   "outputs": [],
   "source": [
    "encoded = Dense(encoding_dim, activation='sigmoid', name='encoder')(encoded) # 適当なnameを付ける\n",
    "decoded = Dense(hidden_dim, activation='sigmoid')(encoded)\n",
    "\n",
    "autoencoder = Model(inputs=input_layer, outputs=decoded)\n",
    "autoencoder.compile(optimizer='adam', loss='mean_squared_error')\n",
    "encoder = Model(inputs=autoencoder.input, outputs=autoencoder.get_layer('encoder').output) # 特にcompile はしなくて良い\n",
    "\n",
    "autoencoder.fit(...)\n",
    "autoencoder.predict(...)\n",
    "encoder.predict(...)"
   ]
  }
 ],
 "metadata": {
  "kernelspec": {
   "display_name": "Python 3",
   "language": "python",
   "name": "python3"
  },
  "language_info": {
   "codemirror_mode": {
    "name": "ipython",
    "version": 3
   },
   "file_extension": ".py",
   "mimetype": "text/x-python",
   "name": "python",
   "nbconvert_exporter": "python",
   "pygments_lexer": "ipython3",
   "version": "3.7.6"
  },
  "toc": {
   "base_numbering": 1,
   "nav_menu": {},
   "number_sections": true,
   "sideBar": true,
   "skip_h1_title": false,
   "title_cell": "Table of Contents",
   "title_sidebar": "Contents",
   "toc_cell": true,
   "toc_position": {},
   "toc_section_display": true,
   "toc_window_display": false
  }
 },
 "nbformat": 4,
 "nbformat_minor": 4
}
