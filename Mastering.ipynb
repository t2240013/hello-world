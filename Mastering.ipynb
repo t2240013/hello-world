{
 "cells": [
  {
   "cell_type": "markdown",
   "metadata": {},
   "source": [
    "# Mastering  用のコンプレッサー\n",
    "* gainで指定されたレベルだけ上げる\n",
    "* 指定されたthresholdからコンプレスを徐々に強め0dBで利得0dBとする"
   ]
  },
  {
   "cell_type": "markdown",
   "metadata": {},
   "source": [
    "## 折り曲げるところはロジスティック関数を利用する \n",
    "$$\n",
    "\\begin{align}\n",
    "f(x) = \\frac{b}{1+e^{-ax}}\n",
    "\\end{align}\n",
    "$$"
   ]
  },
  {
   "cell_type": "code",
   "execution_count": 9,
   "metadata": {
    "collapsed": false
   },
   "outputs": [
    {
     "data": {
      "text/plain": [
       "a*b*exp(-a*x)/(1 + exp(-a*x))**2"
      ]
     },
     "execution_count": 9,
     "metadata": {},
     "output_type": "execute_result"
    }
   ],
   "source": [
    "import sympy as sp\n",
    "#init_printing()\n",
    "x = sp.Symbol('x')\n",
    "a = sp.Symbol('a')\n",
    "b = sp.Symbol('b')\n",
    "fd = sp.diff( b / (1 + sp.exp(- a*x)), x )\n",
    "fd"
   ]
  },
  {
   "cell_type": "code",
   "execution_count": 12,
   "metadata": {
    "collapsed": false
   },
   "outputs": [
    {
     "data": {
      "image/png": "[encoded data removed]",
      "text/latex": [
       "$$\\left [ \\frac{1}{X} \\log{\\left (\\frac{- 2 Y - b}{2 Y - b} \\right )}\\right ]$$"
      ],
      "text/plain": [
       "⎡   ⎛-2⋅Y - b⎞⎤\n",
       "⎢log⎜────────⎟⎥\n",
       "⎢   ⎝2⋅Y - b ⎠⎥\n",
       "⎢─────────────⎥\n",
       "⎣      X      ⎦"
      ]
     },
     "execution_count": 12,
     "metadata": {},
     "output_type": "execute_result"
    }
   ],
   "source": [
    "# x=0 の時の値は？\n",
    "g = sp.Symbol('g')\n",
    "X = sp.Symbol('X')\n",
    "Y = sp.Symbol('Y')\n",
    "A = sp.Symbol('A')\n",
    "eq1 = a*b / 4 - g\n",
    "#eq2 = b / (1+exp(-a*X)) - b / 2 -Y\n",
    "eq2 = b / ( 1 + A ) - b / 2 - Y\n",
    "sol2 = sp.solve( [eq2],[A])\n",
    "eq3 = sp.exp(-a*X) - (-2*Y + b)/(2*Y + b)\n",
    "sol3 = sp.solve( eq3, a)\n",
    "eq4 = a - ( sp.log((-2*Y - b)/(2*Y - b))/X )\n",
    "\n",
    "#solve( [ eq1, eq4], [a,b])\n",
    "sp.init_printing()\n",
    "sol3"
   ]
  },
  {
   "cell_type": "markdown",
   "metadata": {},
   "source": [
    "## 解析的には難しそうなので数値解に路線変更\n",
    "分岐点を原点として、下記関数をスケーリングすることで、傾きを保ったまま、最大値の値を変えることたできる。$g$は利得を表す。\n",
    "\n",
    "$$\n",
    "\\begin{align}\n",
    "f(x) = \\frac{4}{1+e^{-gx}} - 2\n",
    "\\end{align}\n",
    "$$\n"
   ]
  },
  {
   "cell_type": "code",
   "execution_count": null,
   "metadata": {
    "collapsed": true
   },
   "outputs": [],
   "source": []
  },
  {
   "cell_type": "code",
   "execution_count": 32,
   "metadata": {
    "collapsed": false
   },
   "outputs": [],
   "source": [
    "import scipy.io.wavfile as siw\n",
    "import numpy as np\n",
    "import matplotlib.pyplot as plt\n",
    "%matplotlib inline\n",
    "\n",
    "MAX_AMP = (32768)\n",
    "\n",
    "class Compressor:\n",
    "    \"Compressor\"\n",
    "    def __init__(self, threshold=0, gain=0, ymax=0):\n",
    "        gain_lin = 10.0 ** ( gain / 20.0) \n",
    "        xth_lin = int(MAX_AMP * 10.0**(threshold/20.0))\n",
    "        yth_lin = gain_lin * xth_lin\n",
    "        ymax_lin = MAX_AMP * 10.0**(ymax/20.0)\n",
    "        print 'xth_lin', xth_lin, 'gain_lin', gain_lin, 'ymax_lin', ymax_lin\n",
    "        \n",
    "        xarea_normal = np.array( range(xth_lin) )\n",
    "        xarea_comp = np.array( range(xth_lin, MAX_AMP+1) )\n",
    "        X = xarea_comp[-1] - xarea_comp[0]\n",
    "        Y = ymax_lin - yth_lin\n",
    "        \n",
    "        s_low = 0.00001\n",
    "        s_high = 100000\n",
    "        Yest = 100000\n",
    "         \n",
    "        while True:\n",
    "            self.s_cur = ( s_low + s_high ) / 2.0\n",
    "            Yest = self.logfn( X, gain_lin, self.s_cur )\n",
    "            print 's_cur', self.s_cur, 'Yest', Yest, 'Y', Y            \n",
    "            if abs(Yest - Y) < 1.0:\n",
    "                break;\n",
    "            if Yest < Y:\n",
    "                s_high = self.s_cur\n",
    "            else:\n",
    "                s_low = self.s_cur\n",
    "                       \n",
    "        ycn = gain_lin * xarea_normal\n",
    "        ycc = yth_lin + np.array( [ self.logfn( x, gain_lin, self.s_cur) for x in ( xarea_comp - xth_lin ) ] )\n",
    "        yc = np.hstack( [ycn, ycc] )\n",
    "        print yc[xth_lin], yc[-1] \n",
    "        \n",
    "        for i in range(len(yc)):\n",
    "            yc[i] = np.int16( min( MAX_AMP-1, np.round(yc[i])))\n",
    "    \n",
    "        self.table_ = {}\n",
    "        for x in xarea_normal:\n",
    "            self.table_[x] = yc[x]\n",
    "        for x in xarea_comp:\n",
    "            self.table_[x] = yc[x]\n",
    "        for x in range(-MAX_AMP,0,1):\n",
    "            self.table_[x] = -yc[-x]\n",
    "                   \n",
    "        print 'table_len', len(self.table_.values())\n",
    "            \n",
    "    def process(self,data):\n",
    "        data2 = data.copy().ravel()\n",
    "        for i in range(len(data2)):\n",
    "            data2[i] = self.table_[data2[i]]\n",
    "        return np.reshape( data2, data.shape )\n",
    "    \n",
    "    def logfn( self, x, gain, scale ):\n",
    "        xs = scale * x\n",
    "        ys = 4.0 / ( 1.0 + np.exp( -gain*xs ) ) - 2.0\n",
    "        return ys/scale\n",
    "    "
   ]
  },
  {
   "cell_type": "code",
   "execution_count": 34,
   "metadata": {
    "collapsed": false
   },
   "outputs": [
    {
     "name": "stdout",
     "output_type": "stream",
     "text": [
      "Sampling rate : 48000\n",
      "xth_lin 5827 gain_lin 2.81838293126 ymax_lin 32768.0\n",
      "s_cur 50000.000005 Yest 3.9999999996e-05 Y 16345.2826595\n",
      "s_cur 25000.0000075 Yest 7.9999999976e-05 Y 16345.2826595\n",
      "s_cur 12500.0000088 Yest 0.000159999999888 Y 16345.2826595\n",
      "s_cur 6250.00000938 Yest 0.00031999999952 Y 16345.2826595\n",
      "s_cur 3125.00000969 Yest 0.000639999998016 Y 16345.2826595\n",
      "s_cur 1562.50000984 Yest 0.00127999999194 Y 16345.2826595\n",
      "s_cur 781.250009922 Yest 0.00255999996749 Y 16345.2826595\n",
      "s_cur 390.625009961 Yest 0.00511999986944 Y 16345.2826595\n",
      "s_cur 195.31250998 Yest 0.0102399994767 Y 16345.2826595\n",
      "s_cur 97.6562599902 Yest 0.0204799979049 Y 16345.2826595\n",
      "s_cur 48.8281349951 Yest 0.0409599916155 Y 16345.2826595\n",
      "s_cur 24.4140724976 Yest 0.0819199664538 Y 16345.2826595\n",
      "s_cur 12.2070412488 Yest 0.163839865799 Y 16345.2826595\n",
      "s_cur 6.10352562439 Yest 0.327679463163 Y 16345.2826595\n",
      "s_cur 3.05176781219 Yest 0.655357852589 Y 16345.2826595\n",
      "s_cur 1.5258889061 Yest 1.31071141025 Y 16345.2826595\n",
      "s_cur 0.762949453049 Yest 2.62140564097 Y 16345.2826595\n",
      "s_cur 0.381479726524 Yest 5.24274256517 Y 16345.2826595\n",
      "s_cur 0.190744863262 Yest 10.4852102741 Y 16345.2826595\n",
      "s_cur 0.0953774316311 Yest 20.9693212094 Y 16345.2826595\n",
      "s_cur 0.0476937158155 Yest 41.9342457555 Y 16345.2826595\n",
      "s_cur 0.0238518579078 Yest 83.8509103875 Y 16345.2826595\n",
      "s_cur 0.0119309289539 Yest 167.631540489 Y 16345.2826595\n",
      "s_cur 0.00597046447694 Yest 334.982312971 Y 16345.2826595\n",
      "s_cur 0.00299023223847 Yest 668.844370771 Y 16345.2826595\n",
      "s_cur 0.00150011611924 Yest 1333.23012422 Y 16345.2826595\n",
      "s_cur 0.000755058059618 Yest 2648.80292916 Y 16345.2826595\n",
      "s_cur 0.000382529029809 Yest 5228.36136384 Y 16345.2826595\n",
      "s_cur 0.000196264514904 Yest 10190.3222388 Y 16345.2826595\n",
      "s_cur 0.000103132257452 Yest 19377.1717088 Y 16345.2826595\n",
      "s_cur 0.000149698386178 Yest 13359.8881657 Y 16345.2826595\n",
      "s_cur 0.000126415321815 Yest 15818.7214046 Y 16345.2826595\n",
      "s_cur 0.000114773789634 Yest 17419.861687 Y 16345.2826595\n",
      "s_cur 0.000120594555725 Yest 16580.997476 Y 16345.2826595\n",
      "s_cur 0.00012350493877 Yest 16190.9450976 Y 16345.2826595\n",
      "s_cur 0.000122049747247 Yest 16383.6649132 Y 16345.2826595\n",
      "s_cur 0.000122777343009 Yest 16286.738407 Y 16345.2826595\n",
      "s_cur 0.000122413545128 Yest 16335.0587786 Y 16345.2826595\n",
      "s_cur 0.000122231646188 Yest 16359.32597 Y 16345.2826595\n",
      "s_cur 0.000122322595658 Yest 16347.1834248 Y 16345.2826595\n",
      "s_cur 0.000122368070393 Yest 16341.1188668 Y 16345.2826595\n",
      "s_cur 0.000122345333025 Yest 16344.1505868 Y 16345.2826595\n",
      "s_cur 0.000122333964341 Yest 16345.666866 Y 16345.2826595\n",
      "16422.7173405 32768.3842065\n",
      "table_len 65537\n"
     ]
    },
    {
     "data": {
      "image/png": "[encoded data removed]",
      "text/plain": [
       "<matplotlib.figure.Figure at 0x25002650>"
      ]
     },
     "metadata": {},
     "output_type": "display_data"
    }
   ],
   "source": [
    "#wavfile = \"./test.wav\"\n",
    "#wavfile = \"../pydub/test/data/test1.wav\"\n",
    "wavfile = \"./TimeLineMovie.wav\"\n",
    "\n",
    "fs, data = siw.read(wavfile)\n",
    "print \"Sampling rate :\", fs\n",
    "\n",
    "cmpres = Compressor( threshold=-15, gain=9 )\n",
    "data2 = cmpres.process(data)        \n",
    "siw.write( \"test_out.wav\",  fs, data2 )\n",
    "\n",
    "plt.scatter( cmpres.table_.keys(), cmpres.table_.values(), s=1, marker='.' )\n",
    "plt.show()"
   ]
  },
  {
   "cell_type": "markdown",
   "metadata": {},
   "source": [
    "# 以下作業領域"
   ]
  },
  {
   "cell_type": "code",
   "execution_count": 31,
   "metadata": {
    "collapsed": false
   },
   "outputs": [
    {
     "name": "stdout",
     "output_type": "stream",
     "text": [
      "32767.0\n",
      "-32767.0\n",
      "0.0\n"
     ]
    },
    {
     "data": {
      "text/plain": [
       "<matplotlib.collections.PathCollection at 0x25293110>"
      ]
     },
     "execution_count": 31,
     "metadata": {},
     "output_type": "execute_result"
    },
    {
     "data": {
      "image/png": "[encoded data removed]",
      "text/plain": [
       "<matplotlib.figure.Figure at 0x1c9ee690>"
      ]
     },
     "metadata": {},
     "output_type": "display_data"
    }
   ],
   "source": [
    "print cmpres.table_[32767]\n",
    "print cmpres.table_[-32768]\n",
    "print cmpres.table_[0]\n",
    "yp = np.array([ cmpres.table_[i] for i in range(32768)])\n",
    "yn = np.array([ cmpres.table_[i] for i in range(0,-32769,-1) ])\n",
    "zoom = range(16000,27000,1)\n",
    "ys = yn[zoom]\n",
    "plt.scatter( zoom, ys, s=1 )\n",
    "      "
   ]
  },
  {
   "cell_type": "code",
   "execution_count": null,
   "metadata": {
    "collapsed": false
   },
   "outputs": [],
   "source": [
    "threshold = -18\n",
    "gain = 6\n",
    "th_lin = int(MAX_AMP * 10.0**(threshold/20.0))\n",
    "gain_lin = 10.0 ** ( gain / 20.0) \n",
    "print 'th_lin', th_lin, 'gain_lin', gain_lin\n",
    "        \n",
    "xarea_normal = np.array( range(th_lin) )\n",
    "xarea_comp = np.array( range(th_lin, MAX_AMP+1) )\n",
    "xarea_comp2 = np.power(xarea_comp, 2)\n",
    "width = len(xarea_comp) - 1\n",
    "width2 = float(width) * float(width)\n",
    "\n",
    "ycn = gain_lin * xarea_normal\n",
    "coef2 = - ( gain_lin - 1.0 )* MAX_AMP / width2\n",
    "coef1 = ( gain_lin * ( MAX_AMP * MAX_AMP + th_lin * th_lin ) - 2.0 * MAX_AMP * th_lin ) / width2\n",
    "coef0 = coef2 * th_lin * th_lin\n",
    "ycc = coef2 * xarea_comp2 + coef1 * xarea_comp + coef0\n",
    "\n",
    "yc = np.hstack( [ycn, ycc] )\n",
    "print yc[th_lin], yc[-1]"
   ]
  },
  {
   "cell_type": "code",
   "execution_count": null,
   "metadata": {
    "collapsed": false
   },
   "outputs": [],
   "source": [
    "len(yc)\n",
    "#ycs = yc[15000:20000]\n",
    "ycs = yc\n",
    "plt.scatter( range(len(ycs)), ycs)\n",
    "plt.show()\n",
    "\n"
   ]
  },
  {
   "cell_type": "code",
   "execution_count": null,
   "metadata": {
    "collapsed": true
   },
   "outputs": [],
   "source": [
    "    def __initNG__(self, threshold=0, gain=0):\n",
    "        th_lin = int(MAX_AMP * 10.0**(threshold/20.0))\n",
    "        cmpzone = MAX_AMP - th_lin\n",
    "        print th_lin, cmpzone\n",
    "        \n",
    "        self.gain_table_ = []\n",
    "        for i in range(th_lin+1):\n",
    "            self.gain_table_ += [ 10.0 ** ( gain / 20.0) ]\n",
    "        for step, i in zip( range(1,cmpzone+1), range(th_lin+1, MAX_AMP+1)):\n",
    "            ratio =  ( float(cmpzone) - float(step) ) / float(cmpzone)\n",
    " #           print \"ratio\", ratio\n",
    "            self.gain_table_ += [ 10.0 ** ( ratio * gain /  20.0 ) ]\n",
    "        print \"gain_len\", len(self.gain_table_)\n",
    "\n",
    "        self.table_ = {}\n",
    "        for i,j in zip( range(MAX_AMP+1), self.gain_table_ ):\n",
    "            self.table_[i] = np.int16( min( MAX_AMP-1, np.round(i*j) ) )\n",
    "            self.table_[-i] = - self.table_[i]\n",
    "            \n",
    "        print \"table_len\", len(self.table_.values())\n",
    "            "
   ]
  },
  {
   "cell_type": "code",
   "execution_count": null,
   "metadata": {
    "collapsed": true
   },
   "outputs": [],
   "source": [
    "    def __initNG__(self, threshold=0, gain=0):\n",
    "        th_lin = int(MAX_AMP * 10.0**(threshold/20.0))\n",
    "        gain_lin = 10.0 ** ( gain / 20.0) \n",
    "        print 'th_lin', th_lin, 'gain_lin', gain_lin\n",
    "        \n",
    "        xarea_normal = np.array( range(th_lin) )\n",
    "        xarea_comp = np.array( range(th_lin, MAX_AMP+1) )\n",
    "        xarea_comp2 = np.power(xarea_comp, 2)\n",
    "        width = len(xarea_comp) - 1\n",
    "        width2 = float(width) * float(width)\n",
    "\n",
    "        ycn = gain_lin * xarea_normal\n",
    "        coef2 = - ( gain_lin - 1.0 )* MAX_AMP / width2\n",
    "        coef1 = ( gain_lin * ( MAX_AMP * MAX_AMP + th_lin * th_lin ) - 2.0 * MAX_AMP * th_lin ) / width2\n",
    "        coef0 = coef2 * th_lin * th_lin\n",
    "        ycc = coef2 * xarea_comp2 + coef1 * xarea_comp + coef0\n",
    "\n",
    "        yc = np.hstack( [ycn, ycc] )\n",
    "        print yc[th_lin], yc[-1]       \n",
    "        yc = map( lambda xx : np.int16( min( MAX_AMP-1, np.round(xx))), yc )\n",
    "    \n",
    "        self.table_ = {}\n",
    "        for x in xarea_normal:\n",
    "            self.table_[x] = yc[x]\n",
    "        for x in xarea_comp:\n",
    "            self.table_[x] = yc[x]\n",
    "        for x in range(-MAX_AMP,0,1):\n",
    "            self.table_[x] = -yc[-x]\n",
    "                   \n",
    "        print 'table_len', len(self.table_.values())"
   ]
  }
 ],
 "metadata": {
  "anaconda-cloud": {},
  "kernelspec": {
   "display_name": "Python [Root]",
   "language": "python",
   "name": "Python [Root]"
  },
  "language_info": {
   "codemirror_mode": {
    "name": "ipython",
    "version": 2
   },
   "file_extension": ".py",
   "mimetype": "text/x-python",
   "name": "python",
   "nbconvert_exporter": "python",
   "pygments_lexer": "ipython2",
   "version": "2.7.12"
  }
 },
 "nbformat": 4,
 "nbformat_minor": 0
}
