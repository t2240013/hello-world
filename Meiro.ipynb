{
 "cells": [
  {
   "cell_type": "markdown",
   "metadata": {
    "toc": true
   },
   "source": [
    "<h1>Table of Contents<span class=\"tocSkip\"></span></h1>\n",
    "<div class=\"toc\"><ul class=\"toc-item\"><li><span><a href=\"#参考情報\" data-toc-modified-id=\"参考情報-1\"><span class=\"toc-item-num\">1&nbsp;&nbsp;</span>参考情報</a></span></li><li><span><a href=\"#迷路\" data-toc-modified-id=\"迷路-2\"><span class=\"toc-item-num\">2&nbsp;&nbsp;</span>迷路</a></span></li><li><span><a href=\"#Q学習\" data-toc-modified-id=\"Q学習-3\"><span class=\"toc-item-num\">3&nbsp;&nbsp;</span>Q学習</a></span></li><li><span><a href=\"#インポート\" data-toc-modified-id=\"インポート-4\"><span class=\"toc-item-num\">4&nbsp;&nbsp;</span>インポート</a></span></li><li><span><a href=\"#クラス定義\" data-toc-modified-id=\"クラス定義-5\"><span class=\"toc-item-num\">5&nbsp;&nbsp;</span>クラス定義</a></span><ul class=\"toc-item\"><li><span><a href=\"#環境\" data-toc-modified-id=\"環境-5.1\"><span class=\"toc-item-num\">5.1&nbsp;&nbsp;</span>環境</a></span></li><li><span><a href=\"#エージェント\" data-toc-modified-id=\"エージェント-5.2\"><span class=\"toc-item-num\">5.2&nbsp;&nbsp;</span>エージェント</a></span><ul class=\"toc-item\"><li><span><a href=\"#標準\" data-toc-modified-id=\"標準-5.2.1\"><span class=\"toc-item-num\">5.2.1&nbsp;&nbsp;</span>標準</a></span></li><li><span><a href=\"#UCB1-(Upper-Confidence-Bound-(信頼上限)-のバージョン-1)\" data-toc-modified-id=\"UCB1-(Upper-Confidence-Bound-(信頼上限)-のバージョン-1)-5.2.2\"><span class=\"toc-item-num\">5.2.2&nbsp;&nbsp;</span>UCB1 (Upper Confidence Bound (信頼上限) のバージョン 1)</a></span></li><li><span><a href=\"#DQN\" data-toc-modified-id=\"DQN-5.2.3\"><span class=\"toc-item-num\">5.2.3&nbsp;&nbsp;</span>DQN</a></span></li></ul></li><li><span><a href=\"#サブ関数\" data-toc-modified-id=\"サブ関数-5.3\"><span class=\"toc-item-num\">5.3&nbsp;&nbsp;</span>サブ関数</a></span><ul class=\"toc-item\"><li><span><a href=\"#経験の蓄積用クラス\" data-toc-modified-id=\"経験の蓄積用クラス-5.3.1\"><span class=\"toc-item-num\">5.3.1&nbsp;&nbsp;</span>経験の蓄積用クラス</a></span></li></ul></li></ul></li><li><span><a href=\"#プロット\" data-toc-modified-id=\"プロット-6\"><span class=\"toc-item-num\">6&nbsp;&nbsp;</span>プロット</a></span></li><li><span><a href=\"#シミュレーション\" data-toc-modified-id=\"シミュレーション-7\"><span class=\"toc-item-num\">7&nbsp;&nbsp;</span>シミュレーション</a></span><ul class=\"toc-item\"><li><span><a href=\"#Q学習\" data-toc-modified-id=\"Q学習-7.1\"><span class=\"toc-item-num\">7.1&nbsp;&nbsp;</span>Q学習</a></span></li><li><span><a href=\"#DQN\" data-toc-modified-id=\"DQN-7.2\"><span class=\"toc-item-num\">7.2&nbsp;&nbsp;</span>DQN</a></span></li></ul></li></ul></div>"
   ]
  },
  {
   "cell_type": "markdown",
   "metadata": {},
   "source": [
    "\n"
   ]
  },
  {
   "cell_type": "markdown",
   "metadata": {},
   "source": [
    "# 参考情報\n"
   ]
  },
  {
   "cell_type": "markdown",
   "metadata": {},
   "source": [
    "# 迷路\n",
    "<img src=\"meiro2.png\" width=\"500\">"
   ]
  },
  {
   "cell_type": "markdown",
   "metadata": {},
   "source": [
    "# Q学習\n",
    "<img src=\"Q_Learning.png\" width=\"500\">"
   ]
  },
  {
   "cell_type": "markdown",
   "metadata": {
    "collapsed": true
   },
   "source": [
    "オレンジのパスがQ値を最大にするパスである場合、$Q(s_0,b)$の割引現在価値は、\n",
    "$$\\begin{eqnarray}\n",
    "Q(s_0,b) &=& r_2 + \\gamma Q(s_2,a)  \\\\\n",
    "         &=& r_2 + \\gamma r_5 + \\gamma^2 Q(s_5,a) \\\\\n",
    "         &=& r_2 + \\gamma r_5 + \\gamma^2 r_9\n",
    "\\end{eqnarray}$$"
   ]
  },
  {
   "cell_type": "markdown",
   "metadata": {},
   "source": [
    "アルファ碁解体新書(p.140)によれば\n",
    "<img src=\"QLearning_Fig.png\" width=500>"
   ]
  },
  {
   "cell_type": "markdown",
   "metadata": {},
   "source": [
    "# インポート"
   ]
  },
  {
   "cell_type": "code",
   "execution_count": 45,
   "metadata": {},
   "outputs": [],
   "source": [
    "import numpy as np\n",
    "import matplotlib.pyplot as plt\n",
    "import matplotlib.ticker as ticker\n",
    "import pickle\n",
    "from IPython import display\n",
    "#from collections import namedtuple"
   ]
  },
  {
   "cell_type": "markdown",
   "metadata": {},
   "source": [
    "# クラス定義"
   ]
  },
  {
   "cell_type": "markdown",
   "metadata": {},
   "source": [
    "## 環境"
   ]
  },
  {
   "cell_type": "code",
   "execution_count": 102,
   "metadata": {},
   "outputs": [],
   "source": [
    "class Enviro:\n",
    "    def __init__(self):\n",
    "        self.state = {}\n",
    "        # Meiro1\n",
    "        \"\"\"\n",
    "        self.state[0] = [ 0, 1, 4, 0]\n",
    "        self.state[1] = [ 1, 2, 1, 0]\n",
    "        self.state[2] = [ 2, 3, 2, 1]\n",
    "        self.state[3] = [ 3, 3, 7, 2]\n",
    "        self.state[4] = [ 0, 5, 8, 4]\n",
    "        self.state[5] = [ 5, 6, 9, 4]\n",
    "        self.state[6] = [ 6, 6, 10, 5]\n",
    "        self.state[7] = [ 3, 7, 11, 7]\n",
    "        self.state[8] = [ 4, 8, 8, 8]\n",
    "        self.state[9] = [ 5, 9, 13, 9]\n",
    "        self.state[10] = [ 6, 10, 14, 10]\n",
    "        self.state[11] = [ 7, 11, 11, 11]\n",
    "        self.state[12] = [ 12, 13, 12, 12]\n",
    "        self.state[13] = [ 9, 13, 13, 12]\n",
    "        self.state[14] = [ 10, 15, 14, 14]\n",
    "        self.state[15] = [ 15, 16, 15, 14]\n",
    "        self.goal = 16\n",
    "        \"\"\"\n",
    "        # Meiro2\n",
    "        self.state[0] = [ 0, 1, 4, 0]\n",
    "        self.state[1] = [ 1, 2, 1, 0]\n",
    "        self.state[2] = [ 2, 3, 2, 1]\n",
    "        self.state[3] = [ 3, 3, 7, 2]\n",
    "        self.state[4] = [ 0, 5, 8, 4]\n",
    "        self.state[5] = [ 5, 6, 5, 4]\n",
    "        self.state[6] = [ 6, 6, 10, 5]\n",
    "        self.state[7] = [ 3, 7, 11, 7]\n",
    "        self.state[8] = [ 4, 8, 12, 8]\n",
    "        self.state[9] = [ 9, 9, 13, 9]\n",
    "        self.state[10] = [ 6, 11, 14, 10]\n",
    "        self.state[11] = [ 7, 11, 11, 10]\n",
    "        self.state[12] = [ 8, 13, 12, 12]\n",
    "        self.state[13] = [ 9, 13, 13, 12]\n",
    "        self.state[14] = [ 10, 15, 14, 14]\n",
    "        self.state[15] = [ 15, 16, 15, 14]\n",
    "        self.goal = 16\n",
    "        \n",
    "        self.prev_state = -1\n",
    "        \n",
    "    def move(self, current_state, action ):\n",
    "        next_state = self.state[current_state][action]\n",
    "        if next_state == self.goal:\n",
    "            reward = 1.0\n",
    "        elif ( current_state == next_state ):\n",
    "            reward = -1.0\n",
    "        elif next_state == 6:\n",
    "            reward = -1.0\n",
    "        else:\n",
    "            reward = 0\n",
    "        self.prev_state = current_state\n",
    "        return next_state, reward\n",
    "\n",
    "    def get_goal(self):\n",
    "        return self.goal\n"
   ]
  },
  {
   "cell_type": "markdown",
   "metadata": {},
   "source": [
    "## エージェント"
   ]
  },
  {
   "cell_type": "code",
   "execution_count": 47,
   "metadata": {},
   "outputs": [
    {
     "data": {
      "text/plain": [
       "'\\nclass Agent:\\n    def __init__(self):\\n        self.qt = np.zeros( [17, 4] )\\n        self.visit = np.ones( [17, 4] )\\n        self.eps = 0.4\\n        self.gamma = 0.9\\n        self.alp = 0.01\\n\\n    def action(self, state):\\n        ngame = np.sum( self.visit[15][1] )\\n        if np.random.rand() < self.eps * 1.386 / np.log(ngame):\\n            act = int( np.random.rand() * 4 )\\n        else:\\n            act = np.argmax( self.qt[state] )\\n        return act\\n\\n    def action_ucb1(self, state):\\n        total_visit = np.sum( self.visit[state] )\\n        total_rewards = np.sum( self.qt[state] ) + 1e-10\\n#        ucb1 = self.qt[state] / total_rewards + #               np.sqrt( 2.0 * np.log(total_visit / self.visit[state] ) )\\n\\n        ucb1 = self.qt[state] +                np.sqrt( ( 2.0 * np.log(total_visit )  ) / self.visit[state] )\\n\\n#        print( state, total_visit, total_rewards, ucb1 )\\n        act = np.argmax( ucb1 )\\n        return act\\n\\n    def update( self, src, act, dst, reward ):\\n        maxq = np.max( self.qt[dst])\\n        td_diff = reward + self.gamma * maxq - self.qt[src,act]\\n        self.qt[src,act] += self.alp * td_diff\\n        self.visit[src,act] += 1\\n\\n    def batch_update( self, states ):\\n        pass\\n    \\n    def get_qt(self):\\n        return self.qt\\n\\n    def get_visit(self):\\n        return self.visit\\n'"
      ]
     },
     "execution_count": 47,
     "metadata": {},
     "output_type": "execute_result"
    }
   ],
   "source": [
    "\"\"\"\n",
    "class Agent:\n",
    "    def __init__(self):\n",
    "        self.qt = np.zeros( [17, 4] )\n",
    "        self.visit = np.ones( [17, 4] )\n",
    "        self.eps = 0.4\n",
    "        self.gamma = 0.9\n",
    "        self.alp = 0.01\n",
    "\n",
    "    def action(self, state):\n",
    "        ngame = np.sum( self.visit[15][1] )\n",
    "        if np.random.rand() < self.eps * 1.386 / np.log(ngame):\n",
    "            act = int( np.random.rand() * 4 )\n",
    "        else:\n",
    "            act = np.argmax( self.qt[state] )\n",
    "        return act\n",
    "\n",
    "    def action_ucb1(self, state):\n",
    "        total_visit = np.sum( self.visit[state] )\n",
    "        total_rewards = np.sum( self.qt[state] ) + 1e-10\n",
    "#        ucb1 = self.qt[state] / total_rewards + \\\n",
    "#               np.sqrt( 2.0 * np.log(total_visit / self.visit[state] ) )\n",
    "\n",
    "        ucb1 = self.qt[state] + \\\n",
    "               np.sqrt( ( 2.0 * np.log(total_visit )  ) / self.visit[state] )\n",
    "\n",
    "#        print( state, total_visit, total_rewards, ucb1 )\n",
    "        act = np.argmax( ucb1 )\n",
    "        return act\n",
    "\n",
    "    def update( self, src, act, dst, reward ):\n",
    "        maxq = np.max( self.qt[dst])\n",
    "        td_diff = reward + self.gamma * maxq - self.qt[src,act]\n",
    "        self.qt[src,act] += self.alp * td_diff\n",
    "        self.visit[src,act] += 1\n",
    "\n",
    "    def batch_update( self, states ):\n",
    "        pass\n",
    "    \n",
    "    def get_qt(self):\n",
    "        return self.qt\n",
    "\n",
    "    def get_visit(self):\n",
    "        return self.visit\n",
    "\"\"\""
   ]
  },
  {
   "cell_type": "markdown",
   "metadata": {},
   "source": [
    "### 標準"
   ]
  },
  {
   "cell_type": "code",
   "execution_count": 48,
   "metadata": {},
   "outputs": [],
   "source": [
    "class Agent:\n",
    "    def __init__(self, goal ):\n",
    "        self.qt = np.zeros( [goal+1, 4] )\n",
    "        self.visit = np.ones( [goal+1, 4] ) # UCB1のゼロ割回避のため\n",
    "        self.eps = 0.4\n",
    "        self.gamma = 0.9\n",
    "        self.alpha = 0.01\n",
    "\n",
    "    def action(self, state):\n",
    "        #ngame = np.sum( self.visit[15][1] )\n",
    "        if np.random.rand() < self.eps: # * 1.386 / np.log(ngame):\n",
    "            act = int( np.random.rand() * 4 )\n",
    "        else:\n",
    "            act = np.argmax( self.qt[state] )\n",
    "        return act\n",
    "\n",
    "    def update( self, src, act, dst, reward ):\n",
    "        maxq = np.max( self.qt[dst])\n",
    "        td_diff = reward + self.gamma * maxq - self.qt[src,act]\n",
    "        self.qt[src,act] += self.alpha * td_diff\n",
    "        self.visit[src,act] += 1\n",
    "\n",
    "    def batch_update( self, states, goal ): # for DQN\n",
    "        pass\n",
    "    \n",
    "    def get_qt(self):\n",
    "        return self.qt\n",
    "\n",
    "    def get_visit(self):\n",
    "        return self.visit"
   ]
  },
  {
   "cell_type": "markdown",
   "metadata": {},
   "source": [
    "### UCB1 (Upper Confidence Bound (信頼上限) のバージョン 1)"
   ]
  },
  {
   "cell_type": "code",
   "execution_count": 49,
   "metadata": {},
   "outputs": [],
   "source": [
    "\"\"\"class AgentUcb1(Agent):\n",
    "    def action(self, state):\n",
    "        total_visit = np.sum( self.visit[state] )\n",
    "        total_rewards = np.sum( self.qt[state] ) + 1e-10\n",
    "#        ucb1 = self.qt[state] / total_rewards + \\\n",
    "#               np.sqrt( 2.0 * np.log(total_visit / self.visit[state] ) )\n",
    "\n",
    "        ucb1 = self.qt[state] + \\\n",
    "               np.sqrt( ( 2.0 * np.log(total_visit )  ) / self.visit[state] )\n",
    "\n",
    "#        print( state, total_visit, total_rewards, ucb1 )\n",
    "        act = np.argmax( ucb1 )\n",
    "        return act\n",
    "\"\"\"\n",
    "class AgentUcb1(Agent):\n",
    "    def action(self, state):\n",
    "        ucb1 = get_ucb1( self.qt[state], self.visit[state] )\n",
    "        act = np.argmax( ucb1 )\n",
    "        return act\n",
    "    "
   ]
  },
  {
   "cell_type": "code",
   "execution_count": 50,
   "metadata": {},
   "outputs": [],
   "source": [
    "def get_ucb1( qts, visits ):\n",
    "    total_visit = np.sum( visits )\n",
    "    ucb1 = qts + np.sqrt( ( 2.0*np.log(total_visit) ) / visits )\n",
    "    return ucb1\n",
    "    "
   ]
  },
  {
   "cell_type": "markdown",
   "metadata": {},
   "source": [
    "### DQN"
   ]
  },
  {
   "cell_type": "code",
   "execution_count": 97,
   "metadata": {},
   "outputs": [],
   "source": [
    "from keras.models import Sequential, clone_model\n",
    "from keras.optimizers import Adam\n",
    "from keras.layers import Dense\n",
    "from sklearn.preprocessing import OneHotEncoder\n",
    "\n",
    "class AgentDQN(Agent):\n",
    "    def __init__(self, goal, nbatch=32 ):\n",
    "        super().__init__(goal)\n",
    "        self.nbatch = nbatch\n",
    "        self.goal = goal\n",
    "        self.fixed_cnt = 0\n",
    "        self.model = Sequential()\n",
    "        self.model.add(Dense(12, activation='relu', input_shape=(goal+1,)))  \n",
    "        self.model.add(Dense(12, activation='relu' ) )\n",
    "        self.model.add(Dense(4) ) \n",
    "        #self.model.add(Dense(4, activation='relu') ) # 負の価値を避ける\n",
    "        self.model.summary()\n",
    "        opt = Adam(learning_rate=0.0002 ) # 0.0002\n",
    "        #opt = Adam()\n",
    "        self.model.compile(optimizer=opt, loss='mean_squared_error' )\n",
    "\n",
    "        self.fixed_model = clone_model(self.model)\n",
    "        self.fixed_model.set_weights(self.model.get_weights())\n",
    "\n",
    "    def action(self, state):\n",
    "        x_test, y_pred = self._ohe_forward( [state], self.model )\n",
    "        #print( \"#action \", state, x_test, y_pred )\n",
    "        ucb1 = get_ucb1( y_pred, self.visit[state])\n",
    "        return np.argmax( ucb1 )\n",
    "    \n",
    "    def update( self, state, act, reward, new_state ):\n",
    "    #def update( self, exp ):\n",
    "        # 訪問状態の更新。1step ごとに呼ばれる前提なのでtailの情報で更新\n",
    "        self.visit[state[-1], act[-1]] += 1 \n",
    "\n",
    "        expidx = np.random.choice( len(state), self.nbatch ) # Experience replay\n",
    "        #expidx = np.arange( len(exp['state']) ) # Use All\n",
    "\n",
    "        states = state[expidx]\n",
    "        acts = act[expidx]\n",
    "        rewards = reward[expidx]\n",
    "        new_states = new_state[expidx]\n",
    "        \n",
    "        #print( \"#states\\n\", states )\n",
    "        #print( \"#acts\\n\", acts )\n",
    "        #print( \"#rewards\\n\", rewards )\n",
    "        #print( \"#new_states\\n\", new_states )\n",
    "\n",
    "        x_train, y_train = self._ohe_forward( states, self.model, train=True )\n",
    "        _, y_pred_new = self._ohe_forward( new_states, self.fixed_model, train=True )\n",
    "        \n",
    "        y_pred_new_max = np.max( y_pred_new, axis=1 )\n",
    "        \n",
    "        #print( '#state/act/y_pred [last]', states[-1], acts[-1], y_pred[-1][acts[-1]] )\n",
    "        ##print( '#new_states[last], y_pred_new_max[last]\\n', new_states[-1], y_pred_new_max[-1] )    \n",
    "        #print( '#y_pred Actual\\n', y_pred )\n",
    "        #print( '#y_pred_next Actual(Fixed)\\n', y_pred_new )\n",
    "        for i,yi in enumerate(y_train):\n",
    "            #print( i, y, acts[i], rewards[i], y_pred_new_max[i] )\n",
    "            yi[acts[i]] = rewards[i] + self.gamma * y_pred_new_max[i] # 選択した行動の現在価値を見積もりの現在価値で上書き。選択しなかったものはそのまま。\n",
    "            \n",
    "        #print( '#x_train\\n', x_train)    \n",
    "        #print( '#y_pred Ideal\\n', y_train )\n",
    "\n",
    "        loss = self.model.train_on_batch(x_train, y_train)\n",
    "        self.fixed_cnt += 1\n",
    "        \n",
    "        # Fixed Target Q-Network の更新\n",
    "        if self.fixed_cnt > 3:\n",
    "            self.fixed_cnt = 0\n",
    "            #print( '*** Update Fixed Target Q-Network ***')\n",
    "            self.fixed_model.set_weights(self.model.get_weights())\n",
    "        \n",
    "        return loss\n",
    "        \n",
    "    def _ohe_forward( self, states, mdl, train=False ):\n",
    "        \"\"\" Forward with One Hot Encoding \"\"\"\n",
    "        x_test = np.zeros( (len(states), self.goal+1 ) ) # Goalを含む\n",
    "        for idx,st in enumerate(states):\n",
    "            x_test[idx][st] = 1\n",
    "        y_pred = mdl.predict(x_test)\n",
    "        #学習時はゴールのQ値は0にする。Test時は未使用なので放置\n",
    "        if train == True: \n",
    "            pos = np.array(states) == self.goal\n",
    "            y_pred[pos] = 0\n",
    "            #print( \"len(states) #pos= \", len(states), np.where(pos) )\n",
    "        return x_test, y_pred\n",
    "\n",
    "    def get_qt(self):\n",
    "        _,y_pred = self._ohe_forward( np.arange(self.goal), self.model)\n",
    "        self.qt[:-1][:] = y_pred\n",
    "        return self.qt"
   ]
  },
  {
   "cell_type": "markdown",
   "metadata": {},
   "source": [
    "## サブ関数"
   ]
  },
  {
   "cell_type": "markdown",
   "metadata": {},
   "source": [
    "### 経験の蓄積用クラス"
   ]
  },
  {
   "cell_type": "code",
   "execution_count": 52,
   "metadata": {},
   "outputs": [],
   "source": [
    "from collections import deque\n",
    "class Experience:\n",
    "    def __init__(self,maxlen=50):\n",
    "        self.state = deque(maxlen=maxlen)\n",
    "        self.act = deque(maxlen=maxlen)\n",
    "        self.reward = deque(maxlen=maxlen)\n",
    "        self.new_state = deque(maxlen=maxlen)\n",
    "\n",
    "    def append( self, state, act, reward, new_state ):\n",
    "        self.state.append( int(state) )\n",
    "        self.act.append( int(act) )\n",
    "        self.reward.append( float(reward) )\n",
    "        self.new_state.append( int(new_state) )\n",
    "        \n",
    "    def get(self):\n",
    "        state_array = np.array( self.state )\n",
    "        act_array = np.array( self.act )\n",
    "        reward_array = np.array( self.reward )\n",
    "        new_state_array = np.array( self.new_state )\n",
    "        return state_array, act_array, reward_array, new_state_array\n",
    "    "
   ]
  },
  {
   "cell_type": "markdown",
   "metadata": {},
   "source": [
    "# プロット"
   ]
  },
  {
   "cell_type": "code",
   "execution_count": 87,
   "metadata": {},
   "outputs": [],
   "source": [
    "class ProgressPlot:\n",
    "    def __init__(self):\n",
    "        self.fig, self.ax = plt.subplots( 1,4, figsize=[12,5])\n",
    "        plt.show()\n",
    "    \n",
    "    def update( self, qt_tbl, visit_tbl, cnt_list, qt_hist ):\n",
    "        self.ax[0].clear()\n",
    "        self.ax[0].imshow( qt_tbl, cmap='copper' )\n",
    "        #self.ax[0].invert_yaxis()\n",
    "        self.ax[0].xaxis.set_major_locator(ticker.MultipleLocator(1.0))\n",
    "        self.ax[0].yaxis.set_major_locator(ticker.MultipleLocator(1.0))\n",
    "        self.ax[0].set_title( \"Q Table\" )\n",
    "\n",
    "        self.ax[1].clear()\n",
    "        self.ax[1].imshow( visit_tbl, cmap='copper' )\n",
    "        #self.ax[1].invert_yaxis()\n",
    "        self.ax[1].xaxis.set_major_locator(ticker.MultipleLocator(1.0))\n",
    "        self.ax[1].yaxis.set_major_locator(ticker.MultipleLocator(1.0))\n",
    "        self.ax[1].set_title( \"number of visit\" )\n",
    "\n",
    "        self.ax[2].clear()\n",
    "        self.ax[2].loglog( cnt_list )\n",
    "        self.ax[2].grid( which='both', axis='both')\n",
    "        self.ax[2].set_title( \"%d episods %d steps\" % (len(cnt_list),cnt_list[-1]))\n",
    "\n",
    "        self.ax[3].clear()\n",
    "        state = 0\n",
    "        self.ax[3].plot( qt_hist[state,:,:].T )\n",
    "        self.ax[3].legend( \"0123\")        \n",
    "        self.ax[3].set_title( \"qt history %d\" % (state) )\n",
    "\n",
    "        plt.tight_layout()\n",
    "        display.clear_output(wait=True)\n",
    "        display.display(self.fig)\n",
    "        "
   ]
  },
  {
   "cell_type": "markdown",
   "metadata": {},
   "source": [
    "# シミュレーション"
   ]
  },
  {
   "cell_type": "markdown",
   "metadata": {},
   "source": [
    "## Q学習"
   ]
  },
  {
   "cell_type": "code",
   "execution_count": 103,
   "metadata": {},
   "outputs": [
    {
     "data": {
      "image/png": "[encoded data removed]",
      "text/plain": [
       "<Figure size 864x360 with 4 Axes>"
      ]
     },
     "metadata": {},
     "output_type": "display_data"
    },
    {
     "data": {
      "text/plain": [
       "<Figure size 432x288 with 0 Axes>"
      ]
     },
     "metadata": {},
     "output_type": "display_data"
    }
   ],
   "source": [
    "#Experience = namedtuple( \"Experience\", \"state act reward new_state\" )\n",
    "\n",
    "ev = Enviro()\n",
    "goal = ev.get_goal()\n",
    "\n",
    "ag = AgentUcb1( goal=goal )\n",
    "progress_plot = ProgressPlot()\n",
    "\n",
    "%matplotlib inline\n",
    "#fig, ax = plt.subplots( 1,3, figsize=[8,5])\n",
    "plt.show()\n",
    "\n",
    "nepi = 4000 # エポック数\n",
    "max_step = 500  # 1エポックの最大ステップ数\n",
    "cntplot = 200 #このステップ数を超えたらプロット\n",
    "cntacc = 0    #前回プロットしてからの累積ステップ数\n",
    "cnts = []     #エポックごとのステップ数\n",
    "\n",
    "qt_hist = ag.get_qt().reshape( 17,4,1 )\n",
    "for epi in range(nepi):\n",
    "    state = 0\n",
    "    cnt = 0\n",
    "    while (state < goal) and ( cnt < max_step ):\n",
    "        act = ag.action(state)\n",
    "        new_state, reward = ev.move(state,act)\n",
    "        ag.update( state, act, new_state, reward )\n",
    "        # For next Loop\n",
    "        state = new_state\n",
    "        cnt += 1\n",
    "    cnts.append( cnt )\n",
    "    cntacc += cnt\n",
    "    if cntacc >= cntplot:\n",
    "        cntacc = 0\n",
    "        qt_hist = np.append( qt_hist, ag.get_qt().reshape(17,4,1), axis=2 )\n",
    "        progress_plot.update( ag.get_qt()[:-1,:], ag.get_visit()[:-1,:], cnts, qt_hist ) # 最終行はガードなので非表示\n",
    "\n",
    "        "
   ]
  },
  {
   "cell_type": "markdown",
   "metadata": {},
   "source": [
    "## DQN"
   ]
  },
  {
   "cell_type": "code",
   "execution_count": 98,
   "metadata": {
    "scrolled": false
   },
   "outputs": [
    {
     "data": {
      "image/png": "[encoded data removed]",
      "text/plain": [
       "<Figure size 864x360 with 4 Axes>"
      ]
     },
     "metadata": {},
     "output_type": "display_data"
    },
    {
     "data": {
      "text/plain": [
       "<Figure size 432x288 with 0 Axes>"
      ]
     },
     "metadata": {},
     "output_type": "display_data"
    }
   ],
   "source": [
    "#Experience = namedtuple( \"Experience\", \"state act reward new_state\" )\n",
    "\n",
    "\n",
    "ev = Enviro()\n",
    "goal = ev.get_goal()\n",
    "\n",
    "ag = AgentDQN( goal=goal, nbatch=24 )\n",
    "progress_plot = ProgressPlot()\n",
    "\n",
    "%matplotlib inline\n",
    "#fig, ax = plt.subplots( 1,3, figsize=[8,5])\n",
    "plt.show()\n",
    "\n",
    "nepi = 1000 # エポック数\n",
    "max_step = 500  # 1エポックの最大ステップ数\n",
    "cntplot = 200 #このステップ数を超えたらプロット\n",
    "cntacc = 0    #前回プロットしてからの累積ステップ数\n",
    "cnts = []     #エポックごとのステップ数\n",
    "\n",
    "buffer_step_size = 5000\n",
    "#buffer_step_size = 24\n",
    "exp = Experience( buffer_step_size )\n",
    "\n",
    "qt_hist = ag.get_qt().reshape( 17,4,1 )\n",
    "print( qt_hist.shape )\n",
    "\n",
    "for epi in range(nepi):\n",
    "    state = 0\n",
    "    cnt = 0\n",
    "    while (state < goal) and ( cnt < max_step ):\n",
    "        act = ag.action(state)\n",
    "        new_state, reward = ev.move(state,act)\n",
    "        #ag.update( state, act, new_state, reward )\n",
    "        # For batch_update\n",
    "        exp.append( state, act, reward, new_state )\n",
    "        # Update\n",
    "        ag.update( *exp.get() )\n",
    "        #ag.batch_update( exp, goal )\n",
    "        # For next Loop\n",
    "        state = new_state\n",
    "        cnt += 1\n",
    "\n",
    "    cnts.append( cnt )\n",
    "    cntacc += cnt\n",
    "    if cntacc >= cntplot:\n",
    "        cntacc = 0\n",
    "        #if( len(exp['state']) > buffer_step_size ):\n",
    "        #    exp = reset_exp() # 今はリセってできればキュー\n",
    "        qt_hist = np.append( qt_hist, ag.get_qt().reshape(17,4,1), axis=2 )\n",
    "        progress_plot.update( ag.get_qt()[:-1,:], ag.get_visit()[:-1,:], cnts, qt_hist ) #最終行はガードなので非表示\n",
    "        "
   ]
  },
  {
   "cell_type": "code",
   "execution_count": null,
   "metadata": {},
   "outputs": [],
   "source": []
  },
  {
   "cell_type": "code",
   "execution_count": null,
   "metadata": {},
   "outputs": [],
   "source": [
    "ag.get_qt()"
   ]
  },
  {
   "cell_type": "code",
   "execution_count": null,
   "metadata": {},
   "outputs": [],
   "source": [
    "\n",
    "#%qtconsole"
   ]
  },
  {
   "cell_type": "code",
   "execution_count": null,
   "metadata": {},
   "outputs": [],
   "source": [
    "pr_plot = ProgressPlot()\n",
    "pr_plot.update( ag.get_qt()[:-1,:], ag.get_visit()[:-1,:], cnts) # 最終行はガードなので非表示"
   ]
  },
  {
   "cell_type": "code",
   "execution_count": null,
   "metadata": {},
   "outputs": [],
   "source": [
    "qt_hist[4,:,-1]"
   ]
  },
  {
   "cell_type": "code",
   "execution_count": null,
   "metadata": {
    "scrolled": true
   },
   "outputs": [],
   "source": [
    "plt.plot( qt_hist[4,:,:].T )\n",
    "\n",
    "plt.legend( \"0123\")"
   ]
  },
  {
   "cell_type": "code",
   "execution_count": null,
   "metadata": {},
   "outputs": [],
   "source": [
    "plt.plot( qt_hist_long[4,:,:10].T )\n",
    "plt.legend( \"0123\")"
   ]
  }
 ],
 "metadata": {
  "kernelspec": {
   "display_name": "Python 3",
   "language": "python",
   "name": "python3"
  },
  "language_info": {
   "codemirror_mode": {
    "name": "ipython",
    "version": 3
   },
   "file_extension": ".py",
   "mimetype": "text/x-python",
   "name": "python",
   "nbconvert_exporter": "python",
   "pygments_lexer": "ipython3",
   "version": "3.7.6"
  },
  "toc": {
   "base_numbering": 1,
   "nav_menu": {},
   "number_sections": true,
   "sideBar": true,
   "skip_h1_title": false,
   "title_cell": "Table of Contents",
   "title_sidebar": "Contents",
   "toc_cell": true,
   "toc_position": {
    "height": "calc(100% - 180px)",
    "left": "10px",
    "top": "150px",
    "width": "165px"
   },
   "toc_section_display": "block",
   "toc_window_display": true
  }
 },
 "nbformat": 4,
 "nbformat_minor": 2
}
