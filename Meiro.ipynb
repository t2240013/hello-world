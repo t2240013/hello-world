{
 "cells": [
  {
   "cell_type": "markdown",
   "metadata": {
    "toc": true
   },
   "source": [
    "<h1>Table of Contents<span class=\"tocSkip\"></span></h1>\n",
    "<div class=\"toc\" style=\"margin-top: 1em;\"><ul class=\"toc-item\"><li><span><a href=\"#参考情報\" data-toc-modified-id=\"参考情報-1\"><span class=\"toc-item-num\">1&nbsp;&nbsp;</span>参考情報</a></span></li><li><span><a href=\"#迷路\" data-toc-modified-id=\"迷路-2\"><span class=\"toc-item-num\">2&nbsp;&nbsp;</span>迷路</a></span></li><li><span><a href=\"#Q学習\" data-toc-modified-id=\"Q学習-3\"><span class=\"toc-item-num\">3&nbsp;&nbsp;</span>Q学習</a></span></li><li><span><a href=\"#インポート\" data-toc-modified-id=\"インポート-4\"><span class=\"toc-item-num\">4&nbsp;&nbsp;</span>インポート</a></span></li><li><span><a href=\"#クラス定義\" data-toc-modified-id=\"クラス定義-5\"><span class=\"toc-item-num\">5&nbsp;&nbsp;</span>クラス定義</a></span><ul class=\"toc-item\"><li><span><a href=\"#環境\" data-toc-modified-id=\"環境-5.1\"><span class=\"toc-item-num\">5.1&nbsp;&nbsp;</span>環境</a></span></li><li><span><a href=\"#エージェント\" data-toc-modified-id=\"エージェント-5.2\"><span class=\"toc-item-num\">5.2&nbsp;&nbsp;</span>エージェント</a></span></li></ul></li><li><span><a href=\"#シミュレーション\" data-toc-modified-id=\"シミュレーション-6\"><span class=\"toc-item-num\">6&nbsp;&nbsp;</span>シミュレーション</a></span></li></ul></div>"
   ]
  },
  {
   "cell_type": "markdown",
   "metadata": {},
   "source": [
    "\n"
   ]
  },
  {
   "cell_type": "markdown",
   "metadata": {},
   "source": [
    "# 参考情報\n"
   ]
  },
  {
   "cell_type": "markdown",
   "metadata": {},
   "source": [
    "# 迷路\n",
    "<img src=\"Meiro.png\", width=500>"
   ]
  },
  {
   "cell_type": "markdown",
   "metadata": {},
   "source": [
    "# Q学習\n",
    "<img src=\"Q_Learning.png\", width=500>"
   ]
  },
  {
   "cell_type": "markdown",
   "metadata": {
    "collapsed": true
   },
   "source": [
    "オレンジのパスがQ値を最大にするパスである場合、\n",
    "$$\\begin{eqnarray}\n",
    "Q(s_0,b) &=& r_2 + \\gamma Q(s_2,a)  \\\\\n",
    "         &=& r_2 + \\gamma r_5 + \\gamma^2 Q(s_5,a) \\\\\n",
    "         &=& r_2 + \\gamma r_5 + \\gamma^2 r_9\n",
    "\\end{eqnarray}$$"
   ]
  },
  {
   "cell_type": "markdown",
   "metadata": {},
   "source": [
    "アルファ碁解体新書(p.140)によれば\n",
    "<img src=\"QLearning_Fig.png\", width=500>"
   ]
  },
  {
   "cell_type": "markdown",
   "metadata": {},
   "source": [
    "# インポート"
   ]
  },
  {
   "cell_type": "code",
   "execution_count": 1,
   "metadata": {
    "collapsed": true
   },
   "outputs": [],
   "source": [
    "import numpy as np\n",
    "import matplotlib.pyplot as plt\n",
    "import pickle\n",
    "from IPython import display"
   ]
  },
  {
   "cell_type": "markdown",
   "metadata": {},
   "source": [
    "# クラス定義"
   ]
  },
  {
   "cell_type": "markdown",
   "metadata": {},
   "source": [
    "## 環境"
   ]
  },
  {
   "cell_type": "code",
   "execution_count": 2,
   "metadata": {
    "collapsed": true
   },
   "outputs": [],
   "source": [
    "class Enviro:\n",
    "    def __init__(self):\n",
    "        self.state = {}\n",
    "        self.state[0] = [ 0, 1, 4, 0]\n",
    "        self.state[1] = [ 1, 2, 1, 0]\n",
    "        self.state[2] = [ 2, 3, 2, 1]\n",
    "        self.state[3] = [ 3, 3, 7, 2]\n",
    "        self.state[4] = [ 0, 5, 8, 4]\n",
    "        self.state[5] = [ 5, 6, 9, 4]\n",
    "        self.state[6] = [ 6, 6, 10, 5]\n",
    "        self.state[7] = [ 3, 7, 11, 7]\n",
    "        self.state[8] = [ 4, 8, 8, 8]\n",
    "        self.state[9] = [ 5, 9, 13, 9]\n",
    "        self.state[10] = [ 6, 10, 14, 10]\n",
    "        self.state[11] = [ 7, 11, 11, 11]\n",
    "        self.state[12] = [ 12, 13, 12, 12]\n",
    "        self.state[13] = [ 9, 13, 13, 12]\n",
    "        self.state[14] = [ 10, 15, 14, 14]\n",
    "        self.state[15] = [ 15, 16, 15, 14]\n",
    "\n",
    "    def move(self, current_state, action ):\n",
    "        next_state = self.state[current_state][action]\n",
    "        if next_state == 16:\n",
    "            reward = 1.0\n",
    "        else:\n",
    "            reward = 0\n",
    "        return next_state, reward\n",
    "\n",
    "    def get_goal(self):\n",
    "        return 16\n"
   ]
  },
  {
   "cell_type": "code",
   "execution_count": 3,
   "metadata": {
    "collapsed": true
   },
   "outputs": [],
   "source": [
    "%qtconsole"
   ]
  },
  {
   "cell_type": "markdown",
   "metadata": {},
   "source": [
    "## エージェント"
   ]
  },
  {
   "cell_type": "code",
   "execution_count": 4,
   "metadata": {
    "collapsed": true
   },
   "outputs": [],
   "source": [
    "class Agent:\n",
    "    def __init__(self):\n",
    "        self.qt = np.zeros( [17, 4] )\n",
    "        self.visit = np.ones( [17, 4] )\n",
    "        self.eps = 0.4\n",
    "        self.gamma = 0.9\n",
    "        self.alp = 0.01\n",
    "\n",
    "    def action(self, state):\n",
    "        ngame = np.sum( self.visit[15][1] )\n",
    "        if np.random.rand() < self.eps * 1.386 / np.log(ngame):\n",
    "            act = int( np.random.rand() * 4 )\n",
    "        else:\n",
    "            act = np.argmax( self.qt[state] )\n",
    "        return act\n",
    "\n",
    "    def action_ucb1(self, state):\n",
    "        total_visit = np.sum( self.visit[state] )\n",
    "        total_rewards = np.sum( self.qt[state] ) + 1e-10\n",
    "#        ucb1 = self.qt[state] / total_rewards + \\\n",
    "#               np.sqrt( 2.0 * np.log(total_visit / self.visit[state] ) )\n",
    "\n",
    "        ucb1 = self.qt[state] + \\\n",
    "               np.sqrt( ( 2.0 * np.log(total_visit )  ) / self.visit[state] )\n",
    "\n",
    "#        print( state, total_visit, total_rewards, ucb1 )\n",
    "        act = np.argmax( ucb1 )\n",
    "        return act\n",
    "\n",
    "    def update( self, src, act, dst, reward ):\n",
    "        maxq = np.max( self.qt[dst])\n",
    "        td_diff = reward + self.gamma * maxq - self.qt[src,act]\n",
    "        self.qt[src,act] += self.alp * td_diff\n",
    "        self.visit[src,act] += 1\n",
    "\n",
    "    def get_qt(self):\n",
    "        return self.qt\n",
    "\n",
    "    def get_visit(self):\n",
    "        return self.visit\n"
   ]
  },
  {
   "cell_type": "markdown",
   "metadata": {},
   "source": [
    "# シミュレーション"
   ]
  },
  {
   "cell_type": "code",
   "execution_count": 8,
   "metadata": {
    "scrolled": true
   },
   "outputs": [
    {
     "data": {
      "image/png": "[encoded data removed]",
      "text/plain": [
       "<matplotlib.figure.Figure at 0x2022aa1c6d8>"
      ]
     },
     "metadata": {},
     "output_type": "display_data"
    }
   ],
   "source": [
    "ev = Enviro()\n",
    "ag = Agent()\n",
    "\n",
    "goal = ev.get_goal()\n",
    "\n",
    "%matplotlib inline\n",
    "fig, ax = plt.subplots( 1,3, figsize=[8,5])\n",
    "plt.show()\n",
    "\n",
    "nepi = 3000\n",
    "cnts = np.zeros( [nepi,1])\n",
    "cntacc = 0\n",
    "for epi in range(nepi):\n",
    "    state = 0\n",
    "    cnt = 0\n",
    "    while state < goal:\n",
    "        act = ag.action_ucb1(state)\n",
    "#        act = ag.action(state)\n",
    "        new_state, reward = ev.move(state,act)\n",
    "        ag.update( state, act, new_state, reward )\n",
    "        state = new_state\n",
    "        cnt += 1\n",
    "    cnts[epi] = cnt\n",
    "    cntacc += cnt\n",
    "    if cntacc > 100:\n",
    "        cntacc = 0\n",
    "        ax[0].clear()\n",
    "        ax[0].pcolor( ag.get_qt(), cmap='copper' )\n",
    "        ax[0].invert_yaxis()\n",
    "        ax[0].set_title( \"Q Table\" )\n",
    "\n",
    "        ax[1].clear()\n",
    "        ax[1].pcolor( ag.get_visit(), cmap='copper' )\n",
    "        ax[1].invert_yaxis()\n",
    "        ax[1].set_title( \"visit\" )\n",
    "\n",
    "        ax[2].clear()\n",
    "        ax[2].loglog( cnts[:epi] )\n",
    "        ax[2].set_title( \"%d episods %d steps\" % (epi,cnt))\n",
    "\n",
    "        display.clear_output(wait=True)\n",
    "        display.display(fig)\n"
   ]
  }
 ],
 "metadata": {
  "kernelspec": {
   "display_name": "Python 3",
   "language": "python",
   "name": "python3"
  },
  "language_info": {
   "codemirror_mode": {
    "name": "ipython",
    "version": 3
   },
   "file_extension": ".py",
   "mimetype": "text/x-python",
   "name": "python",
   "nbconvert_exporter": "python",
   "pygments_lexer": "ipython3",
   "version": "3.6.4"
  },
  "toc": {
   "nav_menu": {},
   "number_sections": true,
   "sideBar": true,
   "skip_h1_title": false,
   "toc_cell": true,
   "toc_position": {},
   "toc_section_display": "block",
   "toc_window_display": false
  }
 },
 "nbformat": 4,
 "nbformat_minor": 2
}
