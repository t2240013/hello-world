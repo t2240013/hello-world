{
 "cells": [
  {
   "cell_type": "markdown",
   "metadata": {
    "toc": true
   },
   "source": [
    "<h1>Table of Contents<span class=\"tocSkip\"></span></h1>\n",
    "<div class=\"toc\" style=\"margin-top: 1em;\"><ul class=\"toc-item\"><li><span><a href=\"#確率計算\" data-toc-modified-id=\"確率計算-1\"><span class=\"toc-item-num\">1&nbsp;&nbsp;</span>確率計算</a></span><ul class=\"toc-item\"><li><span><a href=\"#予備検討\" data-toc-modified-id=\"予備検討-1.1\"><span class=\"toc-item-num\">1.1&nbsp;&nbsp;</span>予備検討</a></span></li></ul></li></ul></div>"
   ]
  },
  {
   "cell_type": "markdown",
   "metadata": {},
   "source": [
    "# 確率計算"
   ]
  },
  {
   "cell_type": "markdown",
   "metadata": {},
   "source": [
    "## 予備検討"
   ]
  },
  {
   "cell_type": "code",
   "execution_count": 21,
   "metadata": {
    "collapsed": true
   },
   "outputs": [],
   "source": [
    "import numpy as np\n",
    "from scipy.special import comb\n",
    "from scipy.special import factorial\n",
    "import pickle"
   ]
  },
  {
   "cell_type": "code",
   "execution_count": 22,
   "metadata": {
    "collapsed": true
   },
   "outputs": [],
   "source": [
    "def get_ndup( lcomb ):\n",
    "    a = np.bincount( lcomb )\n",
    "    a= factorial(a, exact=True )\n",
    "    return np.prod( a )"
   ]
  },
  {
   "cell_type": "code",
   "execution_count": 23,
   "metadata": {
    "collapsed": true
   },
   "outputs": [],
   "source": [
    "def get_ncomb( ndepth, nopen, lcomb ):\n",
    "    if  len(lcomb) == 1 :\n",
    "        return ndepth\n",
    "    elif ndepth == 1:\n",
    "        return 0    # depthが足りないことはあり得ない\n",
    "    else:\n",
    "        a = get_ncomb( ndepth-1, nopen-lcomb[0], lcomb[1:])\n",
    "#        print( a )\n",
    "        return ndepth * comb(nopen, lcomb[0], exact=True ) *  a"
   ]
  },
  {
   "cell_type": "code",
   "execution_count": 24,
   "metadata": {
    "collapsed": true
   },
   "outputs": [],
   "source": [
    "def rmdup_ncomb( ncomb, lcomb ):\n",
    "    return ncomb // get_ndup( lcomb )"
   ]
  },
  {
   "cell_type": "code",
   "execution_count": 25,
   "metadata": {
    "collapsed": true
   },
   "outputs": [],
   "source": [
    "def get_lcomb( num, ndepth ):\n",
    "    ret = [[num]]\n",
    "    for i in range(1,num//2+1):\n",
    "        ret = ret +[ [i] + lst for lst in get_lcomb(num-i, ndepth) ]\n",
    "#        ret = [ lst for lst in ret if len(lst) <= ndepth ] # depthより長いリストはあり得ない\n",
    "    return ret"
   ]
  },
  {
   "cell_type": "code",
   "execution_count": 26,
   "metadata": {
    "collapsed": true
   },
   "outputs": [],
   "source": [
    "def rmdup_lcomb( lcomb, ndepth ):\n",
    "    ret = [ sorted(lst) for lst in lcomb ] # 要素の中身をsort\n",
    "    ret = [ tuple(lst) for lst in ret ] # sortするならtupleにする\n",
    "    ret = sorted(ret ) # sort\n",
    "    ret = set(ret) # uniq\n",
    "    ret = [ lst for lst in ret if len(lst) <= ndepth ] # depthより長いリストはあり得ない\n",
    "    return ret"
   ]
  },
  {
   "cell_type": "code",
   "execution_count": 27,
   "metadata": {
    "collapsed": true
   },
   "outputs": [],
   "source": [
    "def get_all_comb( ndepth, nopen ):\n",
    "    lcomb = get_lcomb(nopen, ndepth)\n",
    "    lcomb = rmdup_lcomb(lcomb, ndepth)\n",
    "    res = {}\n",
    "    for tpl in lcomb:\n",
    "        ncomb = get_ncomb( ndepth, nopen, tpl )\n",
    "        res[tpl] = rmdup_ncomb( ncomb, tpl ) \n",
    "    return res   "
   ]
  },
  {
   "cell_type": "code",
   "execution_count": 28,
   "metadata": {},
   "outputs": [
    {
     "name": "stdout",
     "output_type": "stream",
     "text": [
      "{(1, 3): 624, (1, 1, 1, 1): 17160, (4,): 13, (1, 1, 2): 10296, (2, 2): 468}\n",
      "total =  28561\n",
      "sum   =  28561\n"
     ]
    }
   ],
   "source": [
    "ndepth = 13\n",
    "nopen = 4\n",
    "res = get_all_comb( ndepth, nopen )\n",
    "print( res )\n",
    "print( \"total = \", ndepth**nopen )\n",
    "print( \"sum   = \", np.sum(list(res.values())))"
   ]
  },
  {
   "cell_type": "code",
   "execution_count": 29,
   "metadata": {},
   "outputs": [],
   "source": [
    "ndepth = 13\n",
    "nopens = np.arange( 1,20)\n",
    "for nopen in nopens:\n",
    "    lcomb = get_lcomb(nopen, ndepth)\n",
    "    lcomb = rmdup_lcomb(lcomb, ndepth)\n",
    "    with open( \"lcomb_%d.pkl\" % (nopen), 'wb') as f:\n",
    "        pickle.dump( lcomb, f)\n",
    "    with open( \"lcomb_%d.pkl\" % (nopen), 'rb') as fo:\n",
    "        lcomb2 = pickle.load( fo )\n",
    "    #print( nopen )\n",
    "    assert lcomb == lcomb2, \"Not Matched\""
   ]
  }
 ],
 "metadata": {
  "kernelspec": {
   "display_name": "Python 3",
   "language": "python",
   "name": "python3"
  },
  "language_info": {
   "codemirror_mode": {
    "name": "ipython",
    "version": 3
   },
   "file_extension": ".py",
   "mimetype": "text/x-python",
   "name": "python",
   "nbconvert_exporter": "python",
   "pygments_lexer": "ipython3",
   "version": "3.6.4"
  },
  "toc": {
   "nav_menu": {},
   "number_sections": true,
   "sideBar": true,
   "skip_h1_title": false,
   "toc_cell": true,
   "toc_position": {},
   "toc_section_display": "block",
   "toc_window_display": false
  }
 },
 "nbformat": 4,
 "nbformat_minor": 2
}
