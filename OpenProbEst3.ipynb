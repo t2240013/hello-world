{
 "cells": [
  {
   "cell_type": "markdown",
   "metadata": {
    "toc": true
   },
   "source": [
    "<h1>Table of Contents<span class=\"tocSkip\"></span></h1>\n",
    "<div class=\"toc\" style=\"margin-top: 1em;\"><ul class=\"toc-item\"></ul></div>"
   ]
  },
  {
   "cell_type": "code",
   "execution_count": 1,
   "metadata": {
    "collapsed": true
   },
   "outputs": [],
   "source": [
    "from scipy.special import comb\n",
    "import itertools\n",
    "\n",
    "NUM_SYMBOL = 64\n",
    "NUM_CHIP = 8\n",
    "NUM_PLANE = 2\n",
    "NUM_SIB = NUM_SYMBOL // ( NUM_CHIP * NUM_PLANE )\n",
    "NUM_BLK = 10\n",
    "numcor = 1"
   ]
  },
  {
   "cell_type": "code",
   "execution_count": 10,
   "metadata": {
    "collapsed": true
   },
   "outputs": [],
   "source": [
    "cc_tbl = [ [[1,1,1],[]], [[10],[1,2,3]], [[3],[3,3,3]], [[1,2,3],[2]] ] "
   ]
  },
  {
   "cell_type": "code",
   "execution_count": 11,
   "metadata": {
    "collapsed": true
   },
   "outputs": [],
   "source": [
    "def get_cyc_list( bb_chip, cc_tbl ):\n",
    "    ret = []\n",
    "    for chip in bb_chip:\n",
    "        ret.append( cc_tbl[chip][0] )\n",
    "        ret.append( cc_tbl[chip][1] )\n",
    "    return ret"
   ]
  },
  {
   "cell_type": "code",
   "execution_count": 23,
   "metadata": {
    "collapsed": true
   },
   "outputs": [],
   "source": [
    "def get_cyc_mat( cyc_list, ncyc ):\n",
    "    xx = np.zeros( (ncyc,len(cyc_list)), dtype=int)\n",
    "    for i,cyc in enumerate(cyc_list):\n",
    "        for j in cyc:\n",
    "            xx[j,i] += 1\n",
    "    return xx\n",
    "    "
   ]
  },
  {
   "cell_type": "code",
   "execution_count": null,
   "metadata": {
    "collapsed": true
   },
   "outputs": [],
   "source": [
    "np.all( np.sum( xx, axis=1 ) <= 1 )"
   ]
  },
  {
   "cell_type": "code",
   "execution_count": 125,
   "metadata": {
    "collapsed": true
   },
   "outputs": [],
   "source": [
    "def get_lib_list( uc_mat, num_blk, num_sib ):\n",
    "    ret = []\n",
    "    for ucl in uc_mat:\n",
    "        lst = [] \n",
    "        for num_uc in ucl:\n",
    "            lst += list( np.random.choice(num_blk,num_uc, replace=False ) // num_sib )\n",
    "        ret.append( lst)\n",
    "    return ret\n",
    "    "
   ]
  },
  {
   "cell_type": "code",
   "execution_count": 222,
   "metadata": {
    "collapsed": true
   },
   "outputs": [],
   "source": [
    "def check_unc( lib_list ):\n",
    "    for lib in lib_list:\n",
    "        if len(lib) != len(set(lib)):\n",
    "            return True\n",
    "    return False"
   ]
  },
  {
   "cell_type": "code",
   "execution_count": 312,
   "metadata": {
    "collapsed": true
   },
   "outputs": [],
   "source": [
    "def go():\n",
    "    bb_chip = [0,2]\n",
    "    cyc_list = get_cyc_list( bb_chip, cc_tbl )\n",
    "    cyc_mat = get_cyc_mat( cyc_list, ncyc = 12 )\n",
    "    uc_mat = cyc_mat[ np.sum( cyc_mat, axis=1) > 1 ]\n",
    "    lib_list = get_lib_list( uc_mat, num_blk=NUM_BLK, num_sib=4)\n",
    "    stat = check_unc( lib_list )\n",
    "    print( bb_chip)\n",
    "    print( cyc_list )\n",
    "    print(cyc_mat)\n",
    "    print(uc_mat)\n",
    "    print(lib_list)\n",
    "    print(stat)"
   ]
  },
  {
   "cell_type": "code",
   "execution_count": 290,
   "metadata": {},
   "outputs": [
    {
     "name": "stdout",
     "output_type": "stream",
     "text": [
      "[0, 2]\n",
      "[[1, 1, 1], [], [3], [3, 3, 3]]\n",
      "[[0 0 0 0]\n",
      " [3 0 0 0]\n",
      " [0 0 0 0]\n",
      " [0 0 1 3]\n",
      " [0 0 0 0]\n",
      " [0 0 0 0]\n",
      " [0 0 0 0]\n",
      " [0 0 0 0]\n",
      " [0 0 0 0]\n",
      " [0 0 0 0]\n",
      " [0 0 0 0]\n",
      " [0 0 0 0]]\n",
      "[[3 0 0 0]\n",
      " [0 0 1 3]]\n",
      "[[22, 17, 20], [2, 24, 10, 19]]\n",
      "False\n"
     ]
    }
   ],
   "source": [
    "run()"
   ]
  },
  {
   "cell_type": "code",
   "execution_count": null,
   "metadata": {
    "collapsed": true
   },
   "outputs": [],
   "source": []
  }
 ],
 "metadata": {
  "kernelspec": {
   "display_name": "Python 3",
   "language": "python",
   "name": "python3"
  },
  "language_info": {
   "codemirror_mode": {
    "name": "ipython",
    "version": 3
   },
   "file_extension": ".py",
   "mimetype": "text/x-python",
   "name": "python",
   "nbconvert_exporter": "python",
   "pygments_lexer": "ipython3",
   "version": "3.6.4"
  },
  "toc": {
   "nav_menu": {},
   "number_sections": true,
   "sideBar": true,
   "skip_h1_title": false,
   "toc_cell": true,
   "toc_position": {},
   "toc_section_display": "block",
   "toc_window_display": false
  }
 },
 "nbformat": 4,
 "nbformat_minor": 2
}
