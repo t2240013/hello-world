{
 "cells": [
  {
   "cell_type": "markdown",
   "metadata": {
    "toc": true
   },
   "source": [
    "<h1>Table of Contents<span class=\"tocSkip\"></span></h1>\n",
    "<div class=\"toc\" style=\"margin-top: 1em;\"><ul class=\"toc-item\"></ul></div>"
   ]
  },
  {
   "cell_type": "code",
   "execution_count": 103,
   "metadata": {
    "collapsed": true
   },
   "outputs": [],
   "source": [
    "from scipy.special import comb"
   ]
  },
  {
   "cell_type": "code",
   "execution_count": 104,
   "metadata": {
    "collapsed": true
   },
   "outputs": [],
   "source": [
    "def get_fail_prob( lcomb, nrs, perr ):\n",
    "    a = []\n",
    "    for nopen in lcomb:\n",
    "        p=0.0\n",
    "        for nsel in np.arange( nopen, nrs, -1 ):\n",
    "            p+= comb( nopen, nsel) * perr**nsel * (1-perr)**(nopen-nsel)\n",
    "        a += [p]\n",
    "    return a\n"
   ]
  },
  {
   "cell_type": "code",
   "execution_count": 105,
   "metadata": {
    "collapsed": true
   },
   "outputs": [],
   "source": [
    "def get_not_pass_prob( lprob ):\n",
    "    if len(lprob) == 1:\n",
    "        return lprob[0]\n",
    "    else:\n",
    "        recp = get_not_pass_prob( lprob[1:])\n",
    "        return lprob[0] + recp - lprob[0]*recp\n"
   ]
  },
  {
   "cell_type": "code",
   "execution_count": 106,
   "metadata": {},
   "outputs": [
    {
     "data": {
      "text/plain": [
       "3.0999940000041991e-17"
      ]
     },
     "execution_count": 106,
     "metadata": {},
     "output_type": "execute_result"
    }
   ],
   "source": [
    "lprob = get_fail_prob( [3,2,1,2,5,6,1], 2, 1e-6)\n",
    "get_not_pass_prob( lprob )"
   ]
  },
  {
   "cell_type": "markdown",
   "metadata": {},
   "source": [
    "$$\n",
    "\\phi(N,M,(x_1,x_2,\\dots,x_n)) = N\\ {}_MC_{x_1}\\phi(N-1, M-x_1,(x_2,x_3,\\dots,x_n)) \n",
    "$$"
   ]
  },
  {
   "cell_type": "code",
   "execution_count": 1,
   "metadata": {
    "collapsed": true
   },
   "outputs": [],
   "source": [
    "import itertools\n",
    "NUM_SYMBOL = 64\n",
    "NUM_CHIP = 8\n",
    "NUM_PLANE = 2\n",
    "NUM_SIB = NUM_SYMBOL // ( NUM_CHIP * 2 ) # number of SIB in LIB\n",
    "NUM_BLK = 10\n",
    "numcor = 2\n",
    "\n",
    "bb_tbl = np.random.randn( 100,2 ) * 4\n",
    "bb_tbl = bb_tbl.clip( 0, 5).astype(int)\n",
    "bb_tbl = bb_tbl[ np.sum( bb_tbl, axis=1) > 0 ]\n"
   ]
  },
  {
   "cell_type": "code",
   "execution_count": 2,
   "metadata": {
    "collapsed": true
   },
   "outputs": [],
   "source": [
    "def get_bb_tbl_libb2( bb_mask_libb2, bb_tbl_sibb ):\n",
    "    ''' Make bb_tbl_libb2 from bb_tbl_sibb considering BB selection based on bb_mask_libb2\n",
    "        bb_mask_lib2 : True:select BB, False:select normal Blk. array(NUM_SIB,len_bb_sibb)\n",
    "        bb_tbl_sib   : number of BB each Blk in SIBB has\n",
    "    '''\n",
    "    bb_tbl_libb2 = np.zeros_like( bb_mask_libb2, dtype=np.int32 )\n",
    "    bb_tbl_sibb_tmp = bb_tbl_sibb.copy()\n",
    "    for sib in range(bb_mask_libb2.shape[0]):\n",
    "#        print( bb_tbl_sibb_tmp)\n",
    "        bb_tbl_libb2[sib] = bb_tbl_sibb_tmp\n",
    "        bb_tbl_sibb_tmp -= bb_mask_libb2[sib].astype(int)\n",
    "\n",
    "    return bb_tbl_libb2\n"
   ]
  },
  {
   "cell_type": "code",
   "execution_count": 3,
   "metadata": {
    "collapsed": true
   },
   "outputs": [],
   "source": [
    "def get_pass_prob_libb2( bb_mask_libb2, bb_tbl_libb2 ):\n",
    "    ''' Get Pass probability\n",
    "    '''\n",
    "    pass_prob_libb2 = np.empty_like( bb_mask_libb2, dtype=np.float )\n",
    "    left_blk_num_libb2 = np.empty_like( bb_mask_libb2, dtype=np.int32)\n",
    "    left_blk_num_libb2[0] = NUM_BLK\n",
    "    for i in range( 1, left_blk_num_libb2.shape[0] ):\n",
    "        left_blk_num_libb2[i] = left_blk_num_libb2[i-1] -1\n",
    "#    print( left_blk_num_libb2 )\n",
    "    pass_prob_libb2[bb_mask_libb2] = bb_tbl_libb2[bb_mask_libb2] \\\n",
    "                                     / left_blk_num_libb2[bb_mask_libb2] # Select BB\n",
    "    pass_prob_libb2[~bb_mask_libb2] = 1.0 - bb_tbl_libb2[~bb_mask_libb2] \\\n",
    "                                            / left_blk_num_libb2[~bb_mask_libb2] # Select nomarl Blk\n",
    "\n",
    "    return pass_prob_libb2"
   ]
  },
  {
   "cell_type": "code",
   "execution_count": 12,
   "metadata": {},
   "outputs": [],
   "source": [
    "#def get_prob( bb_chips, bb_tbl, numcorbb ):\n",
    "#    ''' Get PASS probability\n",
    "#        bb_chips : list of chips including BB in SIB\n",
    "#        bb_tbl   : number of BB per plane for each BB chip\n",
    "#        numcorbb   : number of RS correctable error symbols\n",
    "#    '''\n",
    "probs = {}\n",
    "prob_sum = 0.0\n",
    "bb_tbl_sibb = bb_tbl[ bb_chips].ravel()\n",
    "bb_len_sibb = len(bb_tbl_sibb)\n",
    "bb_len_libb = bb_len_sibb * NUM_SIB\n",
    "for numbb in range(numcorbb+1):\n",
    "    probs[numbb] = {}    \n",
    "    for bbpos in itertools.combinations( range(bb_len_libb), numbb ):\n",
    "        bb_mask_libb = np.zeros((bb_len_libb),dtype=np.bool)\n",
    "        bb_mask_libb[list(bbpos)] = True\n",
    "        bb_mask_libb2 = bb_mask_libb.reshape( NUM_SIB, bb_len_sibb )\n",
    "        if np.any( bb_mask_libb2.sum(axis=0) > bb_tbl_sibb ):\n",
    "            continue\n",
    "        bb_tbl_libb2 = get_bb_tbl_libb2( bb_mask_libb2, bb_tbl_sibb )\n",
    "#        print(bb_tbl_libb2)\n",
    "        pass_prob_libb2 = get_pass_prob_libb2( bb_mask_libb2, bb_tbl_libb2 )\n",
    "\n",
    "        pass_prob_prod = pass_prob_libb2.prod()\n",
    "        probs[numbb][bbpos] = pass_prob_prod\n",
    "        prob_sum += pass_prob_prod\n",
    "##    return prob_sum, probs\n",
    "#    return 1-prob_sum, probs\n"
   ]
  },
  {
   "cell_type": "code",
   "execution_count": 11,
   "metadata": {
    "collapsed": true
   },
   "outputs": [],
   "source": [
    "bb_tbl[2] = [2,0]\n",
    "bb_tbl[4] = [1,0]\n",
    "#bb_chips = [ 2, 4 ]\n",
    "#bb_chips = [ 2 ]\n",
    "numcorbb = 2"
   ]
  },
  {
   "cell_type": "code",
   "execution_count": 13,
   "metadata": {},
   "outputs": [
    {
     "name": "stdout",
     "output_type": "stream",
     "text": [
      "0.946666666667\n"
     ]
    }
   ],
   "source": [
    "print(prob_sum)"
   ]
  },
  {
   "cell_type": "code",
   "execution_count": 14,
   "metadata": {},
   "outputs": [
    {
     "name": "stdout",
     "output_type": "stream",
     "text": [
      "{0: {(): 0.20000000000000001}, 1: {(0,): 0.080000000000000016, (2,): 0.03333333333333334, (4,): 0.080000000000000016, (6,): 0.033333333333333333, (8,): 0.080000000000000016, (10,): 0.033333333333333333, (12,): 0.080000000000000002, (14,): 0.033333333333333333}, 2: {(0, 2): 0.013333333333333338, (0, 4): 0.013333333333333334, (0, 6): 0.013333333333333334, (0, 8): 0.013333333333333334, (0, 10): 0.013333333333333334, (0, 12): 0.013333333333333332, (0, 14): 0.013333333333333332, (2, 4): 0.013333333333333338, (2, 8): 0.013333333333333338, (2, 12): 0.013333333333333336, (4, 6): 0.013333333333333334, (4, 8): 0.013333333333333334, (4, 10): 0.013333333333333334, (4, 12): 0.013333333333333332, (4, 14): 0.013333333333333332, (6, 8): 0.013333333333333336, (6, 12): 0.013333333333333332, (8, 10): 0.013333333333333336, (8, 12): 0.013333333333333334, (8, 14): 0.013333333333333336, (10, 12): 0.013333333333333332, (12, 14): 0.013333333333333331}}\n"
     ]
    }
   ],
   "source": [
    "print(probs)"
   ]
  },
  {
   "cell_type": "code",
   "execution_count": 116,
   "metadata": {},
   "outputs": [
    {
     "name": "stdout",
     "output_type": "stream",
     "text": [
      "[1 1]\n",
      "[1 1]\n",
      "[1 1]\n",
      "[1 1]\n"
     ]
    }
   ],
   "source": [
    "prob_sum, probs = get_prob( bb_chips, bb_tbl, numcorbb)"
   ]
  },
  {
   "cell_type": "code",
   "execution_count": 6,
   "metadata": {
    "collapsed": true
   },
   "outputs": [],
   "source": [
    "%qtconsole"
   ]
  },
  {
   "cell_type": "code",
   "execution_count": 22,
   "metadata": {},
   "outputs": [
    {
     "data": {
      "text/plain": [
       "0.013333333321428569"
      ]
     },
     "execution_count": 22,
     "metadata": {},
     "output_type": "execute_result"
    }
   ],
   "source": [
    "0.8*0.9*0.77777778*0.88888889*0.75*0.875*0.28571429*0.14285714\n"
   ]
  }
 ],
 "metadata": {
  "kernelspec": {
   "display_name": "Python 3",
   "language": "python",
   "name": "python3"
  },
  "language_info": {
   "codemirror_mode": {
    "name": "ipython",
    "version": 3
   },
   "file_extension": ".py",
   "mimetype": "text/x-python",
   "name": "python",
   "nbconvert_exporter": "python",
   "pygments_lexer": "ipython3",
   "version": "3.6.4"
  },
  "toc": {
   "nav_menu": {},
   "number_sections": true,
   "sideBar": true,
   "skip_h1_title": false,
   "toc_cell": true,
   "toc_position": {},
   "toc_section_display": "block",
   "toc_window_display": false
  }
 },
 "nbformat": 4,
 "nbformat_minor": 2
}
