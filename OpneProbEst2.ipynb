{
 "cells": [
  {
   "cell_type": "markdown",
   "metadata": {
    "toc": true
   },
   "source": [
    "<h1>Table of Contents<span class=\"tocSkip\"></span></h1>\n",
    "<div class=\"toc\" style=\"margin-top: 1em;\"><ul class=\"toc-item\"></ul></div>"
   ]
  },
  {
   "cell_type": "code",
   "execution_count": 103,
   "metadata": {
    "collapsed": true
   },
   "outputs": [],
   "source": [
    "from scipy.special import comb"
   ]
  },
  {
   "cell_type": "code",
   "execution_count": 104,
   "metadata": {
    "collapsed": true
   },
   "outputs": [],
   "source": [
    "def get_fail_prob( lcomb, nrs, perr ):\n",
    "    a = []\n",
    "    for nopen in lcomb:\n",
    "        p=0.0\n",
    "        for nsel in np.arange( nopen, nrs, -1 ):\n",
    "            p+= comb( nopen, nsel) * perr**nsel * (1-perr)**(nopen-nsel)\n",
    "        a += [p]\n",
    "    return a\n"
   ]
  },
  {
   "cell_type": "code",
   "execution_count": 105,
   "metadata": {
    "collapsed": true
   },
   "outputs": [],
   "source": [
    "def get_not_pass_prob( lprob ):\n",
    "    if len(lprob) == 1:\n",
    "        return lprob[0]\n",
    "    else:\n",
    "        recp = get_not_pass_prob( lprob[1:])\n",
    "        return lprob[0] + recp - lprob[0]*recp\n"
   ]
  },
  {
   "cell_type": "code",
   "execution_count": 106,
   "metadata": {},
   "outputs": [
    {
     "data": {
      "text/plain": [
       "3.0999940000041991e-17"
      ]
     },
     "execution_count": 106,
     "metadata": {},
     "output_type": "execute_result"
    }
   ],
   "source": [
    "lprob = get_fail_prob( [3,2,1,2,5,6,1], 2, 1e-6)\n",
    "get_not_pass_prob( lprob )"
   ]
  },
  {
   "cell_type": "markdown",
   "metadata": {},
   "source": [
    "$$\n",
    "\\phi(N,M,(x_1,x_2,\\dots,x_n)) = N\\ {}_MC_{x_1}\\phi(N-1, M-x_1,(x_2,x_3,\\dots,x_n)) \n",
    "$$"
   ]
  },
  {
   "cell_type": "code",
   "execution_count": 100,
   "metadata": {
    "collapsed": true
   },
   "outputs": [],
   "source": [
    "import itertools\n",
    "NUM_SYMBOL = 64\n",
    "NUM_CHIP = 8\n",
    "NUM_PLANE = 2\n",
    "NUM_SIB = NUM_SYMBOL // ( NUM_CHIP * 2 ) # number of SIB in LIB\n",
    "NUM_BLK = 200\n",
    "numcor = 2\n",
    "\n",
    "bb_tbl = np.random.randn( 100,2 ) * 4\n",
    "bb_tbl = bb_tbl.clip( 0, 5).astype(int)\n",
    "bb_tbl = bb_tbl[ np.sum( bb_tbl, axis=1) > 0 ]\n"
   ]
  },
  {
   "cell_type": "code",
   "execution_count": 102,
   "metadata": {
    "collapsed": true
   },
   "outputs": [],
   "source": [
    "def get_bb_tbl_libb2( bb_mask_libb2, bb_tbl_sibb ):\n",
    "    ''' Make bb_tbl_libb2 from bb_tbl_sibb considering BB selection based on bb_mask_libb2\n",
    "        bb_mask_lib2 : True:select BB, False:select normal Blk. array(NUM_SIB,len_bb_sibb)\n",
    "        bb_tbl_sib   : number of BB each Blk in SIBB has\n",
    "    '''\n",
    "    bb_tbl_libb2 = np.zeros_like( bb_mask_libb2 )\n",
    "    bb_tbl_sibb_tmp = bb_tbl_sibb.copy()\n",
    "    for sib in range(bb_mask_libb2.shape[0]):\n",
    "        bb_tbl_libb2[sib] = bb_tbl_sibb_tmp\n",
    "        bb_tbl_sibb_tmp -= bb_mask_libb2[sib]\n",
    "\n",
    "    return bb_tbl_libb2\n"
   ]
  },
  {
   "cell_type": "code",
   "execution_count": 103,
   "metadata": {
    "collapsed": true
   },
   "outputs": [],
   "source": [
    "def get_pass_prob_libb2( bb_mask_libb2, bb_tbl_libb2 ):\n",
    "    ''' Get Pass probability\n",
    "    '''\n",
    "    pass_prob_libb2 = np.empty_like( bb_mask_libb2, dtype=np.float )\n",
    "    left_blk_num_libb2 = np.empty_like( bb_mask_libb2, dtype=int)\n",
    "    left_blk_num_libb2[0] = NUM_BLK\n",
    "    for i in range( 1, left_blk_num_libb2.shape[0] ):\n",
    "        left_blk_num_libb2[i] = left_blk_num_libb2[i-1] -1\n",
    "#    print( left_blk_num_libb2 )\n",
    "    pass_prob_libb2[bb_mask_libb2] = bb_tbl_libb2[bb_mask_libb2] \\\n",
    "                                     / left_blk_num_libb2[bb_mask_libb2] # Select BB\n",
    "    pass_prob_libb2[~bb_mask_libb2] = 1.0 - bb_tbl_libb2[~bb_mask_libb2] \\\n",
    "                                            / left_blk_num_libb2[~bb_mask_libb2] # Select nomarl Blk\n",
    "\n",
    "    return pass_prob_libb2"
   ]
  },
  {
   "cell_type": "code",
   "execution_count": 104,
   "metadata": {
    "collapsed": true
   },
   "outputs": [],
   "source": [
    "def get_prob( bb_chips, bb_tbl, numcorbb ):\n",
    "    ''' Get PASS probability\n",
    "        bb_chips : list of chips including BB in SIB\n",
    "        bb_tbl   : number of BB per plane for each BB chip\n",
    "        numcorbb   : number of RS correctable error symbols\n",
    "    '''\n",
    "    probs = {}\n",
    "    prob_sum = 0.0\n",
    "    bb_tbl_sibb = bb_tbl[ bb_chips].ravel()\n",
    "    bb_len_sibb = len(bb_tbl_sibb)\n",
    "    bb_len_libb = bb_len_sibb * NUM_SIB\n",
    "    for numbb in range(numcorbb+1):\n",
    "        probs[numbb] = {}    \n",
    "        for bbpos in itertools.combinations( range(bb_len_libb), numbb ):\n",
    "            bb_mask_libb = np.zeros((bb_len_libb),dtype=np.bool)\n",
    "            bb_mask_libb[list(bbpos)] = True\n",
    "            bb_mask_libb2 = bb_mask_libb.reshape( NUM_SIB, bb_len_sibb )\n",
    "            if np.any( bb_mask_libb2.sum(axis=0) > bb_tbl_sibb ):\n",
    "                continue\n",
    "            bb_tbl_libb2 = get_bb_tbl_libb2( bb_mask_libb2, bb_tbl_sibb )\n",
    "            pass_prob_libb2 = get_pass_prob_libb2( bb_mask_libb2, bb_tbl_libb2 )\n",
    "\n",
    "            pass_prob_prod = pass_prob_libb2.prod()\n",
    "            probs[numbb][bbpos] = pass_prob_prod\n",
    "            prob_sum += pass_prob_prod\n",
    "    return prob_sum, probs\n"
   ]
  },
  {
   "cell_type": "code",
   "execution_count": 140,
   "metadata": {
    "collapsed": true
   },
   "outputs": [],
   "source": [
    "bb_tbl[2] = [2,0]\n",
    "bb_tbl[4] = [0,0]\n",
    "bb_chips = [ 2, 4 ]\n",
    "numcorbb = 1"
   ]
  },
  {
   "cell_type": "code",
   "execution_count": 141,
   "metadata": {
    "collapsed": true
   },
   "outputs": [],
   "source": [
    "prob_sum, probs = get_prob( bb_chips, bb_tbl, numcorbb)"
   ]
  },
  {
   "cell_type": "code",
   "execution_count": 142,
   "metadata": {
    "collapsed": true
   },
   "outputs": [],
   "source": [
    "probs20 = probs"
   ]
  },
  {
   "cell_type": "code",
   "execution_count": 144,
   "metadata": {},
   "outputs": [
    {
     "name": "stdout",
     "output_type": "stream",
     "text": [
      "{(0,): 0.0049000000000000007, (3,): 0.0049000000000000007, (4,): 0.0049000000000000007, (7,): 0.0049000000000000007, (8,): 0.0049000000000000007, (11,): 0.0049000000000000007, (12,): 0.004899999999999999, (15,): 0.004899999999999999} {(0,): 0.0049246231155778896, (4,): 0.0049494949494949493, (8,): 0.0049746192893401018, (12,): 0.0049999999999999992}\n"
     ]
    }
   ],
   "source": [
    "print( probs11[1], probs20[1] )"
   ]
  },
  {
   "cell_type": "code",
   "execution_count": 6,
   "metadata": {
    "collapsed": true
   },
   "outputs": [],
   "source": [
    "%qtconsole"
   ]
  }
 ],
 "metadata": {
  "kernelspec": {
   "display_name": "Python 3",
   "language": "python",
   "name": "python3"
  },
  "language_info": {
   "codemirror_mode": {
    "name": "ipython",
    "version": 3
   },
   "file_extension": ".py",
   "mimetype": "text/x-python",
   "name": "python",
   "nbconvert_exporter": "python",
   "pygments_lexer": "ipython3",
   "version": "3.6.4"
  },
  "toc": {
   "nav_menu": {},
   "number_sections": true,
   "sideBar": true,
   "skip_h1_title": false,
   "toc_cell": true,
   "toc_position": {},
   "toc_section_display": "block",
   "toc_window_display": false
  }
 },
 "nbformat": 4,
 "nbformat_minor": 2
}
