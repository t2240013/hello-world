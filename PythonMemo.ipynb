{
 "cells": [
  {
   "cell_type": "markdown",
   "metadata": {},
   "source": [
    "# 参考資料\n",
    "http://www.turbare.net/transl/scipy-lecture-notes/index.html"
   ]
  },
  {
   "cell_type": "code",
   "execution_count": 1,
   "metadata": {},
   "outputs": [
    {
     "data": {
      "text/plain": [
       "'C:\\\\Users\\\\papa\\\\OneDrive\\\\JupyterNotebook\\\\GitHam\\\\hello-world'"
      ]
     },
     "execution_count": 1,
     "metadata": {},
     "output_type": "execute_result"
    }
   ],
   "source": [
    "import numpy as np\n",
    "import scipy as sp\n",
    "import matplotlib.pyplot as plt\n",
    "%matplotlib inline\n",
    "%pwd"
   ]
  },
  {
   "cell_type": "markdown",
   "metadata": {},
   "source": [
    "# Anacondaの設定"
   ]
  },
  {
   "cell_type": "markdown",
   "metadata": {},
   "source": [
    "## バージョンアップ\n",
    "> conda update conda<br>\n",
    "> conda update anaconda\n",
    "\n",
    "2つ目でパッケージもパラパラいくはずなのだが、そうならなければ何かおかしい。<br>\n",
    "Navigator でAnaconda自体のバージョンを確認してCustomになっていることがあった。anaconda のバージョンを指定しない場合はcustum になるようだ。"
   ]
  },
  {
   "cell_type": "markdown",
   "metadata": {},
   "source": [
    "## アンインストール\n",
    "\n",
    "インストールしたフォルダ内にある Uninstall-Anaconda3.exe を実行"
   ]
  },
  {
   "cell_type": "markdown",
   "metadata": {},
   "source": [
    "## 追加インストール時の注意\n",
    "インストールするディレクトリ名を変えれば複数のAnacondaを入れられる<br>\n",
    "ただし、C:\\Users\\papa\\AppData\\Roaming\\Microsoft\\Windows\\Start Menu\\Programs\\Anaconda3 (64-bit) に作成されるショートカットの一群は Anaconda3(64-bit) のフォルダ名固定のため上書きされる。厄介なことにスタートメニューに作成したタイルがパス名が不整合になるためか消えてしまう。しかし、ショートカット群のパスを元に戻すと自動的にタイルが復活する。新しいAnacondaをディレクトリ名を変えてインストールしてもsys.pathは環境変数から取ってくるためか、従来のpathのままで、実質別環境とならない問題がある。"
   ]
  },
  {
   "cell_type": "markdown",
   "metadata": {},
   "source": [
    "# Markdownの例\n",
    "\n",
    "[参考1](http://qiita.com/Thermidor/items/b684cfabe0f2fde0c67b)<br>\n",
    "[参考2](http://qiita.com/tbpgr/items/989c6badefff69377da7)\n",
    "\n",
    "---\n",
    "\n",
    "# hedding\n",
    "## hedding\n",
    "### hedding\n",
    "abcd\n",
    "----\n",
    "### abcd ###\n",
    "abcd\n",
    "\n",
    "abcd **bold** hijk *italic* opqr\n",
    "\n",
    "* hoge\n",
    "  * hoge\n",
    "    * hogege\n",
    "\n",
    "> inyo\n",
    "> inyo\n",
    "> inyo\n",
    "\n",
    "inline program ` printf(\"hello-world\")` hoge hoge\n",
    "\n",
    "| Left | Center | Right |\n",
    "|:---|:---:|---:|\n",
    "| 111 | 222 | 333 |\n",
    "| e | f | g |\n",
    "\n",
    "```python\n",
    "def f(x):\n",
    "    \"\"\"a docstring\"\"\"\n",
    "    return x**2\n",
    "```\n",
    "\n",
    "abcd\n",
    "\n",
    "---\n",
    "    \n",
    "$$\n",
    "\\begin{align}\n",
    "\\sum_{k=1}^{\\infty} \\frac{1}{k^2} = \\frac{\\pi^2}{6}\n",
    "\\end{align}\n",
    "$$\n",
    "\n",
    "$$\n",
    "\\begin{eqnarray}\n",
    "\\newcommand{\\pdfrac}[2]{\\frac{\\partial #1}{\\partial #2}}\n",
    "\\mathbf{W} & \\gets & \\mathbf{W} - \\eta \\pdfrac{L}{\\mathbf{W}}\n",
    "\\end{eqnarray}\n",
    "$$\n",
    "[Latex 参考URL]\n",
    "* http://www.latex-cmd.com/\n",
    "* http://jupyter-notebook.readthedocs.io/en/latest/examples/Notebook/Typesetting%20Equations.html\n",
    "\n",
    "**[図の貼り方]**\n",
    "* Markdown セルを編集モードにして、ドラッグ＆ドロップ\n",
    "* サイズの調整の仕方がわからない\n",
    "* 以前できていた<img src=\"Meiro.png\", width=500>の書式は廃止されたの？\n",
    "* いやいや、htmlの表記だからそんなはずはない。どうやらカンマがあるとダメらしい"
   ]
  },
  {
   "cell_type": "markdown",
   "metadata": {
    "collapsed": true
   },
   "source": [
    "# Jupyter notebookの使い方"
   ]
  },
  {
   "cell_type": "markdown",
   "metadata": {},
   "source": [
    "## Jupyter 設定\n",
    "* QtConsoleの初期ファイルの作成方法<br>\n",
    "  $ jupyter qtconsole --generate-config<br>\n",
    "  生成先：~/.jupyter/jupyter_qtconsole_config.py<br>\n",
    "\n",
    "* Notebookの初期化ファイルの作成方法<br>\n",
    "  $ jupyter notebook --generate-config<br>\n",
    "  生成先：~/.jupyter/jupyter_notebook_config.py<br>\n",
    "\n",
    "* nbextensions のインストール<br>\n",
    "  pip は使わない<br>\n",
    "  $ conda install -c conda-forge jupyter_contrib_NbExtensions<br>\n",
    "\n",
    "* emacs binding<br>\n",
    "  nbextesions をインストールする<br>\n",
    "  Select CodeMirro Keymap を選択<br>\n",
    "  設定を読むとctrl-n 対策が書いてある（Firefox でしか有効にならない。browerポリシーとバッティングして解決が難しいらしい）<br>\n",
    "  ctrl-Z など独自の設定はemacsバインディング用のjsonファイルを編集<br>\n",
    "* アップデートがうまくいかない時は conda のバージョンは4.6に下げるとよいらしい<br>\n",
    "* qtconsole はインストールしないと標準では入っていない。\n",
    "* 起動時の自動import は ~/.ipython/profile_default/ipython_config.py の30行目あたりに\n",
    "<pre>\n",
    "# lines of code to run at IPython startup.\n",
    "c.InteractiveShellApp.exec_lines = [ \n",
    "\t'import numpy as np',\n",
    "\t'import matplotlib.pyplot as plt',\n",
    "\t'import pandas as pd'\n",
    "]\n",
    "</pre>\n",
    "と書く。"
   ]
  },
  {
   "cell_type": "markdown",
   "metadata": {},
   "source": [
    "## ブラウザの指定"
   ]
  },
  {
   "cell_type": "markdown",
   "metadata": {},
   "source": [
    " ~/.jupyter/jupyter_notebook_config.py に書く。browserのpathはx86が付かない方かもしれないので要確認<br>\n",
    "https://karupoimou.hatenablog.com/entry/2019/04/29/055658 <br>\n",
    "https://qiita.com/acknpop/items/4e5b57e38780068a9155 # 古い"
   ]
  },
  {
   "cell_type": "markdown",
   "metadata": {},
   "source": [
    "## notebook のimport\n",
    "参考：https://qiita.com/tdualdir/items/32d3918b4c8dd1f703e7 <br>\n",
    "http://jupyter-notebook.readthedocs.io/en/latest/examples/Notebook/Importing%20Notebooks.html<br>\n",
    "だけど、以下を採用<br>\n",
    "https://qiita.com/junkoda/items/011d44dcc1c8bd0a936a\n",
    "\n",
    "\n"
   ]
  },
  {
   "cell_type": "markdown",
   "metadata": {},
   "source": [
    "## ショートカット\n",
    "参考：https://qiita.com/masafumi_miya/items/6524dbd227705351a00c\n",
    "* コマンドモード\n",
    "\n",
    "|キー|動作|\n",
    "|:---|:---|\n",
    "| Shift + ↓ | 下の複数のセルを選択 |\n",
    "| 0,0 | カーネルのリスタート | \n",
    "| x | セルを切り取り |\n",
    "| v | 切り取ったセルを下に張り付け |\n",
    "| 2 | 見出し２で書き出し |\n"
   ]
  },
  {
   "cell_type": "markdown",
   "metadata": {},
   "source": [
    "## qtconsole\n",
    "http://meganehouser.hatenablog.com/?page=1326113333\n",
    "* オブジェクトにクエスチョンマークを付加することでヘルプが表示できる。\n",
    "* OSコマンドも先頭に！を付けることで実行できる\n",
    "* ↑↓で入力履歴をたどれるのはもちろん、入力・出力の履歴がIn,Outと入力するとオブジェクトとして呼び出せる\n",
    "* %quickref でヘルプ"
   ]
  },
  {
   "cell_type": "markdown",
   "metadata": {},
   "source": [
    "## ディレクトリの移動"
   ]
  },
  {
   "cell_type": "code",
   "execution_count": 24,
   "metadata": {},
   "outputs": [
    {
     "data": {
      "text/plain": [
       "'C:\\\\Users\\\\papa\\\\OneDrive\\\\JupyterNotebook\\\\GitHam\\\\hello-world'"
      ]
     },
     "execution_count": 24,
     "metadata": {},
     "output_type": "execute_result"
    }
   ],
   "source": [
    "#カレントディレクトリ\n",
    "backupdir = %pwd\n",
    "%pwd "
   ]
  },
  {
   "cell_type": "code",
   "execution_count": 4,
   "metadata": {},
   "outputs": [
    {
     "name": "stdout",
     "output_type": "stream",
     "text": [
      "c:\\Users\\papa\\Onedrive\n"
     ]
    }
   ],
   "source": [
    "# 指定したディレクトリに移動\n",
    "%cd c:/Users/papa/Onedrive "
   ]
  },
  {
   "cell_type": "code",
   "execution_count": 5,
   "metadata": {},
   "outputs": [
    {
     "name": "stdout",
     "output_type": "stream",
     "text": [
      " ドライブ C のボリューム ラベルがありません。\n",
      " ボリューム シリアル番号は C682-4F1D です\n",
      "\n",
      " c:\\Users\\papa\\Onedrive のディレクトリ\n",
      "\n",
      "2020/03/07  18:52    <DIR>          .\n",
      "2020/03/07  18:52    <DIR>          ..\n",
      "2020/03/07  18:52                 0 bar.csv\n",
      "2020/02/29  17:38    <DIR>          JupyterNotebook\n",
      "2018/07/28  10:54         1,072,564 OneDrive を使い始める.pdf\n",
      "2020/03/07  18:54           311,059 plot_sample.png\n",
      "2019/11/23  00:59    <DIR>          tmp\n",
      "2020/03/01  16:14    <DIR>          ドキュメント\n",
      "2019/11/05  04:43    <DIR>          画像\n",
      "2020/03/07  10:55             1,162 個人用 Vault.lnk\n",
      "               4 個のファイル           1,384,785 バイト\n",
      "               6 個のディレクトリ  420,074,704,896 バイトの空き領域\n"
     ]
    }
   ],
   "source": [
    "%ls"
   ]
  },
  {
   "cell_type": "code",
   "execution_count": 6,
   "metadata": {},
   "outputs": [
    {
     "name": "stdout",
     "output_type": "stream",
     "text": [
      "C:\\Users\\papa\n"
     ]
    }
   ],
   "source": [
    "# ホームに移動\n",
    "%cd "
   ]
  },
  {
   "cell_type": "code",
   "execution_count": 25,
   "metadata": {},
   "outputs": [
    {
     "data": {
      "text/plain": [
       "'C:\\\\Users\\\\papa\\\\OneDrive\\\\JupyterNotebook\\\\GitHam\\\\hello-world'"
      ]
     },
     "execution_count": 25,
     "metadata": {},
     "output_type": "execute_result"
    }
   ],
   "source": [
    "# 変数名に格納されたパスに移動。マジックコマンドでやる方法がわからない\n",
    "import os\n",
    "os.chdir(backupdir)\n",
    "%pwd"
   ]
  },
  {
   "cell_type": "markdown",
   "metadata": {},
   "source": [
    "# 関数の引数は値渡し？参照渡し？\n",
    "\n",
    "[参考](http://rcmdnk.github.io/blog/2015/07/08/computer-python/)<br>\n",
    "[参考２](http://qiita.com/urakarin/items/1d6e0e76bffb9297606e)\n",
    "\n",
    "Pythonでは関数に値を渡す時にその**参照**が渡されます。\n",
    "\n",
    "ですが、渡された関数内で変更されるとき、 渡した値自体が変更されるかどうかは 渡されたオブジェクトのタイプによります。\n",
    "\n",
    "オブジェクトのタイプは**Immutable**(変更不可)と**Mutable**(変更可能)に分けられます。\n",
    "\n",
    "Immutable: int, float, str, tuple 等\n",
    "Mutable: list, set, dict 等\n",
    "このうち、Mutableな値が関数に渡された場合、 中で変更すると値の変更が外にも反映されますが、 Immutableなものに関しては変更されません。\n",
    "\n",
    "ただ、これもちょっと注意する必要があって、 listでもlist内の項目を変更したり値を追加したりするのではなく、 新たなlist自体を与える様な事をする場合は外では書き換えられません。"
   ]
  },
  {
   "cell_type": "code",
   "execution_count": 8,
   "metadata": {},
   "outputs": [
    {
     "name": "stdout",
     "output_type": "stream",
     "text": [
      "fn:  [1, 2, 3] 1653615385032\n",
      "Default value [1, 2, 3] 1653615385032\n",
      "fn:  [4, 2, 3] 1653615385032\n",
      "Not Default value [4, 2, 3] 1653615385032\n"
     ]
    }
   ],
   "source": [
    "def fn(x=[1,2,3]):\n",
    "    print ( 'fn: ', x, id(x) )\n",
    "    return x\n",
    "\n",
    "x = fn()\n",
    "print ( 'Default value', x, id(x) )\n",
    "\n",
    "x[0] = 4\n",
    "\n",
    "y = fn()\n",
    "print ( 'Not Default value', y, id(y) )\n"
   ]
  },
  {
   "cell_type": "markdown",
   "metadata": {},
   "source": [
    "##  インスタンス変数もMutable/Imutableの注意が必要"
   ]
  },
  {
   "cell_type": "code",
   "execution_count": 9,
   "metadata": {},
   "outputs": [
    {
     "name": "stdout",
     "output_type": "stream",
     "text": [
      "インスタンス変数は引数と同じIDになる\n",
      "140706666619568 10\n",
      "140706666619568 10\n",
      "インスタンス変数が変更されると別IDになる\n",
      "140706666619568 10\n",
      "140706666619600 11\n",
      "でも、mutableな変数は別IDにはならず、呼び出し側も値が変わる\n",
      "1653615424496 [1 2]\n",
      "1653615424496 [2 3]\n",
      "1653615424496 [2 3]\n"
     ]
    }
   ],
   "source": [
    "class Hoge():\n",
    "    def __init__(self,val):\n",
    "        self.val = val\n",
    "    def print_val(self):\n",
    "        print (id(self.val), self.val)\n",
    "    def inc(self):\n",
    "        self.val += 1\n",
    "\n",
    "print (\"インスタンス変数は引数と同じIDになる\")\n",
    "aa = 10;\n",
    "hoge = Hoge(aa)\n",
    "print (id(aa), aa)\n",
    "hoge.print_val()\n",
    "\n",
    "print (\"インスタンス変数が変更されると別IDになる\")\n",
    "hoge.inc()\n",
    "print (id(aa), aa)\n",
    "hoge.print_val()\n",
    "\n",
    "print (\"でも、mutableな変数は別IDにはならず、呼び出し側も値が変わる\")\n",
    "bb = np.array([1,2])\n",
    "print (id(bb), bb)\n",
    "fuga = Hoge(bb)\n",
    "fuga.inc()\n",
    "print (id(bb), bb)\n",
    "fuga.print_val()"
   ]
  },
  {
   "cell_type": "markdown",
   "metadata": {},
   "source": [
    "### 配列をコピーする場合はcopyメソッドを使わないと同一インスタンスのままになる\n",
    "配列はMutableだから"
   ]
  },
  {
   "cell_type": "code",
   "execution_count": 10,
   "metadata": {},
   "outputs": [
    {
     "name": "stdout",
     "output_type": "stream",
     "text": [
      "numpy array\n",
      " [[1 2]\n",
      " [3 4]]\n",
      "updated as array\n",
      " [[0 0]\n",
      " [3 4]]\n",
      "list\n",
      " [[1, 2], [3, 4]]\n",
      "updated as list \n",
      " [0, [3, 4]]\n",
      "update copy of array\n",
      " [[1 1]\n",
      " [1 1]]\n",
      "original array\n",
      " [[1 2]\n",
      " [3 4]]\n"
     ]
    }
   ],
   "source": [
    "aa = 0\n",
    "aanp = 0\n",
    "copynp = 0\n",
    "\n",
    "def reset_aa():\n",
    "    global aa,aanp,copynp\n",
    "    aa = [[1,2],[3,4]]\n",
    "    aanp = np.array(aa)\n",
    "    copynp = aanp.copy()\n",
    "    \n",
    "reset_aa()\n",
    "print (\"numpy array\\n\",aanp)\n",
    "bbnp = aanp\n",
    "bbnp[0] = 0;\n",
    "print (\"updated as array\\n\",aanp)\n",
    "\n",
    "reset_aa()\n",
    "print (\"list\\n\", aa)\n",
    "bb = aa\n",
    "bb[0] = 0;\n",
    "print (\"updated as list \\n\", aa)\n",
    "\n",
    "reset_aa()\n",
    "copynp = np.ones_like( copynp );\n",
    "print (\"update copy of array\\n\", copynp)\n",
    "print (\"original array\\n\", aanp)\n"
   ]
  },
  {
   "cell_type": "code",
   "execution_count": 11,
   "metadata": {},
   "outputs": [
    {
     "name": "stdout",
     "output_type": "stream",
     "text": [
      "False\n",
      "True \n",
      "\n",
      "False\n",
      "False\n",
      "False\n",
      "False\n",
      "False\n",
      "False\n"
     ]
    }
   ],
   "source": [
    "a = np.array( [1,2,3])\n",
    "b = np.array( [4,5,6])\n",
    "print( id(a) == id(b)) # もともと別メモリを確保しても\n",
    "a = b  # 不用意に代入すると\n",
    "print( id(a) == id(b), '\\n') # 同一メモリーになる\n",
    "\n",
    "# 以下は全て別メモリとして扱われる\n",
    "# copy メソッド\n",
    "a1 = np.array( [1,2,3])\n",
    "b1 = np.array( [4,5,6])\n",
    "print( id(a1) == id(b1))\n",
    "a1 = b1.copy()\n",
    "print( id(a1) == id(b1))\n",
    "\n",
    "# スライス\n",
    "a2 = np.array( [1,2,3])\n",
    "b2 = np.array( [4,5,6])\n",
    "print( id(a2) == id(b2))\n",
    "a2 = b2[:]\n",
    "print( id(a2) == id(b2))\n",
    "\n",
    "# 3点リーダー\n",
    "a3 = np.array( [1,2,3])\n",
    "b3 = np.array( [4,5,6])\n",
    "print( id(a3) == id(b3))\n",
    "a3[...] = b3\n",
    "print( id(a3) == id(b3))\n"
   ]
  },
  {
   "cell_type": "code",
   "execution_count": 12,
   "metadata": {},
   "outputs": [
    {
     "data": {
      "text/plain": [
       "numpy.ndarray"
      ]
     },
     "execution_count": 12,
     "metadata": {},
     "output_type": "execute_result"
    }
   ],
   "source": [
    "type(a)"
   ]
  },
  {
   "cell_type": "markdown",
   "metadata": {},
   "source": [
    "# 書式"
   ]
  },
  {
   "cell_type": "markdown",
   "metadata": {},
   "source": [
    "## N進数"
   ]
  },
  {
   "cell_type": "code",
   "execution_count": 13,
   "metadata": {},
   "outputs": [
    {
     "name": "stdout",
     "output_type": "stream",
     "text": [
      "106は2進数だと1101010、8進数だと152であり、107は16進数で6B\n",
      "106は2進数だとダメで、8進数だと152であり、107は16進数で6b\n"
     ]
    }
   ],
   "source": [
    "val0 = 106\n",
    "val1 = 107\n",
    "print('{0}は2進数だと{0:b}、8進数だと{0:o}であり、{1}は16進数で{1:X}'.format(val0,val1))\n",
    "print(\"%dは2進数だとダメで、8進数だと%oであり、%dは16進数で%x\" % (val0, val0, val1, val1 ))"
   ]
  },
  {
   "cell_type": "markdown",
   "metadata": {},
   "source": [
    "## 精度"
   ]
  },
  {
   "cell_type": "code",
   "execution_count": 14,
   "metadata": {},
   "outputs": [
    {
     "name": "stdout",
     "output_type": "stream",
     "text": [
      "printoptions:\n",
      " {'edgeitems': 3, 'threshold': 1000, 'floatmode': 'maxprec', 'precision': 8, 'suppress': False, 'linewidth': 75, 'nanstr': 'nan', 'infstr': 'inf', 'sign': '-', 'formatter': None, 'legacy': False}\n",
      "default precision= 8  (ex) [[2.84117372]]\n",
      "new precision    = 3  (ex) [[2.841]]\n",
      "0.3333333333333333 [[2.841]]\n"
     ]
    }
   ],
   "source": [
    "val = np.random.normal(size=[1,1])\n",
    "opts = np.get_printoptions()\n",
    "print( \"printoptions:\\n\",opts )\n",
    "print( \"default precision=\", opts['precision'], \" (ex)\", val)\n",
    "np.set_printoptions(precision=3)\n",
    "print( \"new precision    =\", 3, \" (ex)\", val)\n",
    "print( 1/3, val ) # npの表示精度のみ変わる\n",
    "np.set_printoptions(precision=opts['precision']) # もとに戻す"
   ]
  },
  {
   "cell_type": "markdown",
   "metadata": {},
   "source": [
    "## f-strings\n",
    "Python3.6からf文字列（f-strings、フォーマット文字列、フォーマット済み文字列リテラル）という仕組みが導入され、冗長だった文字列メソッドformat()をより簡単に書けるようになった。"
   ]
  },
  {
   "cell_type": "code",
   "execution_count": 110,
   "metadata": {},
   "outputs": [
    {
     "name": "stdout",
     "output_type": "stream",
     "text": [
      "3.141592653589793 and 123\n",
      "zero padding: 00000123\n",
      "bin: 1111011\n",
      "oct: 173\n",
      "hex: 7b\n",
      "hex: 0x7b\n",
      "digit(decimal): 3.142\n",
      "digit(all)    : 3.14\n",
      "exponen: 3.142e+00\n",
      "percent: 314.16%\n",
      "keisan: 0.025541403687721894\n"
     ]
    }
   ],
   "source": [
    "f = np.pi\n",
    "i = 123\n",
    "print(f'{f} and {i}')\n",
    "print(f'zero padding: {i:08}')\n",
    "print(f'bin: {i:b}')\n",
    "print(f'oct: {i:o}')\n",
    "print(f'hex: {i:x}')\n",
    "print(f'hex: {i:#x}')\n",
    "print(f'digit(decimal): {f:.3f}')\n",
    "print(f'digit(all)    : {f:.3g}')\n",
    "print(f'exponen: {f:.3e}')\n",
    "print(f'percent: {f:.2%}')\n",
    "print(f'keisan: {f/i}')"
   ]
  },
  {
   "cell_type": "markdown",
   "metadata": {},
   "source": [
    "# プロットのサンプル\n",
    "参考ページ<br>\n",
    "http://seesaawiki.jp/met-python/d/matplotlib"
   ]
  },
  {
   "cell_type": "code",
   "execution_count": 5,
   "metadata": {},
   "outputs": [
    {
     "data": {
      "image/png": "[encoded data removed]",
      "text/plain": [
       "<Figure size 864x432 with 5 Axes>"
      ]
     },
     "metadata": {
      "needs_background": "light"
     },
     "output_type": "display_data"
    }
   ],
   "source": [
    "import numpy as np\n",
    "import matplotlib.pyplot as plt\n",
    "from matplotlib.ticker import FormatStrFormatter\n",
    "import matplotlib.gridspec as gridspec\n",
    "import matplotlib.font_manager # 日本語\n",
    "from mpl_toolkits.mplot3d import Axes3D\n",
    "%matplotlib inline\n",
    "\n",
    "prop = matplotlib.font_manager.FontProperties(fname=\"C:/WIndows/Fonts/meiryo.ttc\")\n",
    "fig = plt.figure(figsize=[12,6])\n",
    "G = gridspec.GridSpec(2,4)\n",
    "\n",
    "### Figure 1 bar\n",
    "width=0.1\n",
    "ax = plt.subplot(G[0,:2])\n",
    "plt.grid(True)\n",
    "plt.xlabel('x label', fontsize=12 )\n",
    "plt.ylabel('y label', fontsize='large')\n",
    "plt.title('Feature Importances')\n",
    "plt.bar([0,1,2,3], [10,20,30,40], width=width, color='lightblue', align='center')\n",
    "plt.xticks([0,1,2,3], ['zero','ichi','ni','san'], rotation=90)\n",
    "# ax はticks と label を分けて設定しないといけない\n",
    "ax.set_yticks( range(0,51,10) )\n",
    "ax.set_yticklabels( [ u'零', u'十', u'二十',  u'三十',  u'四十', u'五十' ] ,fontproperties=prop, rotation=30)\n",
    "#plt.xlim([-1, 4])\n",
    "#plt.tight_layout()\n",
    "\n",
    "### Figure 2 line\n",
    "plt.subplot(G[1,:2])\n",
    "plt.plot( np.arange(0, 0.2, 0.01), np.arange( 0, 0.4, 0.02), 'bo-', \n",
    "         markersize=4, label='name' )\n",
    "plt.grid()\n",
    "plt.ylim([0.0, 0.4])\n",
    "plt.legend(loc='lower right')\n",
    "# tick step\n",
    "plt.xticks( np.arange(0, 0.2, 0.0125))\n",
    "# virtical lines\n",
    "plt.axvline( 0.1, color='r')\n",
    "plt.vlines( [0.14,0.18], [0.1,0.15], [0.2, 0.25], colors=['g','k']) # ( x, ymin, ymax, ... )\n",
    "ax = plt.gca()\n",
    "# precision\n",
    "ax.xaxis.set_major_formatter( FormatStrFormatter('%0.1f'))\n",
    "ax.yaxis.set_major_formatter( FormatStrFormatter('%0.4f'))\n",
    "\n",
    "### Figure 3\n",
    "plt.subplot(G[:,2])\n",
    "plt.title( \"Now on sale\")\n",
    "\n",
    "### Figure 4\n",
    "ax = plt.subplot(G[0,3],projection='3d')\n",
    "x = np.arange(10)\n",
    "y = np.arange(8)\n",
    "X,Y = np.meshgrid( x, y )\n",
    "ax.plot_wireframe( X,Y, X**2 + Y**2 )\n",
    "plt.xticks( x[::2] )\n",
    "plt.yticks( y[::2], y[::2]*10)\n",
    "#plt.zticks( np.arange(0,300, 50))\n",
    "plt.xlabel('x')\n",
    "ax.set_ylabel('y')\n",
    "ax.set_zlabel('z')\n",
    "\n",
    "#Figure 5\n",
    "import matplotlib.ticker as ticker\n",
    "plt.subplot(G[1,3])\n",
    "d = np.arange(12).reshape(3,4)\n",
    "plt.imshow(d)\n",
    "\n",
    "### After the plot\n",
    "plt.tight_layout() # グラフが重ならないようにおまじない\n",
    "plt.savefig('plot_sample.png', dpi=300)\n",
    "plt.show()"
   ]
  },
  {
   "cell_type": "markdown",
   "metadata": {},
   "source": [
    "## logスケールで表示が空になる場合"
   ]
  },
  {
   "cell_type": "code",
   "execution_count": 16,
   "metadata": {},
   "outputs": [
    {
     "data": {
      "text/plain": [
       "Text(0.5, 1.0, 'use symlog')"
      ]
     },
     "execution_count": 16,
     "metadata": {},
     "output_type": "execute_result"
    },
    {
     "data": {
      "image/png": "[encoded data removed]",
      "text/plain": [
       "<Figure size 432x288 with 2 Axes>"
      ]
     },
     "metadata": {
      "needs_background": "light"
     },
     "output_type": "display_data"
    }
   ],
   "source": [
    "x = np.random.randn(10000)\n",
    "plt.subplot(121)\n",
    "plt.hist(x)\n",
    "plt.yscale('log', nonposy='clip' )\n",
    "#plt.yscale('log') # 表示が空になる\n",
    "plt.title( 'use nonposy')\n",
    "\n",
    "plt.subplot(122)\n",
    "plt.hist(x)\n",
    "plt.yscale('symlog')\n",
    "#plt.yscale('symlog', linthreshy=0.01) # linear threshold y : 0.01\n",
    "plt.title( 'use symlog')"
   ]
  },
  {
   "cell_type": "markdown",
   "metadata": {},
   "source": [
    "## 目盛は難しい\n",
    "軸の見た目の調整はできればFormatterとLocatorで <br>\n",
    "https://qiita.com/skotaro/items/08dc0b8c5704c94eafb9 <br>\n",
    "https://matplotlib.org/gallery/ticks_and_spines/tick-formatters.html <br>\n",
    "https://matplotlib.org/gallery/ticks_and_spines/tick-locators.html <br>\n"
   ]
  },
  {
   "cell_type": "code",
   "execution_count": 17,
   "metadata": {},
   "outputs": [],
   "source": [
    "x = np.arange(10)\n",
    "y = x*x"
   ]
  },
  {
   "cell_type": "code",
   "execution_count": 18,
   "metadata": {
    "scrolled": true
   },
   "outputs": [
    {
     "data": {
      "image/png": "[encoded data removed]",
      "text/plain": [
       "<Figure size 432x144 with 1 Axes>"
      ]
     },
     "metadata": {
      "needs_background": "light"
     },
     "output_type": "display_data"
    }
   ],
   "source": [
    "import matplotlib.ticker as ticker\n",
    "fig, ax = plt.subplots(figsize=(6,2))\n",
    "ax.plot(x,y)\n",
    "ax.grid(True)\n",
    "ax.set_facecolor('whitesmoke')\n",
    "ax.xaxis.set_major_locator(ticker.MultipleLocator(1.5))\n",
    "ax.xaxis.set_minor_locator(ticker.MultipleLocator(0.5))\n",
    "ax.xaxis.set_major_formatter( ticker.FuncFormatter( lambda x,pos: \"%dHz\" % (x*100)) )\n",
    "ax.tick_params(which='major', width=4)\n",
    "ax.tick_params(which='minor', length=10)\n",
    "#https://matplotlib.org/api/_as_gen/matplotlib.axes.Axes.tick_params.html\n",
    "ax.tick_params( axis='x', labelrotation=70.0, labelsize='large')\n",
    "\n",
    "ax.yaxis.set_major_formatter( ticker.FormatStrFormatter(\"%.2f deg\") )\n",
    "ax.tick_params( axis='y', labelcolor='blue' )\n",
    "ax.grid( which ='major', color='g', linestyle='-', linewidth=1 )\n",
    "ax.grid( which ='minor', c='r', ls='--', lw=1, alpha=0.2 )\n",
    "plt.show()"
   ]
  },
  {
   "cell_type": "markdown",
   "metadata": {},
   "source": [
    "## 対数表示はもっと難しい"
   ]
  },
  {
   "cell_type": "markdown",
   "metadata": {},
   "source": [
    "### サンプルデータ作成"
   ]
  },
  {
   "cell_type": "code",
   "execution_count": 19,
   "metadata": {},
   "outputs": [
    {
     "data": {
      "image/png": "[encoded data removed]",
      "text/plain": [
       "<Figure size 288x144 with 1 Axes>"
      ]
     },
     "metadata": {
      "needs_background": "light"
     },
     "output_type": "display_data"
    }
   ],
   "source": [
    "import scipy.signal as sg\n",
    "\n",
    "b,a = sg.butter( 4, 0.5 ) # -> B/A\n",
    "w, h = sg.freqz(b, a) # w[rad/sample]\n",
    "\n",
    "fig = plt.figure(figsize=(4,2))\n",
    "plt.plot(w, 20 * np.log10(abs(h)), 'g')\n",
    "plt.title('Butterworth filter frequency response')\n",
    "plt.xlabel('Frequency [rad/sample]')\n",
    "plt.ylabel('Amplitude [dB]')\n",
    "plt.grid(which='both', axis='both')\n",
    "plt.show()"
   ]
  },
  {
   "cell_type": "markdown",
   "metadata": {},
   "source": [
    "### 対数表示を試みる"
   ]
  },
  {
   "cell_type": "code",
   "execution_count": 20,
   "metadata": {},
   "outputs": [
    {
     "data": {
      "image/png": "[encoded data removed]",
      "text/plain": [
       "<Figure size 432x720 with 5 Axes>"
      ]
     },
     "metadata": {
      "needs_background": "light"
     },
     "output_type": "display_data"
    }
   ],
   "source": [
    "import matplotlib.ticker as ticker\n",
    "\n",
    "sf = 48000\n",
    "\n",
    "fig = plt.figure(figsize=(6,10))\n",
    "ax = {}\n",
    "nax = 5\n",
    "for i in range(nax):\n",
    "    ax[i+1] = fig.add_subplot(nax,1,i+1)\n",
    "    ax[i+1].xaxis.set_major_formatter(\n",
    "        ticker.FuncFormatter( lambda x,pos: \"%dHz\" % (x/np.pi*sf/2)) )\n",
    "\n",
    "# 練習としてLinear表示\n",
    "ax[1].plot(w, 20 * np.log10(abs(h)), 'b')\n",
    "ax[1].xaxis.set_major_locator(ticker.MultipleLocator(np.pi/4))\n",
    "ax[1].set_title('Linear')\n",
    "\n",
    "# 対数表示にするとFormatter がキャンセルされる\n",
    "ax[2].plot(w, 20 * np.log10(abs(h)), 'b')\n",
    "ax[2].set_xscale('log')\n",
    "#ax2.xaxis.set_major_locator(ticker.MultipleLocator(np.pi/4))\n",
    "ax[2].set_title('Log')\n",
    "\n",
    "# Formatter 再設定で復活したものの、データの [0.01, 0.1, 1.0]が対数表示の周期\n",
    "ax[3].plot(w, 20 * np.log10(abs(h)), 'b')\n",
    "ax[3].set_xscale('log') \n",
    "ax[3].xaxis.set_major_formatter(\n",
    "        ticker.FuncFormatter( lambda x,pos: \"%dHz\" % (x/np.pi*sf/2)) )\n",
    "ax[3].set_title('Log')\n",
    "\n",
    "# LogLocator は目盛がLogScalep[0,01,0.1,1.0]の位置に打たれるだけで、軸はLinearのまま\n",
    "ax[4].plot(w, 20 * np.log10(abs(h)), 'b')\n",
    "ax[4].xaxis.set_major_formatter(\n",
    "        ticker.FuncFormatter( lambda x,pos: \"%dHz\" % (x/np.pi*sf/2)) )\n",
    "ax[4].xaxis.set_major_locator(ticker.LogLocator())\n",
    "ax[4].set_title('Linear')\n",
    "\n",
    "# 結局のところ、ｘ軸のデータをつくらないといけない\n",
    "xfreq = w / np.pi * sf / 2\n",
    "ax[5].plot(xfreq, 20 * np.log10(abs(h)), 'b')\n",
    "ax[5].set_xscale('log') \n",
    "ax[5].xaxis.set_major_formatter(\n",
    "        ticker.FuncFormatter( lambda x,pos: \"%dHz\" % x) )\n",
    "ax[5].set_title('Log')\n",
    "plt.tight_layout()\n",
    "plt.show()"
   ]
  },
  {
   "cell_type": "markdown",
   "metadata": {},
   "source": [
    "### 余談：Analog/Digitalフィルタの違い"
   ]
  },
  {
   "cell_type": "code",
   "execution_count": 21,
   "metadata": {},
   "outputs": [
    {
     "data": {
      "image/png": "[encoded data removed]",
      "text/plain": [
       "<Figure size 432x288 with 2 Axes>"
      ]
     },
     "metadata": {
      "needs_background": "light"
     },
     "output_type": "display_data"
    }
   ],
   "source": [
    "import scipy.signal as sg\n",
    "\n",
    "sf = 48000\n",
    "nf = sf/2 # nyquist freq\n",
    "pbr = 0.2 # pass band ratio\n",
    "cf = nf*pbr # cut-off freq\n",
    "nipi = 2*np.pi # 2pi\n",
    "\n",
    "b,a = sg.butter( 4, cf*nipi, analog=True) # H= B/A\n",
    "w, h = sg.freqs(b, a) # w[rad/sec]\n",
    "\n",
    "B, A = sg.butter(4, pbr) # H=B/A\n",
    "W, H = sg.freqz(B, A) # W[rad/sample]\n",
    "\n",
    "f = w / nipi\n",
    "F = W / np.pi * nf\n",
    "\n",
    "plt.plot(f, 20 * np.log10(abs(h)), 'g', label='analog')\n",
    "plt.plot(F, 20 * np.log10(abs(H)), 'b', label='digital')\n",
    "plt.xscale('log')\n",
    "plt.title('Butterworth filter frequency response')\n",
    "plt.xlabel('Frequency [Hz]')\n",
    "plt.ylabel('Amplitude [dB]')\n",
    "plt.legend()\n",
    "plt.grid(which='both', axis='both')\n",
    "plt.axvline(nf*pbr, color='c') # cutoff frequency\n",
    "plt.axvline(nf, color='y') # nyquist frequency\n",
    "\n",
    "ax1 = plt.gca()\n",
    "ax2 = ax1.twinx() # 両軸グラフ, current axes は ax2 に\n",
    "angles = np.unwrap(np.angle(h)) # unwrap(p, discont=3.141592653589793, axis=-1)\n",
    "Angles = np.unwrap(np.angle(H)) \n",
    "plt.plot(f, angles, 'g--')\n",
    "plt.plot(F, Angles, 'b--')\n",
    "plt.ylabel('Angle (radians)', color='m')\n",
    "plt.grid( which ='both', axis='y', color='m', linestyle='--', linewidth=1, alpha=0.1 )\n",
    "\n",
    "#plt.axis('tight')\n",
    "plt.show()\n"
   ]
  },
  {
   "cell_type": "markdown",
   "metadata": {},
   "source": [
    "## スペクトログラム\n",
    "matplotlib.pyplot.specgram なるものもある"
   ]
  },
  {
   "cell_type": "code",
   "execution_count": 22,
   "metadata": {},
   "outputs": [
    {
     "data": {
      "image/png": "[encoded data removed]",
      "text/plain": [
       "<Figure size 432x288 with 1 Axes>"
      ]
     },
     "metadata": {
      "needs_background": "light"
     },
     "output_type": "display_data"
    }
   ],
   "source": [
    "import scipy.signal as sg\n",
    "\n",
    "x_values = np.arange(0.01, 0.99, 0.01) # cut-off Freq\n",
    "y_values = np.linspace( 0, 1, 512) * 24000\n",
    "hh = np.empty((len(y_values),0))\n",
    "for i in x_values:\n",
    "    b, a = sg.ellip(5, 10, 40, i, 'low')\n",
    "    w, h = sg.freqz(b, a)\n",
    "    hh = np.hstack((hh,h.reshape(-1,1)))\n",
    "\n",
    "# 格軸の値を格納したMatrixを作る。Matrixの形状は len(x_values) X len(y_values)\n",
    "# X:x_values のMatrix, Y:y_valuesのMatrix\n",
    "X,Y = np.meshgrid( x_values, y_values ) \n",
    "\n",
    "im = plt.pcolormesh(X, Y, np.abs(hh), snap=True, cmap='copper' )\n",
    "plt.yscale('symlog')\n",
    "\n",
    "plt.show()\n"
   ]
  },
  {
   "cell_type": "markdown",
   "metadata": {},
   "source": [
    "## Artist\n",
    "https://qiita.com/skotaro/items/08dc0b8c5704c94eafb9 <br>\n"
   ]
  },
  {
   "cell_type": "code",
   "execution_count": 23,
   "metadata": {},
   "outputs": [
    {
     "data": {
      "image/png": "[encoded data removed]",
      "text/plain": [
       "<Figure size 144x72 with 2 Axes>"
      ]
     },
     "metadata": {},
     "output_type": "display_data"
    }
   ],
   "source": [
    "fig, ax = plt.subplots(1,2,figsize=(2,1)) # Figureオブジェクトとそれに属する一つのAxesオブジェクトを同時に作成\n",
    "fig.set_facecolor( '#f0f0f0' )\n",
    "ax[0].plot(x,y)\n",
    "ax[1].plot(y,x)\n",
    "plt.show()"
   ]
  },
  {
   "cell_type": "code",
   "execution_count": 24,
   "metadata": {
    "scrolled": true
   },
   "outputs": [
    {
     "data": {
      "image/png": "[encoded data removed]",
      "text/plain": [
       "<Figure size 144x72 with 2 Axes>"
      ]
     },
     "metadata": {},
     "output_type": "display_data"
    }
   ],
   "source": [
    "fig = plt.figure(figsize=(2,1)) # Figureオブジェクトを作成\n",
    "fig.set_facecolor( '#f0f0f0' )\n",
    "ax0 = fig.add_subplot(1,2,1) # figに属するAxesオブジェクトを作成\n",
    "ax1 = fig.add_subplot(1,2,2) # figに属するAxesオブジェクトを作成\n",
    "ax0.plot(x, y)\n",
    "ax1.plot(y,x)\n",
    "plt.show()"
   ]
  },
  {
   "cell_type": "code",
   "execution_count": 25,
   "metadata": {},
   "outputs": [
    {
     "data": {
      "image/png": "[encoded data removed]",
      "text/plain": [
       "<Figure size 144x72 with 2 Axes>"
      ]
     },
     "metadata": {},
     "output_type": "display_data"
    }
   ],
   "source": [
    "plt.subplot(121) # ax = plt.subplot(...) でAxesを捕捉できる\n",
    "plt.plot(x,y) # l, = plt.plot(...)で Line2Dを捕捉できる\n",
    "ax0 = plt.gca() # このタイミングで捕捉しないと後では無理？\n",
    "plt.subplot(122)\n",
    "plt.plot(y,x)\n",
    "ax1 = plt.gca() # このタイミングで捕捉しないと後では無理？\n",
    "fig = plt.gcf()  # fig を捕捉\n",
    "fig.set_size_inches( 2,1 )\n",
    "fig.set_facecolor( '#f0f0f0' )\n",
    "plt.show()"
   ]
  },
  {
   "cell_type": "markdown",
   "metadata": {},
   "source": [
    "## GUI\n",
    "[参考](http://myenigma.hatenablog.com/entry/2015/08/30/223559)"
   ]
  },
  {
   "cell_type": "markdown",
   "metadata": {},
   "source": [
    "# Pandas\n",
    "参考<br>\n",
    "http://sinhrks.hatenablog.com/entry/2014/11/12/233216"
   ]
  },
  {
   "cell_type": "markdown",
   "metadata": {},
   "source": [
    "## Data Frame の作り方"
   ]
  },
  {
   "cell_type": "code",
   "execution_count": 26,
   "metadata": {
    "scrolled": false
   },
   "outputs": [
    {
     "data": {
      "text/html": [
       "<div>\n",
       "<style scoped>\n",
       "    .dataframe tbody tr th:only-of-type {\n",
       "        vertical-align: middle;\n",
       "    }\n",
       "\n",
       "    .dataframe tbody tr th {\n",
       "        vertical-align: top;\n",
       "    }\n",
       "\n",
       "    .dataframe thead th {\n",
       "        text-align: right;\n",
       "    }\n",
       "</style>\n",
       "<table border=\"1\" class=\"dataframe\">\n",
       "  <thead>\n",
       "    <tr style=\"text-align: right;\">\n",
       "      <th></th>\n",
       "      <th>C1</th>\n",
       "      <th>C2</th>\n",
       "      <th>C3</th>\n",
       "      <th>C4</th>\n",
       "    </tr>\n",
       "  </thead>\n",
       "  <tbody>\n",
       "    <tr>\n",
       "      <th>0</th>\n",
       "      <td>11</td>\n",
       "      <td>12</td>\n",
       "      <td>13</td>\n",
       "      <td>14</td>\n",
       "    </tr>\n",
       "    <tr>\n",
       "      <th>1</th>\n",
       "      <td>21</td>\n",
       "      <td>22</td>\n",
       "      <td>23</td>\n",
       "      <td>24</td>\n",
       "    </tr>\n",
       "    <tr>\n",
       "      <th>2</th>\n",
       "      <td>31</td>\n",
       "      <td>32</td>\n",
       "      <td>33</td>\n",
       "      <td>24</td>\n",
       "    </tr>\n",
       "  </tbody>\n",
       "</table>\n",
       "</div>"
      ],
      "text/plain": [
       "   C1  C2  C3  C4\n",
       "0  11  12  13  14\n",
       "1  21  22  23  24\n",
       "2  31  32  33  24"
      ]
     },
     "metadata": {},
     "output_type": "display_data"
    },
    {
     "data": {
      "text/html": [
       "<div>\n",
       "<style scoped>\n",
       "    .dataframe tbody tr th:only-of-type {\n",
       "        vertical-align: middle;\n",
       "    }\n",
       "\n",
       "    .dataframe tbody tr th {\n",
       "        vertical-align: top;\n",
       "    }\n",
       "\n",
       "    .dataframe thead th {\n",
       "        text-align: right;\n",
       "    }\n",
       "</style>\n",
       "<table border=\"1\" class=\"dataframe\">\n",
       "  <thead>\n",
       "    <tr style=\"text-align: right;\">\n",
       "      <th></th>\n",
       "      <th>C1</th>\n",
       "      <th>C2</th>\n",
       "      <th>C3</th>\n",
       "      <th>C4</th>\n",
       "    </tr>\n",
       "  </thead>\n",
       "  <tbody>\n",
       "    <tr>\n",
       "      <th>0</th>\n",
       "      <td>11</td>\n",
       "      <td>12</td>\n",
       "      <td>13</td>\n",
       "      <td>14</td>\n",
       "    </tr>\n",
       "    <tr>\n",
       "      <th>2</th>\n",
       "      <td>31</td>\n",
       "      <td>32</td>\n",
       "      <td>33</td>\n",
       "      <td>24</td>\n",
       "    </tr>\n",
       "  </tbody>\n",
       "</table>\n",
       "</div>"
      ],
      "text/plain": [
       "   C1  C2  C3  C4\n",
       "0  11  12  13  14\n",
       "2  31  32  33  24"
      ]
     },
     "metadata": {},
     "output_type": "display_data"
    },
    {
     "data": {
      "text/html": [
       "<div>\n",
       "<style scoped>\n",
       "    .dataframe tbody tr th:only-of-type {\n",
       "        vertical-align: middle;\n",
       "    }\n",
       "\n",
       "    .dataframe tbody tr th {\n",
       "        vertical-align: top;\n",
       "    }\n",
       "\n",
       "    .dataframe thead th {\n",
       "        text-align: right;\n",
       "    }\n",
       "</style>\n",
       "<table border=\"1\" class=\"dataframe\">\n",
       "  <thead>\n",
       "    <tr style=\"text-align: right;\">\n",
       "      <th></th>\n",
       "      <th>C1</th>\n",
       "      <th>C2</th>\n",
       "      <th>C3</th>\n",
       "      <th>C4</th>\n",
       "    </tr>\n",
       "  </thead>\n",
       "  <tbody>\n",
       "    <tr>\n",
       "      <th>0</th>\n",
       "      <td>11</td>\n",
       "      <td>12</td>\n",
       "      <td>13</td>\n",
       "      <td>14</td>\n",
       "    </tr>\n",
       "    <tr>\n",
       "      <th>2</th>\n",
       "      <td>31</td>\n",
       "      <td>32</td>\n",
       "      <td>33</td>\n",
       "      <td>24</td>\n",
       "    </tr>\n",
       "  </tbody>\n",
       "</table>\n",
       "</div>"
      ],
      "text/plain": [
       "   C1  C2  C3  C4\n",
       "0  11  12  13  14\n",
       "2  31  32  33  24"
      ]
     },
     "metadata": {},
     "output_type": "display_data"
    },
    {
     "data": {
      "text/html": [
       "<div>\n",
       "<style scoped>\n",
       "    .dataframe tbody tr th:only-of-type {\n",
       "        vertical-align: middle;\n",
       "    }\n",
       "\n",
       "    .dataframe tbody tr th {\n",
       "        vertical-align: top;\n",
       "    }\n",
       "\n",
       "    .dataframe thead th {\n",
       "        text-align: right;\n",
       "    }\n",
       "</style>\n",
       "<table border=\"1\" class=\"dataframe\">\n",
       "  <thead>\n",
       "    <tr style=\"text-align: right;\">\n",
       "      <th></th>\n",
       "      <th>C2</th>\n",
       "      <th>C4</th>\n",
       "    </tr>\n",
       "  </thead>\n",
       "  <tbody>\n",
       "    <tr>\n",
       "      <th>0</th>\n",
       "      <td>12</td>\n",
       "      <td>14</td>\n",
       "    </tr>\n",
       "    <tr>\n",
       "      <th>1</th>\n",
       "      <td>22</td>\n",
       "      <td>24</td>\n",
       "    </tr>\n",
       "    <tr>\n",
       "      <th>2</th>\n",
       "      <td>32</td>\n",
       "      <td>24</td>\n",
       "    </tr>\n",
       "  </tbody>\n",
       "</table>\n",
       "</div>"
      ],
      "text/plain": [
       "   C2  C4\n",
       "0  12  14\n",
       "1  22  24\n",
       "2  32  24"
      ]
     },
     "metadata": {},
     "output_type": "display_data"
    },
    {
     "data": {
      "text/html": [
       "<div>\n",
       "<style scoped>\n",
       "    .dataframe tbody tr th:only-of-type {\n",
       "        vertical-align: middle;\n",
       "    }\n",
       "\n",
       "    .dataframe tbody tr th {\n",
       "        vertical-align: top;\n",
       "    }\n",
       "\n",
       "    .dataframe thead th {\n",
       "        text-align: right;\n",
       "    }\n",
       "</style>\n",
       "<table border=\"1\" class=\"dataframe\">\n",
       "  <thead>\n",
       "    <tr style=\"text-align: right;\">\n",
       "      <th></th>\n",
       "      <th>C2</th>\n",
       "      <th>C4</th>\n",
       "    </tr>\n",
       "  </thead>\n",
       "  <tbody>\n",
       "    <tr>\n",
       "      <th>0</th>\n",
       "      <td>12</td>\n",
       "      <td>14</td>\n",
       "    </tr>\n",
       "    <tr>\n",
       "      <th>1</th>\n",
       "      <td>22</td>\n",
       "      <td>24</td>\n",
       "    </tr>\n",
       "    <tr>\n",
       "      <th>2</th>\n",
       "      <td>32</td>\n",
       "      <td>24</td>\n",
       "    </tr>\n",
       "  </tbody>\n",
       "</table>\n",
       "</div>"
      ],
      "text/plain": [
       "   C2  C4\n",
       "0  12  14\n",
       "1  22  24\n",
       "2  32  24"
      ]
     },
     "metadata": {},
     "output_type": "display_data"
    },
    {
     "name": "stdout",
     "output_type": "stream",
     "text": [
      "int32\n",
      "int32\n",
      "[[11 12 13 14]\n",
      " [21 22 23 24]\n",
      " [31 32 33 24]]\n",
      "[0 1 2]\n"
     ]
    },
    {
     "data": {
      "text/html": [
       "<div>\n",
       "<style scoped>\n",
       "    .dataframe tbody tr th:only-of-type {\n",
       "        vertical-align: middle;\n",
       "    }\n",
       "\n",
       "    .dataframe tbody tr th {\n",
       "        vertical-align: top;\n",
       "    }\n",
       "\n",
       "    .dataframe thead th {\n",
       "        text-align: right;\n",
       "    }\n",
       "</style>\n",
       "<table border=\"1\" class=\"dataframe\">\n",
       "  <thead>\n",
       "    <tr style=\"text-align: right;\">\n",
       "      <th></th>\n",
       "      <th>C1</th>\n",
       "    </tr>\n",
       "  </thead>\n",
       "  <tbody>\n",
       "    <tr>\n",
       "      <th>0</th>\n",
       "      <td>11</td>\n",
       "    </tr>\n",
       "  </tbody>\n",
       "</table>\n",
       "</div>"
      ],
      "text/plain": [
       "   C1\n",
       "0  11"
      ]
     },
     "metadata": {},
     "output_type": "display_data"
    }
   ],
   "source": [
    "import pandas as pd\n",
    "import numpy as np\n",
    "df = pd.DataFrame({'C1': [11, 21, 31],\n",
    "                   'C2': [12, 22, 32],\n",
    "                   'C3': [13, 23, 33],\n",
    "                   'C4': [14, 24, 24]})\n",
    "display(df)\n",
    "# 行の抽出\n",
    "display( df[[True, False, True]] )\n",
    "display( df.drop(df.index[[1]]) )\n",
    "# 列の抽出\n",
    "display (df[['C2','C4']])\n",
    "display (df.drop(['C1','C3'], axis=1))\n",
    "# 型変換\n",
    "ary = df.values.astype(np.int32)\n",
    "# 抽出してもIndex は振り直されないのでループさせるときなどはidxの取得が必要になる\n",
    "idx = df.index.values.astype(np.int32)\n",
    "print (ary.dtype)\n",
    "print (idx.dtype)\n",
    "print (ary)\n",
    "print (idx)\n",
    "# print ( df.ix[:1,:1] ) # including index=1 (loc behavior), NOT including column=1(iloc behavior) DEPRECATED\n",
    "display ( df.iloc[:1,:1] ) # use iloc for location index"
   ]
  },
  {
   "cell_type": "code",
   "execution_count": 27,
   "metadata": {},
   "outputs": [
    {
     "data": {
      "text/plain": [
       "RangeIndex(start=0, stop=3, step=1)"
      ]
     },
     "execution_count": 27,
     "metadata": {},
     "output_type": "execute_result"
    }
   ],
   "source": [
    "df.index"
   ]
  },
  {
   "cell_type": "markdown",
   "metadata": {},
   "source": [
    "**DataFrame vs. Series**"
   ]
  },
  {
   "cell_type": "code",
   "execution_count": 28,
   "metadata": {},
   "outputs": [
    {
     "name": "stdout",
     "output_type": "stream",
     "text": [
      "<class 'pandas.core.frame.DataFrame'>\n",
      "<class 'pandas.core.frame.DataFrame'>\n",
      "<class 'pandas.core.frame.DataFrame'>\n",
      "<class 'pandas.core.series.Series'>\n"
     ]
    },
    {
     "data": {
      "text/plain": [
       "24    2\n",
       "14    1\n",
       "Name: C4, dtype: int64"
      ]
     },
     "execution_count": 28,
     "metadata": {},
     "output_type": "execute_result"
    }
   ],
   "source": [
    "print( type( df ) )\n",
    "print( type( df[['C1','C2']]) )\n",
    "print( type( df[['C1']]) )\n",
    "print( type( df['C1']) )\n",
    "df['C4'].value_counts() # Series のmethod"
   ]
  },
  {
   "cell_type": "markdown",
   "metadata": {},
   "source": [
    "## 欠損値\n",
    "https://note.nkmk.me/python-pandas-nan-judge-count/"
   ]
  },
  {
   "cell_type": "code",
   "execution_count": 29,
   "metadata": {},
   "outputs": [
    {
     "data": {
      "text/html": [
       "<div>\n",
       "<style scoped>\n",
       "    .dataframe tbody tr th:only-of-type {\n",
       "        vertical-align: middle;\n",
       "    }\n",
       "\n",
       "    .dataframe tbody tr th {\n",
       "        vertical-align: top;\n",
       "    }\n",
       "\n",
       "    .dataframe thead th {\n",
       "        text-align: right;\n",
       "    }\n",
       "</style>\n",
       "<table border=\"1\" class=\"dataframe\">\n",
       "  <thead>\n",
       "    <tr style=\"text-align: right;\">\n",
       "      <th></th>\n",
       "      <th>C1</th>\n",
       "      <th>C2</th>\n",
       "      <th>C3</th>\n",
       "      <th>C4</th>\n",
       "    </tr>\n",
       "  </thead>\n",
       "  <tbody>\n",
       "    <tr>\n",
       "      <th>0</th>\n",
       "      <td>11.0</td>\n",
       "      <td>12</td>\n",
       "      <td>NaN</td>\n",
       "      <td>14</td>\n",
       "    </tr>\n",
       "    <tr>\n",
       "      <th>1</th>\n",
       "      <td>21.0</td>\n",
       "      <td>22</td>\n",
       "      <td>23.0</td>\n",
       "      <td>24</td>\n",
       "    </tr>\n",
       "    <tr>\n",
       "      <th>2</th>\n",
       "      <td>NaN</td>\n",
       "      <td>32</td>\n",
       "      <td>33.0</td>\n",
       "      <td>24</td>\n",
       "    </tr>\n",
       "  </tbody>\n",
       "</table>\n",
       "</div>"
      ],
      "text/plain": [
       "     C1  C2    C3  C4\n",
       "0  11.0  12   NaN  14\n",
       "1  21.0  22  23.0  24\n",
       "2   NaN  32  33.0  24"
      ]
     },
     "metadata": {},
     "output_type": "display_data"
    },
    {
     "data": {
      "text/html": [
       "<div>\n",
       "<style scoped>\n",
       "    .dataframe tbody tr th:only-of-type {\n",
       "        vertical-align: middle;\n",
       "    }\n",
       "\n",
       "    .dataframe tbody tr th {\n",
       "        vertical-align: top;\n",
       "    }\n",
       "\n",
       "    .dataframe thead th {\n",
       "        text-align: right;\n",
       "    }\n",
       "</style>\n",
       "<table border=\"1\" class=\"dataframe\">\n",
       "  <thead>\n",
       "    <tr style=\"text-align: right;\">\n",
       "      <th></th>\n",
       "      <th>C1</th>\n",
       "      <th>C2</th>\n",
       "      <th>C3</th>\n",
       "      <th>C4</th>\n",
       "    </tr>\n",
       "  </thead>\n",
       "  <tbody>\n",
       "    <tr>\n",
       "      <th>0</th>\n",
       "      <td>False</td>\n",
       "      <td>False</td>\n",
       "      <td>True</td>\n",
       "      <td>False</td>\n",
       "    </tr>\n",
       "    <tr>\n",
       "      <th>1</th>\n",
       "      <td>False</td>\n",
       "      <td>False</td>\n",
       "      <td>False</td>\n",
       "      <td>False</td>\n",
       "    </tr>\n",
       "    <tr>\n",
       "      <th>2</th>\n",
       "      <td>True</td>\n",
       "      <td>False</td>\n",
       "      <td>False</td>\n",
       "      <td>False</td>\n",
       "    </tr>\n",
       "  </tbody>\n",
       "</table>\n",
       "</div>"
      ],
      "text/plain": [
       "      C1     C2     C3     C4\n",
       "0  False  False   True  False\n",
       "1  False  False  False  False\n",
       "2   True  False  False  False"
      ]
     },
     "execution_count": 29,
     "metadata": {},
     "output_type": "execute_result"
    }
   ],
   "source": [
    "df.loc[2,'C1']=np.nan\n",
    "df.loc[0,'C3']=np.nan\n",
    "display(df)\n",
    "df.isnull()"
   ]
  },
  {
   "cell_type": "code",
   "execution_count": 30,
   "metadata": {},
   "outputs": [
    {
     "data": {
      "text/plain": [
       "C1     True\n",
       "C2    False\n",
       "C3     True\n",
       "C4    False\n",
       "dtype: bool"
      ]
     },
     "execution_count": 30,
     "metadata": {},
     "output_type": "execute_result"
    }
   ],
   "source": [
    "df.isnull().any()"
   ]
  },
  {
   "cell_type": "code",
   "execution_count": 31,
   "metadata": {},
   "outputs": [
    {
     "data": {
      "text/plain": [
       "0     True\n",
       "1    False\n",
       "2     True\n",
       "dtype: bool"
      ]
     },
     "execution_count": 31,
     "metadata": {},
     "output_type": "execute_result"
    }
   ],
   "source": [
    "df.isnull().any(axis=1)"
   ]
  },
  {
   "cell_type": "markdown",
   "metadata": {},
   "source": [
    "**平均値補完(sklearn版)**"
   ]
  },
  {
   "cell_type": "code",
   "execution_count": 32,
   "metadata": {
    "scrolled": false
   },
   "outputs": [],
   "source": [
    "from sklearn.impute import SimpleImputer #平均補完\n",
    "imr = SimpleImputer(missing_values=np.nan, strategy='mean') #平均補完\n",
    "imr = imr.fit(df)\n",
    "dfnonan = imr.transform(df)"
   ]
  },
  {
   "cell_type": "code",
   "execution_count": 33,
   "metadata": {},
   "outputs": [
    {
     "data": {
      "text/plain": [
       "array([[11., 12., 28., 14.],\n",
       "       [21., 22., 23., 24.],\n",
       "       [16., 32., 33., 24.]])"
      ]
     },
     "metadata": {},
     "output_type": "display_data"
    }
   ],
   "source": [
    "display(dfnonan)"
   ]
  },
  {
   "cell_type": "markdown",
   "metadata": {},
   "source": [
    "**平均値補完(pandas版)**"
   ]
  },
  {
   "cell_type": "code",
   "execution_count": 34,
   "metadata": {},
   "outputs": [
    {
     "data": {
      "text/html": [
       "<div>\n",
       "<style scoped>\n",
       "    .dataframe tbody tr th:only-of-type {\n",
       "        vertical-align: middle;\n",
       "    }\n",
       "\n",
       "    .dataframe tbody tr th {\n",
       "        vertical-align: top;\n",
       "    }\n",
       "\n",
       "    .dataframe thead th {\n",
       "        text-align: right;\n",
       "    }\n",
       "</style>\n",
       "<table border=\"1\" class=\"dataframe\">\n",
       "  <thead>\n",
       "    <tr style=\"text-align: right;\">\n",
       "      <th></th>\n",
       "      <th>C1</th>\n",
       "      <th>C2</th>\n",
       "      <th>C3</th>\n",
       "      <th>C4</th>\n",
       "    </tr>\n",
       "  </thead>\n",
       "  <tbody>\n",
       "    <tr>\n",
       "      <th>0</th>\n",
       "      <td>11.0</td>\n",
       "      <td>12</td>\n",
       "      <td>28.0</td>\n",
       "      <td>14</td>\n",
       "    </tr>\n",
       "    <tr>\n",
       "      <th>1</th>\n",
       "      <td>21.0</td>\n",
       "      <td>22</td>\n",
       "      <td>23.0</td>\n",
       "      <td>24</td>\n",
       "    </tr>\n",
       "    <tr>\n",
       "      <th>2</th>\n",
       "      <td>16.0</td>\n",
       "      <td>32</td>\n",
       "      <td>33.0</td>\n",
       "      <td>24</td>\n",
       "    </tr>\n",
       "  </tbody>\n",
       "</table>\n",
       "</div>"
      ],
      "text/plain": [
       "     C1  C2    C3  C4\n",
       "0  11.0  12  28.0  14\n",
       "1  21.0  22  23.0  24\n",
       "2  16.0  32  33.0  24"
      ]
     },
     "metadata": {},
     "output_type": "display_data"
    }
   ],
   "source": [
    "dfnonan = df.fillna(df.mean())\n",
    "display(dfnonan)"
   ]
  },
  {
   "cell_type": "markdown",
   "metadata": {},
   "source": [
    "## ラベルエンコード\n",
    "https://qiita.com/uratatsu/items/8bedbf91e22f90b6e64b"
   ]
  },
  {
   "cell_type": "code",
   "execution_count": 35,
   "metadata": {},
   "outputs": [
    {
     "data": {
      "text/html": [
       "<div>\n",
       "<style scoped>\n",
       "    .dataframe tbody tr th:only-of-type {\n",
       "        vertical-align: middle;\n",
       "    }\n",
       "\n",
       "    .dataframe tbody tr th {\n",
       "        vertical-align: top;\n",
       "    }\n",
       "\n",
       "    .dataframe thead th {\n",
       "        text-align: right;\n",
       "    }\n",
       "</style>\n",
       "<table border=\"1\" class=\"dataframe\">\n",
       "  <thead>\n",
       "    <tr style=\"text-align: right;\">\n",
       "      <th></th>\n",
       "      <th>size</th>\n",
       "      <th>price</th>\n",
       "      <th>label</th>\n",
       "    </tr>\n",
       "  </thead>\n",
       "  <tbody>\n",
       "    <tr>\n",
       "      <th>0</th>\n",
       "      <td>S</td>\n",
       "      <td>100</td>\n",
       "      <td>cola</td>\n",
       "    </tr>\n",
       "    <tr>\n",
       "      <th>1</th>\n",
       "      <td>M</td>\n",
       "      <td>150</td>\n",
       "      <td>tea</td>\n",
       "    </tr>\n",
       "    <tr>\n",
       "      <th>2</th>\n",
       "      <td>L</td>\n",
       "      <td>200</td>\n",
       "      <td>coffee</td>\n",
       "    </tr>\n",
       "  </tbody>\n",
       "</table>\n",
       "</div>"
      ],
      "text/plain": [
       "  size  price   label\n",
       "0    S    100    cola\n",
       "1    M    150     tea\n",
       "2    L    200  coffee"
      ]
     },
     "execution_count": 35,
     "metadata": {},
     "output_type": "execute_result"
    }
   ],
   "source": [
    "df = pd.DataFrame([\n",
    "        ['S', 100, 'cola'],\n",
    "        ['M', 150, 'tea'],\n",
    "        ['L', 200, 'coffee']])\n",
    "df.columns = ['size', 'price', 'label']\n",
    "df"
   ]
  },
  {
   "cell_type": "code",
   "execution_count": 36,
   "metadata": {},
   "outputs": [
    {
     "data": {
      "text/html": [
       "<div>\n",
       "<style scoped>\n",
       "    .dataframe tbody tr th:only-of-type {\n",
       "        vertical-align: middle;\n",
       "    }\n",
       "\n",
       "    .dataframe tbody tr th {\n",
       "        vertical-align: top;\n",
       "    }\n",
       "\n",
       "    .dataframe thead th {\n",
       "        text-align: right;\n",
       "    }\n",
       "</style>\n",
       "<table border=\"1\" class=\"dataframe\">\n",
       "  <thead>\n",
       "    <tr style=\"text-align: right;\">\n",
       "      <th></th>\n",
       "      <th>size</th>\n",
       "      <th>price</th>\n",
       "      <th>label</th>\n",
       "    </tr>\n",
       "  </thead>\n",
       "  <tbody>\n",
       "    <tr>\n",
       "      <th>0</th>\n",
       "      <td>1</td>\n",
       "      <td>100</td>\n",
       "      <td>cola</td>\n",
       "    </tr>\n",
       "    <tr>\n",
       "      <th>1</th>\n",
       "      <td>2</td>\n",
       "      <td>150</td>\n",
       "      <td>tea</td>\n",
       "    </tr>\n",
       "    <tr>\n",
       "      <th>2</th>\n",
       "      <td>3</td>\n",
       "      <td>200</td>\n",
       "      <td>coffee</td>\n",
       "    </tr>\n",
       "  </tbody>\n",
       "</table>\n",
       "</div>"
      ],
      "text/plain": [
       "   size  price   label\n",
       "0     1    100    cola\n",
       "1     2    150     tea\n",
       "2     3    200  coffee"
      ]
     },
     "metadata": {},
     "output_type": "display_data"
    }
   ],
   "source": [
    "# Manual Encode\n",
    "size_mapping = {'L': 3, 'M': 2, 'S': 1}\n",
    "df['size'] = df['size'].map(size_mapping)\n",
    "display(df)"
   ]
  },
  {
   "cell_type": "code",
   "execution_count": 37,
   "metadata": {},
   "outputs": [
    {
     "data": {
      "text/html": [
       "<div>\n",
       "<style scoped>\n",
       "    .dataframe tbody tr th:only-of-type {\n",
       "        vertical-align: middle;\n",
       "    }\n",
       "\n",
       "    .dataframe tbody tr th {\n",
       "        vertical-align: top;\n",
       "    }\n",
       "\n",
       "    .dataframe thead th {\n",
       "        text-align: right;\n",
       "    }\n",
       "</style>\n",
       "<table border=\"1\" class=\"dataframe\">\n",
       "  <thead>\n",
       "    <tr style=\"text-align: right;\">\n",
       "      <th></th>\n",
       "      <th>size</th>\n",
       "      <th>price</th>\n",
       "      <th>label</th>\n",
       "    </tr>\n",
       "  </thead>\n",
       "  <tbody>\n",
       "    <tr>\n",
       "      <th>0</th>\n",
       "      <td>1</td>\n",
       "      <td>100</td>\n",
       "      <td>1</td>\n",
       "    </tr>\n",
       "    <tr>\n",
       "      <th>1</th>\n",
       "      <td>2</td>\n",
       "      <td>150</td>\n",
       "      <td>2</td>\n",
       "    </tr>\n",
       "    <tr>\n",
       "      <th>2</th>\n",
       "      <td>3</td>\n",
       "      <td>200</td>\n",
       "      <td>0</td>\n",
       "    </tr>\n",
       "  </tbody>\n",
       "</table>\n",
       "</div>"
      ],
      "text/plain": [
       "   size  price  label\n",
       "0     1    100      1\n",
       "1     2    150      2\n",
       "2     3    200      0"
      ]
     },
     "execution_count": 37,
     "metadata": {},
     "output_type": "execute_result"
    }
   ],
   "source": [
    "# Label Encoder\n",
    "from sklearn.preprocessing import LabelEncoder\n",
    "#LabelEncoderのインスタンスを生成\n",
    "le = LabelEncoder()\n",
    "#ラベルを覚えさせる\n",
    "le = le.fit(df['label'])\n",
    "#ラベルを整数に変換\n",
    "df['label'] = le.transform(df['label'])\n",
    "df"
   ]
  },
  {
   "cell_type": "code",
   "execution_count": 38,
   "metadata": {},
   "outputs": [
    {
     "name": "stdout",
     "output_type": "stream",
     "text": [
      "[array([1, 2, 3], dtype=int64), array([100, 150, 200], dtype=int64), array([0, 1, 2])]\n"
     ]
    },
    {
     "data": {
      "text/plain": [
       "array([[1., 0., 0., 1., 0., 0., 0., 1., 0.],\n",
       "       [0., 1., 0., 0., 1., 0., 0., 0., 1.],\n",
       "       [0., 0., 1., 0., 0., 1., 1., 0., 0.]])"
      ]
     },
     "execution_count": 38,
     "metadata": {},
     "output_type": "execute_result"
    }
   ],
   "source": [
    "# One Hot Encoder\n",
    "# 最後の要素だけOneHotする方法がわからない\n",
    "from sklearn.preprocessing import OneHotEncoder\n",
    "#one-hot エンコーダの生成\n",
    "oe = OneHotEncoder( categories='auto' )\n",
    "#one-hot エンコーディングを実行\n",
    "oe.fit(df)\n",
    "print( oe.categories_)\n",
    "array = oe.transform(df).toarray()\n",
    "array"
   ]
  },
  {
   "cell_type": "markdown",
   "metadata": {},
   "source": [
    "# Numpy配列"
   ]
  },
  {
   "cell_type": "markdown",
   "metadata": {},
   "source": [
    "## 配列の基本"
   ]
  },
  {
   "cell_type": "code",
   "execution_count": 10,
   "metadata": {
    "scrolled": true
   },
   "outputs": [
    {
     "name": "stdout",
     "output_type": "stream",
     "text": [
      "[3, 4] [3 4]\n",
      "4 4\n",
      "<class 'int'> <class 'numpy.int32'>\n"
     ]
    }
   ],
   "source": [
    "aa = [[1,2],[3,4]]\n",
    "aanp = np.array(aa)\n",
    "print ( aa[1], aanp[1] )\n",
    "print ( aa[1][1], aanp[1][1] )\n",
    "print ( type(aa[1][1]), type(aanp[1][1]) )\n"
   ]
  },
  {
   "cell_type": "code",
   "execution_count": 40,
   "metadata": {},
   "outputs": [
    {
     "ename": "TypeError",
     "evalue": "list indices must be integers or slices, not list",
     "output_type": "error",
     "traceback": [
      "\u001b[1;31m---------------------------------------------------------------------------\u001b[0m",
      "\u001b[1;31mTypeError\u001b[0m                                 Traceback (most recent call last)",
      "\u001b[1;32m<ipython-input-40-c3985696a6cd>\u001b[0m in \u001b[0;36m<module>\u001b[1;34m\u001b[0m\n\u001b[1;32m----> 1\u001b[1;33m \u001b[0mprint\u001b[0m \u001b[1;33m(\u001b[0m \u001b[0maa\u001b[0m\u001b[1;33m[\u001b[0m\u001b[1;33m[\u001b[0m\u001b[1;36m0\u001b[0m\u001b[1;33m]\u001b[0m\u001b[1;33m]\u001b[0m \u001b[1;33m)\u001b[0m \u001b[1;31m# Listはnumpy のようなスライスはできない\u001b[0m\u001b[1;33m\u001b[0m\u001b[1;33m\u001b[0m\u001b[0m\n\u001b[0m",
      "\u001b[1;31mTypeError\u001b[0m: list indices must be integers or slices, not list"
     ]
    }
   ],
   "source": [
    "print ( aa[[0]] ) # Listはnumpy のようなスライスはできない"
   ]
  },
  {
   "cell_type": "code",
   "execution_count": 41,
   "metadata": {},
   "outputs": [
    {
     "name": "stdout",
     "output_type": "stream",
     "text": [
      "[[1 2]]\n",
      "[[1 2]\n",
      " [3 4]]\n",
      "[3 4]\n"
     ]
    }
   ],
   "source": [
    "print ( aanp[[0]] )\n",
    "print ( aanp[[0,1]] )\n",
    "print ( aanp[[0,1,1,0]][2] )"
   ]
  },
  {
   "cell_type": "code",
   "execution_count": 42,
   "metadata": {},
   "outputs": [
    {
     "name": "stdout",
     "output_type": "stream",
     "text": [
      "[[1 2]\n",
      " [3 4]]\n"
     ]
    }
   ],
   "source": [
    "print ( aanp[[True,True]] )"
   ]
  },
  {
   "cell_type": "code",
   "execution_count": 43,
   "metadata": {},
   "outputs": [
    {
     "name": "stdout",
     "output_type": "stream",
     "text": [
      "[[1 2]\n",
      " [3 4]]\n"
     ]
    }
   ],
   "source": [
    "print ( aanp[np.array([True,True])] )"
   ]
  },
  {
   "cell_type": "code",
   "execution_count": 44,
   "metadata": {},
   "outputs": [
    {
     "name": "stdout",
     "output_type": "stream",
     "text": [
      "[1 2]\n"
     ]
    }
   ],
   "source": [
    "print ( aanp[np.array([True,True])][0] )"
   ]
  },
  {
   "cell_type": "code",
   "execution_count": 45,
   "metadata": {},
   "outputs": [
    {
     "name": "stdout",
     "output_type": "stream",
     "text": [
      "[[ True False]\n",
      " [False False]]\n",
      "[1]\n"
     ]
    }
   ],
   "source": [
    "print ( aanp == 1 )\n",
    "print ( aanp[aanp==1])"
   ]
  },
  {
   "cell_type": "code",
   "execution_count": 46,
   "metadata": {},
   "outputs": [
    {
     "name": "stdout",
     "output_type": "stream",
     "text": [
      "1\n",
      "1\n",
      "[1]\n",
      "[[1 2]]\n",
      "<class 'numpy.ndarray'>\n"
     ]
    }
   ],
   "source": [
    "print ( aanp[0,0] )\n",
    "print ( aanp[0][0] )\n",
    "print ( aanp[0][0:1] )\n",
    "print ( aanp[0:1][0:1] )\n",
    "print ( type(aanp[aanp==1]) )"
   ]
  },
  {
   "cell_type": "code",
   "execution_count": 47,
   "metadata": {},
   "outputs": [
    {
     "name": "stdout",
     "output_type": "stream",
     "text": [
      "(1,)\n",
      "()\n"
     ]
    },
    {
     "ename": "AttributeError",
     "evalue": "'int' object has no attribute 'shape'",
     "output_type": "error",
     "traceback": [
      "\u001b[1;31m---------------------------------------------------------------------------\u001b[0m",
      "\u001b[1;31mAttributeError\u001b[0m                            Traceback (most recent call last)",
      "\u001b[1;32m<ipython-input-47-36916acd1934>\u001b[0m in \u001b[0;36m<module>\u001b[1;34m\u001b[0m\n\u001b[0;32m      1\u001b[0m \u001b[0mprint\u001b[0m \u001b[1;33m(\u001b[0m\u001b[0maanp\u001b[0m\u001b[1;33m[\u001b[0m\u001b[0maanp\u001b[0m\u001b[1;33m==\u001b[0m\u001b[1;36m1\u001b[0m\u001b[1;33m]\u001b[0m\u001b[1;33m.\u001b[0m\u001b[0mshape\u001b[0m\u001b[1;33m)\u001b[0m\u001b[1;33m\u001b[0m\u001b[1;33m\u001b[0m\u001b[0m\n\u001b[0;32m      2\u001b[0m \u001b[0mprint\u001b[0m \u001b[1;33m(\u001b[0m\u001b[0maanp\u001b[0m\u001b[1;33m[\u001b[0m\u001b[1;36m0\u001b[0m\u001b[1;33m]\u001b[0m\u001b[1;33m[\u001b[0m\u001b[1;36m0\u001b[0m\u001b[1;33m]\u001b[0m\u001b[1;33m.\u001b[0m\u001b[0mshape\u001b[0m\u001b[1;33m)\u001b[0m\u001b[1;33m\u001b[0m\u001b[1;33m\u001b[0m\u001b[0m\n\u001b[1;32m----> 3\u001b[1;33m \u001b[0mprint\u001b[0m \u001b[1;33m(\u001b[0m\u001b[0maa\u001b[0m\u001b[1;33m[\u001b[0m\u001b[1;36m0\u001b[0m\u001b[1;33m]\u001b[0m\u001b[1;33m[\u001b[0m\u001b[1;36m0\u001b[0m\u001b[1;33m]\u001b[0m\u001b[1;33m.\u001b[0m\u001b[0mshape\u001b[0m\u001b[1;33m)\u001b[0m\u001b[1;33m\u001b[0m\u001b[1;33m\u001b[0m\u001b[0m\n\u001b[0m",
      "\u001b[1;31mAttributeError\u001b[0m: 'int' object has no attribute 'shape'"
     ]
    }
   ],
   "source": [
    "print (aanp[aanp==1].shape)\n",
    "print (aanp[0][0].shape)\n",
    "print (aa[0][0].shape)"
   ]
  },
  {
   "cell_type": "code",
   "execution_count": null,
   "metadata": {},
   "outputs": [],
   "source": [
    "bbnp =np.arange(0.0,0.9,0.1).reshape(3,3)\n",
    "print (bbnp)\n",
    "bbnp[ (bbnp>0.3) & (bbnp<0.8) ] = -1.0  # ()括弧を忘れずに\n",
    "print (bbnp)"
   ]
  },
  {
   "cell_type": "markdown",
   "metadata": {},
   "source": [
    "## 行列の初期化"
   ]
  },
  {
   "cell_type": "code",
   "execution_count": 48,
   "metadata": {},
   "outputs": [
    {
     "name": "stdout",
     "output_type": "stream",
     "text": [
      "[[0. 0. 0.]\n",
      " [0. 0. 0.]]\n",
      "[[0 0 0]\n",
      " [0 0 0]]\n",
      "[[1. 1. 1.]\n",
      " [1. 1. 1.]]\n",
      "[[10 10 10]\n",
      " [10 10 10]]\n",
      "[[1 0]\n",
      " [0 1]]\n",
      "[[1. 1. 1.]\n",
      " [1. 1. 1.]]\n"
     ]
    }
   ],
   "source": [
    "az = np.zeros([2,3])\n",
    "ao = np.ones([2,3])\n",
    "af = np.full( [2,3],3) # データの型は指定した値の型になる\n",
    "\n",
    "print( np.zeros_like(az) )\n",
    "print( np.zeros_like(af) )\n",
    "print( np.ones_like(az))\n",
    "print( np.full_like(af,10.0)) # データの型は参照する行列の型になる\n",
    "\n",
    "print( np.eye(2, dtype=int) ) # int指定しないと浮動小数になるよ\n",
    "print( np.empty([2,3]) )      # 領域は浮動小数で確保 "
   ]
  },
  {
   "cell_type": "markdown",
   "metadata": {},
   "source": [
    "## 行列全体のTrue/False"
   ]
  },
  {
   "cell_type": "code",
   "execution_count": 49,
   "metadata": {},
   "outputs": [
    {
     "name": "stdout",
     "output_type": "stream",
     "text": [
      "True\n",
      "False\n"
     ]
    }
   ],
   "source": [
    "xx = np.array( range(24)).reshape(6,4)\n",
    "print( np.any(xx>5) )\n",
    "print( np.all(xx>5) )"
   ]
  },
  {
   "cell_type": "markdown",
   "metadata": {},
   "source": [
    "## 条件を満たす要素の抽出"
   ]
  },
  {
   "cell_type": "code",
   "execution_count": 50,
   "metadata": {},
   "outputs": [
    {
     "name": "stdout",
     "output_type": "stream",
     "text": [
      "[[ 0  1]\n",
      " [ 2  3]\n",
      " [ 4  5]\n",
      " [ 6  7]\n",
      " [ 8  9]\n",
      " [10 11]]\n",
      "[ 9 10 11]\n",
      "[ 9 10 11]\n",
      "***\n",
      "[[False False]\n",
      " [False False]\n",
      " [False False]\n",
      " [False False]\n",
      " [False  True]\n",
      " [ True  True]]\n",
      "(array([4, 5, 5], dtype=int64), array([1, 0, 1], dtype=int64))\n",
      "***\n",
      "[[ 6  7]\n",
      " [ 8  9]\n",
      " [10 11]]\n"
     ]
    }
   ],
   "source": [
    "xxx = np.array( range(12)).reshape(6,2)\n",
    "print(xxx)\n",
    "print( xxx[xxx>8])\n",
    "print( xxx[np.where(xxx>8)])\n",
    "print('***')\n",
    "print( xxx>8 )\n",
    "print( np.where(xxx>8))\n",
    "print('***')\n",
    "print( xxx[xxx[:,1]>5] )"
   ]
  },
  {
   "cell_type": "code",
   "execution_count": 51,
   "metadata": {},
   "outputs": [
    {
     "data": {
      "text/plain": [
       "array([[False, False],\n",
       "       [False, False],\n",
       "       [False, False],\n",
       "       [False, False],\n",
       "       [False,  True],\n",
       "       [ True,  True]])"
      ]
     },
     "execution_count": 51,
     "metadata": {},
     "output_type": "execute_result"
    }
   ],
   "source": [
    "xxx>8"
   ]
  },
  {
   "cell_type": "code",
   "execution_count": 52,
   "metadata": {},
   "outputs": [
    {
     "data": {
      "text/plain": [
       "(array([4, 5, 5], dtype=int64), array([1, 0, 1], dtype=int64))"
      ]
     },
     "execution_count": 52,
     "metadata": {},
     "output_type": "execute_result"
    }
   ],
   "source": [
    "np.where(xxx>8)"
   ]
  },
  {
   "cell_type": "markdown",
   "metadata": {},
   "source": [
    "## インデキシング"
   ]
  },
  {
   "cell_type": "code",
   "execution_count": 53,
   "metadata": {},
   "outputs": [
    {
     "name": "stdout",
     "output_type": "stream",
     "text": [
      "[[[ 0  1  2  3]\n",
      "  [ 4  5  6  7]\n",
      "  [ 8  9 10 11]]\n",
      "\n",
      " [[12 13 14 15]\n",
      "  [16 17 18 19]\n",
      "  [20 21 22 23]]]\n",
      "***\n",
      " [[[ 0  2]\n",
      "  [ 4  6]\n",
      "  [ 8 10]]\n",
      "\n",
      " [[12 14]\n",
      "  [16 18]\n",
      "  [20 22]]]\n",
      "先行次元は...でまとめて指定\n",
      " [[[ 0  2]\n",
      "  [ 4  6]\n",
      "  [ 8 10]]\n",
      "\n",
      " [[12 14]\n",
      "  [16 18]\n",
      "  [20 22]]]\n"
     ]
    }
   ],
   "source": [
    "a = np.array(range(24)).reshape((2,3,4))\n",
    "a.shape\n",
    "print( a[:] )\n",
    "print( \"***\\n\", a[:,:,[0,2]] )\n",
    "print( \"先行次元は...でまとめて指定\\n\", a[...,0::2] )"
   ]
  },
  {
   "cell_type": "code",
   "execution_count": 54,
   "metadata": {},
   "outputs": [
    {
     "name": "stdout",
     "output_type": "stream",
     "text": [
      "0行0列0ほげ を指定する場合 0\n",
      "リストでの指定はできない [[[ 0  1  2  3]\n",
      "  [ 4  5  6  7]\n",
      "  [ 8  9 10 11]]\n",
      "\n",
      " [[ 0  1  2  3]\n",
      "  [ 4  5  6  7]\n",
      "  [ 8  9 10 11]]\n",
      "\n",
      " [[ 0  1  2  3]\n",
      "  [ 4  5  6  7]\n",
      "  [ 8  9 10 11]]]\n",
      "タプルでの指定はできる 0\n",
      "ので、リストをタプルに変えてインデキシング 0\n"
     ]
    }
   ],
   "source": [
    "pos1 = [ 0,0,0 ]\n",
    "pos2 = ( 0,0,0 )\n",
    "print( '0行0列0ほげ を指定する場合', a[0,0,0])\n",
    "print( 'リストでの指定はできない', a[pos1])\n",
    "print( 'タプルでの指定はできる', a[pos2])\n",
    "print( 'ので、リストをタプルに変えてインデキシング', a[tuple(pos1)])"
   ]
  },
  {
   "cell_type": "markdown",
   "metadata": {},
   "source": [
    "##  配列の比較"
   ]
  },
  {
   "cell_type": "code",
   "execution_count": 55,
   "metadata": {},
   "outputs": [
    {
     "name": "stdout",
     "output_type": "stream",
     "text": [
      "[[ True  True]\n",
      " [ True  True]]\n",
      "True\n",
      "True\n"
     ]
    }
   ],
   "source": [
    "print ( aanp == aanp )\n",
    "print ( np.array_equal( aanp, aanp ) )\n",
    "print ( np.allclose( aanp, aanp+1, atol=1.1 ) )"
   ]
  },
  {
   "cell_type": "markdown",
   "metadata": {},
   "source": [
    "## 要素数が１の部分行列を生成すると次元数が減る対策"
   ]
  },
  {
   "cell_type": "code",
   "execution_count": 56,
   "metadata": {},
   "outputs": [
    {
     "name": "stdout",
     "output_type": "stream",
     "text": [
      "(2, 3, 4) original matrix\n",
      "(2, 4) sub matrix?\n",
      "(2, 1, 4) ok\n",
      "(2, 1, 4) ok\n",
      "(3, 4) sub matrix?\n",
      "(1, 3, 4) ok\n"
     ]
    }
   ],
   "source": [
    "a = np.array( range(24)).reshape(2,3,4)\n",
    "print( a.shape, 'original matrix')\n",
    "z = np.zeros_like( a[:,1,:])\n",
    "print( z.shape, 'sub matrix?')\n",
    "z = np.zeros_like( a[:,1:2,:])\n",
    "print( z.shape, 'ok')\n",
    "z = np.zeros_like( a[:,[1],:])\n",
    "print( z.shape, 'ok')\n",
    "##\n",
    "z = np.sum( a, axis=0 )\n",
    "print( z.shape, 'sub matrix?')\n",
    "z = np.sum( a, axis=0, keepdims=True )\n",
    "print( z.shape, 'ok')\n"
   ]
  },
  {
   "cell_type": "markdown",
   "metadata": {},
   "source": [
    "## ゼロ行列の追加（ゼロパディング）"
   ]
  },
  {
   "cell_type": "code",
   "execution_count": 57,
   "metadata": {
    "scrolled": true
   },
   "outputs": [
    {
     "name": "stdout",
     "output_type": "stream",
     "text": [
      "(2, 3, 4) (2, 3, 1) (2, 3, 5)\n",
      "(2, 3, 5)\n",
      "True\n",
      "True\n",
      "(2, 3, 5)\n",
      "True\n"
     ]
    }
   ],
   "source": [
    "a = np.array( range(24)).reshape(2,3,4)\n",
    "z = np.zeros_like( a[:,:,1:2])\n",
    "acat = np.concatenate( (a, z), axis=2 )\n",
    "print( a.shape, z.shape, acat.shape )\n",
    "# もっと簡単に\n",
    "acat2 = np.pad( a, ((0,0),(0,0),(0,1)), 'constant')\n",
    "print( acat2.shape )\n",
    "print( np.array_equal( acat,acat2 ) )\n",
    "print( np.allclose( acat,acat2 ) )\n",
    "# 任意次元の最終軸にパディング\n",
    "acat3 = np.concatenate( (a, np.zeros(a.shape[:-1]+ (1,))), axis=-1 )\n",
    "print( acat3.shape )\n",
    "print( np.array_equal( acat2,acat3 ) )\n"
   ]
  },
  {
   "cell_type": "markdown",
   "metadata": {},
   "source": [
    "## パディングを伴うサイズ変更"
   ]
  },
  {
   "cell_type": "code",
   "execution_count": 11,
   "metadata": {},
   "outputs": [
    {
     "name": "stdout",
     "output_type": "stream",
     "text": [
      "(6,)\n",
      "(2, 3)\n",
      "[[0 1 2 3 4]\n",
      " [5 0 1 2 3]]\n",
      "[[0 1 2 3 4]\n",
      " [5 0 0 0 0]\n",
      " [0 0 0 0 0]]\n",
      "[[0 1 2 3 4 5 0 0 0 0]\n",
      " [0 0 0 0 0 0 0 0 0 0]]\n"
     ]
    },
    {
     "ename": "ValueError",
     "evalue": "cannot resize an array that references or is referenced\nby another array in this way.\nUse the np.resize function or refcheck=False",
     "output_type": "error",
     "traceback": [
      "\u001b[1;31m---------------------------------------------------------------------------\u001b[0m",
      "\u001b[1;31mValueError\u001b[0m                                Traceback (most recent call last)",
      "\u001b[1;32m<ipython-input-11-721a9d4b56c3>\u001b[0m in \u001b[0;36m<module>\u001b[1;34m\u001b[0m\n\u001b[0;32m     11\u001b[0m \u001b[0mprint\u001b[0m\u001b[1;33m(\u001b[0m\u001b[0mc\u001b[0m\u001b[1;33m)\u001b[0m\u001b[1;33m\u001b[0m\u001b[1;33m\u001b[0m\u001b[0m\n\u001b[0;32m     12\u001b[0m \u001b[0mc\u001b[0m \u001b[1;33m=\u001b[0m \u001b[0ma\u001b[0m\u001b[1;33m\u001b[0m\u001b[1;33m\u001b[0m\u001b[0m\n\u001b[1;32m---> 13\u001b[1;33m \u001b[0mc\u001b[0m\u001b[1;33m.\u001b[0m\u001b[0mresize\u001b[0m\u001b[1;33m(\u001b[0m\u001b[1;33m(\u001b[0m\u001b[1;36m2\u001b[0m\u001b[1;33m,\u001b[0m\u001b[1;36m10\u001b[0m\u001b[1;33m)\u001b[0m\u001b[1;33m)\u001b[0m \u001b[1;31m# 参照では使えない(元データの変更を伴うため)\u001b[0m\u001b[1;33m\u001b[0m\u001b[1;33m\u001b[0m\u001b[0m\n\u001b[0m\u001b[0;32m     14\u001b[0m \u001b[0mprint\u001b[0m\u001b[1;33m(\u001b[0m\u001b[0mc\u001b[0m\u001b[1;33m)\u001b[0m\u001b[1;33m\u001b[0m\u001b[1;33m\u001b[0m\u001b[0m\n",
      "\u001b[1;31mValueError\u001b[0m: cannot resize an array that references or is referenced\nby another array in this way.\nUse the np.resize function or refcheck=False"
     ]
    }
   ],
   "source": [
    "a = np.arange(6)\n",
    "print( a.shape )\n",
    "a.resize((2,3))\n",
    "print( a.shape )\n",
    "b = np.resize( a, (2,5)) # 関数は繰り返し\n",
    "print(b)\n",
    "a.resize((3,5)) # メソッドはゼロ詰め\n",
    "print(a)\n",
    "c = a.copy()\n",
    "c.resize((2,10)) # コピーは使えるが\n",
    "print(c)\n",
    "c = a\n",
    "c.resize((2,10)) # 参照では使えない(元データの変更を伴うため)\n",
    "print(c)"
   ]
  },
  {
   "cell_type": "markdown",
   "metadata": {},
   "source": [
    "## reshape の -1\n",
    "\n",
    "配列の総要素数が不明の場合は，大きさが不明な次元で -1 を指定すると適切な値が自動的に設定されます．"
   ]
  },
  {
   "cell_type": "code",
   "execution_count": 1,
   "metadata": {},
   "outputs": [
    {
     "data": {
      "text/plain": [
       "array([[0, 1, 2],\n",
       "       [3, 4, 5]])"
      ]
     },
     "execution_count": 1,
     "metadata": {},
     "output_type": "execute_result"
    }
   ],
   "source": [
    "np.arange(6).reshape((2, -1))"
   ]
  },
  {
   "cell_type": "code",
   "execution_count": 2,
   "metadata": {},
   "outputs": [
    {
     "data": {
      "text/plain": [
       "array([[0],\n",
       "       [1],\n",
       "       [2],\n",
       "       [3],\n",
       "       [4]])"
      ]
     },
     "execution_count": 2,
     "metadata": {},
     "output_type": "execute_result"
    }
   ],
   "source": [
    "np.arange(5).reshape((-1,1))"
   ]
  },
  {
   "cell_type": "markdown",
   "metadata": {},
   "source": [
    "## 次元の追加、削減"
   ]
  },
  {
   "cell_type": "code",
   "execution_count": 3,
   "metadata": {},
   "outputs": [
    {
     "data": {
      "text/plain": [
       "(1, 3)"
      ]
     },
     "execution_count": 3,
     "metadata": {},
     "output_type": "execute_result"
    }
   ],
   "source": [
    ">>> x = np.array([[[0], [1], [2]]])\n",
    ">>> x.shape\n",
    "(1, 3, 1)\n",
    ">>> xsqz = np.squeeze(x)\n",
    "xsqz.shape\n",
    "(3,)\n",
    ">>> np.squeeze(x, axis=(2,)).shape\n",
    "(1, 3)"
   ]
  },
  {
   "cell_type": "code",
   "execution_count": 4,
   "metadata": {},
   "outputs": [
    {
     "name": "stdout",
     "output_type": "stream",
     "text": [
      "(1, 3, 1)\n",
      "(1, 3, 1, 1)\n"
     ]
    }
   ],
   "source": [
    "xsqz_ax1 = xsqz.reshape( [-1,xsqz.size,1] )\n",
    "print (xsqz_ax1.shape)\n",
    "xsqz_ax2 = xsqz_ax1[:,:,:,np.newaxis]\n",
    "print (xsqz_ax2.shape)"
   ]
  },
  {
   "cell_type": "markdown",
   "metadata": {},
   "source": [
    "## sum で加算する方向( axis )について\n",
    "加算されて１に縮退される軸を指定する\n"
   ]
  },
  {
   "cell_type": "code",
   "execution_count": 5,
   "metadata": {},
   "outputs": [
    {
     "name": "stdout",
     "output_type": "stream",
     "text": [
      "shape input (2, 3)\n",
      "shape sum wrt axis=0 (3,)\n",
      "shape sum wrt axis=1 (2,)\n"
     ]
    }
   ],
   "source": [
    "aa = np.array( [[1,2,3],[4,5,6]])\n",
    "print (\"shape input\", aa.shape)\n",
    "aa0 = np.sum( aa, axis=0 )\n",
    "aa1 = np.sum( aa, axis=1 )\n",
    "print (\"shape sum wrt axis=0\", aa0.shape)\n",
    "print (\"shape sum wrt axis=1\", aa1.shape)"
   ]
  },
  {
   "cell_type": "markdown",
   "metadata": {},
   "source": [
    "## 行列のスプリット\n",
    "array_split は割り切れない場合は適当に配分してくれるが、split はエラーになる"
   ]
  },
  {
   "cell_type": "code",
   "execution_count": 6,
   "metadata": {},
   "outputs": [
    {
     "name": "stdout",
     "output_type": "stream",
     "text": [
      "<class 'list'>\n",
      "<class 'numpy.ndarray'>\n",
      "[array([0, 1, 2, 3]), array([4, 5, 6]), array([7, 8, 9])]\n"
     ]
    }
   ],
   "source": [
    "a = np.array(range(10))\n",
    "# splits tekito-ni\n",
    "aa = np.array_split( a, 3 )\n",
    "print (type(aa) )\n",
    "print (type(aa[0]) )\n",
    "print (aa)"
   ]
  },
  {
   "cell_type": "code",
   "execution_count": 7,
   "metadata": {
    "scrolled": false
   },
   "outputs": [
    {
     "ename": "ValueError",
     "evalue": "array split does not result in an equal division",
     "output_type": "error",
     "traceback": [
      "\u001b[1;31m---------------------------------------------------------------------------\u001b[0m",
      "\u001b[1;31mTypeError\u001b[0m                                 Traceback (most recent call last)",
      "\u001b[1;32mC:\\Anaconda3\\lib\\site-packages\\numpy\\lib\\shape_base.py\u001b[0m in \u001b[0;36msplit\u001b[1;34m(ary, indices_or_sections, axis)\u001b[0m\n\u001b[0;32m    864\u001b[0m     \u001b[1;32mtry\u001b[0m\u001b[1;33m:\u001b[0m\u001b[1;33m\u001b[0m\u001b[1;33m\u001b[0m\u001b[0m\n\u001b[1;32m--> 865\u001b[1;33m         \u001b[0mlen\u001b[0m\u001b[1;33m(\u001b[0m\u001b[0mindices_or_sections\u001b[0m\u001b[1;33m)\u001b[0m\u001b[1;33m\u001b[0m\u001b[1;33m\u001b[0m\u001b[0m\n\u001b[0m\u001b[0;32m    866\u001b[0m     \u001b[1;32mexcept\u001b[0m \u001b[0mTypeError\u001b[0m\u001b[1;33m:\u001b[0m\u001b[1;33m\u001b[0m\u001b[1;33m\u001b[0m\u001b[0m\n",
      "\u001b[1;31mTypeError\u001b[0m: object of type 'int' has no len()",
      "\nDuring handling of the above exception, another exception occurred:\n",
      "\u001b[1;31mValueError\u001b[0m                                Traceback (most recent call last)",
      "\u001b[1;32m<ipython-input-7-5227028536d4>\u001b[0m in \u001b[0;36m<module>\u001b[1;34m\u001b[0m\n\u001b[0;32m      1\u001b[0m \u001b[1;31m# causes error\u001b[0m\u001b[1;33m\u001b[0m\u001b[1;33m\u001b[0m\u001b[1;33m\u001b[0m\u001b[0m\n\u001b[1;32m----> 2\u001b[1;33m \u001b[0mnp\u001b[0m\u001b[1;33m.\u001b[0m\u001b[0msplit\u001b[0m\u001b[1;33m(\u001b[0m\u001b[0ma\u001b[0m\u001b[1;33m,\u001b[0m\u001b[1;36m3\u001b[0m\u001b[1;33m)\u001b[0m\u001b[1;33m\u001b[0m\u001b[1;33m\u001b[0m\u001b[0m\n\u001b[0m",
      "\u001b[1;32m<__array_function__ internals>\u001b[0m in \u001b[0;36msplit\u001b[1;34m(*args, **kwargs)\u001b[0m\n",
      "\u001b[1;32mC:\\Anaconda3\\lib\\site-packages\\numpy\\lib\\shape_base.py\u001b[0m in \u001b[0;36msplit\u001b[1;34m(ary, indices_or_sections, axis)\u001b[0m\n\u001b[0;32m    869\u001b[0m         \u001b[1;32mif\u001b[0m \u001b[0mN\u001b[0m \u001b[1;33m%\u001b[0m \u001b[0msections\u001b[0m\u001b[1;33m:\u001b[0m\u001b[1;33m\u001b[0m\u001b[1;33m\u001b[0m\u001b[0m\n\u001b[0;32m    870\u001b[0m             raise ValueError(\n\u001b[1;32m--> 871\u001b[1;33m                 'array split does not result in an equal division')\n\u001b[0m\u001b[0;32m    872\u001b[0m     \u001b[1;32mreturn\u001b[0m \u001b[0marray_split\u001b[0m\u001b[1;33m(\u001b[0m\u001b[0mary\u001b[0m\u001b[1;33m,\u001b[0m \u001b[0mindices_or_sections\u001b[0m\u001b[1;33m,\u001b[0m \u001b[0maxis\u001b[0m\u001b[1;33m)\u001b[0m\u001b[1;33m\u001b[0m\u001b[1;33m\u001b[0m\u001b[0m\n\u001b[0;32m    873\u001b[0m \u001b[1;33m\u001b[0m\u001b[0m\n",
      "\u001b[1;31mValueError\u001b[0m: array split does not result in an equal division"
     ]
    }
   ],
   "source": [
    "# causes error\n",
    "np.split(a,3)"
   ]
  },
  {
   "cell_type": "markdown",
   "metadata": {
    "collapsed": true
   },
   "source": [
    "## Numpy配列のbroadcasting(次元の拡張)\n",
    "Numpy が配列全てを変換して同じサイズを持つようにできる場合に行われる変換を broadcasting と呼びます。"
   ]
  },
  {
   "cell_type": "code",
   "execution_count": 8,
   "metadata": {
    "scrolled": true
   },
   "outputs": [
    {
     "data": {
      "text/plain": [
       "array([[0.        , 1.        , 2.        , 3.        , 4.        ],\n",
       "       [1.        , 1.41421356, 2.23606798, 3.16227766, 4.12310563],\n",
       "       [2.        , 2.23606798, 2.82842712, 3.60555128, 4.47213595],\n",
       "       [3.        , 3.16227766, 3.60555128, 4.24264069, 5.        ],\n",
       "       [4.        , 4.12310563, 4.47213595, 5.        , 5.65685425]])"
      ]
     },
     "execution_count": 8,
     "metadata": {},
     "output_type": "execute_result"
    }
   ],
   "source": [
    "x = np.arange(5)\n",
    "y = np.arange(5)[:,np.newaxis]\n",
    "distance = np.sqrt(x ** 2 + y ** 2)\n",
    "distance"
   ]
  },
  {
   "cell_type": "markdown",
   "metadata": {},
   "source": [
    "## 配列の諸元"
   ]
  },
  {
   "cell_type": "code",
   "execution_count": 12,
   "metadata": {},
   "outputs": [
    {
     "name": "stdout",
     "output_type": "stream",
     "text": [
      "4\n",
      "2\n",
      "(2, 2)\n"
     ]
    }
   ],
   "source": [
    "print ( aanp.size )\n",
    "print ( aanp.ndim )\n",
    "print ( aanp.shape )"
   ]
  },
  {
   "cell_type": "code",
   "execution_count": 13,
   "metadata": {
    "scrolled": false
   },
   "outputs": [
    {
     "name": "stdout",
     "output_type": "stream",
     "text": [
      "#data type:  int32\n",
      "#id:  2285317754512\n",
      "#type: a <class 'numpy.ndarray'>\n",
      "#type: a.transpose <class 'builtin_function_or_method'>\n",
      "#dir:  ['T', '__abs__', '__add__', '__and__', '__array__', '__array_finalize__', '__array_function__', '__array_interface__', '__array_prepare__', '__array_priority__', '__array_struct__', '__array_ufunc__', '__array_wrap__', '__bool__', '__class__', '__complex__', '__contains__', '__copy__', '__deepcopy__', '__delattr__', '__delitem__', '__dir__', '__divmod__', '__doc__', '__eq__', '__float__', '__floordiv__', '__format__', '__ge__', '__getattribute__', '__getitem__', '__gt__', '__hash__', '__iadd__', '__iand__', '__ifloordiv__', '__ilshift__', '__imatmul__', '__imod__', '__imul__', '__index__', '__init__', '__init_subclass__', '__int__', '__invert__', '__ior__', '__ipow__', '__irshift__', '__isub__', '__iter__', '__itruediv__', '__ixor__', '__le__', '__len__', '__lshift__', '__lt__', '__matmul__', '__mod__', '__mul__', '__ne__', '__neg__', '__new__', '__or__', '__pos__', '__pow__', '__radd__', '__rand__', '__rdivmod__', '__reduce__', '__reduce_ex__', '__repr__', '__rfloordiv__', '__rlshift__', '__rmatmul__', '__rmod__', '__rmul__', '__ror__', '__rpow__', '__rrshift__', '__rshift__', '__rsub__', '__rtruediv__', '__rxor__', '__setattr__', '__setitem__', '__setstate__', '__sizeof__', '__str__', '__sub__', '__subclasshook__', '__truediv__', '__xor__', 'all', 'any', 'argmax', 'argmin', 'argpartition', 'argsort', 'astype', 'base', 'byteswap', 'choose', 'clip', 'compress', 'conj', 'conjugate', 'copy', 'ctypes', 'cumprod', 'cumsum', 'data', 'diagonal', 'dot', 'dtype', 'dump', 'dumps', 'fill', 'flags', 'flat', 'flatten', 'getfield', 'imag', 'item', 'itemset', 'itemsize', 'max', 'mean', 'min', 'nbytes', 'ndim', 'newbyteorder', 'nonzero', 'partition', 'prod', 'ptp', 'put', 'ravel', 'real', 'repeat', 'reshape', 'resize', 'round', 'searchsorted', 'setfield', 'setflags', 'shape', 'size', 'sort', 'squeeze', 'std', 'strides', 'sum', 'swapaxes', 'take', 'tobytes', 'tofile', 'tolist', 'tostring', 'trace', 'transpose', 'var', 'view']\n",
      "['flags', 'flat', 'flatten', 'setflags']\n"
     ]
    }
   ],
   "source": [
    "a = np.array(range(24)).reshape([2,3,4])\n",
    "print( '#data type: ',a.dtype )\n",
    "print ('#id: ', id(a))\n",
    "print( '#type: a', type(a))\n",
    "print( '#type: a.transpose', type(a.transpose))\n",
    "print( '#dir: ', dir(a))\n",
    "print( [ item for item in dir(a) if 'fla' in item])"
   ]
  },
  {
   "cell_type": "markdown",
   "metadata": {},
   "source": [
    "## 配列の内部構造"
   ]
  },
  {
   "cell_type": "code",
   "execution_count": 14,
   "metadata": {
    "scrolled": true
   },
   "outputs": [
    {
     "name": "stdout",
     "output_type": "stream",
     "text": [
      "  C_CONTIGUOUS : True\n",
      "  F_CONTIGUOUS : True\n",
      "  OWNDATA : True\n",
      "  WRITEABLE : True\n",
      "  ALIGNED : True\n",
      "  WRITEBACKIFCOPY : False\n",
      "  UPDATEIFCOPY : False\n",
      "\n",
      "\n",
      "  C_CONTIGUOUS : True\n",
      "  F_CONTIGUOUS : False\n",
      "  OWNDATA : False\n",
      "  WRITEABLE : True\n",
      "  ALIGNED : True\n",
      "  WRITEBACKIFCOPY : False\n",
      "  UPDATEIFCOPY : False\n",
      "\n"
     ]
    }
   ],
   "source": [
    "xx = np.array( range(24))\n",
    "print( xx.flags )\n",
    "print(\"\")\n",
    "print( xx.reshape(2,3,4).flags  )\n"
   ]
  },
  {
   "cell_type": "markdown",
   "metadata": {},
   "source": [
    "# Numpyの便利そうな関数"
   ]
  },
  {
   "cell_type": "markdown",
   "metadata": {
    "collapsed": true
   },
   "source": [
    "## numpy.bincount()\n",
    "配列に含まれている０と１の数を数えるのに便利"
   ]
  },
  {
   "cell_type": "code",
   "execution_count": 15,
   "metadata": {},
   "outputs": [
    {
     "data": {
      "text/plain": [
       "array([4, 3], dtype=int64)"
      ]
     },
     "execution_count": 15,
     "metadata": {},
     "output_type": "execute_result"
    }
   ],
   "source": [
    "a = [0, 1, 0, 1, 1, 0, 0]\n",
    "np.bincount(a)"
   ]
  },
  {
   "cell_type": "code",
   "execution_count": 16,
   "metadata": {},
   "outputs": [
    {
     "data": {
      "text/plain": [
       "array([1, 0, 0, 0, 0, 2], dtype=int64)"
      ]
     },
     "execution_count": 16,
     "metadata": {},
     "output_type": "execute_result"
    }
   ],
   "source": [
    "a = [0,5,5]\n",
    "np.bincount(a) # 0 が 1つ、1から４まで０個、５が2つ"
   ]
  },
  {
   "cell_type": "code",
   "execution_count": 17,
   "metadata": {},
   "outputs": [
    {
     "name": "stdout",
     "output_type": "stream",
     "text": [
      "Counter({5: 2, 0: 1})\n"
     ]
    }
   ],
   "source": [
    "# 参考\n",
    "import collections\n",
    "counts = collections.Counter([0,5,5]) # 多い順に並ぶ\n",
    "print( counts )"
   ]
  },
  {
   "cell_type": "markdown",
   "metadata": {},
   "source": [
    "## numpy.argmax()"
   ]
  },
  {
   "cell_type": "code",
   "execution_count": 18,
   "metadata": {},
   "outputs": [
    {
     "data": {
      "text/plain": [
       "2"
      ]
     },
     "execution_count": 18,
     "metadata": {},
     "output_type": "execute_result"
    }
   ],
   "source": [
    "np.argmax( [1,2,10,3,4])"
   ]
  },
  {
   "cell_type": "markdown",
   "metadata": {},
   "source": [
    "## テーブルルックアップ"
   ]
  },
  {
   "cell_type": "code",
   "execution_count": 19,
   "metadata": {},
   "outputs": [
    {
     "data": {
      "text/plain": [
       "array([[5, 4, 3],\n",
       "       [2, 1, 0]])"
      ]
     },
     "execution_count": 19,
     "metadata": {},
     "output_type": "execute_result"
    }
   ],
   "source": [
    "table = np.array([5,4,3,2,1,0])\n",
    "indata = np.array([[0,1,2],[3,4,5]])\n",
    "table[indata]\n"
   ]
  },
  {
   "cell_type": "markdown",
   "metadata": {},
   "source": [
    "## ravel()と flatten()の違い\n",
    "ravel は変換前の行列も変更される('F'を指定した場合を除く?)のに対し、flattenは変換前の行列は影響を受けない。\n",
    "Webでは次の表現が多数。「flattenは必ずコピーを返しますが、revelは必要なときだけコピーを返します(ですから特に大きな配列の場合後者がとても速いです)。」"
   ]
  },
  {
   "cell_type": "code",
   "execution_count": 20,
   "metadata": {},
   "outputs": [
    {
     "name": "stdout",
     "output_type": "stream",
     "text": [
      "befor ravel\n",
      " [[1 2]\n",
      " [3 4]]\n",
      "after ravel\n",
      " [[10 20]\n",
      " [ 3  4]]\n",
      "[10 20  3  4] [10 20  3  4] [ 1  3 30  4]\n"
     ]
    }
   ],
   "source": [
    "aa = np.array( [[1,2],[3,4]])\n",
    "print (\"befor ravel\\n\",aa)\n",
    "b0=aa.ravel(); bc=aa.ravel('C'); bf=aa.ravel('F')\n",
    "b0[0] = 10;    bc[1] = 20;       bf[2] = 30\n",
    "print (\"after ravel\\n\",aa)\n",
    "print (b0, bc, bf)"
   ]
  },
  {
   "cell_type": "code",
   "execution_count": 21,
   "metadata": {},
   "outputs": [
    {
     "name": "stdout",
     "output_type": "stream",
     "text": [
      "[[1 2]\n",
      " [3 4]]\n",
      "[ 1  3 30  4]\n"
     ]
    }
   ],
   "source": [
    "aa = np.array( [[1,2],[3,4]])\n",
    "b0=aa.flatten(); bc=aa.flatten('C'); bf=aa.flatten('F')\n",
    "b0[0] = 10;    bc[1] = 20;       bf[2] = 30\n",
    "print (aa)\n",
    "print (bf)"
   ]
  },
  {
   "cell_type": "markdown",
   "metadata": {},
   "source": [
    "## diff(), cumsum(): ベクトルの差分、累積加算"
   ]
  },
  {
   "cell_type": "code",
   "execution_count": 22,
   "metadata": {},
   "outputs": [
    {
     "name": "stdout",
     "output_type": "stream",
     "text": [
      "[1 1 1 1]\n",
      "[ 0  1  3  6 10]\n"
     ]
    }
   ],
   "source": [
    "aa = np.array(range(5))\n",
    "aadiff= np.diff(aa)\n",
    "aacumsum = np.cumsum(aa)\n",
    "print( aadiff )\n",
    "print( aacumsum )"
   ]
  },
  {
   "cell_type": "markdown",
   "metadata": {},
   "source": [
    "## digitize(): 入力データを離散化してインデックスを返す"
   ]
  },
  {
   "cell_type": "code",
   "execution_count": 23,
   "metadata": {
    "scrolled": true
   },
   "outputs": [
    {
     "name": "stdout",
     "output_type": "stream",
     "text": [
      "xx [-10  -9  -8  -7  -6  -5  -4  -3  -2  -1   0   1   2   3   4   5   6   7\n",
      "   8   9  10]\n",
      "bins [-5  0  5]\n",
      "[0 0 0 0 0 1 1 1 1 1 2 2 2 2 2 3 3 3 3 3 3]\n"
     ]
    }
   ],
   "source": [
    "# -10 から 10 までを4区間に分けたい\n",
    "bins = np.linspace( -10, 10, 4+1 )[1:-1].astype(np.int32) # binsの両端を落として3値[-5,0,5]にする\n",
    "# テストデータ作成\n",
    "xx = np.linspace( -10, 10, 21 ).astype(np.int32)\n",
    "print('xx', xx)\n",
    "print('bins',bins)\n",
    "print( np.digitize( xx, bins) ) # 最大離散値のインデクス（一致の場合は超えたと解釈する）\n"
   ]
  },
  {
   "cell_type": "markdown",
   "metadata": {},
   "source": [
    "## add.at() : indexごとにベクトルの総和を求める(ループを組むより速い)"
   ]
  },
  {
   "cell_type": "code",
   "execution_count": 1,
   "metadata": {},
   "outputs": [],
   "source": [
    "# data のシーケンスをindexで指定された位置に振り分けて加算する\n",
    "idx2 = np.array( [ 2,2,2,3] )\n",
    "data = np.array( [[1,2],[1,2],[1,4],[9,9]] )"
   ]
  },
  {
   "cell_type": "code",
   "execution_count": 4,
   "metadata": {},
   "outputs": [
    {
     "name": "stdout",
     "output_type": "stream",
     "text": [
      "[[0. 0.]\n",
      " [0. 0.]\n",
      " [3. 8.]\n",
      " [9. 9.]]\n",
      "[[0. 0.]\n",
      " [0. 0.]\n",
      " [3. 8.]\n",
      " [9. 9.]]\n"
     ]
    }
   ],
   "source": [
    "# やりたいことはこれ\n",
    "y = np.zeros( [4,2] )\n",
    "for i,idx in enumerate(idx2):\n",
    "    y[idx] += data[i]\n",
    "print(y)\n",
    "\n",
    "# こう書くと速いらしい\n",
    "y = np.zeros( [4,2] )\n",
    "np.add.at( y, idx2, data ) # 重複した場合は加算されるので総和が求められる\n",
    "print(y)"
   ]
  },
  {
   "cell_type": "code",
   "execution_count": 5,
   "metadata": {},
   "outputs": [
    {
     "name": "stdout",
     "output_type": "stream",
     "text": [
      "[[1. 4.]\n",
      " [9. 9.]\n",
      " [0. 0.]\n",
      " [0. 0.]]\n"
     ]
    }
   ],
   "source": [
    "# 重複に関するオマケ\n",
    "y = np.zeros( [4,2] )\n",
    "idx1 = np.array( [ 0,0,0,1] )\n",
    "\n",
    "y[idx1] += data # 重複したインデックスは最後の要素が有効\n",
    "print(y)"
   ]
  },
  {
   "cell_type": "markdown",
   "metadata": {},
   "source": [
    "## np.allとnp.any\n",
    "np.all関数は要素が全てTrueになるならTrueに、any関数はいずれかの要素がTrueであればTrueを返す関数です"
   ]
  },
  {
   "cell_type": "code",
   "execution_count": 12,
   "metadata": {},
   "outputs": [
    {
     "name": "stdout",
     "output_type": "stream",
     "text": [
      "False\n",
      "[ True False]\n",
      "True\n",
      "[ True  True]\n"
     ]
    }
   ],
   "source": [
    "x = np.array( [[True,False],[True,False]])\n",
    "print(np.all(x))\n",
    "print(np.all(x,axis=0 ))\n",
    "print(np.any(x))\n",
    "print(np.any(x,axis=1))"
   ]
  },
  {
   "cell_type": "markdown",
   "metadata": {},
   "source": [
    "ある行ベクトルtが行列xの何行目と一致するか探索したい場合"
   ]
  },
  {
   "cell_type": "code",
   "execution_count": 19,
   "metadata": {},
   "outputs": [
    {
     "name": "stdout",
     "output_type": "stream",
     "text": [
      "[False False  True False False False False False]\n",
      "(array([2], dtype=int64),)\n"
     ]
    }
   ],
   "source": [
    "x = np.array(range(24)).reshape(8,3)\n",
    "t = np.array( [6,7,8] )\n",
    "# broadcast で要素ごとのTrue/Falseを算出してから、行方向の全要素Trueを検出\n",
    "pos = np.all( np.equal( x, t ), axis=1 ) \n",
    "\n",
    "print( pos )\n",
    "print( np.where(pos) )"
   ]
  },
  {
   "cell_type": "markdown",
   "metadata": {},
   "source": [
    "## ramdom.choice()"
   ]
  },
  {
   "cell_type": "code",
   "execution_count": 62,
   "metadata": {},
   "outputs": [
    {
     "data": {
      "text/plain": [
       "1"
      ]
     },
     "execution_count": 62,
     "metadata": {},
     "output_type": "execute_result"
    }
   ],
   "source": [
    "np.random.choice(10)"
   ]
  },
  {
   "cell_type": "code",
   "execution_count": 63,
   "metadata": {},
   "outputs": [
    {
     "data": {
      "text/plain": [
       "array([3, 7, 8, 1, 2, 7, 4])"
      ]
     },
     "execution_count": 63,
     "metadata": {},
     "output_type": "execute_result"
    }
   ],
   "source": [
    "np.random.choice(10, size=7)"
   ]
  },
  {
   "cell_type": "code",
   "execution_count": 64,
   "metadata": {},
   "outputs": [
    {
     "data": {
      "text/plain": [
       "array([7, 3, 9, 6, 8, 0, 4])"
      ]
     },
     "execution_count": 64,
     "metadata": {},
     "output_type": "execute_result"
    }
   ],
   "source": [
    "np.random.choice(10, size=7, replace=False) # 重複なし"
   ]
  },
  {
   "cell_type": "code",
   "execution_count": 65,
   "metadata": {},
   "outputs": [
    {
     "data": {
      "text/plain": [
       "'dog'"
      ]
     },
     "execution_count": 65,
     "metadata": {},
     "output_type": "execute_result"
    }
   ],
   "source": [
    "np.random.choice( ['dog','cat','monkey'])"
   ]
  },
  {
   "cell_type": "code",
   "execution_count": 66,
   "metadata": {},
   "outputs": [
    {
     "data": {
      "text/plain": [
       "'monkey'"
      ]
     },
     "execution_count": 66,
     "metadata": {},
     "output_type": "execute_result"
    }
   ],
   "source": [
    "np.random.choice( ['dog','cat','monkey'], p=[ 0.1, 0.1, 0.8] ) # 確率ｐに従って選択"
   ]
  },
  {
   "cell_type": "markdown",
   "metadata": {},
   "source": [
    "## unique"
   ]
  },
  {
   "cell_type": "code",
   "execution_count": 67,
   "metadata": {},
   "outputs": [
    {
     "data": {
      "text/plain": [
       "array(['cat', 'dog', 'dogcat'], dtype='<U6')"
      ]
     },
     "execution_count": 67,
     "metadata": {},
     "output_type": "execute_result"
    }
   ],
   "source": [
    "np.unique( [ 'dog', 'cat', 'dog', 'dogcat'])"
   ]
  },
  {
   "cell_type": "markdown",
   "metadata": {},
   "source": [
    "## count_nonzero （Trueの数を数える）"
   ]
  },
  {
   "cell_type": "code",
   "execution_count": 68,
   "metadata": {},
   "outputs": [
    {
     "name": "stdout",
     "output_type": "stream",
     "text": [
      "3\n",
      "4\n"
     ]
    }
   ],
   "source": [
    "a = [1,1,1,2,3,4,5]\n",
    "print( a.count(1) ) # リストならcount \n",
    "print( np.count_nonzero( np.array(a)!=1) )# ndarray なら count_nonzero"
   ]
  },
  {
   "cell_type": "markdown",
   "metadata": {},
   "source": [
    "# ファイルの読み書き"
   ]
  },
  {
   "cell_type": "markdown",
   "metadata": {
    "collapsed": true
   },
   "source": [
    "## 行を要素とするリストとして読み書き"
   ]
  },
  {
   "cell_type": "code",
   "execution_count": 73,
   "metadata": {},
   "outputs": [],
   "source": [
    "with open(\"foo.csv\",encoding='utf-8') as f: # 入力される漢字コード( Windowsはcp932 )\n",
    "    file_list = f.read().splitlines() #行ごとに改行を削除しリスト化\n",
    "    f.close()"
   ]
  },
  {
   "cell_type": "code",
   "execution_count": 74,
   "metadata": {},
   "outputs": [
    {
     "data": {
      "text/plain": [
       "['1,2', '3,4']"
      ]
     },
     "execution_count": 74,
     "metadata": {},
     "output_type": "execute_result"
    }
   ],
   "source": [
    "file_list"
   ]
  },
  {
   "cell_type": "code",
   "execution_count": 75,
   "metadata": {},
   "outputs": [],
   "source": [
    "with open(\"bar.csv\",\"wt\",encoding='utf-8') as f: # 出力する漢字コード\n",
    "    f.write(\"\\n\".join(file_list))  # 改行コードはCRLFになる\n",
    "    f.close()"
   ]
  },
  {
   "cell_type": "markdown",
   "metadata": {},
   "source": [
    "## バイナリファイルを一次元配列として全部読み込む"
   ]
  },
  {
   "cell_type": "code",
   "execution_count": 76,
   "metadata": {},
   "outputs": [
    {
     "data": {
      "text/plain": [
       "array([221391921, 875311882])"
      ]
     },
     "execution_count": 76,
     "metadata": {},
     "output_type": "execute_result"
    }
   ],
   "source": [
    "with open( 'foo.csv', 'rb') as fp:\n",
    "    data = np.fromfile( fp, dtype=np.int32 )\n",
    "data"
   ]
  },
  {
   "cell_type": "markdown",
   "metadata": {},
   "source": [
    "## csv ファイルの読み書き"
   ]
  },
  {
   "cell_type": "code",
   "execution_count": 78,
   "metadata": {},
   "outputs": [
    {
     "name": "stdout",
     "output_type": "stream",
     "text": [
      "int32\n"
     ]
    }
   ],
   "source": [
    "data = np.genfromtxt( \"foo.csv\", dtype=int, delimiter=\",\" ) # loadtxtも可だが、欠落データをnanで埋めてくれる機能はない\n",
    "print (data.dtype)\n",
    "np.savetxt(\"bar.csv\", data, delimiter=\",\", fmt=\"%d\")"
   ]
  },
  {
   "cell_type": "markdown",
   "metadata": {},
   "source": [
    "## 漬物(Pickle)"
   ]
  },
  {
   "cell_type": "code",
   "execution_count": 80,
   "metadata": {
    "scrolled": true
   },
   "outputs": [
    {
     "name": "stdout",
     "output_type": "stream",
     "text": [
      "[<__main__.uum object at 0x000001810756A1C8>, <__main__.uum object at 0x000001810756AE88>]\n",
      "[<__main__.uum object at 0x000001810755F288>, <__main__.uum object at 0x0000018103283748>]\n",
      "20\n"
     ]
    }
   ],
   "source": [
    "import pickle\n",
    "class uum():\n",
    "    def __init__(self,val):\n",
    "        self.val = val\n",
    "    def print_val(self):\n",
    "        print (self.val)\n",
    "  \n",
    "hoge = [uum(10), uum(20) ]\n",
    "with open('sample.pickle', mode='wb') as f:\n",
    "    pickle.dump( hoge, f)\n",
    "with open('sample.pickle', mode='rb') as f:\n",
    "    fuga = pickle.load(f)\n",
    "    \n",
    "print (hoge)\n",
    "print (fuga)\n",
    "fuga[1].print_val()"
   ]
  },
  {
   "cell_type": "markdown",
   "metadata": {},
   "source": [
    "### 配列だけならnp.save/load が簡単 "
   ]
  },
  {
   "cell_type": "code",
   "execution_count": 83,
   "metadata": {},
   "outputs": [],
   "source": [
    "a = np.array([1, 2, 3])\n",
    "np.save('foo', a)\n",
    "\n",
    "#ひとつのnumpyオブジェクトの場合, 自動的にnpyに変換される\n",
    "a = np.load('foo.npy')\n",
    "\n",
    "#npzは複数のnumpyオブジェクトの時に利用\n",
    "b = np.array([[1, 2], [3, 4]])\n",
    "np.savez('foo.npz', a=a, b2=b)\n",
    "\n",
    "with np.load('foo.npz') as data:\n",
    "   a2 = data['a']\n",
    "   b2 = data['b2']"
   ]
  },
  {
   "cell_type": "markdown",
   "metadata": {},
   "source": [
    "## Waveファイルの扱い\n",
    "* [参考1] http://yukara-13.hatenablog.com/entry/2013/11/09/103848\n",
    "* [参考2] http://qiita.com/yu_tailsfox/items/86380a0d4d016e1634f1\n",
    "* [参考3] https://docs.scipy.org/doc/scipy-0.18.1/reference/io.html\n",
    "* 非numpy環境ならPySoundFileらしいが敢えて使う理由はないだろう https://qiita.com/Dsuke-K/items/2ad4945a81644db1e9ff\n",
    "* pydub でもできる https://githubja.com/jiaaro/pydub"
   ]
  },
  {
   "cell_type": "markdown",
   "metadata": {},
   "source": [
    "### wavファイルの読み書き"
   ]
  },
  {
   "cell_type": "code",
   "execution_count": 1,
   "metadata": {},
   "outputs": [
    {
     "name": "stdout",
     "output_type": "stream",
     "text": [
      "Sampling rate : 32000\n",
      "datatype :  <class 'numpy.int16'>\n"
     ]
    }
   ],
   "source": [
    "# -*- coding: utf-8 -*-\n",
    "#from scipy.io.wavfile import read as siw\n",
    "import scipy.io.wavfile as siw\n",
    "\n",
    "wavfile = \"./test1.wav\"\n",
    "#wavfile = \"../../Github/pydub/test/data/test1.wav\"\n",
    "\n",
    "fs, data = siw.read(wavfile)\n",
    "\n",
    "print( \"Sampling rate :\", fs )\n",
    "print( \"datatype : \", type(data[0,0]))\n",
    "\n",
    "if (data.shape[1] == 2):\n",
    "    left = data[:, 0]\n",
    "    right = data[:, 1]\n",
    "\n",
    "data = data.astype(np.float64)\n",
    "# ... process data ...\n",
    "maxv = max( data.max(), -data.min() )\n",
    "data /= maxv # abs(fdata) <= 1.0\n",
    "data = data * 32767\n",
    "# The bits-per-sample and PCM/float will be determined by the data-type.\n",
    "siw.write( \"test_out.wav\",  fs, data.astype(np.int16) ) "
   ]
  },
  {
   "cell_type": "markdown",
   "metadata": {},
   "source": [
    "### wavファイルの再生\n",
    "* ffmpeg のインストールが必要\n",
    "* 再生には、simpleaudio のインストールが必要"
   ]
  },
  {
   "cell_type": "code",
   "execution_count": 2,
   "metadata": {},
   "outputs": [
    {
     "name": "stdout",
     "output_type": "stream",
     "text": [
      "<class 'pydub.audio_segment.AudioSegment'>\n"
     ]
    }
   ],
   "source": [
    "from pydub import AudioSegment\n",
    "from pydub.playback import play\n",
    "\n",
    "song = AudioSegment.from_wav(\"test1.wav\")\n",
    "print( type(song))\n",
    "play(song)"
   ]
  },
  {
   "cell_type": "markdown",
   "metadata": {},
   "source": [
    "### 配列の再生\n",
    "<pre>\n",
    "simpleaudio.play_buffer(audio_data, num_channels, bytes_per_sample, \n",
    "sample_rate)\n",
    "</pre>"
   ]
  },
  {
   "cell_type": "code",
   "execution_count": 3,
   "metadata": {},
   "outputs": [],
   "source": [
    "import simpleaudio as sa\n",
    "play_obj = sa.play_buffer(data.astype(np.int16), 2, 2, fs) # data must be int16 in (:,2) array if stereo"
   ]
  },
  {
   "cell_type": "code",
   "execution_count": 4,
   "metadata": {},
   "outputs": [],
   "source": [
    "sa.stop_all() "
   ]
  },
  {
   "cell_type": "markdown",
   "metadata": {},
   "source": [
    "# 高速化"
   ]
  },
  {
   "cell_type": "markdown",
   "metadata": {},
   "source": [
    "## Numba でお気楽高速化"
   ]
  },
  {
   "cell_type": "code",
   "execution_count": 95,
   "metadata": {},
   "outputs": [
    {
     "ename": "ModuleNotFoundError",
     "evalue": "No module named 'numba'",
     "output_type": "error",
     "traceback": [
      "\u001b[1;31m---------------------------------------------------------------------------\u001b[0m",
      "\u001b[1;31mModuleNotFoundError\u001b[0m                       Traceback (most recent call last)",
      "\u001b[1;32m<ipython-input-95-76c974caaa51>\u001b[0m in \u001b[0;36m<module>\u001b[1;34m\u001b[0m\n\u001b[1;32m----> 1\u001b[1;33m \u001b[1;32mfrom\u001b[0m \u001b[0mnumba\u001b[0m \u001b[1;32mimport\u001b[0m \u001b[0mjit\u001b[0m\u001b[1;33m\u001b[0m\u001b[1;33m\u001b[0m\u001b[0m\n\u001b[0m\u001b[0;32m      2\u001b[0m \u001b[1;33m\u001b[0m\u001b[0m\n\u001b[0;32m      3\u001b[0m \u001b[1;32mdef\u001b[0m \u001b[0mhoge\u001b[0m\u001b[1;33m(\u001b[0m\u001b[0mxx\u001b[0m\u001b[1;33m)\u001b[0m\u001b[1;33m:\u001b[0m\u001b[1;33m\u001b[0m\u001b[1;33m\u001b[0m\u001b[0m\n\u001b[0;32m      4\u001b[0m     \u001b[0mwa\u001b[0m \u001b[1;33m=\u001b[0m \u001b[1;36m0\u001b[0m\u001b[1;33m\u001b[0m\u001b[1;33m\u001b[0m\u001b[0m\n\u001b[0;32m      5\u001b[0m     \u001b[1;32mfor\u001b[0m \u001b[0mi\u001b[0m \u001b[1;32min\u001b[0m \u001b[0mrange\u001b[0m\u001b[1;33m(\u001b[0m\u001b[0mxx\u001b[0m\u001b[1;33m.\u001b[0m\u001b[0mshape\u001b[0m\u001b[1;33m[\u001b[0m\u001b[1;36m0\u001b[0m\u001b[1;33m]\u001b[0m\u001b[1;33m)\u001b[0m\u001b[1;33m:\u001b[0m\u001b[1;33m\u001b[0m\u001b[1;33m\u001b[0m\u001b[0m\n",
      "\u001b[1;31mModuleNotFoundError\u001b[0m: No module named 'numba'"
     ]
    }
   ],
   "source": [
    "from numba import jit\n",
    "\n",
    "def hoge(xx):\n",
    "    wa = 0\n",
    "    for i in range(xx.shape[0]):\n",
    "        for j in range(xx.shape[1]):\n",
    "            wa = wa + xx[i,j]\n",
    "    return wa\n",
    "\n",
    "@jit\n",
    "def hoge2(xx):\n",
    "    wa = 0\n",
    "    for i in range(xx.shape[0]):\n",
    "        for j in range(xx.shape[1]):\n",
    "            wa = wa + xx[i,j]\n",
    "    return wa\n",
    "\n",
    "xx = np.random.rand(100,100)\n",
    "%timeit hoge(xx)\n",
    "xx = np.random.rand(100,100)\n",
    "%timeit hoge2(xx)\n",
    "\n",
    "xx = np.random.rand(100,100)\n",
    "%timeit hoge(xx)\n",
    "xx = np.random.rand(100,100)\n",
    "%timeit hoge2(xx)"
   ]
  },
  {
   "cell_type": "code",
   "execution_count": 96,
   "metadata": {},
   "outputs": [
    {
     "name": "stdout",
     "output_type": "stream",
     "text": [
      "3.12 µs ± 43.6 ns per loop (mean ± std. dev. of 7 runs, 100000 loops each)\n"
     ]
    }
   ],
   "source": [
    "%timeit np.sum(xx)"
   ]
  },
  {
   "cell_type": "markdown",
   "metadata": {},
   "source": [
    "# デバッグ Debug でばっぐ"
   ]
  },
  {
   "cell_type": "markdown",
   "metadata": {},
   "source": [
    "## エラー発生個所からデバッグ開始"
   ]
  },
  {
   "cell_type": "code",
   "execution_count": 97,
   "metadata": {
    "scrolled": true
   },
   "outputs": [
    {
     "name": "stdout",
     "output_type": "stream",
     "text": [
      "Automatic pdb calling has been turned ON\n"
     ]
    }
   ],
   "source": [
    "%pdb "
   ]
  },
  {
   "cell_type": "code",
   "execution_count": 99,
   "metadata": {},
   "outputs": [
    {
     "ename": "ZeroDivisionError",
     "evalue": "division by zero",
     "output_type": "error",
     "traceback": [
      "\u001b[1;31m---------------------------------------------------------------------------\u001b[0m",
      "\u001b[1;31mZeroDivisionError\u001b[0m                         Traceback (most recent call last)",
      "\u001b[1;32m<ipython-input-99-a8ab1dddb60d>\u001b[0m in \u001b[0;36m<module>\u001b[1;34m\u001b[0m\n\u001b[0;32m      1\u001b[0m \u001b[0mx\u001b[0m\u001b[1;33m=\u001b[0m\u001b[1;36m1\u001b[0m\u001b[1;33m\u001b[0m\u001b[1;33m\u001b[0m\u001b[0m\n\u001b[0;32m      2\u001b[0m \u001b[0my\u001b[0m\u001b[1;33m=\u001b[0m\u001b[1;36m0\u001b[0m\u001b[1;33m\u001b[0m\u001b[1;33m\u001b[0m\u001b[0m\n\u001b[1;32m----> 3\u001b[1;33m \u001b[0mx\u001b[0m\u001b[1;33m/\u001b[0m\u001b[0my\u001b[0m\u001b[1;33m\u001b[0m\u001b[1;33m\u001b[0m\u001b[0m\n\u001b[0m",
      "\u001b[1;31mZeroDivisionError\u001b[0m: division by zero"
     ]
    },
    {
     "name": "stdout",
     "output_type": "stream",
     "text": [
      "> \u001b[1;32m<ipython-input-99-a8ab1dddb60d>\u001b[0m(3)\u001b[0;36m<module>\u001b[1;34m()\u001b[0m\n",
      "\u001b[1;32m      1 \u001b[1;33m\u001b[0mx\u001b[0m\u001b[1;33m=\u001b[0m\u001b[1;36m1\u001b[0m\u001b[1;33m\u001b[0m\u001b[1;33m\u001b[0m\u001b[0m\n",
      "\u001b[0m\u001b[1;32m      2 \u001b[1;33m\u001b[0my\u001b[0m\u001b[1;33m=\u001b[0m\u001b[1;36m0\u001b[0m\u001b[1;33m\u001b[0m\u001b[1;33m\u001b[0m\u001b[0m\n",
      "\u001b[0m\u001b[1;32m----> 3 \u001b[1;33m\u001b[0mx\u001b[0m\u001b[1;33m/\u001b[0m\u001b[0my\u001b[0m\u001b[1;33m\u001b[0m\u001b[1;33m\u001b[0m\u001b[0m\n",
      "\u001b[0m\n",
      "ipdb> y\n",
      "0\n",
      "ipdb> q\n"
     ]
    }
   ],
   "source": [
    "x=1\n",
    "y=0\n",
    "x/y"
   ]
  },
  {
   "cell_type": "markdown",
   "metadata": {},
   "source": [
    "## 任意の行からデバッグ開始\n",
    "\n",
    "** break したいコードの直上に以下の一行を張り付ける **"
   ]
  },
  {
   "cell_type": "code",
   "execution_count": null,
   "metadata": {},
   "outputs": [],
   "source": [
    "from IPython.core.debugger import Pdb; Pdb().set_trace() #  break したい所にこの行を張り付ける"
   ]
  },
  {
   "cell_type": "markdown",
   "metadata": {},
   "source": [
    "## プロファイル(Profile)\n",
    "* 以下の関数 func のプロファイルを hunc を呼び出して測定する例\n",
    "* クラスのメソッドも classname.method で指定すればプロファイルできる。\n"
   ]
  },
  {
   "cell_type": "code",
   "execution_count": null,
   "metadata": {},
   "outputs": [],
   "source": [
    "# Line Profile\n",
    "# http://gouthamanbalaraman.com/blog/profiling-python-jupyter-notebooks.html\n",
    "%load_ext line_profiler\n",
    "%lprun -f func hunc(50000, 0.5) # 測定対象関数(func)を -f で指定して、それを含む関数(hunc)を呼ぶ"
   ]
  },
  {
   "cell_type": "markdown",
   "metadata": {},
   "source": [
    "# その他"
   ]
  },
  {
   "cell_type": "markdown",
   "metadata": {},
   "source": [
    "## リスト内包と条件文"
   ]
  },
  {
   "cell_type": "code",
   "execution_count": 101,
   "metadata": {},
   "outputs": [
    {
     "name": "stdout",
     "output_type": "stream",
     "text": [
      "[6, 7, 8, 9]\n",
      "[0, 0, 0, 0, 0, 0, 6, 7, 8, 9]\n"
     ]
    }
   ],
   "source": [
    "x = range(10)\n",
    "print( [i for i in x if i>5] )\n",
    "print( [i if i > 5 else 0 for i in x ] )\n",
    "# print( [i if i > 5 for i in x ] ) # Error\n"
   ]
  },
  {
   "cell_type": "markdown",
   "metadata": {},
   "source": [
    "##  grep"
   ]
  },
  {
   "cell_type": "code",
   "execution_count": 102,
   "metadata": {},
   "outputs": [
    {
     "data": {
      "text/plain": [
       "['dog', 'dog2']"
      ]
     },
     "execution_count": 102,
     "metadata": {},
     "output_type": "execute_result"
    }
   ],
   "source": [
    "animals = [ 'dog', 'cat', 'monkey', 'dog2', 'cat2', 'monke2' ]\n",
    "key = 'dog'\n",
    "[ item for item in animals if key in item]"
   ]
  },
  {
   "cell_type": "code",
   "execution_count": null,
   "metadata": {},
   "outputs": [],
   "source": [
    "#! /usr/bin/env python\n",
    "# -*- coding: utf-8 -*\n",
    "\n",
    "# %grep key1 key2 kye3 ... filename\n",
    "import sys\n",
    "ld = open(sys.argv[-1])\n",
    "lines = ld.readlines()\n",
    "ld.close()\n",
    "\n",
    "for line in lines:\n",
    "    for key in sys.argv[1:-1]:\n",
    "        if key in line:\n",
    "            print (line.rstrip()) # 改行を削除"
   ]
  },
  {
   "cell_type": "code",
   "execution_count": 3,
   "metadata": {},
   "outputs": [],
   "source": [
    "%qtconsole\n"
   ]
  },
  {
   "cell_type": "markdown",
   "metadata": {},
   "source": [
    "## 改行なしで文字列を出力したい\n",
    "[参考](http://www.lifewithpython.com/2013/12/python-print-without-.html)<br>\n",
    "ひとつめは print string, を使う方法です。\n"
   ]
  },
  {
   "cell_type": "code",
   "execution_count": 103,
   "metadata": {},
   "outputs": [
    {
     "ename": "SyntaxError",
     "evalue": "Missing parentheses in call to 'print'. Did you mean print(\"hello\", end=\" \")? (<ipython-input-103-24a9405638d1>, line 1)",
     "output_type": "error",
     "traceback": [
      "\u001b[1;36m  File \u001b[1;32m\"<ipython-input-103-24a9405638d1>\"\u001b[1;36m, line \u001b[1;32m1\u001b[0m\n\u001b[1;33m    print \"hello\",\u001b[0m\n\u001b[1;37m                ^\u001b[0m\n\u001b[1;31mSyntaxError\u001b[0m\u001b[1;31m:\u001b[0m Missing parentheses in call to 'print'. Did you mean print(\"hello\", end=\" \")?\n"
     ]
    }
   ],
   "source": [
    "# Python 2 \n",
    "\"\"\"\n",
    "print \"hello\",\n",
    "print \"hello\",\n",
    "print \"hello\"\n",
    "\"\"\""
   ]
  },
  {
   "cell_type": "markdown",
   "metadata": {},
   "source": [
    "もうひとつは sys.stdout.write() を使う方法です。"
   ]
  },
  {
   "cell_type": "code",
   "execution_count": 104,
   "metadata": {},
   "outputs": [
    {
     "name": "stdout",
     "output_type": "stream",
     "text": [
      "hellohellohello"
     ]
    }
   ],
   "source": [
    "import sys\n",
    "sys.stdout.write(\"hello\")\n",
    "sys.stdout.write(\"hello\")\n",
    "sys.stdout.write(\"hello\")"
   ]
  },
  {
   "cell_type": "markdown",
   "metadata": {},
   "source": [
    "Python3で改行を入れてほしくない場合は次のようにするとよいようです。"
   ]
  },
  {
   "cell_type": "code",
   "execution_count": 105,
   "metadata": {},
   "outputs": [
    {
     "name": "stdout",
     "output_type": "stream",
     "text": [
      "hellohello"
     ]
    }
   ],
   "source": [
    "# case in Python 3\n",
    "print(\"hello\", end=\"\")\n",
    "print(\"hello\", end=\"\")"
   ]
  },
  {
   "cell_type": "markdown",
   "metadata": {},
   "source": [
    "ちなみに、Python2.6以降であれば、次の一文を宣言すると、 print 文を上書きする形でPython3の print 関数を使うことができるようになります。"
   ]
  },
  {
   "cell_type": "code",
   "execution_count": null,
   "metadata": {},
   "outputs": [],
   "source": [
    "## case in Python 2.6~\n",
    "# from __future__ import print_function\n",
    "# print(\"hello\", end=\"\")\n",
    "# print(\"hello\", end=\"\")"
   ]
  },
  {
   "cell_type": "markdown",
   "metadata": {},
   "source": [
    "## 文字列から改行を削除\n",
    " * line.rstrip()\n",
    " * line[:-1]\n",
    " "
   ]
  },
  {
   "cell_type": "markdown",
   "metadata": {},
   "source": [
    "## global変数\n",
    "関数の中でグローバル変数は参照できるが、そのままでは変更できない。\n",
    "global 変数名 でグローバル宣言すると変更できる。\n",
    "宣言せずに代入すると別インスタンスが生成される模様。\n"
   ]
  },
  {
   "cell_type": "markdown",
   "metadata": {},
   "source": [
    "## 組み込み例外\n",
    "https://docs.python.jp/3/library/exceptions.html"
   ]
  },
  {
   "cell_type": "code",
   "execution_count": 26,
   "metadata": {},
   "outputs": [
    {
     "ename": "TypeError",
     "evalue": "オブジェクトの型が正しくない",
     "output_type": "error",
     "traceback": [
      "\u001b[1;31m---------------------------------------------------------------------------\u001b[0m",
      "\u001b[1;31mTypeError\u001b[0m                                 Traceback (most recent call last)",
      "\u001b[1;32m<ipython-input-26-f75aa2374312>\u001b[0m in \u001b[0;36m<module>\u001b[1;34m\u001b[0m\n\u001b[1;32m----> 1\u001b[1;33m \u001b[1;32mraise\u001b[0m \u001b[0mTypeError\u001b[0m\u001b[1;33m(\u001b[0m \u001b[1;34m\"オブジェクトの型が正しくない\"\u001b[0m\u001b[1;33m)\u001b[0m\u001b[1;33m\u001b[0m\u001b[1;33m\u001b[0m\u001b[0m\n\u001b[0m\u001b[0;32m      2\u001b[0m \u001b[1;32mraise\u001b[0m \u001b[0mValueError\u001b[0m\u001b[1;33m(\u001b[0m\u001b[1;34m\"値が不適切\"\u001b[0m\u001b[1;33m)\u001b[0m\u001b[1;33m\u001b[0m\u001b[1;33m\u001b[0m\u001b[0m\n",
      "\u001b[1;31mTypeError\u001b[0m: オブジェクトの型が正しくない"
     ]
    }
   ],
   "source": [
    "raise TypeError( \"オブジェクトの型が正しくない\")\n",
    "raise ValueError(\"値が不適切\")\n",
    "raise Exception(\"何たらErrorの上位クラス。該当エラーがなければとりあえず\")\n",
    "raise NotImplementedError(\"You have to implement this method.\")"
   ]
  },
  {
   "cell_type": "markdown",
   "metadata": {},
   "source": [
    "## リストのアンパック"
   ]
  },
  {
   "cell_type": "code",
   "execution_count": 27,
   "metadata": {},
   "outputs": [
    {
     "name": "stdout",
     "output_type": "stream",
     "text": [
      "1\n",
      "2\n",
      "[1]\n",
      "1\n"
     ]
    },
    {
     "ename": "ValueError",
     "evalue": "too many values to unpack (expected 2)",
     "output_type": "error",
     "traceback": [
      "\u001b[1;31m---------------------------------------------------------------------------\u001b[0m",
      "\u001b[1;31mValueError\u001b[0m                                Traceback (most recent call last)",
      "\u001b[1;32m<ipython-input-27-ef80e8c911f7>\u001b[0m in \u001b[0;36m<module>\u001b[1;34m\u001b[0m\n\u001b[0;32m      7\u001b[0m \u001b[0ma\u001b[0m\u001b[1;33m,\u001b[0m \u001b[1;33m=\u001b[0m \u001b[1;33m[\u001b[0m\u001b[1;36m1\u001b[0m\u001b[1;33m]\u001b[0m\u001b[1;33m\u001b[0m\u001b[1;33m\u001b[0m\u001b[0m\n\u001b[0;32m      8\u001b[0m \u001b[0mprint\u001b[0m\u001b[1;33m(\u001b[0m\u001b[0ma\u001b[0m\u001b[1;33m)\u001b[0m\u001b[1;33m\u001b[0m\u001b[1;33m\u001b[0m\u001b[0m\n\u001b[1;32m----> 9\u001b[1;33m \u001b[0ma\u001b[0m\u001b[1;33m,\u001b[0m\u001b[0mb\u001b[0m \u001b[1;33m=\u001b[0m \u001b[1;33m[\u001b[0m\u001b[1;36m1\u001b[0m\u001b[1;33m,\u001b[0m\u001b[1;36m2\u001b[0m\u001b[1;33m,\u001b[0m\u001b[1;36m3\u001b[0m\u001b[1;33m]\u001b[0m \u001b[1;31m# 数が合わないとエラーになる\u001b[0m\u001b[1;33m\u001b[0m\u001b[1;33m\u001b[0m\u001b[0m\n\u001b[0m",
      "\u001b[1;31mValueError\u001b[0m: too many values to unpack (expected 2)"
     ]
    }
   ],
   "source": [
    "a,b,c= ( 1,2,3 )\n",
    "print(a)\n",
    "a,b,c = [1,2,3]\n",
    "print(b)\n",
    "a = [1]\n",
    "print(a)\n",
    "a, = [1]\n",
    "print(a)\n",
    "a,b = [1,2,3] # 数が合わないとエラーになる\n"
   ]
  },
  {
   "cell_type": "markdown",
   "metadata": {},
   "source": [
    "## 可変引数\n",
    "* *はアンパックの意味。\n",
    "* 引数ならアンパックして関数に渡す\n",
    "* 仮引数なら引数の個数分へのアンパックと解釈される\n",
    "* *一つがリストの可変引数。受け取った引数は指定した順序でタプルに格納されます\n",
    "* *二つがキーワード可変長引数。受け取った引数はキーワードと値の対を要素とする辞書になる（順序は保存されない）"
   ]
  },
  {
   "cell_type": "code",
   "execution_count": 28,
   "metadata": {},
   "outputs": [
    {
     "name": "stdout",
     "output_type": "stream",
     "text": [
      "(1, 2, 'dog')\n",
      "(1, 2, 'dog')\n",
      "((1, 2, 'dog'),)\n"
     ]
    }
   ],
   "source": [
    "def fn ( *arg ):\n",
    "    print (arg)\n",
    "    \n",
    "fn( 1,2,'dog')\n",
    "fn( *(1,2,'dog'))\n",
    "fn( (1,2,'dog') )\n"
   ]
  },
  {
   "cell_type": "code",
   "execution_count": 22,
   "metadata": {},
   "outputs": [
    {
     "name": "stdout",
     "output_type": "stream",
     "text": [
      "1 2\n"
     ]
    }
   ],
   "source": [
    "# 逆もできる\n",
    "def fn( a, b ):\n",
    "    print( a, b )\n",
    "\n",
    "fn( *(1,2) )"
   ]
  },
  {
   "cell_type": "code",
   "execution_count": 30,
   "metadata": {},
   "outputs": [
    {
     "name": "stdout",
     "output_type": "stream",
     "text": [
      "{'a': 1, 'b': 2, 'c': 2}\n",
      "{'a': 1, 'b': 2, 'c': 3}\n"
     ]
    }
   ],
   "source": [
    "def fn( **arg):\n",
    "    print (arg)\n",
    "\n",
    "fn( a=1, b=2, c=2)\n",
    "fn( **{'a':1,'b':2, 'c':3} )"
   ]
  },
  {
   "cell_type": "markdown",
   "metadata": {},
   "source": [
    "## あるオブジェクトが特定のクラスのインスタンスかチェックしたい"
   ]
  },
  {
   "cell_type": "code",
   "execution_count": 31,
   "metadata": {},
   "outputs": [
    {
     "name": "stdout",
     "output_type": "stream",
     "text": [
      "True\n",
      "True\n"
     ]
    }
   ],
   "source": [
    "s = \"hello\"\n",
    "print( type(s) == str ) \n",
    "print( isinstance( s, str ) )"
   ]
  },
  {
   "cell_type": "markdown",
   "metadata": {},
   "source": [
    "## PEP8\n",
    "\n",
    "* すべての行の長さを、最大79文字までに制限しましょう。\n",
    "* (docstring やコメントのように) 構造に関する制約が少ないテキストのブロックについては、1行72文字までに制限すべきです。\n",
    "* 長い行は文を括弧で囲むことで、複数行に分割できます。行を継続させるには、バックスラッシュよりもこれらを使用すべきです。\n",
    "* トップレベルの関数やクラスは、2行ずつ空けて定義するようにしてください。\n",
    "* 括弧やブラケット、波括弧 のはじめの直後と、終わりの直前には空白を入れない\n",
    "* 二項演算子の前後に空白を入れることが推奨されるのは、代入演算子 (=), 拡張代入演算子 (+=, -= など.), 比較演算子 (==, <, >, !=, <>, <=, >=, in, not in, is, is not), ブール演算子 (and, or, not).\n",
    "* それ以外の二項演算子は、優先順位が一番低い演算子の両側にスペースを入れる。優先順位差がない場合は全て入れる。\n",
    "\n",
    "とりあえずここまで"
   ]
  },
  {
   "cell_type": "markdown",
   "metadata": {},
   "source": [
    "## deque"
   ]
  },
  {
   "cell_type": "code",
   "execution_count": 5,
   "metadata": {},
   "outputs": [
    {
     "name": "stdout",
     "output_type": "stream",
     "text": [
      "deque([], maxlen=3)\n",
      "deque([1, 2], maxlen=3)\n",
      "deque([0, 1, 2], maxlen=3) [0 1 2]\n",
      "deque([1, 2, 3], maxlen=3)\n",
      "3 deque([1, 2], maxlen=3)\n",
      "deque([1], maxlen=3)\n",
      "deque([], maxlen=3)\n"
     ]
    }
   ],
   "source": [
    "from collections import deque\n",
    "d = deque(maxlen=3)\n",
    "print(d)\n",
    "d.extend([1,2])\n",
    "print(d)\n",
    "d.appendleft( 0 )\n",
    "print(d, np.array(d))\n",
    "d.append( 3 )\n",
    "print(d)\n",
    "x = d.pop()\n",
    "print(x,d)\n",
    "d.remove(2)\n",
    "print(d)\n",
    "d.clear()\n",
    "print(d)\n"
   ]
  },
  {
   "cell_type": "code",
   "execution_count": 12,
   "metadata": {},
   "outputs": [
    {
     "name": "stdout",
     "output_type": "stream",
     "text": [
      "deque([1, 1, 2], maxlen=3)\n"
     ]
    }
   ],
   "source": [
    "d.append( 2 )\n",
    "print(d)"
   ]
  },
  {
   "cell_type": "code",
   "execution_count": 20,
   "metadata": {},
   "outputs": [
    {
     "ename": "TypeError",
     "evalue": "sequence index must be integer, not 'tuple'",
     "output_type": "error",
     "traceback": [
      "\u001b[1;31m---------------------------------------------------------------------------\u001b[0m",
      "\u001b[1;31mTypeError\u001b[0m                                 Traceback (most recent call last)",
      "\u001b[1;32m<ipython-input-20-62bdea058da1>\u001b[0m in \u001b[0;36m<module>\u001b[1;34m\u001b[0m\n\u001b[1;32m----> 1\u001b[1;33m \u001b[0md\u001b[0m\u001b[1;33m[\u001b[0m\u001b[1;36m2\u001b[0m\u001b[1;33m,\u001b[0m\u001b[1;36m1\u001b[0m\u001b[1;33m]\u001b[0m\u001b[1;33m\u001b[0m\u001b[1;33m\u001b[0m\u001b[0m\n\u001b[0m",
      "\u001b[1;31mTypeError\u001b[0m: sequence index must be integer, not 'tuple'"
     ]
    }
   ],
   "source": [
    "d[2,1]"
   ]
  },
  {
   "cell_type": "markdown",
   "metadata": {},
   "source": [
    "## while/for else\n",
    "whileループの中でelseが効果的なのは、次のようにbreakと組み合わせた時です。"
   ]
  },
  {
   "cell_type": "code",
   "execution_count": 2,
   "metadata": {},
   "outputs": [
    {
     "name": "stdout",
     "output_type": "stream",
     "text": [
      "negative value\n"
     ]
    }
   ],
   "source": [
    "x = [ 1,2,3,-10]\n",
    "for i in x:\n",
    "    if i < 0:\n",
    "        print( 'negative value')\n",
    "        break\n",
    "else:    \n",
    "    print( 'all positive')"
   ]
  },
  {
   "cell_type": "code",
   "execution_count": 100,
   "metadata": {},
   "outputs": [
    {
     "name": "stdout",
     "output_type": "stream",
     "text": [
      "[0.7257722438432532, 0.7552603804234889, 0.5344441456189899, 0.6332073743092161, 1.661136611364163] ループが正常に終了しました。\n"
     ]
    }
   ],
   "source": [
    "nums = []\n",
    "\n",
    "while len(nums) < 5:\n",
    "    num = np.random.randn()\n",
    "    if num < 0:\n",
    "        print(nums, f'値が{num}なので中断しました。')\n",
    "        break\n",
    "    nums.append(num)\n",
    "else:\n",
    "    print(nums, f'ループが正常に終了しました。')"
   ]
  },
  {
   "cell_type": "markdown",
   "metadata": {},
   "source": []
  },
  {
   "cell_type": "markdown",
   "metadata": {},
   "source": [
    "## namedtuple\n",
    "namedtupleは通常のtupleと同じようにイミュータブルです。一旦何かを格納すると、変更することはできません。Read Only のデータを安全に保管することができます。\n",
    "\n",
    "namedtupleに格納されたオブジェクトには、ユニークな（人間に読みやすい）名前でアクセスすることができます。数値のインデックスを覚える必要はありません。"
   ]
  },
  {
   "cell_type": "code",
   "execution_count": 5,
   "metadata": {},
   "outputs": [
    {
     "name": "stdout",
     "output_type": "stream",
     "text": [
      "red 3000\n"
     ]
    }
   ],
   "source": [
    "from collections import namedtuple\n",
    "Car = namedtuple('Car' , 'color mileage')\n",
    "mycar = Car( 'red', 3000 )\n",
    "print( mycar.color, mycar.mileage )"
   ]
  },
  {
   "cell_type": "markdown",
   "metadata": {},
   "source": [
    "# Sympy\n",
    "[参考１](http://myenigma.hatenablog.com/entry/2015/11/21/222755#連立方程式を解く)"
   ]
  },
  {
   "cell_type": "markdown",
   "metadata": {},
   "source": [
    "## 基本"
   ]
  },
  {
   "cell_type": "code",
   "execution_count": 2,
   "metadata": {},
   "outputs": [],
   "source": [
    "from sympy import *\n",
    "init_printing()\n",
    "\n",
    "var('x') # x = Symbol('x')でもよい\n",
    "#eq1 = (x-1)*(x-2)\n",
    "eq1 = ( sin(x) -1 )*( sin(x) - 2 )"
   ]
  },
  {
   "cell_type": "code",
   "execution_count": 3,
   "metadata": {},
   "outputs": [
    {
     "data": {
      "image/png": "[encoded data removed]",
      "text/latex": [
       "$\\displaystyle \\sin^{2}{\\left(x \\right)} - 3 \\sin{\\left(x \\right)} + 2$"
      ],
      "text/plain": [
       "   2                  \n",
       "sin (x) - 3⋅sin(x) + 2"
      ]
     },
     "execution_count": 3,
     "metadata": {},
     "output_type": "execute_result"
    }
   ],
   "source": [
    "expand(eq1)"
   ]
  },
  {
   "cell_type": "code",
   "execution_count": 4,
   "metadata": {},
   "outputs": [
    {
     "data": {
      "image/png": "[encoded data removed]",
      "text/latex": [
       "$\\displaystyle \\left[ \\frac{\\pi}{2}, \\  \\pi - \\operatorname{asin}{\\left(2 \\right)}, \\  \\operatorname{asin}{\\left(2 \\right)}\\right]$"
      ],
      "text/plain": [
       "⎡π                      ⎤\n",
       "⎢─, π - asin(2), asin(2)⎥\n",
       "⎣2                      ⎦"
      ]
     },
     "execution_count": 4,
     "metadata": {},
     "output_type": "execute_result"
    }
   ],
   "source": [
    "solve(eq1)"
   ]
  },
  {
   "cell_type": "code",
   "execution_count": 5,
   "metadata": {},
   "outputs": [
    {
     "data": {
      "image/png": "[encoded data removed]",
      "text/latex": [
       "$\\displaystyle 2 \\sin{\\left(x \\right)} \\cos{\\left(x \\right)} - 3 \\cos{\\left(x \\right)}$"
      ],
      "text/plain": [
       "2⋅sin(x)⋅cos(x) - 3⋅cos(x)"
      ]
     },
     "execution_count": 5,
     "metadata": {},
     "output_type": "execute_result"
    }
   ],
   "source": [
    "expand( diff(eq1) )"
   ]
  },
  {
   "cell_type": "code",
   "execution_count": 6,
   "metadata": {},
   "outputs": [
    {
     "data": {
      "image/png": "[encoded data removed]",
      "text/latex": [
       "$\\displaystyle \\frac{x \\sin^{2}{\\left(x \\right)}}{2} + \\frac{x \\cos^{2}{\\left(x \\right)}}{2} + 2 x - \\frac{\\sin{\\left(x \\right)} \\cos{\\left(x \\right)}}{2} + 3 \\cos{\\left(x \\right)}$"
      ],
      "text/plain": [
       "     2           2                                    \n",
       "x⋅sin (x)   x⋅cos (x)         sin(x)⋅cos(x)           \n",
       "───────── + ───────── + 2⋅x - ───────────── + 3⋅cos(x)\n",
       "    2           2                   2                 "
      ]
     },
     "execution_count": 6,
     "metadata": {},
     "output_type": "execute_result"
    }
   ],
   "source": [
    "integrate(eq1)"
   ]
  },
  {
   "cell_type": "code",
   "execution_count": 7,
   "metadata": {},
   "outputs": [
    {
     "data": {
      "image/png": "[encoded data removed]",
      "text/latex": [
       "$\\displaystyle 2 - 3 x + x^{2} + \\frac{x^{3}}{2} - \\frac{x^{4}}{3} - \\frac{x^{5}}{40} + O\\left(x^{6}\\right)$"
      ],
      "text/plain": [
       "                3    4    5        \n",
       "           2   x    x    x     ⎛ 6⎞\n",
       "2 - 3⋅x + x  + ── - ── - ── + O⎝x ⎠\n",
       "               2    3    40        "
      ]
     },
     "execution_count": 7,
     "metadata": {},
     "output_type": "execute_result"
    }
   ],
   "source": [
    "eq1.series(x)"
   ]
  },
  {
   "cell_type": "code",
   "execution_count": 8,
   "metadata": {},
   "outputs": [
    {
     "data": {
      "image/png": "[encoded data removed]",
      "text/latex": [
       "$\\displaystyle 2.0$"
      ],
      "text/plain": [
       "2.00000000000000"
      ]
     },
     "execution_count": 8,
     "metadata": {},
     "output_type": "execute_result"
    }
   ],
   "source": [
    "eq1.subs([(x,np.pi)])"
   ]
  },
  {
   "cell_type": "markdown",
   "metadata": {},
   "source": [
    "## 連立方程式を解く"
   ]
  },
  {
   "cell_type": "code",
   "execution_count": 9,
   "metadata": {
    "scrolled": true
   },
   "outputs": [
    {
     "data": {
      "image/png": "[encoded data removed]",
      "text/latex": [
       "$\\displaystyle \\left[ \\left( 13, \\  -2, \\  9\\right), \\  \\left( \\frac{39}{4} - \\frac{9 \\sqrt{17}}{4}, \\  - \\frac{9 \\sqrt{17}}{4} - \\frac{21}{4}, \\  \\frac{31}{2} + \\frac{9 \\sqrt{17}}{2}\\right), \\  \\left( \\frac{9 \\sqrt{17}}{4} + \\frac{39}{4}, \\  - \\frac{21}{4} + \\frac{9 \\sqrt{17}}{4}, \\  \\frac{31}{2} - \\frac{9 \\sqrt{17}}{2}\\right)\\right]$"
      ],
      "text/plain": [
       "⎡             ⎛39   9⋅√17    9⋅√17   21  31   9⋅√17⎞  ⎛9⋅√17   39    21   9⋅√1\n",
       "⎢(13, -2, 9), ⎜── - ─────, - ───── - ──, ── + ─────⎟, ⎜───── + ──, - ── + ────\n",
       "⎣             ⎝4      4        4     4   2      2  ⎠  ⎝  4     4     4      4 \n",
       "\n",
       "7  31   9⋅√17⎞⎤\n",
       "─, ── - ─────⎟⎥\n",
       "   2      2  ⎠⎦"
      ]
     },
     "execution_count": 9,
     "metadata": {},
     "output_type": "execute_result"
    }
   ],
   "source": [
    "var( 'x y z' ) # x, y, z = symbols('x y z')でもよい\n",
    "eq1=x * y * z + 234\n",
    "eq2=x + y + z - 20\n",
    "eq3=5 * x - y + 2 * z - 85\n",
    "solve([eq1,eq2,eq3], [x,y,z])"
   ]
  },
  {
   "cell_type": "markdown",
   "metadata": {},
   "source": [
    "## 数式エディタとして使う"
   ]
  },
  {
   "cell_type": "code",
   "execution_count": 10,
   "metadata": {},
   "outputs": [
    {
     "data": {
      "image/png": "[encoded data removed]",
      "text/latex": [
       "$\\displaystyle \\frac{\\sqrt{2} \\left(- e^{a} \\sin{\\left(a + \\frac{\\pi}{4} \\right)} + e^{b} \\sin{\\left(b + \\frac{\\pi}{4} \\right)}\\right)}{2}$"
      ],
      "text/plain": [
       "   ⎛   a    ⎛    π⎞    b    ⎛    π⎞⎞\n",
       "√2⋅⎜- ℯ ⋅sin⎜a + ─⎟ + ℯ ⋅sin⎜b + ─⎟⎟\n",
       "   ⎝        ⎝    4⎠         ⎝    4⎠⎠\n",
       "────────────────────────────────────\n",
       "                 2                  "
      ]
     },
     "metadata": {},
     "output_type": "display_data"
    },
    {
     "name": "stdout",
     "output_type": "stream",
     "text": [
      "\\frac{\\sqrt{2} \\left(- e^{a} \\sin{\\left(a + \\frac{\\pi}{4} \\right)} + e^{b} \\sin{\\left(b + \\frac{\\pi}{4} \\right)}\\right)}{2}\n"
     ]
    }
   ],
   "source": [
    "# LaTeXで数式を表示\n",
    "init_printing()\n",
    "\n",
    "# 記号xを定義\n",
    "var(\"a b x y\")\n",
    "\n",
    "# f(x)=exp(x)*cos(x)\n",
    "f = exp(x) * cos(x)\n",
    "\n",
    "# f(x)をaからbまでxで積\n",
    "fi = integrate(f, (x, a, b))\n",
    "\n",
    "# 数式をまとめる（整理する）\n",
    "fi = simplify(fi)\n",
    "\n",
    "# 数式をLaTeXで表示\n",
    "display(fi)\n",
    "\n",
    "# 数式のLaTeXコマンドを表示\n",
    "print(latex(fi))"
   ]
  },
  {
   "cell_type": "markdown",
   "metadata": {},
   "source": [
    "上のlatexをコピーして編集\n",
    "$$\n",
    "\\int_0^1 \\frac{\\sqrt{2}}{2} \\left(- e^{a} \\sin{\\left (a + \\frac{\\pi}{4} \\right )} + e^{b} \\sin{\\left (b + \\frac{\\pi}{4} \\right )}\\right) dx\n",
    "$$\n"
   ]
  },
  {
   "cell_type": "markdown",
   "metadata": {
    "collapsed": true
   },
   "source": [
    "# Cupy"
   ]
  },
  {
   "cell_type": "code",
   "execution_count": 1,
   "metadata": {},
   "outputs": [
    {
     "name": "stdout",
     "output_type": "stream",
     "text": [
      "<class 'numpy.int32'>  is a scalar\n",
      "<class 'cupy.core.core.ndarray'>  is an array\n"
     ]
    }
   ],
   "source": [
    "import cupy\n",
    "\n",
    "an = np.array( range(3) )\n",
    "print( type(an[0]), \" is a scalar\")\n",
    "ac = cupy.array( range(3) )\n",
    "print( type(ac[0]), \" is an array\")\n"
   ]
  },
  {
   "cell_type": "markdown",
   "metadata": {},
   "source": [
    "# Keras\n",
    "https://keras.io/getting-started/faq/#how-can-i-obtain-the-output-of-an-intermediate-layer"
   ]
  },
  {
   "cell_type": "markdown",
   "metadata": {},
   "source": [
    "## 中間層の取得\n",
    "https://keras.io/getting-started/faq/#how-can-i-obtain-the-output-of-an-intermediate-layer"
   ]
  },
  {
   "cell_type": "code",
   "execution_count": null,
   "metadata": {},
   "outputs": [],
   "source": [
    "encoded = Dense(encoding_dim, activation='sigmoid', name='encoder')(encoded) # 適当なnameを付ける\n",
    "decoded = Dense(hidden_dim, activation='sigmoid')(encoded)\n",
    "\n",
    "autoencoder = Model(inputs=input_layer, outputs=decoded)\n",
    "autoencoder.compile(optimizer='adam', loss='mean_squared_error')\n",
    "encoder = Model(inputs=autoencoder.input, outputs=autoencoder.get_layer('encoder').output) # 特にcompile はしなくて良い\n",
    "\n",
    "autoencoder.fit(...)\n",
    "autoencoder.predict(...)\n",
    "encoder.predict(...)"
   ]
  },
  {
   "cell_type": "code",
   "execution_count": null,
   "metadata": {},
   "outputs": [],
   "source": []
  }
 ],
 "metadata": {
  "anaconda-cloud": {},
  "kernelspec": {
   "display_name": "Python 3",
   "language": "python",
   "name": "python3"
  },
  "language_info": {
   "codemirror_mode": {
    "name": "ipython",
    "version": 3
   },
   "file_extension": ".py",
   "mimetype": "text/x-python",
   "name": "python",
   "nbconvert_exporter": "python",
   "pygments_lexer": "ipython3",
   "version": "3.7.6"
  },
  "toc": {
   "base_numbering": 1,
   "nav_menu": {},
   "number_sections": true,
   "sideBar": true,
   "skip_h1_title": false,
   "title_cell": "Table of Contents",
   "title_sidebar": "Contents",
   "toc_cell": false,
   "toc_position": {
    "height": "604.417px",
    "left": "0px",
    "right": "782.7px",
    "top": "110.583px",
    "width": "206.867px"
   },
   "toc_section_display": "block",
   "toc_window_display": true
  }
 },
 "nbformat": 4,
 "nbformat_minor": 1
}
