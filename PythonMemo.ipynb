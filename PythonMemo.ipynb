{
 "cells": [
  {
   "cell_type": "code",
   "execution_count": 1,
   "metadata": {
    "collapsed": false
   },
   "outputs": [],
   "source": [
    "import numpy as np\n",
    "import scipy as sp\n",
    "import matplotlib.pyplot as plt\n",
    "%matplotlib inline\n"
   ]
  },
  {
   "cell_type": "markdown",
   "metadata": {},
   "source": [
    "# Markdownの例\n",
    "\n",
    "[参考1](http://qiita.com/Thermidor/items/b684cfabe0f2fde0c67b)<br>\n",
    "[参考2](http://qiita.com/tbpgr/items/989c6badefff69377da7)\n",
    "\n",
    "---\n",
    "\n",
    "# hedding\n",
    "## hedding\n",
    "### hedding\n",
    "abcd\n",
    "----\n",
    "### abcd ###\n",
    "abcd\n",
    "\n",
    "abcd **bold** hijk *italic* opqr\n",
    "\n",
    "* hoge\n",
    "  * hoge\n",
    "    * hogege\n",
    "\n",
    "> inyo\n",
    "> inyo\n",
    "> inyo\n",
    "\n",
    "inline program ` printf(\"hello-world\")` hoge hoge\n",
    "\n",
    "| Left | Center | Right | \n",
    "|:---|:---:|---:|\n",
    "| 111 | 222 | 333 |\n",
    "| e | f | g |\n",
    "\n",
    "```python\n",
    "def f(x):\n",
    "    \"\"\"a docstring\"\"\"\n",
    "    return x**2\n",
    "```\n",
    "\n",
    "abcd\n",
    "\n",
    "---\n",
    "    \n",
    "$$\n",
    "\\begin{align}\n",
    "\\sum_{k=1}^{\\infty} \\frac{1}{k^2} = \\frac{\\pi^2}{6}\n",
    "\\end{align}\n",
    "$$\n"
   ]
  },
  {
   "cell_type": "code",
   "execution_count": null,
   "metadata": {
    "collapsed": true
   },
   "outputs": [],
   "source": []
  },
  {
   "cell_type": "markdown",
   "metadata": {},
   "source": [
    "# 関数の引数は値渡し？参照渡し？\n",
    "\n",
    "[参考](http://rcmdnk.github.io/blog/2015/07/08/computer-python/)<br>\n",
    "[参考２](http://qiita.com/urakarin/items/1d6e0e76bffb9297606e)\n",
    "\n",
    "Pythonでは関数に値を渡す時にその**参照**が渡されます。\n",
    "\n",
    "ですが、渡された関数内で変更されるとき、 渡した値自体が変更されるかどうかは 渡されたオブジェクトのタイプによります。\n",
    "\n",
    "オブジェクトのタイプは**Immutable**(変更不可)と**Mutable**(変更可能)に分けられます。\n",
    "\n",
    "Immutable: int, float, str, tuple 等\n",
    "Mutable: list, set, dict 等\n",
    "このうち、Mutableな値が関数に渡された場合、 中で変更すると値の変更が外にも反映されますが、 Immutableなものに関しては変更されません。\n",
    "\n",
    "ただ、これもちょっと注意する必要があって、 listでもlist内の項目を変更したり値を追加したりするのではなく、 新たなlist自体を与える様な事をする場合は外では書き換えられません。"
   ]
  },
  {
   "cell_type": "code",
   "execution_count": 7,
   "metadata": {
    "collapsed": false
   },
   "outputs": [
    {
     "name": "stdout",
     "output_type": "stream",
     "text": [
      "fn:  [1, 2, 3] 120019784\n",
      "Default value [1, 2, 3] 120019784\n",
      "fn:  [4, 2, 3] 120019784\n",
      "Not Default value [4, 2, 3] 120019784\n"
     ]
    }
   ],
   "source": [
    "def fn(x=[1,2,3]):\n",
    "    print 'fn: ', x, id(x)\n",
    "    return x\n",
    "\n",
    "x = fn()\n",
    "print 'Default value', x, id(x)\n",
    "\n",
    "x[0] = 4\n",
    "\n",
    "y = fn()\n",
    "print 'Not Default value', y, id(y)\n"
   ]
  },
  {
   "cell_type": "markdown",
   "metadata": {},
   "source": [
    "# アンパック"
   ]
  },
  {
   "cell_type": "code",
   "execution_count": null,
   "metadata": {
    "collapsed": true
   },
   "outputs": [],
   "source": []
  },
  {
   "cell_type": "markdown",
   "metadata": {},
   "source": [
    "# プロットのサンプル\n",
    "参考ページ<br>\n",
    "http://seesaawiki.jp/met-python/d/matplotlib"
   ]
  },
  {
   "cell_type": "code",
   "execution_count": 8,
   "metadata": {
    "collapsed": false
   },
   "outputs": [
    {
     "data": {
      "image/png": "[encoded data removed]",
      "text/plain": [
       "<matplotlib.figure.Figure at 0x555dcf0>"
      ]
     },
     "metadata": {},
     "output_type": "display_data"
    }
   ],
   "source": [
    "import numpy as np\n",
    "import matplotlib.pyplot as plt\n",
    "from matplotlib.ticker import FormatStrFormatter\n",
    "import matplotlib.gridspec as gridspec\n",
    "import matplotlib.font_manager # 日本語\n",
    "%matplotlib inline\n",
    "\n",
    "prop = matplotlib.font_manager.FontProperties(fname=\"C:/WIndows/Fonts/meiryo.ttc\")\n",
    "fig = plt.figure(figsize=[8,6])\n",
    "G = gridspec.GridSpec(2,3)\n",
    "\n",
    "### Figure 1\n",
    "width=0.1\n",
    "ax = plt.subplot(G[0,:2])\n",
    "plt.grid(True)\n",
    "plt.xlabel('x label')\n",
    "plt.ylabel('y label')\n",
    "plt.title('Feature Importances')\n",
    "plt.bar([0,1,2,3], [10,20,30,40], width=width, color='lightblue', align='center')\n",
    "plt.xticks([0,1,2,3], ['zero','ichi','ni','san'], rotation=90)\n",
    "ax.set_yticks( range(0,51,10) )\n",
    "ax.set_yticklabels( [ u'零', u'十', u'二十',  u'三十',  u'四十', u'五十' ] ,fontproperties=prop)\n",
    "#plt.xlim([-1, 4])\n",
    "#plt.tight_layout()\n",
    "\n",
    "### Figure 2\n",
    "plt.subplot(G[1,:2])\n",
    "plt.plot( np.arange(0, 0.2, 0.01), np.arange( 0, 0.4, 0.02), 'bo-', markersize=4  )\n",
    "plt.xticks( np.arange(0, 0.2, 0.0125))\n",
    "# tick step\n",
    "plt.xticks( np.arange(0, 0.2, 0.0125))\n",
    "# virtical lines\n",
    "plt.axvline( 0.1, color='r')\n",
    "plt.vlines( [0.14,0.18], [0.1,0.15], [0.2, 0.25], colors=['g','k']) # ( x, ymin, ymax, ... )\n",
    "ax = plt.gca()\n",
    "# precision\n",
    "ax.xaxis.set_major_formatter( FormatStrFormatter('%0.1f'))\n",
    "ax.yaxis.set_major_formatter( FormatStrFormatter('%0.4f'))\n",
    "\n",
    "### Figure 3\n",
    "plt.subplot(G[:,2])\n",
    "\n",
    "### After the plot\n",
    "plt.savefig('plot_sample.png', dpi=300)\n",
    "plt.show()"
   ]
  },
  {
   "cell_type": "markdown",
   "metadata": {},
   "source": [
    "# Pandasのサンプル\n",
    "参考<br>\n",
    "http://sinhrks.hatenablog.com/entry/2014/11/12/233216"
   ]
  },
  {
   "cell_type": "code",
   "execution_count": 10,
   "metadata": {
    "collapsed": false,
    "scrolled": true
   },
   "outputs": [
    {
     "name": "stdout",
     "output_type": "stream",
     "text": [
      "   C1  C2  C3\n",
      "0  11  12  13\n",
      "1  21  22  23\n",
      "2  31  32  33\n",
      "   C1  C2  C3\n",
      "0  11  12  13\n",
      "2  31  32  33\n",
      "int32\n",
      "int32\n",
      "   C1\n",
      "0  11\n",
      "1  21\n",
      "   C1\n",
      "0  11\n"
     ]
    }
   ],
   "source": [
    "import pandas as pd\n",
    "import numpy as np\n",
    "df = pd.DataFrame({'C1': [11, 21, 31],\n",
    "                   'C2': [12, 22, 32],\n",
    "                   'C3': [13, 23, 33]})\n",
    "print df\n",
    "print df [[True, False, True]]\n",
    "ary = df.values.astype(np.int32)\n",
    "idx = df.index.values.astype(np.int32)\n",
    "print ary.dtype\n",
    "print idx.dtype\n",
    "print df.ix[:1,:1]  # including index=1 (loc behavior), NOT including column=1(iloc behavior)\n",
    "print df.iloc[:1,:1] # use iloc for location index"
   ]
  },
  {
   "cell_type": "markdown",
   "metadata": {},
   "source": [
    "## ボタン等のつけ方\n",
    "[参考](http://myenigma.hatenablog.com/entry/2015/08/30/223559)"
   ]
  },
  {
   "cell_type": "code",
   "execution_count": null,
   "metadata": {
    "collapsed": true
   },
   "outputs": [],
   "source": []
  },
  {
   "cell_type": "markdown",
   "metadata": {},
   "source": [
    "# Waveファイルの扱い\n",
    "[参考1](http://yukara-13.hatenablog.com/entry/2013/11/09/103848)<br>\n",
    "[参考2](http://qiita.com/yu_tailsfox/items/86380a0d4d016e1634f1)<br>\n",
    "[参考3](https://docs.scipy.org/doc/scipy-0.18.1/reference/io.html)"
   ]
  },
  {
   "cell_type": "code",
   "execution_count": 11,
   "metadata": {
    "collapsed": false
   },
   "outputs": [
    {
     "name": "stdout",
     "output_type": "stream",
     "text": [
      "Sampling rate : 32000\n"
     ]
    }
   ],
   "source": [
    "# -*- coding: utf-8 -*-\n",
    "#from scipy.io.wavfile import read as siw\n",
    "import scipy.io.wavfile as siw\n",
    "\n",
    "#wavfile = \"./test.wav\"\n",
    "wavfile = \"../pydub/test/data/test1.wav\"\n",
    "\n",
    "fs, data = siw.read(wavfile)\n",
    "\n",
    "print \"Sampling rate :\", fs\n",
    "\n",
    "if (data.shape[1] == 2):\n",
    "    left = data[:, 0]\n",
    "    right = data[:, 1]\n",
    "\n",
    "siw.write( \"test_out.wav\",  fs, data )"
   ]
  },
  {
   "cell_type": "markdown",
   "metadata": {},
   "source": [
    "# 連立方程式を解く\n",
    "[参考１](http://myenigma.hatenablog.com/entry/2015/11/21/222755#連立方程式を解く)"
   ]
  },
  {
   "cell_type": "markdown",
   "metadata": {},
   "source": [
    "# 改行なしで文字列を出力したい\n",
    "[参考](http://www.lifewithpython.com/2013/12/python-print-without-.html)<br>\n",
    "ひとつめは print string, を使う方法です。\n"
   ]
  },
  {
   "cell_type": "code",
   "execution_count": 12,
   "metadata": {
    "collapsed": false
   },
   "outputs": [
    {
     "name": "stdout",
     "output_type": "stream",
     "text": [
      "hello hello hello\n"
     ]
    }
   ],
   "source": [
    "print \"hello\",\n",
    "print \"hello\",\n",
    "print \"hello\""
   ]
  },
  {
   "cell_type": "markdown",
   "metadata": {},
   "source": [
    "もうひとつは sys.stdout.write() を使う方法です。"
   ]
  },
  {
   "cell_type": "code",
   "execution_count": 13,
   "metadata": {
    "collapsed": false
   },
   "outputs": [
    {
     "name": "stdout",
     "output_type": "stream",
     "text": [
      "hellohellohello"
     ]
    }
   ],
   "source": [
    "import sys\n",
    "sys.stdout.write(\"hello\")\n",
    "sys.stdout.write(\"hello\")\n",
    "sys.stdout.write(\"hello\")"
   ]
  },
  {
   "cell_type": "markdown",
   "metadata": {},
   "source": [
    "Python3で改行を入れてほしくない場合は次のようにするとよいようです。"
   ]
  },
  {
   "cell_type": "code",
   "execution_count": 16,
   "metadata": {
    "collapsed": false
   },
   "outputs": [
    {
     "name": "stdout",
     "output_type": "stream",
     "text": [
      "hellohello"
     ]
    }
   ],
   "source": [
    "# case in Python 3\n",
    "print(\"hello\", end=\"\")\n",
    "print(\"hello\", end=\"\")"
   ]
  },
  {
   "cell_type": "markdown",
   "metadata": {},
   "source": [
    "ちなみに、Python2.6以降であれば、次の一文を宣言すると、 print 文を上書きする形でPython3の print 関数を使うことができるようになります。"
   ]
  },
  {
   "cell_type": "code",
   "execution_count": 15,
   "metadata": {
    "collapsed": false
   },
   "outputs": [
    {
     "name": "stdout",
     "output_type": "stream",
     "text": [
      "hellohello"
     ]
    }
   ],
   "source": [
    "## case in Python 2.6~\n",
    "# from __future__ import print_function\n",
    "# print(\"hello\", end=\"\")\n",
    "# print(\"hello\", end=\"\")"
   ]
  },
  {
   "cell_type": "markdown",
   "metadata": {},
   "source": [
    "# global変数\n",
    "関数の中でグローバル変数は参照できるが、そのままでは変更できない。\n",
    "global 変数名 でグローバル宣言すると変更できる。\n",
    "宣言せずに代入すると別インスタンスが生成される模様。\n"
   ]
  },
  {
   "cell_type": "markdown",
   "metadata": {},
   "source": [
    "# Numpy関係"
   ]
  },
  {
   "cell_type": "markdown",
   "metadata": {},
   "source": [
    "## 配列の基本"
   ]
  },
  {
   "cell_type": "code",
   "execution_count": 1,
   "metadata": {
    "collapsed": false,
    "scrolled": true
   },
   "outputs": [
    {
     "name": "stdout",
     "output_type": "stream",
     "text": [
      "[3, 4] [3 4]\n",
      "4 4\n",
      "<type 'int'> <type 'numpy.int32'>\n"
     ]
    }
   ],
   "source": [
    "aa = [[1,2],[3,4]]\n",
    "aanp = np.array(aa)\n",
    "print aa[1], aanp[1] \n",
    "print aa[1][1], aanp[1][1]\n",
    "print type(aa[1][1]), type(aanp[1][1])\n"
   ]
  },
  {
   "cell_type": "code",
   "execution_count": 2,
   "metadata": {
    "collapsed": false
   },
   "outputs": [
    {
     "ename": "TypeError",
     "evalue": "list indices must be integers, not list",
     "output_type": "error",
     "traceback": [
      "\u001b[1;31m---------------------------------------------------------------------------\u001b[0m",
      "\u001b[1;31mTypeError\u001b[0m                                 Traceback (most recent call last)",
      "\u001b[1;32m<ipython-input-2-6ae298c1c191>\u001b[0m in \u001b[0;36m<module>\u001b[1;34m()\u001b[0m\n\u001b[1;32m----> 1\u001b[1;33m \u001b[1;32mprint\u001b[0m \u001b[0maa\u001b[0m\u001b[1;33m[\u001b[0m\u001b[1;33m[\u001b[0m\u001b[1;36m0\u001b[0m\u001b[1;33m]\u001b[0m\u001b[1;33m]\u001b[0m\u001b[1;33m\u001b[0m\u001b[0m\n\u001b[0m",
      "\u001b[1;31mTypeError\u001b[0m: list indices must be integers, not list"
     ]
    }
   ],
   "source": [
    "print aa[[0]]"
   ]
  },
  {
   "cell_type": "code",
   "execution_count": 7,
   "metadata": {
    "collapsed": false
   },
   "outputs": [
    {
     "name": "stdout",
     "output_type": "stream",
     "text": [
      "[[1 2]]\n",
      "[[1 2]\n",
      " [3 4]]\n",
      "[3 4]\n"
     ]
    }
   ],
   "source": [
    "print aanp[[0]]\n",
    "print aanp[[0,1]]\n",
    "print aanp[[0,1,1,0]][2]"
   ]
  },
  {
   "cell_type": "code",
   "execution_count": 4,
   "metadata": {
    "collapsed": false
   },
   "outputs": [
    {
     "name": "stdout",
     "output_type": "stream",
     "text": [
      "[[3 4]\n",
      " [3 4]]\n"
     ]
    },
    {
     "name": "stderr",
     "output_type": "stream",
     "text": [
      "C:\\Anaconda2\\lib\\site-packages\\ipykernel\\__main__.py:1: FutureWarning: in the future, boolean array-likes will be handled as a boolean array index\n",
      "  if __name__ == '__main__':\n"
     ]
    }
   ],
   "source": [
    "print aanp[[True,True]]"
   ]
  },
  {
   "cell_type": "code",
   "execution_count": 5,
   "metadata": {
    "collapsed": false
   },
   "outputs": [
    {
     "name": "stdout",
     "output_type": "stream",
     "text": [
      "[[1 2]\n",
      " [3 4]]\n"
     ]
    }
   ],
   "source": [
    "print aanp[np.array([True,True])]"
   ]
  },
  {
   "cell_type": "code",
   "execution_count": 6,
   "metadata": {
    "collapsed": false
   },
   "outputs": [
    {
     "name": "stdout",
     "output_type": "stream",
     "text": [
      "[1 2]\n"
     ]
    }
   ],
   "source": [
    "print aanp[np.array([True,True])][0]"
   ]
  },
  {
   "cell_type": "code",
   "execution_count": 7,
   "metadata": {
    "collapsed": false
   },
   "outputs": [
    {
     "name": "stdout",
     "output_type": "stream",
     "text": [
      "[[ True False]\n",
      " [False False]]\n"
     ]
    }
   ],
   "source": [
    "print aanp == 1"
   ]
  },
  {
   "cell_type": "code",
   "execution_count": 8,
   "metadata": {
    "collapsed": false
   },
   "outputs": [
    {
     "name": "stdout",
     "output_type": "stream",
     "text": [
      "[1]\n",
      "1\n",
      "1\n",
      "<type 'numpy.ndarray'>\n"
     ]
    }
   ],
   "source": [
    "print aanp[aanp == 1]\n",
    "print aanp[0,0]\n",
    "print aanp[0][0]\n",
    "print type(aanp[aanp==1])"
   ]
  },
  {
   "cell_type": "code",
   "execution_count": 9,
   "metadata": {
    "collapsed": false
   },
   "outputs": [
    {
     "name": "stdout",
     "output_type": "stream",
     "text": [
      "(1,)\n",
      "()\n"
     ]
    },
    {
     "ename": "AttributeError",
     "evalue": "'int' object has no attribute 'shape'",
     "output_type": "error",
     "traceback": [
      "\u001b[1;31m---------------------------------------------------------------------------\u001b[0m",
      "\u001b[1;31mAttributeError\u001b[0m                            Traceback (most recent call last)",
      "\u001b[1;32m<ipython-input-9-c926b3ef7e26>\u001b[0m in \u001b[0;36m<module>\u001b[1;34m()\u001b[0m\n\u001b[0;32m      1\u001b[0m \u001b[1;32mprint\u001b[0m \u001b[1;33m(\u001b[0m\u001b[0maanp\u001b[0m\u001b[1;33m[\u001b[0m\u001b[0maanp\u001b[0m\u001b[1;33m==\u001b[0m\u001b[1;36m1\u001b[0m\u001b[1;33m]\u001b[0m\u001b[1;33m)\u001b[0m\u001b[1;33m.\u001b[0m\u001b[0mshape\u001b[0m\u001b[1;33m\u001b[0m\u001b[0m\n\u001b[0;32m      2\u001b[0m \u001b[1;32mprint\u001b[0m \u001b[0maanp\u001b[0m\u001b[1;33m[\u001b[0m\u001b[1;36m0\u001b[0m\u001b[1;33m]\u001b[0m\u001b[1;33m[\u001b[0m\u001b[1;36m0\u001b[0m\u001b[1;33m]\u001b[0m\u001b[1;33m.\u001b[0m\u001b[0mshape\u001b[0m\u001b[1;33m\u001b[0m\u001b[0m\n\u001b[1;32m----> 3\u001b[1;33m \u001b[1;32mprint\u001b[0m \u001b[0maa\u001b[0m\u001b[1;33m[\u001b[0m\u001b[1;36m0\u001b[0m\u001b[1;33m]\u001b[0m\u001b[1;33m[\u001b[0m\u001b[1;36m0\u001b[0m\u001b[1;33m]\u001b[0m\u001b[1;33m.\u001b[0m\u001b[0mshape\u001b[0m\u001b[1;33m\u001b[0m\u001b[0m\n\u001b[0m",
      "\u001b[1;31mAttributeError\u001b[0m: 'int' object has no attribute 'shape'"
     ]
    }
   ],
   "source": [
    "print (aanp[aanp==1]).shape\n",
    "print aanp[0][0].shape\n",
    "print aa[0][0].shape"
   ]
  },
  {
   "cell_type": "markdown",
   "metadata": {},
   "source": [
    "## テーブルルックアップ"
   ]
  },
  {
   "cell_type": "code",
   "execution_count": 17,
   "metadata": {
    "collapsed": false
   },
   "outputs": [
    {
     "data": {
      "text/plain": [
       "array([[5, 4, 3],\n",
       "       [2, 1, 0]])"
      ]
     },
     "execution_count": 17,
     "metadata": {},
     "output_type": "execute_result"
    }
   ],
   "source": [
    "table = np.array([5,4,3,2,1,0])\n",
    "indata = np.array([[0,1,2],[3,4,5]])\n",
    "table[indata]\n"
   ]
  },
  {
   "cell_type": "markdown",
   "metadata": {},
   "source": [
    "## ravelと flattenの違い\n",
    "ravel は可能な限りコピーを作らず見た目だけを変えるのに対し、flattenはコピーを返す"
   ]
  },
  {
   "cell_type": "code",
   "execution_count": 10,
   "metadata": {
    "collapsed": false
   },
   "outputs": [
    {
     "name": "stdout",
     "output_type": "stream",
     "text": [
      "[1 2 3 4] [1 2 3 4] [1 3 2 4]\n"
     ]
    }
   ],
   "source": [
    "aa = np.array( [[1,2],[3,4]])\n",
    "print aa.ravel(), aa.ravel('C'), aa.ravel('F')"
   ]
  },
  {
   "cell_type": "markdown",
   "metadata": {
    "collapsed": true
   },
   "source": [
    "## numpy.bincount()\n",
    "配列に含まれている０と１の数を数えるのに便利"
   ]
  },
  {
   "cell_type": "code",
   "execution_count": 11,
   "metadata": {
    "collapsed": false
   },
   "outputs": [
    {
     "data": {
      "text/plain": [
       "array([4, 3])"
      ]
     },
     "execution_count": 11,
     "metadata": {},
     "output_type": "execute_result"
    }
   ],
   "source": [
    "a = [0, 1, 0, 1, 1, 0, 0]\n",
    "np.bincount(a)"
   ]
  },
  {
   "cell_type": "markdown",
   "metadata": {
    "collapsed": true
   },
   "source": [
    "# Numpy配列のbroadcasting(次元の拡張)\n",
    "Numpy が配列全てを変換して同じサイズを持つようにできる場合に行われる変換を broadcasting と呼びます。"
   ]
  },
  {
   "cell_type": "code",
   "execution_count": 12,
   "metadata": {
    "collapsed": false
   },
   "outputs": [
    {
     "data": {
      "text/plain": [
       "array([[ 0.        ,  1.        ,  2.        ,  3.        ,  4.        ],\n",
       "       [ 1.        ,  1.41421356,  2.23606798,  3.16227766,  4.12310563],\n",
       "       [ 2.        ,  2.23606798,  2.82842712,  3.60555128,  4.47213595],\n",
       "       [ 3.        ,  3.16227766,  3.60555128,  4.24264069,  5.        ],\n",
       "       [ 4.        ,  4.12310563,  4.47213595,  5.        ,  5.65685425]])"
      ]
     },
     "execution_count": 12,
     "metadata": {},
     "output_type": "execute_result"
    }
   ],
   "source": [
    "x = np.arange(5)\n",
    "y = np.arange(5)[:,np.newaxis]\n",
    "distance = np.sqrt(x ** 2 + y ** 2)\n",
    "distance"
   ]
  },
  {
   "cell_type": "markdown",
   "metadata": {},
   "source": [
    "# reshape の -1"
   ]
  },
  {
   "cell_type": "markdown",
   "metadata": {},
   "source": [
    "配列の総要素数が不明の場合は，大きさが不明な次元で -1 を指定すると適切な値が自動的に設定されます．"
   ]
  },
  {
   "cell_type": "code",
   "execution_count": 13,
   "metadata": {
    "collapsed": false
   },
   "outputs": [
    {
     "data": {
      "text/plain": [
       "array([[0, 1, 2],\n",
       "       [3, 4, 5]])"
      ]
     },
     "execution_count": 13,
     "metadata": {},
     "output_type": "execute_result"
    }
   ],
   "source": [
    "np.arange(6).reshape((2, -1))"
   ]
  },
  {
   "cell_type": "code",
   "execution_count": 14,
   "metadata": {
    "collapsed": false
   },
   "outputs": [
    {
     "data": {
      "text/plain": [
       "array([[0],\n",
       "       [1],\n",
       "       [2],\n",
       "       [3],\n",
       "       [4]])"
      ]
     },
     "execution_count": 14,
     "metadata": {},
     "output_type": "execute_result"
    }
   ],
   "source": [
    "np.arange(5).reshape((-1,1))"
   ]
  },
  {
   "cell_type": "markdown",
   "metadata": {},
   "source": [
    "# バイナリファイルを一次元配列として全部読み込む"
   ]
  },
  {
   "cell_type": "code",
   "execution_count": 15,
   "metadata": {
    "collapsed": false
   },
   "outputs": [
    {
     "data": {
      "text/plain": [
       "array([221391921, 875311882])"
      ]
     },
     "execution_count": 15,
     "metadata": {},
     "output_type": "execute_result"
    }
   ],
   "source": [
    "with open( 'foo.csv', 'rb') as fp:\n",
    "    data = np.fromfile( fp, dtype=np.int32 )\n",
    "data"
   ]
  },
  {
   "cell_type": "markdown",
   "metadata": {},
   "source": [
    "## csv ファイルの読み書き"
   ]
  },
  {
   "cell_type": "code",
   "execution_count": 16,
   "metadata": {
    "collapsed": false
   },
   "outputs": [
    {
     "name": "stdout",
     "output_type": "stream",
     "text": [
      "int32\n"
     ]
    }
   ],
   "source": [
    "data = np.genfromtxt( \"foo.csv\", dtype=int, delimiter=\",\" ) # loadtxtも可だが、欠落データをnanで埋めてくれる機能はない\n",
    "print data.dtype\n",
    "np.savetxt(\"bar.csv\", data, delimiter=\",\", fmt=\"%d\")"
   ]
  },
  {
   "cell_type": "markdown",
   "metadata": {},
   "source": [
    "## Numba でお気楽高速化"
   ]
  },
  {
   "cell_type": "code",
   "execution_count": 18,
   "metadata": {
    "collapsed": false
   },
   "outputs": [
    {
     "name": "stdout",
     "output_type": "stream",
     "text": [
      "100 loops, best of 3: 5.12 ms per loop\n",
      "The slowest run took 6625.25 times longer than the fastest. This could mean that an intermediate result is being cached.\n",
      "100000 loops, best of 3: 12.6 µs per loop\n",
      "100 loops, best of 3: 5.04 ms per loop\n",
      "100000 loops, best of 3: 12.6 µs per loop\n"
     ]
    }
   ],
   "source": [
    "from numba import jit\n",
    "\n",
    "def hoge(xx):\n",
    "    wa = 0\n",
    "    for i in range(xx.shape[0]):\n",
    "        for j in range(xx.shape[1]):\n",
    "            wa = wa + xx[i,j]\n",
    "    return wa\n",
    "\n",
    "@jit\n",
    "def hoge2(xx):\n",
    "    wa = 0\n",
    "    for i in range(xx.shape[0]):\n",
    "        for j in range(xx.shape[1]):\n",
    "            wa = wa + xx[i,j]\n",
    "    return wa\n",
    "\n",
    "xx = np.random.rand(100,100)\n",
    "%timeit hoge(xx)\n",
    "xx = np.random.rand(100,100)\n",
    "%timeit hoge2(xx)\n",
    "\n",
    "xx = np.random.rand(100,100)\n",
    "%timeit hoge(xx)\n",
    "xx = np.random.rand(100,100)\n",
    "%timeit hoge2(xx)"
   ]
  },
  {
   "cell_type": "code",
   "execution_count": 19,
   "metadata": {
    "collapsed": false
   },
   "outputs": [
    {
     "name": "stdout",
     "output_type": "stream",
     "text": [
      "The slowest run took 4.68 times longer than the fastest. This could mean that an intermediate result is being cached.\n",
      "100000 loops, best of 3: 16.4 µs per loop\n"
     ]
    }
   ],
   "source": [
    "%timeit np.sum(xx)"
   ]
  },
  {
   "cell_type": "markdown",
   "metadata": {},
   "source": [
    "## 行列のスプリット\n",
    "array_split は割り切れない場合は適当に配分してくれるが、split はエラーになる"
   ]
  },
  {
   "cell_type": "code",
   "execution_count": 18,
   "metadata": {
    "collapsed": false
   },
   "outputs": [
    {
     "name": "stdout",
     "output_type": "stream",
     "text": [
      "<type 'list'>\n",
      "<type 'numpy.ndarray'>\n",
      "[array([0, 1, 2, 3]), array([4, 5, 6]), array([7, 8, 9])]\n"
     ]
    },
    {
     "ename": "ValueError",
     "evalue": "array split does not result in an equal division",
     "output_type": "error",
     "traceback": [
      "\u001b[1;31m---------------------------------------------------------------------------\u001b[0m",
      "\u001b[1;31mValueError\u001b[0m                                Traceback (most recent call last)",
      "\u001b[1;32m<ipython-input-18-003d066e7c82>\u001b[0m in \u001b[0;36m<module>\u001b[1;34m()\u001b[0m\n\u001b[0;32m      6\u001b[0m \u001b[1;32mprint\u001b[0m \u001b[0maa\u001b[0m\u001b[1;33m\u001b[0m\u001b[0m\n\u001b[0;32m      7\u001b[0m \u001b[1;31m# case error\u001b[0m\u001b[1;33m\u001b[0m\u001b[1;33m\u001b[0m\u001b[0m\n\u001b[1;32m----> 8\u001b[1;33m \u001b[0mnp\u001b[0m\u001b[1;33m.\u001b[0m\u001b[0msplit\u001b[0m\u001b[1;33m(\u001b[0m\u001b[0ma\u001b[0m\u001b[1;33m,\u001b[0m\u001b[1;36m3\u001b[0m\u001b[1;33m)\u001b[0m\u001b[1;33m\u001b[0m\u001b[0m\n\u001b[0m",
      "\u001b[1;32mC:\\Anaconda2\\lib\\site-packages\\numpy\\lib\\shape_base.pyc\u001b[0m in \u001b[0;36msplit\u001b[1;34m(ary, indices_or_sections, axis)\u001b[0m\n\u001b[0;32m    498\u001b[0m         \u001b[1;32mif\u001b[0m \u001b[0mN\u001b[0m \u001b[1;33m%\u001b[0m \u001b[0msections\u001b[0m\u001b[1;33m:\u001b[0m\u001b[1;33m\u001b[0m\u001b[0m\n\u001b[0;32m    499\u001b[0m             raise ValueError(\n\u001b[1;32m--> 500\u001b[1;33m                 'array split does not result in an equal division')\n\u001b[0m\u001b[0;32m    501\u001b[0m     \u001b[0mres\u001b[0m \u001b[1;33m=\u001b[0m \u001b[0marray_split\u001b[0m\u001b[1;33m(\u001b[0m\u001b[0mary\u001b[0m\u001b[1;33m,\u001b[0m \u001b[0mindices_or_sections\u001b[0m\u001b[1;33m,\u001b[0m \u001b[0maxis\u001b[0m\u001b[1;33m)\u001b[0m\u001b[1;33m\u001b[0m\u001b[0m\n\u001b[0;32m    502\u001b[0m     \u001b[1;32mreturn\u001b[0m \u001b[0mres\u001b[0m\u001b[1;33m\u001b[0m\u001b[0m\n",
      "\u001b[1;31mValueError\u001b[0m: array split does not result in an equal division"
     ]
    }
   ],
   "source": [
    "a = np.array(range(10))\n",
    "# splits tekito-ni\n",
    "aa = np.array_split( a, 3 )\n",
    "print type(aa)\n",
    "print type(aa[0])\n",
    "print aa\n",
    "# causes error\n",
    "np.split(a,3)"
   ]
  },
  {
   "cell_type": "markdown",
   "metadata": {},
   "source": [
    "## 次元の追加、削減"
   ]
  },
  {
   "cell_type": "code",
   "execution_count": 54,
   "metadata": {
    "collapsed": false
   },
   "outputs": [
    {
     "data": {
      "text/plain": [
       "(1, 3)"
      ]
     },
     "execution_count": 54,
     "metadata": {},
     "output_type": "execute_result"
    }
   ],
   "source": [
    ">>> x = np.array([[[0], [1], [2]]])\n",
    ">>> x.shape\n",
    "(1, 3, 1)\n",
    ">>> xsqz = np.squeeze(x)\n",
    "xsqz.shape\n",
    "(3,)\n",
    ">>> np.squeeze(x, axis=(2,)).shape\n",
    "(1, 3)"
   ]
  },
  {
   "cell_type": "code",
   "execution_count": 53,
   "metadata": {
    "collapsed": false
   },
   "outputs": [
    {
     "name": "stdout",
     "output_type": "stream",
     "text": [
      "(1, 3, 1)\n",
      "(1, 3, 1, 1)\n"
     ]
    }
   ],
   "source": [
    "xsqz_ax1 = xsqz.reshape( [-1,xsqz.size,1] )\n",
    "print xsqz_ax1.shape\n",
    "xsqz_ax2 = xsqz_ax1[:,:,:,np.newaxis]\n",
    "print xsqz_ax2.shape"
   ]
  }
 ],
 "metadata": {
  "anaconda-cloud": {},
  "kernelspec": {
   "display_name": "Python [Root]",
   "language": "python",
   "name": "Python [Root]"
  },
  "language_info": {
   "codemirror_mode": {
    "name": "ipython",
    "version": 2
   },
   "file_extension": ".py",
   "mimetype": "text/x-python",
   "name": "python",
   "nbconvert_exporter": "python",
   "pygments_lexer": "ipython2",
   "version": "2.7.12"
  }
 },
 "nbformat": 4,
 "nbformat_minor": 0
}
