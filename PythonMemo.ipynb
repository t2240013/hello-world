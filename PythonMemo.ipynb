{
 "cells": [
  {
   "cell_type": "markdown",
   "metadata": {
    "toc": true
   },
   "source": [
    "<h1>Table of Contents<span class=\"tocSkip\"></span></h1>\n",
    "<div class=\"toc\" style=\"margin-top: 1em;\"><ul class=\"toc-item\"><li><span><a href=\"#参考資料\" data-toc-modified-id=\"参考資料-1\"><span class=\"toc-item-num\">1&nbsp;&nbsp;</span>参考資料</a></span></li><li><span><a href=\"#Anacondaの設定\" data-toc-modified-id=\"Anacondaの設定-2\"><span class=\"toc-item-num\">2&nbsp;&nbsp;</span>Anacondaの設定</a></span><ul class=\"toc-item\"><li><span><a href=\"#バージョンアップ\" data-toc-modified-id=\"バージョンアップ-2.1\"><span class=\"toc-item-num\">2.1&nbsp;&nbsp;</span>バージョンアップ</a></span></li><li><span><a href=\"#アンインストール\" data-toc-modified-id=\"アンインストール-2.2\"><span class=\"toc-item-num\">2.2&nbsp;&nbsp;</span>アンインストール</a></span></li><li><span><a href=\"#追加インストール時の注意\" data-toc-modified-id=\"追加インストール時の注意-2.3\"><span class=\"toc-item-num\">2.3&nbsp;&nbsp;</span>追加インストール時の注意</a></span></li></ul></li><li><span><a href=\"#Markdownの例\" data-toc-modified-id=\"Markdownの例-3\"><span class=\"toc-item-num\">3&nbsp;&nbsp;</span>Markdownの例</a></span></li><li><span><a href=\"#hedding\" data-toc-modified-id=\"hedding-4\"><span class=\"toc-item-num\">4&nbsp;&nbsp;</span>hedding</a></span><ul class=\"toc-item\"><li><span><a href=\"#hedding\" data-toc-modified-id=\"hedding-4.1\"><span class=\"toc-item-num\">4.1&nbsp;&nbsp;</span>hedding</a></span><ul class=\"toc-item\"><li><span><a href=\"#hedding\" data-toc-modified-id=\"hedding-4.1.1\"><span class=\"toc-item-num\">4.1.1&nbsp;&nbsp;</span>hedding</a></span></li></ul></li><li><span><a href=\"#abcd\" data-toc-modified-id=\"abcd-4.2\"><span class=\"toc-item-num\">4.2&nbsp;&nbsp;</span>abcd</a></span><ul class=\"toc-item\"><li><span><a href=\"#abcd\" data-toc-modified-id=\"abcd-4.2.1\"><span class=\"toc-item-num\">4.2.1&nbsp;&nbsp;</span>abcd</a></span></li><li><span><a href=\"#参考URL\" data-toc-modified-id=\"参考URL-4.2.2\"><span class=\"toc-item-num\">4.2.2&nbsp;&nbsp;</span>参考URL</a></span></li></ul></li></ul></li><li><span><a href=\"#Jupyter-notebookの使い方\" data-toc-modified-id=\"Jupyter-notebookの使い方-5\"><span class=\"toc-item-num\">5&nbsp;&nbsp;</span>Jupyter notebookの使い方</a></span><ul class=\"toc-item\"><li><span><a href=\"#Jupyter-設定\" data-toc-modified-id=\"Jupyter-設定-5.1\"><span class=\"toc-item-num\">5.1&nbsp;&nbsp;</span>Jupyter 設定</a></span></li><li><span><a href=\"#notebook-のimport\" data-toc-modified-id=\"notebook-のimport-5.2\"><span class=\"toc-item-num\">5.2&nbsp;&nbsp;</span>notebook のimport</a></span></li><li><span><a href=\"#ショートカット\" data-toc-modified-id=\"ショートカット-5.3\"><span class=\"toc-item-num\">5.3&nbsp;&nbsp;</span>ショートカット</a></span></li></ul></li><li><span><a href=\"#関数の引数は値渡し？参照渡し？\" data-toc-modified-id=\"関数の引数は値渡し？参照渡し？-6\"><span class=\"toc-item-num\">6&nbsp;&nbsp;</span>関数の引数は値渡し？参照渡し？</a></span><ul class=\"toc-item\"><li><span><a href=\"#インスタンス変数もMutable/Imutableの注意が必要\" data-toc-modified-id=\"インスタンス変数もMutable/Imutableの注意が必要-6.1\"><span class=\"toc-item-num\">6.1&nbsp;&nbsp;</span>インスタンス変数もMutable/Imutableの注意が必要</a></span><ul class=\"toc-item\"><li><span><a href=\"#配列をコピーする場合はcopyメソッドを使わないと同一インスタンスのままになる\" data-toc-modified-id=\"配列をコピーする場合はcopyメソッドを使わないと同一インスタンスのままになる-6.1.1\"><span class=\"toc-item-num\">6.1.1&nbsp;&nbsp;</span>配列をコピーする場合はcopyメソッドを使わないと同一インスタンスのままになる</a></span></li></ul></li></ul></li><li><span><a href=\"#書式\" data-toc-modified-id=\"書式-7\"><span class=\"toc-item-num\">7&nbsp;&nbsp;</span>書式</a></span></li><li><span><a href=\"#プロットのサンプル\" data-toc-modified-id=\"プロットのサンプル-8\"><span class=\"toc-item-num\">8&nbsp;&nbsp;</span>プロットのサンプル</a></span><ul class=\"toc-item\"><li><span><a href=\"#logスケールで表示が空になる場合\" data-toc-modified-id=\"logスケールで表示が空になる場合-8.1\"><span class=\"toc-item-num\">8.1&nbsp;&nbsp;</span>logスケールで表示が空になる場合</a></span></li><li><span><a href=\"#目盛は難しい\" data-toc-modified-id=\"目盛は難しい-8.2\"><span class=\"toc-item-num\">8.2&nbsp;&nbsp;</span>目盛は難しい</a></span></li><li><span><a href=\"#対数表示はもっと難しい\" data-toc-modified-id=\"対数表示はもっと難しい-8.3\"><span class=\"toc-item-num\">8.3&nbsp;&nbsp;</span>対数表示はもっと難しい</a></span><ul class=\"toc-item\"><li><span><a href=\"#サンプルデータ作成\" data-toc-modified-id=\"サンプルデータ作成-8.3.1\"><span class=\"toc-item-num\">8.3.1&nbsp;&nbsp;</span>サンプルデータ作成</a></span></li><li><span><a href=\"#対数表示を試みる\" data-toc-modified-id=\"対数表示を試みる-8.3.2\"><span class=\"toc-item-num\">8.3.2&nbsp;&nbsp;</span>対数表示を試みる</a></span></li><li><span><a href=\"#余談：Analog/Digitalフィルタの違い\" data-toc-modified-id=\"余談：Analog/Digitalフィルタの違い-8.3.3\"><span class=\"toc-item-num\">8.3.3&nbsp;&nbsp;</span>余談：Analog/Digitalフィルタの違い</a></span></li></ul></li><li><span><a href=\"#Artist\" data-toc-modified-id=\"Artist-8.4\"><span class=\"toc-item-num\">8.4&nbsp;&nbsp;</span>Artist</a></span></li></ul></li><li><span><a href=\"#Pandasのサンプル\" data-toc-modified-id=\"Pandasのサンプル-9\"><span class=\"toc-item-num\">9&nbsp;&nbsp;</span>Pandasのサンプル</a></span></li><li><span><a href=\"#ボタン等のつけ方\" data-toc-modified-id=\"ボタン等のつけ方-10\"><span class=\"toc-item-num\">10&nbsp;&nbsp;</span>ボタン等のつけ方</a></span></li><li><span><a href=\"#Waveファイルの扱い\" data-toc-modified-id=\"Waveファイルの扱い-11\"><span class=\"toc-item-num\">11&nbsp;&nbsp;</span>Waveファイルの扱い</a></span></li><li><span><a href=\"#連立方程式を解く\" data-toc-modified-id=\"連立方程式を解く-12\"><span class=\"toc-item-num\">12&nbsp;&nbsp;</span>連立方程式を解く</a></span></li><li><span><a href=\"#改行なしで文字列を出力したい\" data-toc-modified-id=\"改行なしで文字列を出力したい-13\"><span class=\"toc-item-num\">13&nbsp;&nbsp;</span>改行なしで文字列を出力したい</a></span></li><li><span><a href=\"#global変数\" data-toc-modified-id=\"global変数-14\"><span class=\"toc-item-num\">14&nbsp;&nbsp;</span>global変数</a></span></li><li><span><a href=\"#Numpy配列\" data-toc-modified-id=\"Numpy配列-15\"><span class=\"toc-item-num\">15&nbsp;&nbsp;</span>Numpy配列</a></span><ul class=\"toc-item\"><li><span><a href=\"#配列の基本\" data-toc-modified-id=\"配列の基本-15.1\"><span class=\"toc-item-num\">15.1&nbsp;&nbsp;</span>配列の基本</a></span></li><li><span><a href=\"#行列全体のTrue/False\" data-toc-modified-id=\"行列全体のTrue/False-15.2\"><span class=\"toc-item-num\">15.2&nbsp;&nbsp;</span>行列全体のTrue/False</a></span></li><li><span><a href=\"#インデキシング\" data-toc-modified-id=\"インデキシング-15.3\"><span class=\"toc-item-num\">15.3&nbsp;&nbsp;</span>インデキシング</a></span></li><li><span><a href=\"#配列の諸元・比較\" data-toc-modified-id=\"配列の諸元・比較-15.4\"><span class=\"toc-item-num\">15.4&nbsp;&nbsp;</span>配列の諸元・比較</a></span></li><li><span><a href=\"#要素数が１の部分行列を生成すると次元数が減る対策\" data-toc-modified-id=\"要素数が１の部分行列を生成すると次元数が減る対策-15.5\"><span class=\"toc-item-num\">15.5&nbsp;&nbsp;</span>要素数が１の部分行列を生成すると次元数が減る対策</a></span></li><li><span><a href=\"#ゼロ行列の追加（ゼロパディング）\" data-toc-modified-id=\"ゼロ行列の追加（ゼロパディング）-15.6\"><span class=\"toc-item-num\">15.6&nbsp;&nbsp;</span>ゼロ行列の追加（ゼロパディング）</a></span></li><li><span><a href=\"#reshape-の--1\" data-toc-modified-id=\"reshape-の--1-15.7\"><span class=\"toc-item-num\">15.7&nbsp;&nbsp;</span>reshape の -1</a></span></li><li><span><a href=\"#次元の追加、削減\" data-toc-modified-id=\"次元の追加、削減-15.8\"><span class=\"toc-item-num\">15.8&nbsp;&nbsp;</span>次元の追加、削減</a></span></li><li><span><a href=\"#sum-で加算する方向(-axis-)について\" data-toc-modified-id=\"sum-で加算する方向(-axis-)について-15.9\"><span class=\"toc-item-num\">15.9&nbsp;&nbsp;</span>sum で加算する方向( axis )について</a></span></li></ul></li><li><span><a href=\"#便利そうな関数\" data-toc-modified-id=\"便利そうな関数-16\"><span class=\"toc-item-num\">16&nbsp;&nbsp;</span>便利そうな関数</a></span><ul class=\"toc-item\"><li><span><a href=\"#numpy.bincount()\" data-toc-modified-id=\"numpy.bincount()-16.1\"><span class=\"toc-item-num\">16.1&nbsp;&nbsp;</span>numpy.bincount()</a></span></li><li><span><a href=\"#numpy.argmax()\" data-toc-modified-id=\"numpy.argmax()-16.2\"><span class=\"toc-item-num\">16.2&nbsp;&nbsp;</span>numpy.argmax()</a></span></li><li><span><a href=\"#テーブルルックアップ\" data-toc-modified-id=\"テーブルルックアップ-16.3\"><span class=\"toc-item-num\">16.3&nbsp;&nbsp;</span>テーブルルックアップ</a></span></li><li><span><a href=\"#ravelと-flattenの違い\" data-toc-modified-id=\"ravelと-flattenの違い-16.4\"><span class=\"toc-item-num\">16.4&nbsp;&nbsp;</span>ravelと flattenの違い</a></span></li><li><span><a href=\"#ベクトルの差分(diff)、累積加算（cumsum）\" data-toc-modified-id=\"ベクトルの差分(diff)、累積加算（cumsum）-16.5\"><span class=\"toc-item-num\">16.5&nbsp;&nbsp;</span>ベクトルの差分(diff)、累積加算（cumsum）</a></span></li><li><span><a href=\"#入力データを離散化してインデックスを返す(digitize)\" data-toc-modified-id=\"入力データを離散化してインデックスを返す(digitize)-16.6\"><span class=\"toc-item-num\">16.6&nbsp;&nbsp;</span>入力データを離散化してインデックスを返す(digitize)</a></span></li></ul></li><li><span><a href=\"#Numpy配列のbroadcasting(次元の拡張)\" data-toc-modified-id=\"Numpy配列のbroadcasting(次元の拡張)-17\"><span class=\"toc-item-num\">17&nbsp;&nbsp;</span>Numpy配列のbroadcasting(次元の拡張)</a></span></li><li><span><a href=\"#バイナリファイルを一次元配列として全部読み込む\" data-toc-modified-id=\"バイナリファイルを一次元配列として全部読み込む-18\"><span class=\"toc-item-num\">18&nbsp;&nbsp;</span>バイナリファイルを一次元配列として全部読み込む</a></span><ul class=\"toc-item\"><li><span><a href=\"#csv-ファイルの読み書き\" data-toc-modified-id=\"csv-ファイルの読み書き-18.1\"><span class=\"toc-item-num\">18.1&nbsp;&nbsp;</span>csv ファイルの読み書き</a></span></li><li><span><a href=\"#Numba-でお気楽高速化\" data-toc-modified-id=\"Numba-でお気楽高速化-18.2\"><span class=\"toc-item-num\">18.2&nbsp;&nbsp;</span>Numba でお気楽高速化</a></span></li><li><span><a href=\"#行列のスプリット\" data-toc-modified-id=\"行列のスプリット-18.3\"><span class=\"toc-item-num\">18.3&nbsp;&nbsp;</span>行列のスプリット</a></span></li><li><span><a href=\"#可変引数\" data-toc-modified-id=\"可変引数-18.4\"><span class=\"toc-item-num\">18.4&nbsp;&nbsp;</span>可変引数</a></span></li><li><span><a href=\"#漬物(Pickle)\" data-toc-modified-id=\"漬物(Pickle)-18.5\"><span class=\"toc-item-num\">18.5&nbsp;&nbsp;</span>漬物(Pickle)</a></span></li><li><span><a href=\"#あるオブジェクトが特定のクラスのインスタンスかチェックしたい\" data-toc-modified-id=\"あるオブジェクトが特定のクラスのインスタンスかチェックしたい-18.6\"><span class=\"toc-item-num\">18.6&nbsp;&nbsp;</span>あるオブジェクトが特定のクラスのインスタンスかチェックしたい</a></span></li></ul></li><li><span><a href=\"#デバッグ-Debug-でばっぐ\" data-toc-modified-id=\"デバッグ-Debug-でばっぐ-19\"><span class=\"toc-item-num\">19&nbsp;&nbsp;</span>デバッグ Debug でばっぐ</a></span><ul class=\"toc-item\"><li><span><a href=\"#エラー発生個所からデバッグ開始\" data-toc-modified-id=\"エラー発生個所からデバッグ開始-19.1\"><span class=\"toc-item-num\">19.1&nbsp;&nbsp;</span>エラー発生個所からデバッグ開始</a></span></li><li><span><a href=\"#任意の行からデバッグ開始\" data-toc-modified-id=\"任意の行からデバッグ開始-19.2\"><span class=\"toc-item-num\">19.2&nbsp;&nbsp;</span>任意の行からデバッグ開始</a></span></li><li><span><a href=\"#プロファイル(Profile)\" data-toc-modified-id=\"プロファイル(Profile)-19.3\"><span class=\"toc-item-num\">19.3&nbsp;&nbsp;</span>プロファイル(Profile)</a></span></li></ul></li><li><span><a href=\"#その他\" data-toc-modified-id=\"その他-20\"><span class=\"toc-item-num\">20&nbsp;&nbsp;</span>その他</a></span><ul class=\"toc-item\"><li><span><a href=\"#リスト内包と条件文\" data-toc-modified-id=\"リスト内包と条件文-20.1\"><span class=\"toc-item-num\">20.1&nbsp;&nbsp;</span>リスト内包と条件文</a></span><ul class=\"toc-item\"><li><span><a href=\"#grep\" data-toc-modified-id=\"grep-20.1.1\"><span class=\"toc-item-num\">20.1.1&nbsp;&nbsp;</span>grep</a></span></li></ul></li><li><span><a href=\"#組み込み例外\" data-toc-modified-id=\"組み込み例外-20.2\"><span class=\"toc-item-num\">20.2&nbsp;&nbsp;</span>組み込み例外</a></span></li><li><span><a href=\"#リストのアンパック\" data-toc-modified-id=\"リストのアンパック-20.3\"><span class=\"toc-item-num\">20.3&nbsp;&nbsp;</span>リストのアンパック</a></span></li><li><span><a href=\"#解析\" data-toc-modified-id=\"解析-20.4\"><span class=\"toc-item-num\">20.4&nbsp;&nbsp;</span>解析</a></span></li></ul></li></ul></div>"
   ]
  },
  {
   "cell_type": "markdown",
   "metadata": {},
   "source": [
    "# 参考資料\n",
    "http://www.turbare.net/transl/scipy-lecture-notes/index.html"
   ]
  },
  {
   "cell_type": "code",
   "execution_count": 1,
   "metadata": {
    "collapsed": true
   },
   "outputs": [],
   "source": [
    "import numpy as np\n",
    "import scipy as sp\n",
    "import matplotlib.pyplot as plt\n",
    "%matplotlib inline\n"
   ]
  },
  {
   "cell_type": "markdown",
   "metadata": {},
   "source": [
    "# Anacondaの設定"
   ]
  },
  {
   "cell_type": "markdown",
   "metadata": {},
   "source": [
    "## バージョンアップ\n",
    "> conda update conda<br>\n",
    "> conda update anaconda\n",
    "\n",
    "2つ目でパッケージもパラパラいくはずなのだが、そうならなければ何かおかしい。<br>\n",
    "Navigator でAnaconda自体のバージョンを確認してCustomになっていることがあった"
   ]
  },
  {
   "cell_type": "markdown",
   "metadata": {},
   "source": [
    "## アンインストール\n",
    "\n",
    "インストールしたフォルダ内にある Uninstall-Anaconda3.exe を実行"
   ]
  },
  {
   "cell_type": "markdown",
   "metadata": {},
   "source": [
    "## 追加インストール時の注意\n",
    "インストールするディレクトリ名を変えれば複数のAnacondaを入れられる<br>\n",
    "ただし、C:\\Users\\papa\\AppData\\Roaming\\Microsoft\\Windows\\Start Menu\\Programs\\Anaconda3 (64-bit) に作成されるショートカットの一群は Anaconda3(64-bit) のフォルダ名固定のため上書きされる。厄介なことにスタートメニューに作成したタイルがパス名が不整合になるためか消えてしまう。しかし、ショートカット群のパスを元に戻すと自動的にタイルが復活する。新しいAnacondaをディレクトリ名を変えてインストールしてもsys.pathは環境変数から取ってくるためか、従来のpathのままで、実質別環境とならない問題がある。"
   ]
  },
  {
   "cell_type": "markdown",
   "metadata": {},
   "source": [
    "# Markdownの例\n",
    "\n",
    "[参考1](http://qiita.com/Thermidor/items/b684cfabe0f2fde0c67b)<br>\n",
    "[参考2](http://qiita.com/tbpgr/items/989c6badefff69377da7)\n",
    "\n",
    "---\n",
    "\n",
    "# hedding\n",
    "## hedding\n",
    "### hedding\n",
    "abcd\n",
    "----\n",
    "### abcd ###\n",
    "abcd\n",
    "\n",
    "abcd **bold** hijk *italic* opqr\n",
    "\n",
    "* hoge\n",
    "  * hoge\n",
    "    * hogege\n",
    "\n",
    "> inyo\n",
    "> inyo\n",
    "> inyo\n",
    "\n",
    "inline program ` printf(\"hello-world\")` hoge hoge\n",
    "\n",
    "| Left | Center | Right |\n",
    "|:---|:---:|---:|\n",
    "| 111 | 222 | 333 |\n",
    "| e | f | g |\n",
    "\n",
    "```python\n",
    "def f(x):\n",
    "    \"\"\"a docstring\"\"\"\n",
    "    return x**2\n",
    "```\n",
    "\n",
    "abcd\n",
    "\n",
    "---\n",
    "    \n",
    "$$\n",
    "\\begin{align}\n",
    "\\sum_{k=1}^{\\infty} \\frac{1}{k^2} = \\frac{\\pi^2}{6}\n",
    "\\end{align}\n",
    "$$\n",
    "\n",
    "$$\n",
    "\\begin{eqnarray}\n",
    "\\newcommand{\\pdfrac}[2]{\\frac{\\partial #1}{\\partial #2}}\n",
    "\\mathbf{W} & \\gets & \\mathbf{W} - \\eta \\pdfrac{L}{\\mathbf{W}}\n",
    "\\end{eqnarray}\n",
    "$$\n",
    "### 参考URL\n",
    "http://www.latex-cmd.com/ <br>\n",
    "http://jupyter-notebook.readthedocs.io/en/latest/examples/Notebook/Typesetting%20Equations.html"
   ]
  },
  {
   "cell_type": "markdown",
   "metadata": {
    "collapsed": true
   },
   "source": [
    "# Jupyter notebookの使い方"
   ]
  },
  {
   "cell_type": "markdown",
   "metadata": {},
   "source": [
    "## Jupyter 設定\n",
    "* QtConsoleの初期ファイルの作成方法<br>\n",
    "  $ jupyter qtconsole --generate-config<br>\n",
    "  生成先：~/.jupyter/jupyter_qtconsole_config.py<br>\n",
    "\n",
    "* Notebookの初期化ファイルの作成方法<br>\n",
    "  $ jupyter notebook --generate-config<br>\n",
    "  生成先：~/.jupyter/jupyter_notebook_config.py<br>\n",
    "\n",
    "* emacs binding<br>\n",
    "  nbextetions をインストールする<br>\n",
    "  Select CodeMirro Keymap を選択<br>\n",
    "  設定を読むとctrl-n 対策が書いてある（Firefox でしか有効にならない。browerポリシーとバッティングして解決が難しいらしい）<br>\n",
    "  ctrl-Z など独自の設定はemacsバインディング用のjsonファイルを編集<br>\n"
   ]
  },
  {
   "cell_type": "markdown",
   "metadata": {},
   "source": [
    "## notebook のimport\n",
    "参考：https://qiita.com/tdualdir/items/32d3918b4c8dd1f703e7 <br>\n",
    "http://jupyter-notebook.readthedocs.io/en/latest/examples/Notebook/Importing%20Notebooks.html<br>\n",
    "だけど、以下を採用<br>\n",
    "https://qiita.com/junkoda/items/011d44dcc1c8bd0a936a\n",
    "\n",
    "\n"
   ]
  },
  {
   "cell_type": "markdown",
   "metadata": {},
   "source": [
    "## ショートカット\n",
    "参考：https://qiita.com/masafumi_miya/items/6524dbd227705351a00c\n",
    "* コマンドモード\n",
    "\n",
    "|||\n",
    "|:---|:---|\n",
    "| Shift + ↓ | 下の複数のセルを選択 |\n",
    "| 0,0 | カーネルのリスタート | \n",
    "| x | セルを切り取り |\n",
    "| v | 切り取ったセルを下に張り付け |\n"
   ]
  },
  {
   "cell_type": "markdown",
   "metadata": {},
   "source": [
    "# 関数の引数は値渡し？参照渡し？\n",
    "\n",
    "[参考](http://rcmdnk.github.io/blog/2015/07/08/computer-python/)<br>\n",
    "[参考２](http://qiita.com/urakarin/items/1d6e0e76bffb9297606e)\n",
    "\n",
    "Pythonでは関数に値を渡す時にその**参照**が渡されます。\n",
    "\n",
    "ですが、渡された関数内で変更されるとき、 渡した値自体が変更されるかどうかは 渡されたオブジェクトのタイプによります。\n",
    "\n",
    "オブジェクトのタイプは**Immutable**(変更不可)と**Mutable**(変更可能)に分けられます。\n",
    "\n",
    "Immutable: int, float, str, tuple 等\n",
    "Mutable: list, set, dict 等\n",
    "このうち、Mutableな値が関数に渡された場合、 中で変更すると値の変更が外にも反映されますが、 Immutableなものに関しては変更されません。\n",
    "\n",
    "ただ、これもちょっと注意する必要があって、 listでもlist内の項目を変更したり値を追加したりするのではなく、 新たなlist自体を与える様な事をする場合は外では書き換えられません。"
   ]
  },
  {
   "cell_type": "code",
   "execution_count": 30,
   "metadata": {},
   "outputs": [
    {
     "name": "stdout",
     "output_type": "stream",
     "text": [
      "fn:  [1, 2, 3] 162506440\n",
      "Default value [1, 2, 3] 162506440\n",
      "fn:  [4, 2, 3] 162506440\n",
      "Not Default value [4, 2, 3] 162506440\n"
     ]
    }
   ],
   "source": [
    "def fn(x=[1,2,3]):\n",
    "    print 'fn: ', x, id(x)\n",
    "    return x\n",
    "\n",
    "x = fn()\n",
    "print 'Default value', x, id(x)\n",
    "\n",
    "x[0] = 4\n",
    "\n",
    "y = fn()\n",
    "print 'Not Default value', y, id(y)\n"
   ]
  },
  {
   "cell_type": "markdown",
   "metadata": {},
   "source": [
    "##  インスタンス変数もMutable/Imutableの注意が必要"
   ]
  },
  {
   "cell_type": "code",
   "execution_count": 1,
   "metadata": {},
   "outputs": [
    {
     "name": "stdout",
     "output_type": "stream",
     "text": [
      "インスタンス変数は引数と同じIDになる\n",
      "6578768 10\n",
      "6578768 10\n",
      "インスタンス変数が変更されると別IDになる\n",
      "6578768 10\n",
      "6578744 11\n",
      "でも、mutableな変数は別IDにはならず、呼び出し側も値が変わる\n",
      "162430608 [1 2]\n",
      "162430608 [2 3]\n",
      "162430608 [2 3]\n"
     ]
    }
   ],
   "source": [
    "class Hoge():\n",
    "    def __init__(self,val):\n",
    "        self.val = val\n",
    "    def print_val(self):\n",
    "        print id(self.val), self.val\n",
    "    def inc(self):\n",
    "        self.val += 1\n",
    "\n",
    "print \"インスタンス変数は引数と同じIDになる\"\n",
    "aa = 10;\n",
    "hoge = Hoge(aa)\n",
    "print id(aa), aa\n",
    "hoge.print_val()\n",
    "\n",
    "print \"インスタンス変数が変更されると別IDになる\"\n",
    "hoge.inc()\n",
    "print id(aa), aa\n",
    "hoge.print_val()\n",
    "\n",
    "print \"でも、mutableな変数は別IDにはならず、呼び出し側も値が変わる\"\n",
    "bb = np.array([1,2])\n",
    "print id(bb), bb\n",
    "fuga = Hoge(bb)\n",
    "fuga.inc()\n",
    "print id(bb), bb\n",
    "fuga.print_val()"
   ]
  },
  {
   "cell_type": "markdown",
   "metadata": {},
   "source": [
    "### 配列をコピーする場合はcopyメソッドを使わないと同一インスタンスのままになる\n",
    "配列はMutableだから"
   ]
  },
  {
   "cell_type": "code",
   "execution_count": 28,
   "metadata": {},
   "outputs": [
    {
     "name": "stdout",
     "output_type": "stream",
     "text": [
      "numpy array\n",
      "[[1 2]\n",
      " [3 4]]\n",
      "updated as array\n",
      "[[0 0]\n",
      " [3 4]]\n",
      "list\n",
      "[[1, 2], [3, 4]]\n",
      "updated as list \n",
      "[0, [3, 4]]\n",
      "update copy of array\n",
      "[[1 1]\n",
      " [1 1]]\n",
      "original array\n",
      "[[1 2]\n",
      " [3 4]]\n"
     ]
    }
   ],
   "source": [
    "aa = 0\n",
    "aanp = 0\n",
    "copynp = 0\n",
    "\n",
    "def reset_aa():\n",
    "    global aa,aanp,copynp\n",
    "    aa = [[1,2],[3,4]]\n",
    "    aanp = np.array(aa)\n",
    "    copynp = aanp.copy()\n",
    "    \n",
    "reset_aa()\n",
    "print \"numpy array\\n\",aanp\n",
    "bbnp = aanp\n",
    "bbnp[0] = 0;\n",
    "print \"updated as array\\n\",aanp\n",
    "\n",
    "reset_aa()\n",
    "print \"list\\n\", aa\n",
    "bb = aa\n",
    "bb[0] = 0;\n",
    "print \"updated as list \\n\", aa\n",
    "\n",
    "reset_aa()\n",
    "copynp = np.ones_like( copynp );\n",
    "print \"update copy of array\\n\", copynp\n",
    "print \"original array\\n\", aanp\n"
   ]
  },
  {
   "cell_type": "markdown",
   "metadata": {},
   "source": [
    "# 書式"
   ]
  },
  {
   "cell_type": "code",
   "execution_count": 5,
   "metadata": {},
   "outputs": [
    {
     "name": "stdout",
     "output_type": "stream",
     "text": [
      "106は2進数だと1101010、8進数だと152であり、107は16進数で6B\n"
     ]
    }
   ],
   "source": [
    "val0 = 106\n",
    "val1 = 107\n",
    "print('{0}は2進数だと{0:b}、8進数だと{0:o}であり、{1}は16進数で{1:X}'.format(val0,val1))"
   ]
  },
  {
   "cell_type": "markdown",
   "metadata": {},
   "source": [
    "# プロットのサンプル\n",
    "参考ページ<br>\n",
    "http://seesaawiki.jp/met-python/d/matplotlib"
   ]
  },
  {
   "cell_type": "code",
   "execution_count": 8,
   "metadata": {},
   "outputs": [
    {
     "data": {
      "image/png": "[encoded data removed]",
      "text/plain": [
       "<matplotlib.figure.Figure at 0x24b1eba0240>"
      ]
     },
     "metadata": {},
     "output_type": "display_data"
    }
   ],
   "source": [
    "import numpy as np\n",
    "import matplotlib.pyplot as plt\n",
    "from matplotlib.ticker import FormatStrFormatter\n",
    "import matplotlib.gridspec as gridspec\n",
    "import matplotlib.font_manager # 日本語\n",
    "from mpl_toolkits.mplot3d import Axes3D\n",
    "%matplotlib inline\n",
    "\n",
    "prop = matplotlib.font_manager.FontProperties(fname=\"C:/WIndows/Fonts/meiryo.ttc\")\n",
    "fig = plt.figure(figsize=[12,6])\n",
    "G = gridspec.GridSpec(2,4)\n",
    "\n",
    "### Figure 1\n",
    "width=0.1\n",
    "ax = plt.subplot(G[0,:2])\n",
    "plt.grid(True)\n",
    "plt.xlabel('x label', fontsize=12 )\n",
    "plt.ylabel('y label', fontsize='large')\n",
    "plt.title('Feature Importances')\n",
    "plt.bar([0,1,2,3], [10,20,30,40], width=width, color='lightblue', align='center')\n",
    "plt.xticks([0,1,2,3], ['zero','ichi','ni','san'], rotation=90)\n",
    "# ax はticks と label を分けて設定しないといけない\n",
    "ax.set_yticks( range(0,51,10) )\n",
    "ax.set_yticklabels( [ u'零', u'十', u'二十',  u'三十',  u'四十', u'五十' ] ,fontproperties=prop, rotation=30)\n",
    "#plt.xlim([-1, 4])\n",
    "#plt.tight_layout()\n",
    "\n",
    "### Figure 2\n",
    "plt.subplot(G[1,:2])\n",
    "plt.plot( np.arange(0, 0.2, 0.01), np.arange( 0, 0.4, 0.02), 'bo-', \n",
    "         markersize=4, label='name' )\n",
    "plt.grid()\n",
    "plt.ylim([0.0, 0.4])\n",
    "plt.legend(loc='lower right')\n",
    "# tick step\n",
    "plt.xticks( np.arange(0, 0.2, 0.0125))\n",
    "# virtical lines\n",
    "plt.axvline( 0.1, color='r')\n",
    "plt.vlines( [0.14,0.18], [0.1,0.15], [0.2, 0.25], colors=['g','k']) # ( x, ymin, ymax, ... )\n",
    "ax = plt.gca()\n",
    "# precision\n",
    "ax.xaxis.set_major_formatter( FormatStrFormatter('%0.1f'))\n",
    "ax.yaxis.set_major_formatter( FormatStrFormatter('%0.4f'))\n",
    "\n",
    "### Figure 3\n",
    "plt.subplot(G[:,2])\n",
    "\n",
    "### Figure 4\n",
    "ax = plt.subplot(G[0,3],projection='3d')\n",
    "x = range(10)\n",
    "y = range(8)\n",
    "X,Y = np.meshgrid( x, y )\n",
    "ax.plot_wireframe( X,Y, X**2 + Y**2 )\n",
    "plt.xticks( x[::2] )\n",
    "plt.xlabel('x')\n",
    "ax.set_ylabel('y')\n",
    "ax.set_zlabel('z')\n",
    "\n",
    "### After the plot\n",
    "plt.savefig('plot_sample.png', dpi=300)\n",
    "plt.show()"
   ]
  },
  {
   "cell_type": "markdown",
   "metadata": {},
   "source": [
    "## logスケールで表示が空になる場合"
   ]
  },
  {
   "cell_type": "code",
   "execution_count": 27,
   "metadata": {},
   "outputs": [
    {
     "data": {
      "image/png": "[encoded data removed]",
      "text/plain": [
       "<matplotlib.figure.Figure at 0x27581352a58>"
      ]
     },
     "metadata": {},
     "output_type": "display_data"
    }
   ],
   "source": [
    "x = np.random.randn(10000)\n",
    "plt.hist(x)\n",
    "plt.yscale('log', nonposy='clip' )\n",
    "#plt.yscale('log') # 表示が空になる\n",
    "plt.show()"
   ]
  },
  {
   "cell_type": "markdown",
   "metadata": {},
   "source": [
    "## 目盛は難しい\n",
    "軸の見た目の調整はできればFormatterとLocatorで <br>\n",
    "https://qiita.com/skotaro/items/08dc0b8c5704c94eafb9 <br>\n",
    "https://matplotlib.org/gallery/ticks_and_spines/tick-formatters.html <br>\n",
    "https://matplotlib.org/gallery/ticks_and_spines/tick-locators.html <br>\n"
   ]
  },
  {
   "cell_type": "code",
   "execution_count": 19,
   "metadata": {
    "collapsed": true
   },
   "outputs": [],
   "source": [
    "x = np.arange(10)\n",
    "y = x*x"
   ]
  },
  {
   "cell_type": "code",
   "execution_count": 21,
   "metadata": {
    "scrolled": true
   },
   "outputs": [
    {
     "data": {
      "image/png": "[encoded data removed]",
      "text/plain": [
       "<matplotlib.figure.Figure at 0x2de3cd5aef0>"
      ]
     },
     "metadata": {},
     "output_type": "display_data"
    }
   ],
   "source": [
    "import matplotlib.ticker as ticker\n",
    "fig, ax = plt.subplots(figsize=(6,2))\n",
    "ax.plot(x,y)\n",
    "ax.grid(True)\n",
    "ax.set_facecolor('whitesmoke')\n",
    "ax.xaxis.set_major_locator(ticker.MultipleLocator(1.5))\n",
    "ax.xaxis.set_minor_locator(ticker.MultipleLocator(0.5))\n",
    "ax.xaxis.set_major_formatter( ticker.FuncFormatter( lambda x,pos: \"%dHz\" % (x*100)) )\n",
    "ax.tick_params(which='major', width=4)\n",
    "ax.tick_params(which='minor', length=10)\n",
    "#https://matplotlib.org/api/_as_gen/matplotlib.axes.Axes.tick_params.html\n",
    "ax.tick_params( axis='x', labelrotation=70.0, labelsize='large')\n",
    "\n",
    "ax.yaxis.set_major_formatter( ticker.FormatStrFormatter(\"%.2f deg\") )\n",
    "ax.tick_params( axis='y', labelcolor='blue' )\n",
    "ax.grid( which ='major', color='g', linestyle='-', linewidth=1 )\n",
    "ax.grid( which ='minor', c='r', ls='--', lw=1, alpha=0.2 )\n",
    "plt.show()"
   ]
  },
  {
   "cell_type": "markdown",
   "metadata": {},
   "source": [
    "## 対数表示はもっと難しい"
   ]
  },
  {
   "cell_type": "markdown",
   "metadata": {},
   "source": [
    "### サンプルデータ作成"
   ]
  },
  {
   "cell_type": "code",
   "execution_count": 22,
   "metadata": {},
   "outputs": [
    {
     "data": {
      "image/png": "[encoded data removed]",
      "text/plain": [
       "<matplotlib.figure.Figure at 0x2de3ce96d68>"
      ]
     },
     "metadata": {},
     "output_type": "display_data"
    }
   ],
   "source": [
    "import scipy.signal as sg\n",
    "\n",
    "b,a = sg.butter( 4, 0.5 ) # -> B/A\n",
    "w, h = sg.freqz(b, a) # w[rad/sample]\n",
    "\n",
    "fig = plt.figure(figsize=(4,2))\n",
    "plt.plot(w, 20 * np.log10(abs(h)), 'g')\n",
    "plt.title('Butterworth filter frequency response')\n",
    "plt.xlabel('Frequency [rad/sample]')\n",
    "plt.ylabel('Amplitude [dB]')\n",
    "plt.grid(which='both', axis='both')\n",
    "plt.show()"
   ]
  },
  {
   "cell_type": "markdown",
   "metadata": {},
   "source": [
    "### 対数表示を試みる"
   ]
  },
  {
   "cell_type": "code",
   "execution_count": 23,
   "metadata": {},
   "outputs": [
    {
     "data": {
      "image/png": "[encoded data removed]",
      "text/plain": [
       "<matplotlib.figure.Figure at 0x2de3ca863c8>"
      ]
     },
     "metadata": {},
     "output_type": "display_data"
    }
   ],
   "source": [
    "import matplotlib.ticker as ticker\n",
    "\n",
    "sf = 48000\n",
    "\n",
    "fig = plt.figure(figsize=(6,10))\n",
    "ax = {}\n",
    "nax = 5\n",
    "for i in range(nax):\n",
    "    ax[i+1] = fig.add_subplot(nax,1,i+1)\n",
    "    ax[i+1].xaxis.set_major_formatter(\n",
    "        ticker.FuncFormatter( lambda x,pos: \"%dHz\" % (x/np.pi*sf/2)) )\n",
    "\n",
    "# 練習としてLinear表示\n",
    "ax[1].plot(w, 20 * np.log10(abs(h)), 'b')\n",
    "ax[1].xaxis.set_major_locator(ticker.MultipleLocator(np.pi/4))\n",
    "ax[1].set_title('Linear')\n",
    "\n",
    "# 対数表示にするとFormatter がキャンセルされる\n",
    "ax[2].plot(w, 20 * np.log10(abs(h)), 'b')\n",
    "ax[2].set_xscale('log')\n",
    "#ax2.xaxis.set_major_locator(ticker.MultipleLocator(np.pi/4))\n",
    "ax[2].set_title('Log')\n",
    "\n",
    "# Formatter 再設定で復活したものの、データの [0.01, 0.1, 1.0]が対数表示の周期\n",
    "ax[3].plot(w, 20 * np.log10(abs(h)), 'b')\n",
    "ax[3].set_xscale('log') \n",
    "ax[3].xaxis.set_major_formatter(\n",
    "        ticker.FuncFormatter( lambda x,pos: \"%dHz\" % (x/np.pi*sf/2)) )\n",
    "ax[3].set_title('Log')\n",
    "\n",
    "# LogLocator は目盛がLogScalep[0,01,0.1,1.0]の位置に打たれるだけで、軸はLinearのまま\n",
    "ax[4].plot(w, 20 * np.log10(abs(h)), 'b')\n",
    "ax[4].xaxis.set_major_formatter(\n",
    "        ticker.FuncFormatter( lambda x,pos: \"%dHz\" % (x/np.pi*sf/2)) )\n",
    "ax[4].xaxis.set_major_locator(ticker.LogLocator())\n",
    "ax[4].set_title('Linear')\n",
    "\n",
    "# 結局のところ、ｘ軸のデータをつくらないといけない\n",
    "xfreq = w / np.pi * sf / 2\n",
    "ax[5].plot(xfreq, 20 * np.log10(abs(h)), 'b')\n",
    "ax[5].set_xscale('log') \n",
    "ax[5].xaxis.set_major_formatter(\n",
    "        ticker.FuncFormatter( lambda x,pos: \"%dHz\" % x) )\n",
    "ax[5].set_title('Log')\n",
    "plt.tight_layout()\n",
    "plt.show()"
   ]
  },
  {
   "cell_type": "markdown",
   "metadata": {},
   "source": [
    "### 余談：Analog/Digitalフィルタの違い"
   ]
  },
  {
   "cell_type": "code",
   "execution_count": 17,
   "metadata": {},
   "outputs": [
    {
     "data": {
      "image/png": "[encoded data removed]",
      "text/plain": [
       "<matplotlib.figure.Figure at 0x2de3b1f8198>"
      ]
     },
     "metadata": {},
     "output_type": "display_data"
    }
   ],
   "source": [
    "import scipy.signal as sg\n",
    "\n",
    "sf = 48000\n",
    "nf = sf/2 # nyquist freq\n",
    "pbr = 0.2 # pass band ratio\n",
    "cf = nf*pbr # cut-off freq\n",
    "nipi = 2*np.pi # 2pi\n",
    "\n",
    "b,a = sg.butter( 4, cf*nipi, analog=True) # H= B/A\n",
    "w, h = sg.freqs(b, a) # w[rad/sec]\n",
    "\n",
    "B, A = sg.butter(4, pbr) # H=B/A\n",
    "W, H = sg.freqz(B, A) # W[rad/sample]\n",
    "\n",
    "f = w / nipi\n",
    "F = W / np.pi * nf\n",
    "\n",
    "plt.plot(f, 20 * np.log10(abs(h)), 'g', label='analog')\n",
    "plt.plot(F, 20 * np.log10(abs(H)), 'b', label='digital')\n",
    "plt.xscale('log')\n",
    "plt.title('Butterworth filter frequency response')\n",
    "plt.xlabel('Frequency [Hz]')\n",
    "plt.ylabel('Amplitude [dB]')\n",
    "plt.legend()\n",
    "plt.grid(which='both', axis='both')\n",
    "plt.axvline(nf*pbr, color='c') # cutoff frequency\n",
    "plt.axvline(nf, color='y') # nyquist frequency\n",
    "\n",
    "ax1 = plt.gca()\n",
    "ax2 = ax1.twinx() # 両軸グラフ, current axes は ax2 に\n",
    "angles = np.unwrap(np.angle(h)) # unwrap(p, discont=3.141592653589793, axis=-1)\n",
    "Angles = np.unwrap(np.angle(H)) \n",
    "plt.plot(f, angles, 'g--')\n",
    "plt.plot(F, Angles, 'b--')\n",
    "plt.ylabel('Angle (radians)', color='m')\n",
    "plt.grid( which ='both', axis='y', color='m', linestyle='--', linewidth=1, alpha=0.1 )\n",
    "\n",
    "#plt.axis('tight')\n",
    "plt.show()\n"
   ]
  },
  {
   "cell_type": "markdown",
   "metadata": {},
   "source": [
    "## Artist\n",
    "https://qiita.com/skotaro/items/08dc0b8c5704c94eafb9 <br>\n"
   ]
  },
  {
   "cell_type": "code",
   "execution_count": 98,
   "metadata": {},
   "outputs": [
    {
     "data": {
      "image/png": "[encoded data removed]",
      "text/plain": [
       "<matplotlib.figure.Figure at 0x16d7f167710>"
      ]
     },
     "metadata": {},
     "output_type": "display_data"
    }
   ],
   "source": [
    "fig, ax = plt.subplots(1,2,figsize=(2,1)) # Figureオブジェクトとそれに属する一つのAxesオブジェクトを同時に作成\n",
    "fig.set_facecolor( '#f0f0f0' )\n",
    "ax[0].plot(x,y)\n",
    "ax[1].plot(y,x)\n",
    "plt.show()"
   ]
  },
  {
   "cell_type": "code",
   "execution_count": 88,
   "metadata": {
    "scrolled": true
   },
   "outputs": [
    {
     "data": {
      "image/png": "[encoded data removed]",
      "text/plain": [
       "<matplotlib.figure.Figure at 0x16d7dd676d8>"
      ]
     },
     "metadata": {},
     "output_type": "display_data"
    }
   ],
   "source": [
    "fig = plt.figure(figsize=(2,1)) # Figureオブジェクトを作成\n",
    "fig.set_facecolor( '#f0f0f0' )\n",
    "ax0 = fig.add_subplot(1,2,1) # figに属するAxesオブジェクトを作成\n",
    "ax1 = fig.add_subplot(1,2,2) # figに属するAxesオブジェクトを作成\n",
    "ax0.plot(x, y)\n",
    "ax1.plot(y,x)\n",
    "plt.show()"
   ]
  },
  {
   "cell_type": "code",
   "execution_count": 87,
   "metadata": {},
   "outputs": [
    {
     "data": {
      "image/png": "[encoded data removed]",
      "text/plain": [
       "<matplotlib.figure.Figure at 0x16d7f352128>"
      ]
     },
     "metadata": {},
     "output_type": "display_data"
    }
   ],
   "source": [
    "plt.subplot(121) # ax = plt.subplot(...) でAxesを捕捉できる\n",
    "plt.plot(x,y) # l, = plt.plot(...)で Line2Dを捕捉できる\n",
    "ax0 = plt.gca() # このタイミングで捕捉しないと後では無理？\n",
    "plt.subplot(122)\n",
    "plt.plot(y,x)\n",
    "ax1 = plt.gca() # このタイミングで捕捉しないと後では無理？\n",
    "fig = plt.gcf()  # fig を捕捉\n",
    "fig.set_size_inches( 2,1 )\n",
    "fig.set_facecolor( '#f0f0f0' )\n",
    "plt.show()"
   ]
  },
  {
   "cell_type": "code",
   "execution_count": 6,
   "metadata": {
    "collapsed": true
   },
   "outputs": [],
   "source": [
    "%qtconsole\n"
   ]
  },
  {
   "cell_type": "markdown",
   "metadata": {},
   "source": [
    "# Pandasのサンプル\n",
    "参考<br>\n",
    "http://sinhrks.hatenablog.com/entry/2014/11/12/233216"
   ]
  },
  {
   "cell_type": "code",
   "execution_count": 3,
   "metadata": {
    "scrolled": true
   },
   "outputs": [
    {
     "name": "stdout",
     "output_type": "stream",
     "text": [
      "   C1  C2  C3  C4\n",
      "0  11  12  13  14\n",
      "1  21  22  23  24\n",
      "2  31  32  33  34\n",
      "   C1  C2  C3  C4\n",
      "0  11  12  13  14\n",
      "2  31  32  33  34\n",
      "int32\n",
      "int32\n",
      "[[11 12 13 14]\n",
      " [21 22 23 24]\n",
      " [31 32 33 34]]\n",
      "[0 1 2]\n",
      "   C1\n",
      "0  11\n",
      "1  21\n",
      "   C1\n",
      "0  11\n"
     ]
    }
   ],
   "source": [
    "import pandas as pd\n",
    "import numpy as np\n",
    "df = pd.DataFrame({'C1': [11, 21, 31],\n",
    "                   'C2': [12, 22, 32],\n",
    "                   'C3': [13, 23, 33],\n",
    "                   'C4': [14, 24, 34]})\n",
    "print df\n",
    "print df [[True, False, True]]\n",
    "ary = df.values.astype(np.int32)\n",
    "idx = df.index.values.astype(np.int32)\n",
    "print ary.dtype\n",
    "print idx.dtype\n",
    "print ary\n",
    "print idx\n",
    "print df.ix[:1,:1]  # including index=1 (loc behavior), NOT including column=1(iloc behavior)\n",
    "print df.iloc[:1,:1] # use iloc for location index"
   ]
  },
  {
   "cell_type": "markdown",
   "metadata": {},
   "source": [
    "# ボタン等のつけ方\n",
    "[参考](http://myenigma.hatenablog.com/entry/2015/08/30/223559)"
   ]
  },
  {
   "cell_type": "code",
   "execution_count": null,
   "metadata": {
    "collapsed": true
   },
   "outputs": [],
   "source": []
  },
  {
   "cell_type": "markdown",
   "metadata": {},
   "source": [
    "# Waveファイルの扱い\n",
    "[参考1](http://yukara-13.hatenablog.com/entry/2013/11/09/103848)<br>\n",
    "[参考2](http://qiita.com/yu_tailsfox/items/86380a0d4d016e1634f1)<br>\n",
    "[参考3](https://docs.scipy.org/doc/scipy-0.18.1/reference/io.html)"
   ]
  },
  {
   "cell_type": "code",
   "execution_count": 11,
   "metadata": {},
   "outputs": [
    {
     "name": "stdout",
     "output_type": "stream",
     "text": [
      "Sampling rate : 32000\n"
     ]
    }
   ],
   "source": [
    "# -*- coding: utf-8 -*-\n",
    "#from scipy.io.wavfile import read as siw\n",
    "import scipy.io.wavfile as siw\n",
    "\n",
    "#wavfile = \"./test.wav\"\n",
    "wavfile = \"../pydub/test/data/test1.wav\"\n",
    "\n",
    "fs, data = siw.read(wavfile)\n",
    "\n",
    "print \"Sampling rate :\", fs\n",
    "\n",
    "if (data.shape[1] == 2):\n",
    "    left = data[:, 0]\n",
    "    right = data[:, 1]\n",
    "\n",
    "siw.write( \"test_out.wav\",  fs, data )"
   ]
  },
  {
   "cell_type": "markdown",
   "metadata": {},
   "source": [
    "# 連立方程式を解く\n",
    "[参考１](http://myenigma.hatenablog.com/entry/2015/11/21/222755#連立方程式を解く)"
   ]
  },
  {
   "cell_type": "markdown",
   "metadata": {},
   "source": [
    "# 改行なしで文字列を出力したい\n",
    "[参考](http://www.lifewithpython.com/2013/12/python-print-without-.html)<br>\n",
    "ひとつめは print string, を使う方法です。\n"
   ]
  },
  {
   "cell_type": "code",
   "execution_count": 12,
   "metadata": {},
   "outputs": [
    {
     "name": "stdout",
     "output_type": "stream",
     "text": [
      "hello hello hello\n"
     ]
    }
   ],
   "source": [
    "print \"hello\",\n",
    "print \"hello\",\n",
    "print \"hello\""
   ]
  },
  {
   "cell_type": "markdown",
   "metadata": {},
   "source": [
    "もうひとつは sys.stdout.write() を使う方法です。"
   ]
  },
  {
   "cell_type": "code",
   "execution_count": 13,
   "metadata": {},
   "outputs": [
    {
     "name": "stdout",
     "output_type": "stream",
     "text": [
      "hellohellohello"
     ]
    }
   ],
   "source": [
    "import sys\n",
    "sys.stdout.write(\"hello\")\n",
    "sys.stdout.write(\"hello\")\n",
    "sys.stdout.write(\"hello\")"
   ]
  },
  {
   "cell_type": "markdown",
   "metadata": {},
   "source": [
    "Python3で改行を入れてほしくない場合は次のようにするとよいようです。"
   ]
  },
  {
   "cell_type": "code",
   "execution_count": 16,
   "metadata": {},
   "outputs": [
    {
     "name": "stdout",
     "output_type": "stream",
     "text": [
      "hellohello"
     ]
    }
   ],
   "source": [
    "# case in Python 3\n",
    "print(\"hello\", end=\"\")\n",
    "print(\"hello\", end=\"\")"
   ]
  },
  {
   "cell_type": "markdown",
   "metadata": {},
   "source": [
    "ちなみに、Python2.6以降であれば、次の一文を宣言すると、 print 文を上書きする形でPython3の print 関数を使うことができるようになります。"
   ]
  },
  {
   "cell_type": "code",
   "execution_count": 15,
   "metadata": {},
   "outputs": [
    {
     "name": "stdout",
     "output_type": "stream",
     "text": [
      "hellohello"
     ]
    }
   ],
   "source": [
    "## case in Python 2.6~\n",
    "# from __future__ import print_function\n",
    "# print(\"hello\", end=\"\")\n",
    "# print(\"hello\", end=\"\")"
   ]
  },
  {
   "cell_type": "markdown",
   "metadata": {},
   "source": [
    "# global変数\n",
    "関数の中でグローバル変数は参照できるが、そのままでは変更できない。\n",
    "global 変数名 でグローバル宣言すると変更できる。\n",
    "宣言せずに代入すると別インスタンスが生成される模様。\n"
   ]
  },
  {
   "cell_type": "markdown",
   "metadata": {},
   "source": [
    "# Numpy配列"
   ]
  },
  {
   "cell_type": "markdown",
   "metadata": {},
   "source": [
    "## 配列の基本"
   ]
  },
  {
   "cell_type": "code",
   "execution_count": 5,
   "metadata": {
    "scrolled": true
   },
   "outputs": [
    {
     "name": "stdout",
     "output_type": "stream",
     "text": [
      "[3, 4] [3 4]\n",
      "4 4\n",
      "<class 'int'> <class 'numpy.int32'>\n"
     ]
    }
   ],
   "source": [
    "aa = [[1,2],[3,4]]\n",
    "aanp = np.array(aa)\n",
    "print ( aa[1], aanp[1] )\n",
    "print ( aa[1][1], aanp[1][1] )\n",
    "print ( type(aa[1][1]), type(aanp[1][1]) )\n"
   ]
  },
  {
   "cell_type": "code",
   "execution_count": 6,
   "metadata": {},
   "outputs": [
    {
     "ename": "TypeError",
     "evalue": "list indices must be integers or slices, not list",
     "output_type": "error",
     "traceback": [
      "\u001b[1;31m---------------------------------------------------------------------------\u001b[0m",
      "\u001b[1;31mTypeError\u001b[0m                                 Traceback (most recent call last)",
      "\u001b[1;32m<ipython-input-6-80383311e877>\u001b[0m in \u001b[0;36m<module>\u001b[1;34m()\u001b[0m\n\u001b[1;32m----> 1\u001b[1;33m \u001b[0mprint\u001b[0m \u001b[1;33m(\u001b[0m \u001b[0maa\u001b[0m\u001b[1;33m[\u001b[0m\u001b[1;33m[\u001b[0m\u001b[1;36m0\u001b[0m\u001b[1;33m]\u001b[0m\u001b[1;33m]\u001b[0m \u001b[1;33m)\u001b[0m\u001b[1;33m\u001b[0m\u001b[0m\n\u001b[0m",
      "\u001b[1;31mTypeError\u001b[0m: list indices must be integers or slices, not list"
     ]
    }
   ],
   "source": [
    "print ( aa[[0]] )"
   ]
  },
  {
   "cell_type": "code",
   "execution_count": 8,
   "metadata": {},
   "outputs": [
    {
     "name": "stdout",
     "output_type": "stream",
     "text": [
      "[[1 2]]\n",
      "[[1 2]\n",
      " [3 4]]\n",
      "[3 4]\n"
     ]
    }
   ],
   "source": [
    "print ( aanp[[0]] )\n",
    "print ( aanp[[0,1]] )\n",
    "print ( aanp[[0,1,1,0]][2] )"
   ]
  },
  {
   "cell_type": "code",
   "execution_count": 9,
   "metadata": {},
   "outputs": [
    {
     "name": "stdout",
     "output_type": "stream",
     "text": [
      "[[1 2]\n",
      " [3 4]]\n"
     ]
    }
   ],
   "source": [
    "print ( aanp[[True,True]] )"
   ]
  },
  {
   "cell_type": "code",
   "execution_count": 5,
   "metadata": {},
   "outputs": [
    {
     "name": "stdout",
     "output_type": "stream",
     "text": [
      "[[1 2]\n",
      " [3 4]]\n"
     ]
    }
   ],
   "source": [
    "print ( aanp[np.array([True,True])] )"
   ]
  },
  {
   "cell_type": "code",
   "execution_count": 10,
   "metadata": {},
   "outputs": [
    {
     "name": "stdout",
     "output_type": "stream",
     "text": [
      "[1 2]\n"
     ]
    }
   ],
   "source": [
    "print ( aanp[np.array([True,True])][0] )"
   ]
  },
  {
   "cell_type": "code",
   "execution_count": 16,
   "metadata": {},
   "outputs": [
    {
     "name": "stdout",
     "output_type": "stream",
     "text": [
      "[[ True False]\n",
      " [False False]]\n",
      "[1]\n"
     ]
    }
   ],
   "source": [
    "print ( aanp == 1 )\n",
    "print ( aanp[aanp==1])"
   ]
  },
  {
   "cell_type": "code",
   "execution_count": 15,
   "metadata": {},
   "outputs": [
    {
     "name": "stdout",
     "output_type": "stream",
     "text": [
      "[1]\n",
      "1\n",
      "1\n",
      "[1]\n",
      "[[1 2]]\n",
      "<class 'numpy.ndarray'>\n"
     ]
    }
   ],
   "source": [
    "print ( aanp[0,0] )\n",
    "print ( aanp[0][0] )\n",
    "print ( aanp[0][0:1] )\n",
    "print ( aanp[0:1][0:1] )\n",
    "print ( type(aanp[aanp==1]) )"
   ]
  },
  {
   "cell_type": "code",
   "execution_count": 9,
   "metadata": {},
   "outputs": [
    {
     "name": "stdout",
     "output_type": "stream",
     "text": [
      "(1,)\n",
      "()\n"
     ]
    },
    {
     "ename": "AttributeError",
     "evalue": "'int' object has no attribute 'shape'",
     "output_type": "error",
     "traceback": [
      "\u001b[1;31m---------------------------------------------------------------------------\u001b[0m",
      "\u001b[1;31mAttributeError\u001b[0m                            Traceback (most recent call last)",
      "\u001b[1;32m<ipython-input-9-c926b3ef7e26>\u001b[0m in \u001b[0;36m<module>\u001b[1;34m()\u001b[0m\n\u001b[0;32m      1\u001b[0m \u001b[1;32mprint\u001b[0m \u001b[1;33m(\u001b[0m\u001b[0maanp\u001b[0m\u001b[1;33m[\u001b[0m\u001b[0maanp\u001b[0m\u001b[1;33m==\u001b[0m\u001b[1;36m1\u001b[0m\u001b[1;33m]\u001b[0m\u001b[1;33m)\u001b[0m\u001b[1;33m.\u001b[0m\u001b[0mshape\u001b[0m\u001b[1;33m\u001b[0m\u001b[0m\n\u001b[0;32m      2\u001b[0m \u001b[1;32mprint\u001b[0m \u001b[0maanp\u001b[0m\u001b[1;33m[\u001b[0m\u001b[1;36m0\u001b[0m\u001b[1;33m]\u001b[0m\u001b[1;33m[\u001b[0m\u001b[1;36m0\u001b[0m\u001b[1;33m]\u001b[0m\u001b[1;33m.\u001b[0m\u001b[0mshape\u001b[0m\u001b[1;33m\u001b[0m\u001b[0m\n\u001b[1;32m----> 3\u001b[1;33m \u001b[1;32mprint\u001b[0m \u001b[0maa\u001b[0m\u001b[1;33m[\u001b[0m\u001b[1;36m0\u001b[0m\u001b[1;33m]\u001b[0m\u001b[1;33m[\u001b[0m\u001b[1;36m0\u001b[0m\u001b[1;33m]\u001b[0m\u001b[1;33m.\u001b[0m\u001b[0mshape\u001b[0m\u001b[1;33m\u001b[0m\u001b[0m\n\u001b[0m",
      "\u001b[1;31mAttributeError\u001b[0m: 'int' object has no attribute 'shape'"
     ]
    }
   ],
   "source": [
    "print (aanp[aanp==1]).shape\n",
    "print aanp[0][0].shape\n",
    "print aa[0][0].shape"
   ]
  },
  {
   "cell_type": "code",
   "execution_count": 13,
   "metadata": {},
   "outputs": [
    {
     "name": "stdout",
     "output_type": "stream",
     "text": [
      "[[ 0.   0.1  0.2]\n",
      " [ 0.3  0.4  0.5]\n",
      " [ 0.6  0.7  0.8]]\n",
      "[[ 0.   0.1  0.2]\n",
      " [-1.  -1.  -1. ]\n",
      " [-1.  -1.   0.8]]\n"
     ]
    }
   ],
   "source": [
    "bbnp =np.arange(0.0,0.9,0.1).reshape(3,3)\n",
    "print (bbnp)\n",
    "bbnp[ (bbnp>0.3) & (bbnp<0.8) ] = -1.0  # ()括弧を忘れずに\n",
    "print (bbnp)"
   ]
  },
  {
   "cell_type": "markdown",
   "metadata": {},
   "source": [
    "## 行列全体のTrue/False"
   ]
  },
  {
   "cell_type": "code",
   "execution_count": 8,
   "metadata": {},
   "outputs": [
    {
     "name": "stdout",
     "output_type": "stream",
     "text": [
      "True\n",
      "False\n"
     ]
    }
   ],
   "source": [
    "xx = np.array( range(24)).reshape(6,4)\n",
    "print( np.any(xx>5) )\n",
    "print( np.all(xx>5) )"
   ]
  },
  {
   "cell_type": "markdown",
   "metadata": {},
   "source": [
    "## インデキシング"
   ]
  },
  {
   "cell_type": "code",
   "execution_count": 1,
   "metadata": {},
   "outputs": [
    {
     "name": "stdout",
     "output_type": "stream",
     "text": [
      "[[[ 0  1  2  3]\n",
      "  [ 4  5  6  7]\n",
      "  [ 8  9 10 11]]\n",
      "\n",
      " [[12 13 14 15]\n",
      "  [16 17 18 19]\n",
      "  [20 21 22 23]]]\n",
      "('***\\n', array([[[ 0,  2],\n",
      "        [ 4,  6],\n",
      "        [ 8, 10]],\n",
      "\n",
      "       [[12, 14],\n",
      "        [16, 18],\n",
      "        [20, 22]]]))\n",
      "('\\xe5\\x85\\x88\\xe8\\xa1\\x8c\\xe6\\xac\\xa1\\xe5\\x85\\x83\\xe3\\x81\\xaf...\\xe3\\x81\\xa7\\xe3\\x81\\xbe\\xe3\\x81\\xa8\\xe3\\x82\\x81\\xe3\\x81\\xa6\\xe6\\x8c\\x87\\xe5\\xae\\x9a\\n', array([[[ 0,  2],\n",
      "        [ 4,  6],\n",
      "        [ 8, 10]],\n",
      "\n",
      "       [[12, 14],\n",
      "        [16, 18],\n",
      "        [20, 22]]]))\n"
     ]
    }
   ],
   "source": [
    "a = np.array(range(24)).reshape((2,3,4))\n",
    "a.shape\n",
    "print( a[:] )\n",
    "print( \"***\\n\", a[:,:,[0,2]] )\n",
    "print( \"先行次元は...でまとめて指定\\n\", a[...,0::2] )"
   ]
  },
  {
   "cell_type": "code",
   "execution_count": 3,
   "metadata": {},
   "outputs": [
    {
     "name": "stdout",
     "output_type": "stream",
     "text": [
      "('\\xe3\\x83\\xaa\\xe3\\x82\\xb9\\xe3\\x83\\x88\\xe3\\x81\\xa7\\xe3\\x81\\xae\\xe3\\x82\\xa4\\xe3\\x83\\xb3\\xe3\\x83\\x87\\xe3\\x82\\xad\\xe3\\x82\\xb7\\xe3\\x83\\xb3\\xe3\\x82\\xb0', array([[[ 0,  1,  2,  3],\n",
      "        [ 4,  5,  6,  7],\n",
      "        [ 8,  9, 10, 11]],\n",
      "\n",
      "       [[ 0,  1,  2,  3],\n",
      "        [ 4,  5,  6,  7],\n",
      "        [ 8,  9, 10, 11]],\n",
      "\n",
      "       [[ 0,  1,  2,  3],\n",
      "        [ 4,  5,  6,  7],\n",
      "        [ 8,  9, 10, 11]]]))\n",
      "('\\xe3\\x82\\xbf\\xe3\\x83\\x97\\xe3\\x83\\xab\\xe3\\x81\\xa7\\xe3\\x81\\xae\\xe3\\x82\\xa4\\xe3\\x83\\xb3\\xe3\\x83\\x87\\xe3\\x82\\xad\\xe3\\x82\\xb7\\xe3\\x83\\xb3\\xe3\\x82\\xb0', 0)\n",
      "('\\xe3\\x83\\xaa\\xe3\\x82\\xb9\\xe3\\x83\\x88\\xe3\\x82\\x92\\xe3\\x82\\xbf\\xe3\\x83\\x97\\xe3\\x83\\xab\\xe3\\x81\\xab\\xe5\\xa4\\x89\\xe3\\x81\\x88\\xe3\\x81\\xa6\\xe3\\x82\\xa4\\xe3\\x83\\xb3\\xe3\\x83\\x87\\xe3\\x82\\xad\\xe3\\x82\\xb7\\xe3\\x83\\xb3\\xe3\\x82\\xb0', 0)\n"
     ]
    }
   ],
   "source": [
    "pos1 = [ 0,0,0 ]\n",
    "pos2 = ( 0,0,0 )\n",
    "print( 'リストでのインデキシング', a[pos1])\n",
    "print( 'タプルでのインデキシング', a[pos2])\n",
    "print( 'リストをタプルに変えてインデキシング', a[tuple(pos1)])"
   ]
  },
  {
   "cell_type": "markdown",
   "metadata": {},
   "source": [
    "##  配列の諸元・比較"
   ]
  },
  {
   "cell_type": "code",
   "execution_count": 26,
   "metadata": {},
   "outputs": [
    {
     "name": "stdout",
     "output_type": "stream",
     "text": [
      "4\n",
      "2\n",
      "(2, 2)\n"
     ]
    }
   ],
   "source": [
    "print ( aanp.size )\n",
    "print ( aanp.ndim )\n",
    "print ( aanp.shape )"
   ]
  },
  {
   "cell_type": "code",
   "execution_count": 23,
   "metadata": {},
   "outputs": [
    {
     "name": "stdout",
     "output_type": "stream",
     "text": [
      "[[ True  True]\n",
      " [ True  True]]\n",
      "True\n",
      "True\n"
     ]
    }
   ],
   "source": [
    "print ( aanp == aanp )\n",
    "print ( np.array_equal( aanp, aanp ) )\n",
    "print ( np.allclose( aanp, aanp+1, atol=1.1 ) )"
   ]
  },
  {
   "cell_type": "markdown",
   "metadata": {},
   "source": [
    "## 要素数が１の部分行列を生成すると次元数が減る対策"
   ]
  },
  {
   "cell_type": "code",
   "execution_count": 1,
   "metadata": {},
   "outputs": [
    {
     "name": "stdout",
     "output_type": "stream",
     "text": [
      "(2, 3, 4) original matrix\n",
      "(2, 4) sub matrix?\n",
      "(2, 1, 4) ok\n",
      "(2, 1, 4) ok\n"
     ]
    }
   ],
   "source": [
    "a = np.array( range(24)).reshape(2,3,4)\n",
    "print( a.shape, 'original matrix')\n",
    "z = np.zeros_like( a[:,1,:])\n",
    "print( z.shape, 'sub matrix?')\n",
    "z = np.zeros_like( a[:,1:2,:])\n",
    "print( z.shape, 'ok')\n",
    "z = np.zeros_like( a[:,[1],:])\n",
    "print( z.shape, 'ok')"
   ]
  },
  {
   "cell_type": "markdown",
   "metadata": {},
   "source": [
    "## ゼロ行列の追加（ゼロパディング）"
   ]
  },
  {
   "cell_type": "code",
   "execution_count": 24,
   "metadata": {
    "scrolled": true
   },
   "outputs": [
    {
     "name": "stdout",
     "output_type": "stream",
     "text": [
      "(2, 3, 4) (2, 3, 1) (2, 3, 5)\n",
      "(2, 3, 5)\n",
      "True\n",
      "True\n",
      "(2, 3, 5)\n",
      "True\n"
     ]
    }
   ],
   "source": [
    "a = np.array( range(24)).reshape(2,3,4)\n",
    "z = np.zeros_like( a[:,:,1:2])\n",
    "acat = np.concatenate( (a, z), axis=2 )\n",
    "print( a.shape, z.shape, acat.shape )\n",
    "# もっと簡単に\n",
    "acat2 = np.pad( a, ((0,0),(0,0),(0,1)), 'constant')\n",
    "print( acat2.shape )\n",
    "print( np.array_equal( acat,acat2 ) )\n",
    "print( np.allclose( acat,acat2 ) )\n",
    "# 任意次元の最終軸にパディング\n",
    "acat3 = np.concatenate( (a, np.zeros(a.shape[:-1]+ (1,))), axis=-1 )\n",
    "print( acat3.shape )\n",
    "print( np.array_equal( acat2,acat3 ) )v\n"
   ]
  },
  {
   "cell_type": "markdown",
   "metadata": {},
   "source": [
    "## reshape の -1\n",
    "\n",
    "配列の総要素数が不明の場合は，大きさが不明な次元で -1 を指定すると適切な値が自動的に設定されます．"
   ]
  },
  {
   "cell_type": "code",
   "execution_count": 2,
   "metadata": {},
   "outputs": [
    {
     "data": {
      "text/plain": [
       "array([[0, 1, 2],\n",
       "       [3, 4, 5]])"
      ]
     },
     "execution_count": 2,
     "metadata": {},
     "output_type": "execute_result"
    }
   ],
   "source": [
    "np.arange(6).reshape((2, -1))"
   ]
  },
  {
   "cell_type": "code",
   "execution_count": 3,
   "metadata": {},
   "outputs": [
    {
     "data": {
      "text/plain": [
       "array([[0],\n",
       "       [1],\n",
       "       [2],\n",
       "       [3],\n",
       "       [4]])"
      ]
     },
     "execution_count": 3,
     "metadata": {},
     "output_type": "execute_result"
    }
   ],
   "source": [
    "np.arange(5).reshape((-1,1))"
   ]
  },
  {
   "cell_type": "markdown",
   "metadata": {},
   "source": [
    "## 次元の追加、削減"
   ]
  },
  {
   "cell_type": "code",
   "execution_count": 54,
   "metadata": {},
   "outputs": [
    {
     "data": {
      "text/plain": [
       "(1, 3)"
      ]
     },
     "execution_count": 54,
     "metadata": {},
     "output_type": "execute_result"
    }
   ],
   "source": [
    ">>> x = np.array([[[0], [1], [2]]])\n",
    ">>> x.shape\n",
    "(1, 3, 1)\n",
    ">>> xsqz = np.squeeze(x)\n",
    "xsqz.shape\n",
    "(3,)\n",
    ">>> np.squeeze(x, axis=(2,)).shape\n",
    "(1, 3)"
   ]
  },
  {
   "cell_type": "code",
   "execution_count": 53,
   "metadata": {},
   "outputs": [
    {
     "name": "stdout",
     "output_type": "stream",
     "text": [
      "(1, 3, 1)\n",
      "(1, 3, 1, 1)\n"
     ]
    }
   ],
   "source": [
    "xsqz_ax1 = xsqz.reshape( [-1,xsqz.size,1] )\n",
    "print xsqz_ax1.shape\n",
    "xsqz_ax2 = xsqz_ax1[:,:,:,np.newaxis]\n",
    "print xsqz_ax2.shape"
   ]
  },
  {
   "cell_type": "markdown",
   "metadata": {},
   "source": [
    "## sum で加算する方向( axis )について\n",
    "加算されて１に縮退される軸を指定する\n"
   ]
  },
  {
   "cell_type": "code",
   "execution_count": 29,
   "metadata": {},
   "outputs": [
    {
     "name": "stdout",
     "output_type": "stream",
     "text": [
      "shape input (2, 3)\n",
      "shape sum wrt axis=0 (3,)\n",
      "shape sum wrt axis=1 (2,)\n"
     ]
    }
   ],
   "source": [
    "aa = np.array( [[1,2,3],[4,5,6]])\n",
    "print \"shape input\", aa.shape\n",
    "aa0 = np.sum( aa, axis=0 )\n",
    "aa1 = np.sum( aa, axis=1 )\n",
    "print \"shape sum wrt axis=0\", aa0.shape\n",
    "print \"shape sum wrt axis=1\", aa1.shape"
   ]
  },
  {
   "cell_type": "markdown",
   "metadata": {},
   "source": [
    "# 便利そうな関数"
   ]
  },
  {
   "cell_type": "markdown",
   "metadata": {
    "collapsed": true
   },
   "source": [
    "## numpy.bincount()\n",
    "配列に含まれている０と１の数を数えるのに便利"
   ]
  },
  {
   "cell_type": "code",
   "execution_count": 9,
   "metadata": {},
   "outputs": [
    {
     "data": {
      "text/plain": [
       "array([4, 3])"
      ]
     },
     "execution_count": 9,
     "metadata": {},
     "output_type": "execute_result"
    }
   ],
   "source": [
    "a = [0, 1, 0, 1, 1, 0, 0]\n",
    "np.bincount(a)"
   ]
  },
  {
   "cell_type": "code",
   "execution_count": 1,
   "metadata": {},
   "outputs": [
    {
     "data": {
      "text/plain": [
       "array([1, 0, 0, 0, 0, 1])"
      ]
     },
     "execution_count": 1,
     "metadata": {},
     "output_type": "execute_result"
    }
   ],
   "source": [
    "a = [0,5]\n",
    "np.bincount(a) # 0 が 1つ、1から４まで０個、５が１つ"
   ]
  },
  {
   "cell_type": "markdown",
   "metadata": {},
   "source": [
    "## numpy.argmax()"
   ]
  },
  {
   "cell_type": "code",
   "execution_count": 13,
   "metadata": {},
   "outputs": [
    {
     "data": {
      "text/plain": [
       "2"
      ]
     },
     "execution_count": 13,
     "metadata": {},
     "output_type": "execute_result"
    }
   ],
   "source": [
    "np.argmax( [1,2,10,3,4])"
   ]
  },
  {
   "cell_type": "markdown",
   "metadata": {},
   "source": [
    "## テーブルルックアップ"
   ]
  },
  {
   "cell_type": "code",
   "execution_count": 17,
   "metadata": {},
   "outputs": [
    {
     "data": {
      "text/plain": [
       "array([[5, 4, 3],\n",
       "       [2, 1, 0]])"
      ]
     },
     "execution_count": 17,
     "metadata": {},
     "output_type": "execute_result"
    }
   ],
   "source": [
    "table = np.array([5,4,3,2,1,0])\n",
    "indata = np.array([[0,1,2],[3,4,5]])\n",
    "table[indata]\n"
   ]
  },
  {
   "cell_type": "markdown",
   "metadata": {},
   "source": [
    "## ravelと flattenの違い\n",
    "ravel は変換前の行列も変更される('F'を指定した場合を除く?)のに対し、flattenは変換前の行列は影響を受けない。\n",
    "Webでは次の表現が多数。「flattenは必ずコピーを返しますが、revelは必要なときだけコピーを返します(ですから特に大きな配列の場合後者がとても速いです)。」"
   ]
  },
  {
   "cell_type": "code",
   "execution_count": 15,
   "metadata": {},
   "outputs": [
    {
     "name": "stdout",
     "output_type": "stream",
     "text": [
      "befor ravel\n",
      "[[1 2]\n",
      " [3 4]]\n",
      "after ravel\n",
      "[[10 20]\n",
      " [ 3  4]]\n",
      "[10 20  3  4] [10 20  3  4] [ 1  3 30  4]\n"
     ]
    }
   ],
   "source": [
    "aa = np.array( [[1,2],[3,4]])\n",
    "print \"befor ravel\\n\",aa\n",
    "b0=aa.ravel(); bc=aa.ravel('C'); bf=aa.ravel('F')\n",
    "b0[0] = 10;    bc[1] = 20;       bf[2] = 30\n",
    "print \"after ravel\\n\",aa\n",
    "print b0, bc, bf"
   ]
  },
  {
   "cell_type": "code",
   "execution_count": 6,
   "metadata": {},
   "outputs": [
    {
     "name": "stdout",
     "output_type": "stream",
     "text": [
      "[[1 2]\n",
      " [3 4]]\n",
      "[ 1  3 30  4]\n"
     ]
    }
   ],
   "source": [
    "aa = np.array( [[1,2],[3,4]])\n",
    "b0=aa.flatten(); bc=aa.flatten('C'); bf=aa.flatten('F')\n",
    "b0[0] = 10;    bc[1] = 20;       bf[2] = 30\n",
    "print aa\n",
    "print bf"
   ]
  },
  {
   "cell_type": "markdown",
   "metadata": {},
   "source": [
    "## ベクトルの差分(diff)、累積加算（cumsum）"
   ]
  },
  {
   "cell_type": "code",
   "execution_count": 4,
   "metadata": {},
   "outputs": [
    {
     "name": "stdout",
     "output_type": "stream",
     "text": [
      "[1 1 1 1]\n",
      "[ 0  1  3  6 10]\n"
     ]
    }
   ],
   "source": [
    "aa = np.array(range(5))\n",
    "aadiff= np.diff(aa)\n",
    "aacumsum = np.cumsum(aa)\n",
    "print( aadiff )\n",
    "print( aacumsum )"
   ]
  },
  {
   "cell_type": "markdown",
   "metadata": {},
   "source": [
    "## 入力データを離散化してインデックスを返す(digitize)"
   ]
  },
  {
   "cell_type": "code",
   "execution_count": 1,
   "metadata": {},
   "outputs": [
    {
     "name": "stdout",
     "output_type": "stream",
     "text": [
      "xx [-10  -9  -8  -7  -6  -5  -4  -3  -2  -1   0   1   2   3   4   5   6   7\n",
      "   8   9  10]\n",
      "bins [-5  0  5]\n",
      "[0 0 0 0 0 1 1 1 1 1 2 2 2 2 2 3 3 3 3 3 3]\n"
     ]
    }
   ],
   "source": [
    "# -10 から 10 までを4区間に分けたい\n",
    "bins = np.linspace( -10, 10, 4+1 )[1:-1].astype(np.int32) # binsの両端を落として3値[-5,0,5]にする\n",
    "# テストデータ作成\n",
    "xx = np.linspace( -10, 10, 21 ).astype(np.int32)\n",
    "print('xx', xx)\n",
    "print('bins',bins)\n",
    "print( np.digitize( xx, bins) ) # 最大離散値のインデクス（一致の場合は超えたと解釈する）\n"
   ]
  },
  {
   "cell_type": "markdown",
   "metadata": {
    "collapsed": true
   },
   "source": [
    "# Numpy配列のbroadcasting(次元の拡張)\n",
    "Numpy が配列全てを変換して同じサイズを持つようにできる場合に行われる変換を broadcasting と呼びます。"
   ]
  },
  {
   "cell_type": "code",
   "execution_count": 12,
   "metadata": {},
   "outputs": [
    {
     "data": {
      "text/plain": [
       "array([[ 0.        ,  1.        ,  2.        ,  3.        ,  4.        ],\n",
       "       [ 1.        ,  1.41421356,  2.23606798,  3.16227766,  4.12310563],\n",
       "       [ 2.        ,  2.23606798,  2.82842712,  3.60555128,  4.47213595],\n",
       "       [ 3.        ,  3.16227766,  3.60555128,  4.24264069,  5.        ],\n",
       "       [ 4.        ,  4.12310563,  4.47213595,  5.        ,  5.65685425]])"
      ]
     },
     "execution_count": 12,
     "metadata": {},
     "output_type": "execute_result"
    }
   ],
   "source": [
    "x = np.arange(5)\n",
    "y = np.arange(5)[:,np.newaxis]\n",
    "distance = np.sqrt(x ** 2 + y ** 2)\n",
    "distance"
   ]
  },
  {
   "cell_type": "markdown",
   "metadata": {},
   "source": [
    "# バイナリファイルを一次元配列として全部読み込む"
   ]
  },
  {
   "cell_type": "code",
   "execution_count": 15,
   "metadata": {},
   "outputs": [
    {
     "data": {
      "text/plain": [
       "array([221391921, 875311882])"
      ]
     },
     "execution_count": 15,
     "metadata": {},
     "output_type": "execute_result"
    }
   ],
   "source": [
    "with open( 'foo.csv', 'rb') as fp:\n",
    "    data = np.fromfile( fp, dtype=np.int32 )\n",
    "data"
   ]
  },
  {
   "cell_type": "markdown",
   "metadata": {},
   "source": [
    "## csv ファイルの読み書き"
   ]
  },
  {
   "cell_type": "code",
   "execution_count": 16,
   "metadata": {},
   "outputs": [
    {
     "name": "stdout",
     "output_type": "stream",
     "text": [
      "int32\n"
     ]
    }
   ],
   "source": [
    "data = np.genfromtxt( \"foo.csv\", dtype=int, delimiter=\",\" ) # loadtxtも可だが、欠落データをnanで埋めてくれる機能はない\n",
    "print data.dtype\n",
    "np.savetxt(\"bar.csv\", data, delimiter=\",\", fmt=\"%d\")"
   ]
  },
  {
   "cell_type": "markdown",
   "metadata": {},
   "source": [
    "## Numba でお気楽高速化"
   ]
  },
  {
   "cell_type": "code",
   "execution_count": 18,
   "metadata": {},
   "outputs": [
    {
     "name": "stdout",
     "output_type": "stream",
     "text": [
      "100 loops, best of 3: 5.12 ms per loop\n",
      "The slowest run took 6625.25 times longer than the fastest. This could mean that an intermediate result is being cached.\n",
      "100000 loops, best of 3: 12.6 µs per loop\n",
      "100 loops, best of 3: 5.04 ms per loop\n",
      "100000 loops, best of 3: 12.6 µs per loop\n"
     ]
    }
   ],
   "source": [
    "from numba import jit\n",
    "\n",
    "def hoge(xx):\n",
    "    wa = 0\n",
    "    for i in range(xx.shape[0]):\n",
    "        for j in range(xx.shape[1]):\n",
    "            wa = wa + xx[i,j]\n",
    "    return wa\n",
    "\n",
    "@jit\n",
    "def hoge2(xx):\n",
    "    wa = 0\n",
    "    for i in range(xx.shape[0]):\n",
    "        for j in range(xx.shape[1]):\n",
    "            wa = wa + xx[i,j]\n",
    "    return wa\n",
    "\n",
    "xx = np.random.rand(100,100)\n",
    "%timeit hoge(xx)\n",
    "xx = np.random.rand(100,100)\n",
    "%timeit hoge2(xx)\n",
    "\n",
    "xx = np.random.rand(100,100)\n",
    "%timeit hoge(xx)\n",
    "xx = np.random.rand(100,100)\n",
    "%timeit hoge2(xx)"
   ]
  },
  {
   "cell_type": "code",
   "execution_count": 19,
   "metadata": {},
   "outputs": [
    {
     "name": "stdout",
     "output_type": "stream",
     "text": [
      "The slowest run took 4.68 times longer than the fastest. This could mean that an intermediate result is being cached.\n",
      "100000 loops, best of 3: 16.4 µs per loop\n"
     ]
    }
   ],
   "source": [
    "%timeit np.sum(xx)"
   ]
  },
  {
   "cell_type": "markdown",
   "metadata": {},
   "source": [
    "## 行列のスプリット\n",
    "array_split は割り切れない場合は適当に配分してくれるが、split はエラーになる"
   ]
  },
  {
   "cell_type": "code",
   "execution_count": 18,
   "metadata": {
    "scrolled": false
   },
   "outputs": [
    {
     "name": "stdout",
     "output_type": "stream",
     "text": [
      "<type 'list'>\n",
      "<type 'numpy.ndarray'>\n",
      "[array([0, 1, 2, 3]), array([4, 5, 6]), array([7, 8, 9])]\n"
     ]
    },
    {
     "ename": "ValueError",
     "evalue": "array split does not result in an equal division",
     "output_type": "error",
     "traceback": [
      "\u001b[1;31m---------------------------------------------------------------------------\u001b[0m",
      "\u001b[1;31mValueError\u001b[0m                                Traceback (most recent call last)",
      "\u001b[1;32m<ipython-input-18-003d066e7c82>\u001b[0m in \u001b[0;36m<module>\u001b[1;34m()\u001b[0m\n\u001b[0;32m      6\u001b[0m \u001b[1;32mprint\u001b[0m \u001b[0maa\u001b[0m\u001b[1;33m\u001b[0m\u001b[0m\n\u001b[0;32m      7\u001b[0m \u001b[1;31m# case error\u001b[0m\u001b[1;33m\u001b[0m\u001b[1;33m\u001b[0m\u001b[0m\n\u001b[1;32m----> 8\u001b[1;33m \u001b[0mnp\u001b[0m\u001b[1;33m.\u001b[0m\u001b[0msplit\u001b[0m\u001b[1;33m(\u001b[0m\u001b[0ma\u001b[0m\u001b[1;33m,\u001b[0m\u001b[1;36m3\u001b[0m\u001b[1;33m)\u001b[0m\u001b[1;33m\u001b[0m\u001b[0m\n\u001b[0m",
      "\u001b[1;32mC:\\Anaconda2\\lib\\site-packages\\numpy\\lib\\shape_base.pyc\u001b[0m in \u001b[0;36msplit\u001b[1;34m(ary, indices_or_sections, axis)\u001b[0m\n\u001b[0;32m    498\u001b[0m         \u001b[1;32mif\u001b[0m \u001b[0mN\u001b[0m \u001b[1;33m%\u001b[0m \u001b[0msections\u001b[0m\u001b[1;33m:\u001b[0m\u001b[1;33m\u001b[0m\u001b[0m\n\u001b[0;32m    499\u001b[0m             raise ValueError(\n\u001b[1;32m--> 500\u001b[1;33m                 'array split does not result in an equal division')\n\u001b[0m\u001b[0;32m    501\u001b[0m     \u001b[0mres\u001b[0m \u001b[1;33m=\u001b[0m \u001b[0marray_split\u001b[0m\u001b[1;33m(\u001b[0m\u001b[0mary\u001b[0m\u001b[1;33m,\u001b[0m \u001b[0mindices_or_sections\u001b[0m\u001b[1;33m,\u001b[0m \u001b[0maxis\u001b[0m\u001b[1;33m)\u001b[0m\u001b[1;33m\u001b[0m\u001b[0m\n\u001b[0;32m    502\u001b[0m     \u001b[1;32mreturn\u001b[0m \u001b[0mres\u001b[0m\u001b[1;33m\u001b[0m\u001b[0m\n",
      "\u001b[1;31mValueError\u001b[0m: array split does not result in an equal division"
     ]
    }
   ],
   "source": [
    "a = np.array(range(10))\n",
    "# splits tekito-ni\n",
    "aa = np.array_split( a, 3 )\n",
    "print type(aa)\n",
    "print type(aa[0])\n",
    "print aa\n",
    "# causes error\n",
    "np.split(a,3)"
   ]
  },
  {
   "cell_type": "markdown",
   "metadata": {},
   "source": [
    "## 可変引数\n",
    "* *一つがリストの可変引数。受け取った引数は指定した順序でタプルに格納されます\n",
    "* *二つがキーワード可変長引数。受け取った引数はキーワードと値の対を要素とする辞書になる（順序は保存されない）"
   ]
  },
  {
   "cell_type": "code",
   "execution_count": 3,
   "metadata": {},
   "outputs": [
    {
     "name": "stdout",
     "output_type": "stream",
     "text": [
      "(1, 2, 'dog')\n",
      "(1, 2, 'dog')\n",
      "((1, 2, 'dog'),)\n"
     ]
    }
   ],
   "source": [
    "def fn ( *arg ):\n",
    "    print (arg)\n",
    "    \n",
    "fn( 1,2,'dog')\n",
    "fn( *(1,2,'dog'))\n",
    "fn( (1,2,'dog') )\n"
   ]
  },
  {
   "cell_type": "code",
   "execution_count": 9,
   "metadata": {},
   "outputs": [
    {
     "name": "stdout",
     "output_type": "stream",
     "text": [
      "{'a': 1, 'c': 2, 'b': 2}\n",
      "{'a': 1, 'c': 3, 'b': 2}\n"
     ]
    }
   ],
   "source": [
    "def fn( **arg):\n",
    "    print arg\n",
    "\n",
    "fn( a=1, b=2, c=2)\n",
    "fn( **{'a':1,'b':2, 'c':3} )"
   ]
  },
  {
   "cell_type": "markdown",
   "metadata": {},
   "source": [
    "## 漬物(Pickle)"
   ]
  },
  {
   "cell_type": "code",
   "execution_count": 26,
   "metadata": {},
   "outputs": [
    {
     "name": "stdout",
     "output_type": "stream",
     "text": [
      "[<__main__.uum instance at 0x0000000009CEC188>, <__main__.uum instance at 0x0000000009CEC108>]\n",
      "[<__main__.uum instance at 0x0000000009CEC408>, <__main__.uum instance at 0x0000000009CEC148>]\n",
      "20\n"
     ]
    }
   ],
   "source": [
    "import pickle\n",
    "class uum():\n",
    "    def __init__(self,val):\n",
    "        self.val = val\n",
    "    def print_val(self):\n",
    "        print self.val\n",
    "  \n",
    "hoge = [uum(10), uum(20) ]\n",
    "with open('sample.pickle', mode='wb') as f:\n",
    "    pickle.dump( hoge, f)\n",
    "with open('sample.pickle', mode='rb') as f:\n",
    "    fuga = pickle.load(f)\n",
    "    \n",
    "print hoge\n",
    "print fuga\n",
    "fuga[1].print_val()"
   ]
  },
  {
   "cell_type": "markdown",
   "metadata": {},
   "source": [
    "## あるオブジェクトが特定のクラスのインスタンスかチェックしたい"
   ]
  },
  {
   "cell_type": "code",
   "execution_count": null,
   "metadata": {
    "collapsed": true
   },
   "outputs": [],
   "source": [
    "## s = \"hello\"\n",
    "print type(s) == str \n",
    "print isinstance( s, str )"
   ]
  },
  {
   "cell_type": "markdown",
   "metadata": {},
   "source": [
    "# デバッグ Debug でばっぐ"
   ]
  },
  {
   "cell_type": "markdown",
   "metadata": {},
   "source": [
    "## エラー発生個所からデバッグ開始"
   ]
  },
  {
   "cell_type": "code",
   "execution_count": 1,
   "metadata": {
    "scrolled": true
   },
   "outputs": [
    {
     "name": "stdout",
     "output_type": "stream",
     "text": [
      "Automatic pdb calling has been turned ON\n"
     ]
    }
   ],
   "source": [
    "%pdb "
   ]
  },
  {
   "cell_type": "code",
   "execution_count": 3,
   "metadata": {},
   "outputs": [
    {
     "ename": "ZeroDivisionError",
     "evalue": "integer division or modulo by zero",
     "output_type": "error",
     "traceback": [
      "\u001b[1;31m---------------------------------------------------------------------------\u001b[0m",
      "\u001b[1;31mZeroDivisionError\u001b[0m                         Traceback (most recent call last)",
      "\u001b[1;32m<ipython-input-3-a81a2919fa7c>\u001b[0m in \u001b[0;36m<module>\u001b[1;34m()\u001b[0m\n\u001b[0;32m      1\u001b[0m \u001b[0mx\u001b[0m\u001b[1;33m=\u001b[0m\u001b[1;36m1\u001b[0m\u001b[1;33m\u001b[0m\u001b[0m\n\u001b[0;32m      2\u001b[0m \u001b[0my\u001b[0m\u001b[1;33m=\u001b[0m\u001b[1;36m0\u001b[0m\u001b[1;33m\u001b[0m\u001b[0m\n\u001b[1;32m----> 3\u001b[1;33m \u001b[0mx\u001b[0m\u001b[1;33m/\u001b[0m\u001b[0my\u001b[0m\u001b[1;33m\u001b[0m\u001b[0m\n\u001b[0m",
      "\u001b[1;31mZeroDivisionError\u001b[0m: integer division or modulo by zero"
     ]
    },
    {
     "name": "stdout",
     "output_type": "stream",
     "text": [
      "> \u001b[1;32m<ipython-input-3-a81a2919fa7c>\u001b[0m(3)\u001b[0;36m<module>\u001b[1;34m()\u001b[0m\n",
      "\u001b[1;32m      1 \u001b[1;33m\u001b[0mx\u001b[0m\u001b[1;33m=\u001b[0m\u001b[1;36m1\u001b[0m\u001b[1;33m\u001b[0m\u001b[0m\n",
      "\u001b[0m\u001b[1;32m      2 \u001b[1;33m\u001b[0my\u001b[0m\u001b[1;33m=\u001b[0m\u001b[1;36m0\u001b[0m\u001b[1;33m\u001b[0m\u001b[0m\n",
      "\u001b[0m\u001b[1;32m----> 3 \u001b[1;33m\u001b[0mx\u001b[0m\u001b[1;33m/\u001b[0m\u001b[0my\u001b[0m\u001b[1;33m\u001b[0m\u001b[0m\n",
      "\u001b[0m\n",
      "ipdb> y\n",
      "0\n",
      "ipdb> quit\n"
     ]
    }
   ],
   "source": [
    "x=1\n",
    "y=0\n",
    "x/y"
   ]
  },
  {
   "cell_type": "markdown",
   "metadata": {},
   "source": [
    "## 任意の行からデバッグ開始\n",
    "\n",
    "** break したいコードの直上に以下の一行を張り付ける **"
   ]
  },
  {
   "cell_type": "code",
   "execution_count": null,
   "metadata": {
    "collapsed": true
   },
   "outputs": [],
   "source": [
    "from IPython.core.debugger import Pdb; Pdb().set_trace() #  break したい所にこの行を張り付ける"
   ]
  },
  {
   "cell_type": "markdown",
   "metadata": {},
   "source": [
    "## プロファイル(Profile)"
   ]
  },
  {
   "cell_type": "code",
   "execution_count": null,
   "metadata": {
    "collapsed": true
   },
   "outputs": [],
   "source": [
    "# Line Profile\n",
    "# http://gouthamanbalaraman.com/blog/profiling-python-jupyter-notebooks.html\n",
    "%load_ext line_profiler\n",
    "%lprun -f func hunc(50000, 0.5) # 測定対象関数を -f で指定して、それを含む関数を呼ぶ"
   ]
  },
  {
   "cell_type": "markdown",
   "metadata": {},
   "source": [
    "# その他"
   ]
  },
  {
   "cell_type": "markdown",
   "metadata": {},
   "source": [
    "## リスト内包と条件文"
   ]
  },
  {
   "cell_type": "code",
   "execution_count": 7,
   "metadata": {},
   "outputs": [
    {
     "name": "stdout",
     "output_type": "stream",
     "text": [
      "[6, 7, 8, 9]\n",
      "[0, 0, 0, 0, 0, 0, 6, 7, 8, 9]\n"
     ]
    }
   ],
   "source": [
    "x = range(10)\n",
    "print( [i for i in x if i>5] )\n",
    "print( [i if i > 5 else 0 for i in x ] )\n",
    "# print( [i if i > 5 for i in x ] ) # Error\n"
   ]
  },
  {
   "cell_type": "markdown",
   "metadata": {},
   "source": [
    "###  grep"
   ]
  },
  {
   "cell_type": "code",
   "execution_count": 27,
   "metadata": {},
   "outputs": [
    {
     "data": {
      "text/plain": [
       "['dog', 'dog2']"
      ]
     },
     "execution_count": 27,
     "metadata": {},
     "output_type": "execute_result"
    }
   ],
   "source": [
    "animals = [ 'dog', 'cat', 'monkey', 'dog2', 'cat2', 'monke2' ]\n",
    "key = 'dog'\n",
    "[ item for item in animals if key in item]"
   ]
  },
  {
   "cell_type": "markdown",
   "metadata": {},
   "source": [
    "## 組み込み例外\n",
    "https://docs.python.jp/3/library/exceptions.html"
   ]
  },
  {
   "cell_type": "code",
   "execution_count": 4,
   "metadata": {},
   "outputs": [
    {
     "ename": "TypeError",
     "evalue": "オブジェクトの型が正しくない",
     "output_type": "error",
     "traceback": [
      "\u001b[1;31m---------------------------------------------------------------------------\u001b[0m",
      "\u001b[1;31mTypeError\u001b[0m                                 Traceback (most recent call last)",
      "\u001b[1;32m<ipython-input-4-e080cc107e56>\u001b[0m in \u001b[0;36m<module>\u001b[1;34m()\u001b[0m\n\u001b[1;32m----> 1\u001b[1;33m \u001b[1;32mraise\u001b[0m \u001b[0mTypeError\u001b[0m\u001b[1;33m(\u001b[0m \u001b[1;34m\"オブジェクトの型が正しくない\"\u001b[0m\u001b[1;33m)\u001b[0m\u001b[1;33m\u001b[0m\u001b[0m\n\u001b[0m\u001b[0;32m      2\u001b[0m \u001b[1;32mraise\u001b[0m \u001b[0mValueError\u001b[0m\u001b[1;33m(\u001b[0m\u001b[1;34m\"値が不適切\"\u001b[0m\u001b[1;33m)\u001b[0m\u001b[1;33m\u001b[0m\u001b[0m\n",
      "\u001b[1;31mTypeError\u001b[0m: オブジェクトの型が正しくない"
     ]
    }
   ],
   "source": [
    "raise TypeError( \"オブジェクトの型が正しくない\")\n",
    "raise ValueError(\"値が不適切\")"
   ]
  },
  {
   "cell_type": "markdown",
   "metadata": {},
   "source": [
    "## リストのアンパック"
   ]
  },
  {
   "cell_type": "code",
   "execution_count": 11,
   "metadata": {},
   "outputs": [
    {
     "name": "stdout",
     "output_type": "stream",
     "text": [
      "1\n",
      "2\n",
      "[1]\n",
      "1\n"
     ]
    },
    {
     "ename": "ValueError",
     "evalue": "too many values to unpack (expected 2)",
     "output_type": "error",
     "traceback": [
      "\u001b[1;31m---------------------------------------------------------------------------\u001b[0m",
      "\u001b[1;31mValueError\u001b[0m                                Traceback (most recent call last)",
      "\u001b[1;32m<ipython-input-11-4e72203d9fa9>\u001b[0m in \u001b[0;36m<module>\u001b[1;34m()\u001b[0m\n\u001b[0;32m      7\u001b[0m \u001b[0ma\u001b[0m\u001b[1;33m,\u001b[0m \u001b[1;33m=\u001b[0m \u001b[1;33m[\u001b[0m\u001b[1;36m1\u001b[0m\u001b[1;33m]\u001b[0m\u001b[1;33m\u001b[0m\u001b[0m\n\u001b[0;32m      8\u001b[0m \u001b[0mprint\u001b[0m\u001b[1;33m(\u001b[0m\u001b[0ma\u001b[0m\u001b[1;33m)\u001b[0m\u001b[1;33m\u001b[0m\u001b[0m\n\u001b[1;32m----> 9\u001b[1;33m \u001b[0ma\u001b[0m\u001b[1;33m,\u001b[0m\u001b[0mb\u001b[0m \u001b[1;33m=\u001b[0m \u001b[1;33m[\u001b[0m\u001b[1;36m1\u001b[0m\u001b[1;33m,\u001b[0m\u001b[1;36m2\u001b[0m\u001b[1;33m,\u001b[0m\u001b[1;36m3\u001b[0m\u001b[1;33m]\u001b[0m\u001b[1;33m\u001b[0m\u001b[0m\n\u001b[0m",
      "\u001b[1;31mValueError\u001b[0m: too many values to unpack (expected 2)"
     ]
    }
   ],
   "source": [
    "a,b,c= ( 1,2,3 )\n",
    "print(a)\n",
    "a,b,c = [1,2,3]\n",
    "print(b)\n",
    "a = [1]\n",
    "print(a)\n",
    "a, = [1]\n",
    "print(a)\n",
    "a,b = [1,2,3]\n"
   ]
  },
  {
   "cell_type": "markdown",
   "metadata": {},
   "source": [
    "## 解析"
   ]
  },
  {
   "cell_type": "code",
   "execution_count": 40,
   "metadata": {},
   "outputs": [
    {
     "name": "stdout",
     "output_type": "stream",
     "text": [
      "#data type:  int32\n",
      "#id:  2521684580192\n",
      "#type: a <class 'numpy.ndarray'>\n",
      "#type: a.transpose <class 'builtin_function_or_method'>\n",
      "#dir:  ['T', '__abs__', '__add__', '__and__', '__array__', '__array_finalize__', '__array_interface__', '__array_prepare__', '__array_priority__', '__array_struct__', '__array_wrap__', '__bool__', '__class__', '__complex__', '__contains__', '__copy__', '__deepcopy__', '__delattr__', '__delitem__', '__dir__', '__divmod__', '__doc__', '__eq__', '__float__', '__floordiv__', '__format__', '__ge__', '__getattribute__', '__getitem__', '__gt__', '__hash__', '__iadd__', '__iand__', '__ifloordiv__', '__ilshift__', '__imatmul__', '__imod__', '__imul__', '__index__', '__init__', '__init_subclass__', '__int__', '__invert__', '__ior__', '__ipow__', '__irshift__', '__isub__', '__iter__', '__itruediv__', '__ixor__', '__le__', '__len__', '__lshift__', '__lt__', '__matmul__', '__mod__', '__mul__', '__ne__', '__neg__', '__new__', '__or__', '__pos__', '__pow__', '__radd__', '__rand__', '__rdivmod__', '__reduce__', '__reduce_ex__', '__repr__', '__rfloordiv__', '__rlshift__', '__rmatmul__', '__rmod__', '__rmul__', '__ror__', '__rpow__', '__rrshift__', '__rshift__', '__rsub__', '__rtruediv__', '__rxor__', '__setattr__', '__setitem__', '__setstate__', '__sizeof__', '__str__', '__sub__', '__subclasshook__', '__truediv__', '__xor__', 'all', 'any', 'argmax', 'argmin', 'argpartition', 'argsort', 'astype', 'base', 'byteswap', 'choose', 'clip', 'compress', 'conj', 'conjugate', 'copy', 'ctypes', 'cumprod', 'cumsum', 'data', 'diagonal', 'dot', 'dtype', 'dump', 'dumps', 'fill', 'flags', 'flat', 'flatten', 'getfield', 'imag', 'item', 'itemset', 'itemsize', 'max', 'mean', 'min', 'nbytes', 'ndim', 'newbyteorder', 'nonzero', 'partition', 'prod', 'ptp', 'put', 'ravel', 'real', 'repeat', 'reshape', 'resize', 'round', 'searchsorted', 'setfield', 'setflags', 'shape', 'size', 'sort', 'squeeze', 'std', 'strides', 'sum', 'swapaxes', 'take', 'tobytes', 'tofile', 'tolist', 'tostring', 'trace', 'transpose', 'var', 'view']\n",
      "['flags', 'flat', 'flatten', 'setflags']\n"
     ]
    }
   ],
   "source": [
    "a = np.array(range(24)).reshape([2,3,4])\n",
    "print( '#data type: ',a.dtype )\n",
    "print ('#id: ', id(a))\n",
    "print( '#type: a', type(a))\n",
    "print( '#type: a.transpose', type(a.transpose))\n",
    "print( '#dir: ', dir(a))\n",
    "print( [ item for item in dir(a) if 'fla' in item])"
   ]
  }
 ],
 "metadata": {
  "anaconda-cloud": {},
  "kernelspec": {
   "display_name": "Python 3",
   "language": "python",
   "name": "python3"
  },
  "language_info": {
   "codemirror_mode": {
    "name": "ipython",
    "version": 3
   },
   "file_extension": ".py",
   "mimetype": "text/x-python",
   "name": "python",
   "nbconvert_exporter": "python",
   "pygments_lexer": "ipython3",
   "version": "3.6.4"
  },
  "toc": {
   "nav_menu": {},
   "number_sections": true,
   "sideBar": true,
   "skip_h1_title": false,
   "toc_cell": true,
   "toc_position": {},
   "toc_section_display": "block",
   "toc_window_display": false
  }
 },
 "nbformat": 4,
 "nbformat_minor": 1
}
