{
 "cells": [
  {
   "cell_type": "markdown",
   "metadata": {
    "toc": true
   },
   "source": [
    "<h1>Table of Contents<span class=\"tocSkip\"></span></h1>\n",
    "<div class=\"toc\" style=\"margin-top: 1em;\"><ul class=\"toc-item\"></ul></div>"
   ]
  },
  {
   "cell_type": "code",
   "execution_count": 38,
   "metadata": {
    "collapsed": true
   },
   "outputs": [],
   "source": [
    "import numpy as np\n",
    "from scipy.special import comb\n",
    "from scipy.special import factorial\n",
    "import pickle"
   ]
  },
  {
   "cell_type": "code",
   "execution_count": 56,
   "metadata": {
    "collapsed": true
   },
   "outputs": [],
   "source": [
    "nopen = 13\n",
    "ndepth = 13\n",
    "with open( \"lcomb_%d.pkl\" % (nopen), 'rb') as f:\n",
    "    lcomb0 = pickle.load( f )"
   ]
  },
  {
   "cell_type": "code",
   "execution_count": 74,
   "metadata": {
    "scrolled": true
   },
   "outputs": [],
   "source": [
    "def update_lcomb( lcomb0, ndepth ):\n",
    "    lcomb1 = []\n",
    "    for lst in lcomb0:\n",
    "        if len(lst) < ndepth:\n",
    "            lcombtmp = [ [1] + list(lst)]\n",
    "        else:\n",
    "            lcmbtmp = []\n",
    "        #print( lcombtmp )\n",
    "        for pos in range(len(lst)):\n",
    "            newlst = list(lst)\n",
    "            newlst[pos] += 1\n",
    "            #print( newlst )\n",
    "            lcombtmp.append(newlst)\n",
    "        lcombtmp = [ tuple(sorted(newlst)) for newlst in lcombtmp ]\n",
    "        lcomb1 += set(lcombtmp)\n",
    "    lcomb1 = set(lcomb1)\n",
    "    return lcomb1"
   ]
  },
  {
   "cell_type": "code",
   "execution_count": 75,
   "metadata": {},
   "outputs": [
    {
     "data": {
      "text/plain": [
       "{(1, 1, 1, 1, 1, 1, 1, 1, 1, 1, 1, 1, 2),\n",
       " (1, 1, 1, 1, 1, 1, 1, 1, 1, 1, 1, 3),\n",
       " (1, 1, 1, 1, 1, 1, 1, 1, 1, 1, 2, 2),\n",
       " (1, 1, 1, 1, 1, 1, 1, 1, 1, 1, 4),\n",
       " (1, 1, 1, 1, 1, 1, 1, 1, 1, 2, 3),\n",
       " (1, 1, 1, 1, 1, 1, 1, 1, 1, 5),\n",
       " (1, 1, 1, 1, 1, 1, 1, 1, 2, 2, 2),\n",
       " (1, 1, 1, 1, 1, 1, 1, 1, 2, 4),\n",
       " (1, 1, 1, 1, 1, 1, 1, 1, 3, 3),\n",
       " (1, 1, 1, 1, 1, 1, 1, 1, 6),\n",
       " (1, 1, 1, 1, 1, 1, 1, 2, 2, 3),\n",
       " (1, 1, 1, 1, 1, 1, 1, 2, 5),\n",
       " (1, 1, 1, 1, 1, 1, 1, 3, 4),\n",
       " (1, 1, 1, 1, 1, 1, 1, 7),\n",
       " (1, 1, 1, 1, 1, 1, 2, 2, 2, 2),\n",
       " (1, 1, 1, 1, 1, 1, 2, 2, 4),\n",
       " (1, 1, 1, 1, 1, 1, 2, 3, 3),\n",
       " (1, 1, 1, 1, 1, 1, 2, 6),\n",
       " (1, 1, 1, 1, 1, 1, 3, 5),\n",
       " (1, 1, 1, 1, 1, 1, 4, 4),\n",
       " (1, 1, 1, 1, 1, 1, 8),\n",
       " (1, 1, 1, 1, 1, 2, 2, 2, 3),\n",
       " (1, 1, 1, 1, 1, 2, 2, 5),\n",
       " (1, 1, 1, 1, 1, 2, 3, 4),\n",
       " (1, 1, 1, 1, 1, 2, 7),\n",
       " (1, 1, 1, 1, 1, 3, 3, 3),\n",
       " (1, 1, 1, 1, 1, 3, 6),\n",
       " (1, 1, 1, 1, 1, 4, 5),\n",
       " (1, 1, 1, 1, 1, 9),\n",
       " (1, 1, 1, 1, 2, 2, 2, 2, 2),\n",
       " (1, 1, 1, 1, 2, 2, 2, 4),\n",
       " (1, 1, 1, 1, 2, 2, 3, 3),\n",
       " (1, 1, 1, 1, 2, 2, 6),\n",
       " (1, 1, 1, 1, 2, 3, 5),\n",
       " (1, 1, 1, 1, 2, 4, 4),\n",
       " (1, 1, 1, 1, 2, 8),\n",
       " (1, 1, 1, 1, 3, 3, 4),\n",
       " (1, 1, 1, 1, 3, 7),\n",
       " (1, 1, 1, 1, 4, 6),\n",
       " (1, 1, 1, 1, 5, 5),\n",
       " (1, 1, 1, 1, 10),\n",
       " (1, 1, 1, 2, 2, 2, 2, 3),\n",
       " (1, 1, 1, 2, 2, 2, 5),\n",
       " (1, 1, 1, 2, 2, 3, 4),\n",
       " (1, 1, 1, 2, 2, 7),\n",
       " (1, 1, 1, 2, 3, 3, 3),\n",
       " (1, 1, 1, 2, 3, 6),\n",
       " (1, 1, 1, 2, 4, 5),\n",
       " (1, 1, 1, 2, 9),\n",
       " (1, 1, 1, 3, 3, 5),\n",
       " (1, 1, 1, 3, 4, 4),\n",
       " (1, 1, 1, 3, 8),\n",
       " (1, 1, 1, 4, 7),\n",
       " (1, 1, 1, 5, 6),\n",
       " (1, 1, 1, 11),\n",
       " (1, 1, 2, 2, 2, 2, 2, 2),\n",
       " (1, 1, 2, 2, 2, 2, 4),\n",
       " (1, 1, 2, 2, 2, 3, 3),\n",
       " (1, 1, 2, 2, 2, 6),\n",
       " (1, 1, 2, 2, 3, 5),\n",
       " (1, 1, 2, 2, 4, 4),\n",
       " (1, 1, 2, 2, 8),\n",
       " (1, 1, 2, 3, 3, 4),\n",
       " (1, 1, 2, 3, 7),\n",
       " (1, 1, 2, 4, 6),\n",
       " (1, 1, 2, 5, 5),\n",
       " (1, 1, 2, 10),\n",
       " (1, 1, 3, 3, 3, 3),\n",
       " (1, 1, 3, 3, 6),\n",
       " (1, 1, 3, 4, 5),\n",
       " (1, 1, 3, 9),\n",
       " (1, 1, 4, 4, 4),\n",
       " (1, 1, 4, 8),\n",
       " (1, 1, 5, 7),\n",
       " (1, 1, 6, 6),\n",
       " (1, 1, 12),\n",
       " (1, 2, 2, 2, 2, 2, 3),\n",
       " (1, 2, 2, 2, 2, 5),\n",
       " (1, 2, 2, 2, 3, 4),\n",
       " (1, 2, 2, 2, 7),\n",
       " (1, 2, 2, 3, 3, 3),\n",
       " (1, 2, 2, 3, 6),\n",
       " (1, 2, 2, 4, 5),\n",
       " (1, 2, 2, 9),\n",
       " (1, 2, 3, 3, 5),\n",
       " (1, 2, 3, 4, 4),\n",
       " (1, 2, 3, 8),\n",
       " (1, 2, 4, 7),\n",
       " (1, 2, 5, 6),\n",
       " (1, 2, 11),\n",
       " (1, 3, 3, 3, 4),\n",
       " (1, 3, 3, 7),\n",
       " (1, 3, 4, 6),\n",
       " (1, 3, 5, 5),\n",
       " (1, 3, 10),\n",
       " (1, 4, 4, 5),\n",
       " (1, 4, 9),\n",
       " (1, 5, 8),\n",
       " (1, 6, 7),\n",
       " (1, 13),\n",
       " (2, 2, 2, 2, 2, 2, 2),\n",
       " (2, 2, 2, 2, 2, 4),\n",
       " (2, 2, 2, 2, 3, 3),\n",
       " (2, 2, 2, 2, 6),\n",
       " (2, 2, 2, 3, 5),\n",
       " (2, 2, 2, 4, 4),\n",
       " (2, 2, 2, 8),\n",
       " (2, 2, 3, 3, 4),\n",
       " (2, 2, 3, 7),\n",
       " (2, 2, 4, 6),\n",
       " (2, 2, 5, 5),\n",
       " (2, 2, 10),\n",
       " (2, 3, 3, 3, 3),\n",
       " (2, 3, 3, 6),\n",
       " (2, 3, 4, 5),\n",
       " (2, 3, 9),\n",
       " (2, 4, 4, 4),\n",
       " (2, 4, 8),\n",
       " (2, 5, 7),\n",
       " (2, 6, 6),\n",
       " (2, 12),\n",
       " (3, 3, 3, 5),\n",
       " (3, 3, 4, 4),\n",
       " (3, 3, 8),\n",
       " (3, 4, 7),\n",
       " (3, 5, 6),\n",
       " (3, 11),\n",
       " (4, 4, 6),\n",
       " (4, 5, 5),\n",
       " (4, 10),\n",
       " (5, 9),\n",
       " (6, 8),\n",
       " (7, 7),\n",
       " (14,)}"
      ]
     },
     "execution_count": 75,
     "metadata": {},
     "output_type": "execute_result"
    }
   ],
   "source": [
    "lcomb1 = update_lcomb( lcomb0, 13)\n",
    "lcomb1"
   ]
  },
  {
   "cell_type": "code",
   "execution_count": 78,
   "metadata": {},
   "outputs": [
    {
     "data": {
      "text/plain": [
       "134"
      ]
     },
     "execution_count": 78,
     "metadata": {},
     "output_type": "execute_result"
    }
   ],
   "source": [
    "len(lcomb1)"
   ]
  },
  {
   "cell_type": "code",
   "execution_count": 87,
   "metadata": {},
   "outputs": [],
   "source": [
    "depth = 13\n",
    "for nopen in np.arange( 13, 33, 1):\n",
    "    with open( \"llcomb_%d.pkl\" % (nopen), 'rb') as f:\n",
    "        lcomb0 = pickle.load( f )\n",
    "    lcomb1 = update_lcomb( lcomb0, depth)\n",
    "    #with open( \"lcomb_%d.pkl\" % (nopen+1), 'rb') as f:\n",
    "    #    lcomb_ans = pickle.load( f )\n",
    "    #lcomb1 = sorted(lcomb1)\n",
    "    #lcomb_ans = sorted(lcomb_ans)\n",
    "    #print( lcomb1 == lcomb_ans, nopen )\n",
    "    with open( \"llcomb_%d.pkl\" % (nopen+1), 'wb') as f:\n",
    "        pickle.dump( lcomb1, f )"
   ]
  },
  {
   "cell_type": "code",
   "execution_count": 92,
   "metadata": {},
   "outputs": [
    {
     "data": {
      "text/plain": [
       "True"
      ]
     },
     "execution_count": 92,
     "metadata": {},
     "output_type": "execute_result"
    }
   ],
   "source": [
    "nopen = 28\n",
    "with open( \"lcomb_%d.pkl\" % (nopen), 'rb') as f:\n",
    "    lcomb0 = pickle.load( f )\n",
    "with open( \"llcomb_%d.pkl\" % (nopen), 'rb') as f:\n",
    "    llcomb0 = pickle.load( f )\n",
    "sorted(lcomb0) == sorted(llcomb0)"
   ]
  },
  {
   "cell_type": "code",
   "execution_count": 96,
   "metadata": {},
   "outputs": [
    {
     "name": "stdout",
     "output_type": "stream",
     "text": [
      "1 1\n",
      "2 2\n",
      "3 3\n",
      "5 4\n",
      "7 5\n",
      "11 6\n",
      "15 7\n",
      "22 8\n",
      "30 9\n",
      "42 10\n",
      "56 11\n",
      "77 12\n",
      "101 13\n",
      "134 14\n",
      "174 15\n",
      "227 16\n",
      "290 17\n",
      "373 18\n",
      "471 19\n",
      "597 20\n",
      "747 21\n",
      "935 22\n",
      "1158 23\n",
      "1436 24\n",
      "1763 25\n",
      "2164 26\n",
      "2637 27\n",
      "3210 28\n",
      "3882 29\n",
      "4691 30\n",
      "5635 31\n",
      "6761 32\n"
     ]
    }
   ],
   "source": [
    "for nopen in np.arange(1,33,1):\n",
    "    with open( \"lcomb/lcomb_%d.pkl\" % (nopen), 'rb') as f:\n",
    "        lcomb0 = pickle.load( f )\n",
    "    print( len(lcomb0), nopen)"
   ]
  }
 ],
 "metadata": {
  "kernelspec": {
   "display_name": "Python 3",
   "language": "python",
   "name": "python3"
  },
  "language_info": {
   "codemirror_mode": {
    "name": "ipython",
    "version": 3
   },
   "file_extension": ".py",
   "mimetype": "text/x-python",
   "name": "python",
   "nbconvert_exporter": "python",
   "pygments_lexer": "ipython3",
   "version": "3.6.4"
  },
  "toc": {
   "nav_menu": {},
   "number_sections": true,
   "sideBar": true,
   "skip_h1_title": false,
   "toc_cell": true,
   "toc_position": {},
   "toc_section_display": "block",
   "toc_window_display": false
  }
 },
 "nbformat": 4,
 "nbformat_minor": 2
}
