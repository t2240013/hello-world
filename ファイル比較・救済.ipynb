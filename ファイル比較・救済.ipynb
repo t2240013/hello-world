{
 "cells": [
  {
   "cell_type": "markdown",
   "metadata": {
    "toc": true
   },
   "source": [
    "<h1>Table of Contents<span class=\"tocSkip\"></span></h1>\n",
    "<div class=\"toc\" style=\"margin-top: 1em;\"><ul class=\"toc-item\"><li><span><a href=\"#関数\" data-toc-modified-id=\"関数-1\"><span class=\"toc-item-num\">1&nbsp;&nbsp;</span>関数</a></span></li><li><span><a href=\"#ディレクトリ設定\" data-toc-modified-id=\"ディレクトリ設定-2\"><span class=\"toc-item-num\">2&nbsp;&nbsp;</span>ディレクトリ設定</a></span></li><li><span><a href=\"#ファイルリストの差分リストを作成する\" data-toc-modified-id=\"ファイルリストの差分リストを作成する-3\"><span class=\"toc-item-num\">3&nbsp;&nbsp;</span>ファイルリストの差分リストを作成する</a></span></li><li><span><a href=\"#重複ファイルを探す\" data-toc-modified-id=\"重複ファイルを探す-4\"><span class=\"toc-item-num\">4&nbsp;&nbsp;</span>重複ファイルを探す</a></span><ul class=\"toc-item\"><li><span><a href=\"#バックアップされていたファイルの数\" data-toc-modified-id=\"バックアップされていたファイルの数-4.1\"><span class=\"toc-item-num\">4.1&nbsp;&nbsp;</span>バックアップされていたファイルの数</a></span></li></ul></li><li><span><a href=\"#指定されたリストのファイルを削除するバッチファイルを出力する\" data-toc-modified-id=\"指定されたリストのファイルを削除するバッチファイルを出力する-5\"><span class=\"toc-item-num\">5&nbsp;&nbsp;</span>指定されたリストのファイルを削除するバッチファイルを出力する</a></span></li><li><span><a href=\"#リネーム\" data-toc-modified-id=\"リネーム-6\"><span class=\"toc-item-num\">6&nbsp;&nbsp;</span>リネーム</a></span></li><li><span><a href=\"#cp932チェック\" data-toc-modified-id=\"cp932チェック-7\"><span class=\"toc-item-num\">7&nbsp;&nbsp;</span>cp932チェック</a></span></li><li><span><a href=\"#バグリカバリー\" data-toc-modified-id=\"バグリカバリー-8\"><span class=\"toc-item-num\">8&nbsp;&nbsp;</span>バグリカバリー</a></span></li><li><span><a href=\"#隠しファイルのリネーム\" data-toc-modified-id=\"隠しファイルのリネーム-9\"><span class=\"toc-item-num\">9&nbsp;&nbsp;</span>隠しファイルのリネーム</a></span><ul class=\"toc-item\"><li><span><a href=\"#リストの作成\" data-toc-modified-id=\"リストの作成-9.1\"><span class=\"toc-item-num\">9.1&nbsp;&nbsp;</span>リストの作成</a></span></li><li><span><a href=\"#いよいよリネーム\" data-toc-modified-id=\"いよいよリネーム-9.2\"><span class=\"toc-item-num\">9.2&nbsp;&nbsp;</span>いよいよリネーム</a></span></li></ul></li></ul></div>"
   ]
  },
  {
   "cell_type": "code",
   "execution_count": null,
   "metadata": {},
   "outputs": [],
   "source": [
    "import pprint\n",
    "%pwd"
   ]
  },
  {
   "cell_type": "markdown",
   "metadata": {},
   "source": [
    "# 関数"
   ]
  },
  {
   "cell_type": "code",
   "execution_count": null,
   "metadata": {},
   "outputs": [],
   "source": [
    "def grep2( key, lst ):\n",
    "    for idx,s in enumerate(lst):\n",
    "        for t in s:\n",
    "            if key in t:\n",
    "                print( idx, s)"
   ]
  },
  {
   "cell_type": "code",
   "execution_count": null,
   "metadata": {},
   "outputs": [],
   "source": [
    "def grep( key, lst ):\n",
    "    for idx,s in enumerate(lst):\n",
    "        if key in s:\n",
    "            print( idx, s)"
   ]
  },
  {
   "cell_type": "code",
   "execution_count": null,
   "metadata": {},
   "outputs": [],
   "source": [
    "def print_list( lst ):\n",
    "    for idx, item in enumerate(lst):\n",
    "        print( idx,item )"
   ]
  },
  {
   "cell_type": "code",
   "execution_count": null,
   "metadata": {},
   "outputs": [],
   "source": [
    "def get_key( pasuname, idx=0 ):\n",
    "    \"\"\"\n",
    "    パス名からバックアップシステムが付けた日付識別文字列を除去する\n",
    "    \"\"\"\n",
    "    key_spo = \" UTC)\"\n",
    "    dist = 21 # ' (201'\n",
    "    pos_spo = pasuname.rfind( key_spo )\n",
    "    pos_atm = pos_spo - dist\n",
    "    if pasuname[pos_atm:pos_atm+5] != ' (201':\n",
    "        print( idx, \":\", \"head != (201\", pasuname, ' but ', pasuname[pos_atm:pos_atm+5] )\n",
    "        print( \"posｖ_atm= \", pos_atm, \"pos_spo= \", pos_spo)\n",
    "        assert(False)\n",
    "    if ( pos_atm <= 0 ):\n",
    "        print( idx, \":\", \"pos_atm <= 0\", pos_atm)\n",
    "        assert(False)\n",
    "    return pasuname[0:pos_atm] + pasuname[pos_spo+5:]\n",
    "    "
   ]
  },
  {
   "cell_type": "code",
   "execution_count": null,
   "metadata": {},
   "outputs": [],
   "source": [
    "def upath2dospath( list_slash ):\n",
    "    list_back = []\n",
    "    for st in list_slash:\n",
    "        tmp_st = st.replace( '/','\\\\')\n",
    "        tmp_st = '\"' + tmp_st + '\"'\n",
    "        list_back.append( tmp_st )              \n",
    "    return list_back\n",
    "    "
   ]
  },
  {
   "cell_type": "code",
   "execution_count": null,
   "metadata": {},
   "outputs": [],
   "source": [
    "def fileout_list( fname, lst, fmt ):\n",
    "    with open(fname,\"wt\",encoding='cp932') as f:\n",
    "        for st in lst:\n",
    "            f.write( fmt % (st) )\n",
    "        f.close()   "
   ]
  },
  {
   "cell_type": "code",
   "execution_count": null,
   "metadata": {},
   "outputs": [],
   "source": [
    "def fileout_list2( fname, lst1, lst2, fmt ):\n",
    "    with open(fname,\"wt\",encoding='cp932') as f:\n",
    "        for st1, st2 in zip(lst1, lst2):\n",
    "            f.write( fmt % (st1,st2) )\n",
    "        f.close() "
   ]
  },
  {
   "cell_type": "code",
   "execution_count": null,
   "metadata": {},
   "outputs": [],
   "source": [
    "def fileout_format_list( fname, lst, fmt ):\n",
    "    with open(fname,\"wt\",encoding='cp932') as f:\n",
    "        f.write( \"@echo off\\n\\n\")\n",
    "        for st in lst:\n",
    "            f.write( fmt.format(st) )\n",
    "        f.write( \"@echo on\\n\")\n",
    "        f.write( \"echo Done!!\\n\")\n",
    "        f.close() "
   ]
  },
  {
   "cell_type": "code",
   "execution_count": null,
   "metadata": {},
   "outputs": [],
   "source": [
    "def fileout_format_list2( fname, lst1, lst2, fmt ):\n",
    "    with open(fname,\"wt\",encoding='cp932') as f:\n",
    "        for st1, st2 in zip(lst1, lst2):\n",
    "            f.write( fmt.format(st1,st2) )\n",
    "        f.close()"
   ]
  },
  {
   "cell_type": "code",
   "execution_count": null,
   "metadata": {},
   "outputs": [],
   "source": [
    "def chk_cp932( lst ):\n",
    "    for idx,s in enumerate(lst):\n",
    "        try:\n",
    "            s_enc = s.encode('cp932')\n",
    "        except:\n",
    "            print( idx, s)\n",
    "        "
   ]
  },
  {
   "cell_type": "markdown",
   "metadata": {},
   "source": [
    "# ディレクトリ設定"
   ]
  },
  {
   "cell_type": "code",
   "execution_count": null,
   "metadata": {},
   "outputs": [],
   "source": [
    "bpath = \"Z:\\\\BackUp\\\\WD3T_20191110\\\\\"\n",
    "wpath = \"Z:\\\\Documents and Settings\\\\\""
   ]
  },
  {
   "cell_type": "markdown",
   "metadata": {},
   "source": [
    "# ファイルリストの差分リストを作成する"
   ]
  },
  {
   "cell_type": "code",
   "execution_count": null,
   "metadata": {},
   "outputs": [],
   "source": [
    "file1 = bpath + \"file_damaged_D.txt\" # utf-8 lf\n",
    "file2 = bpath + \"file_backup.txt\"\n",
    "out12 = bpath + \"diff_damaged_D-backup.txt\"\n",
    "out21 = bpath + \"diff_backup-damaged_D.txt\""
   ]
  },
  {
   "cell_type": "code",
   "execution_count": null,
   "metadata": {},
   "outputs": [],
   "source": [
    "with open(file1,encoding='utf-8') as f:\n",
    "    file1_list = f.read().splitlines()\n",
    "    f.close()\n",
    "    \n",
    "with open(file2,encoding='utf-8') as f:\n",
    "    file2_list = f.read().splitlines()\n",
    "    f.close()\n"
   ]
  },
  {
   "cell_type": "code",
   "execution_count": null,
   "metadata": {},
   "outputs": [],
   "source": [
    "file2_list = [ lst.replace('/Documents and Settings',\"\") for lst in file2_list ]\n",
    "file1_set = set(file1_list)\n",
    "file2_set = set(file2_list)\n",
    "file12_set = sorted(list(file1_set - file2_set))\n",
    "file21_set = sorted(list(file2_set - file1_set))"
   ]
  },
  {
   "cell_type": "code",
   "execution_count": null,
   "metadata": {},
   "outputs": [],
   "source": [
    "with open(out12,\"wt\",encoding='utf-8') as f:\n",
    "    f.write(\"\\n\".join(file12_set))\n",
    "    f.close()\n",
    "with open(out21,\"wt\",encoding='utf-8') as f:\n",
    "    f.write(\"\\n\".join(file21_set))\n",
    "    f.close()"
   ]
  },
  {
   "cell_type": "code",
   "execution_count": null,
   "metadata": {},
   "outputs": [],
   "source": [
    "#%qtconsole"
   ]
  },
  {
   "cell_type": "markdown",
   "metadata": {},
   "source": [
    "# 重複ファイルを探す"
   ]
  },
  {
   "cell_type": "markdown",
   "metadata": {},
   "source": [
    "## バックアップされていたファイルの数\n",
    "Microsoft Office の一時ファイル（~$で始まるファイル）がなぜか見えない。ひとまず除外して考える。<br>\n",
    "* 更新ファイルを含めた総数 61919 ( 内一時ファイル 6 )\n",
    "* 更新ファイルを除外した数 61709( 内一時ファイル 4 )<br>\n",
    "* 復元するファイル数 61705\n"
   ]
  },
  {
   "cell_type": "code",
   "execution_count": null,
   "metadata": {},
   "outputs": [],
   "source": [
    "# file list を読み込んで file_list を作る\n",
    "filename = \"Z:\\\\work\\\\backup_file_list.txt\" # utf-8\n",
    "with open(filename,encoding='utf-8') as f:\n",
    "    file_list = f.read().splitlines()\n",
    "    f.close()\n",
    "\n",
    "file_list.sort() # 重要！ 識別子の辞書順が大きいファイルが最新\n",
    "print( len(file_list))"
   ]
  },
  {
   "cell_type": "code",
   "execution_count": null,
   "metadata": {},
   "outputs": [],
   "source": [
    "# file list から~$ で始まるファイル（officeの一時ファイル）を除く\n",
    "ari_file = [ lst for lst in file_list if '~$' in lst ]\n",
    "nashi_file = [ lst for lst in file_list if '~$' not in lst ]\n",
    "print( '%d file 中 ~$ を含むファイルは%d個。含まないファイルは%d個です。\\n含むファイルは以下のとおりです。' %( len(file_list), len(ari_file), len(nashi_file) ) )\n",
    "print_list( ari_file )"
   ]
  },
  {
   "cell_type": "code",
   "execution_count": null,
   "metadata": {},
   "outputs": [],
   "source": [
    "file_list = nashi_file\n",
    "file_list.sort()"
   ]
  },
  {
   "cell_type": "code",
   "execution_count": null,
   "metadata": {},
   "outputs": [],
   "source": [
    "# file_list から更新ファイルを一つのリストにまとめて、そのリストをres_list とする    \n",
    "res_list = []\n",
    "cur_list = [file_list[0]]\n",
    "cur_key = get_key( file_list[0] )\n",
    "\n",
    "for idx, lst in enumerate( file_list[1:] ):\n",
    "    tmp_key = get_key( lst, idx)\n",
    "    if cur_key == tmp_key:\n",
    "        cur_list.append( lst )\n",
    "    else:\n",
    "        res_list.append( cur_list )\n",
    "        cur_list = [ lst ]\n",
    "        cur_key = tmp_key        \n",
    "res_list.append( cur_list) # 最終エントリーをフラッシュ\n",
    "len(res_list)    "
   ]
  },
  {
   "cell_type": "code",
   "execution_count": null,
   "metadata": {},
   "outputs": [],
   "source": [
    "# 重複リストを作成\n",
    "dup_list = []\n",
    "for lst in res_list:\n",
    "    if len(lst) > 1 :\n",
    "        dup_list.append(lst)\n",
    "        for l in lst:\n",
    "            print( l )\n",
    "        print('\\n')"
   ]
  },
  {
   "cell_type": "code",
   "execution_count": null,
   "metadata": {},
   "outputs": [],
   "source": [
    "# 最新リストを作成\n",
    "latest_list = []\n",
    "for lst in res_list:\n",
    "    latest_list.append(lst[-1])\n",
    "print( len(latest_list) )\n"
   ]
  },
  {
   "cell_type": "code",
   "execution_count": null,
   "metadata": {},
   "outputs": [],
   "source": [
    "# 最新を除く重複リストを作成\n",
    "notlatest_list = []\n",
    "for lst in res_list:\n",
    "    if len(lst) > 1:\n",
    "        notlatest_list.append(lst[:-1])\n",
    "print_list( notlatest_list )"
   ]
  },
  {
   "cell_type": "markdown",
   "metadata": {},
   "source": [
    "# 指定されたリストのファイルを削除するバッチファイルを出力する"
   ]
  },
  {
   "cell_type": "code",
   "execution_count": null,
   "metadata": {},
   "outputs": [],
   "source": [
    "notlatest_list_f = []\n",
    "for lst in notlatest_list:\n",
    "    notlatest_list_f = notlatest_list_f + lst\n",
    "notlatest_list_f_dos = upath2dospath( notlatest_list_f )\n",
    "delbat_filename  = wpath + \"delbat.bat\""
   ]
  },
  {
   "cell_type": "code",
   "execution_count": null,
   "metadata": {},
   "outputs": [],
   "source": [
    "fileout_list( delbat_filename, notlatest_list_f_dos, \"del /f %s\\n\")"
   ]
  },
  {
   "cell_type": "markdown",
   "metadata": {},
   "source": [
    "<pre>    \n",
    "papa@shiro:/mnt/z/work$ wc backup_file_deldup_list.txt\n",
    "  61711  372047 6463089 backup_file_deldup_list.txt\n",
    "papa@shiro:/mnt/z/work$ wc backup_file_list.txt\n",
    "  61919  373277 6483214 backup_file_list.txt\n",
    "</pre>  \n",
    "\n",
    " 208 ファイル消去（ del /f filename で”ファイルが見つかりませんでした”が3個でたがちゃんと消えている。不思議）"
   ]
  },
  {
   "cell_type": "markdown",
   "metadata": {},
   "source": [
    "# リネーム\n",
    "* 隠しファイルはMSDOSのRENではリネームできないのでchkバッチ走らせて検出されたら手で修正と思ったが面倒。最初の１つだけリネームしてしまったので、あとは放置することにした。*.info, *.GMD, Thumbs.db, ZbThumbnail.info, zb4meta.info\n",
    "\n",
    "* 59664 \".\\Owner\\My Documents\\ダンス用音楽編集\\BurnItUp（ばーんいっとあっぷ）\\Janet Jackson – BURNITUP! Feat. Missy Elliott (Audio Stream) (2019_01_05 05_46_06 UTC).mp4\" はcp932 変換で失敗するので、手で修正\n",
    "\n",
    "* リストのソートバグのため50000-59664 でファイル名の重複が発生。画面上では26個だが、chkスクリプトで数えると28個ある。被害のあったフォルダを元に戻して正しい処理を実施した方がよさそう\n",
    "\n",
    "* 同じ原因で、59665-61705 までもファイル名の重複が１つだけ発生。元ファイルは次のような感じ\n",
    "<pre>\n",
    "    59954 ./Owner/My Documents/中学受験関係/チェックシート作成/共通問題 (2019_01_05 05_46_06 UTC).psd\n",
    "    59955 ./Owner/My Documents/中学受験関係/チェックシート作成/共通問題 (2019_01_05 05_46_06 UTC).xlsx\n",
    "    59956 ./Owner/My Documents/中学受験関係/チェックシート作成/共通問題 (2019_02_09 08_53_06 UTC).psd\n",
    "</pre>\n",
    "* 同上範囲で \".\\Owner\\My Documents\\音\\C2\\rec_51.wav\" が隠しファイルでリネーム失敗していので、通常ファイルに変更して、手動でリネーム\n",
    "\n",
    "* とりあえず、一通りリネームを完了した。ファイル名の重複と隠しファイルの問題を次で考える。\n"
   ]
  },
  {
   "cell_type": "code",
   "execution_count": null,
   "metadata": {},
   "outputs": [],
   "source": [
    "len(latest_list) # officeの一時ファイル（６個）を含まない"
   ]
  },
  {
   "cell_type": "code",
   "execution_count": null,
   "metadata": {},
   "outputs": [],
   "source": [
    "newname_list = []\n",
    "newname_full_list = []\n",
    "for str in latest_list:\n",
    "    name = get_key( str )\n",
    "    newname_list.append(name.split('/')[-1]) # DOS のren コマンドは変更後の名称にパスを含んではいけない\n",
    "    newname_full_list.append( name )"
   ]
  },
  {
   "cell_type": "code",
   "execution_count": null,
   "metadata": {},
   "outputs": [],
   "source": [
    "latest_list_dos = upath2dospath( latest_list)\n",
    "newname_list_dos = upath2dospath( newname_list)\n",
    "newname_full_list_dos = upath2dospath( newname_full_list)"
   ]
  },
  {
   "cell_type": "code",
   "execution_count": null,
   "metadata": {},
   "outputs": [],
   "source": [
    "st = 59665\n",
    "ed = len(latest_list_dos)\n",
    "ren_filename = wpath + 'ren%d_%d.bat' % (st,ed )\n",
    "chk_filename = wpath + 'chk%d_%d.bat' % (st,ed )\n",
    "fileout_list2( ren_filename, latest_list_dos[st:ed], newname_list_dos[st:ed], \"ren %s %s\\n\")\n",
    "fileout_format_list( chk_filename, newname_full_list_dos[st:ed], \"if not exist {0} echo {0}\\n\" )"
   ]
  },
  {
   "cell_type": "markdown",
   "metadata": {},
   "source": [
    "# cp932チェック"
   ]
  },
  {
   "cell_type": "code",
   "execution_count": null,
   "metadata": {},
   "outputs": [],
   "source": [
    "chk_cp932( latest_list_dos)"
   ]
  },
  {
   "cell_type": "markdown",
   "metadata": {},
   "source": [
    "# バグリカバリー\n",
    "被害ファイルはchk50000-59664.bat の重複から推定すると\n",
    "<pre>\n",
    "\".\\All Users\\Documents\\My Pictures\\Camera\\KissDX\\2019\\0101\\選抜\\IMG_8769.CR2\"\n",
    "\".\\All Users\\Documents\\My Pictures\\Camera\\PEN\\2019\\0301\\P3310017.JPG\"\n",
    "\".\\All Users\\Documents\\My Pictures\\Camera\\PEN\\2019\\0301\\P3310017.ORF\"\n",
    "\".\\All Users\\Documents\\My Pictures\\Camera\\PEN\\2019\\0301\\P4200070.JPG\"\n",
    "\".\\All Users\\Documents\\My Pictures\\Camera\\PEN\\2019\\0301\\P4200070.ORF\"\n",
    "\".\\All Users\\Documents\\My Pictures\\Camera\\PEN\\2019\\0301\\P4200071.JPG\"\n",
    "\".\\All Users\\Documents\\My Pictures\\Camera\\PEN\\2019\\0301\\P4200071.ORF\"\n",
    "\".\\All Users\\Documents\\My Pictures\\Camera\\PEN\\2019\\0301\\P4200072.JPG\"\n",
    "\".\\All Users\\Documents\\My Pictures\\Camera\\PEN\\2019\\0301\\P4200072.ORF\"\n",
    "\".\\All Users\\Documents\\My Pictures\\Camera\\PEN\\2019\\0301\\P4200073.JPG\"\n",
    "\".\\All Users\\Documents\\My Pictures\\Camera\\PEN\\2019\\0301\\P4200073.ORF\"\n",
    "\".\\All Users\\Documents\\My Pictures\\Camera\\PEN\\2019\\0301\\P4200074.JPG\"\n",
    "\".\\All Users\\Documents\\My Pictures\\Camera\\PEN\\2019\\0301\\P4200074.ORF\"\n",
    "\".\\All Users\\Documents\\My Pictures\\Camera\\PEN\\2019\\0301\\P4200075.JPG\"\n",
    "\".\\All Users\\Documents\\My Pictures\\Camera\\PEN\\2019\\0301\\P4200075.ORF\"\n",
    "\".\\All Users\\Documents\\My Pictures\\Camera\\PEN\\2019\\0301\\P4200076.JPG\"\n",
    "\".\\All Users\\Documents\\My Pictures\\Camera\\PEN\\2019\\0301\\P4200076.ORF\"\n",
    "\".\\All Users\\Documents\\My Pictures\\Camera\\PEN\\2019\\0301\\P4200077.JPG\"\n",
    "\".\\All Users\\Documents\\My Pictures\\Camera\\PEN\\2019\\0301\\P4200077.ORF\"\n",
    "\".\\All Users\\Documents\\My Pictures\\Camera\\PEN\\2019\\0301\\P4200078.JPG\"\n",
    "\".\\All Users\\Documents\\My Pictures\\Camera\\PEN\\2019\\0301\\P4200078.ORF\"\n",
    "\".\\All Users\\Documents\\My Pictures\\Camera\\PEN\\2019\\0501_jpeg2\\P5260034.jpg\"\n",
    "\".\\All Users\\Documents\\My Pictures\\Camera\\PEN\\2019\\0501_jpeg2\\P5260035.jpg\"\n",
    "\".\\All Users\\Documents\\My Pictures\\Camera\\PEN\\2019\\0501_jpeg2\\P5260037.jpg\"\n",
    "\".\\All Users\\Documents\\My Pictures\\Camera\\PEN\\2019\\0501_jpeg2\\P5260077.jpg\"\n",
    "\".\\All Users\\Documents\\My Pictures\\Camera\\PEN\\2019\\0501_jpeg2\\P5260113.jpg\"\n",
    "\".\\Owner\\My Documents\\My Music\\さまざまなアーティスト\\desktop.ini\"\n",
    "\".\\Owner\\My Documents\\My Music\\MIDI\\SONG\\シアワセミマン.MID\"\n",
    "</pre>\n",
    "最後の２つは uniq -d が以下のように漢字を含むケースに非対応のためっぽい。なので被害ファイルは 26 個でログ画面での数と一致。\n",
    "<pre>\n",
    "\".\\Owner\\My Documents\\My Music\\さまざまなアーティスト\\desktop.ini\"\n",
    "\".\\Owner\\My Documents\\My Music\\ケルティック・ウーマン\\desktop.ini\"\n",
    "</pre>\n",
    "\n",
    "移行先でリネームしそびれて残っているファイルが最新のはずなので、手動で古い方を消してこれをリネームして完了。"
   ]
  },
  {
   "cell_type": "markdown",
   "metadata": {},
   "source": [
    "# 隠しファイルのリネーム\n",
    "_xcopy src dst /h /k_ を使う<br>\n",
    "消すのは、アトリビュートに隠しファイルとリードオンリーを指定して_del /ahr src_ <br>\n",
    "２つのコマンドでオプションの位置が違うが仕様らしい。<br>\n",
    "ファイルは全部リードオンリーになっているみたい。\n",
    "\n",
    "## リストの作成"
   ]
  },
  {
   "cell_type": "code",
   "execution_count": null,
   "metadata": {},
   "outputs": [],
   "source": [
    "# file list を読み込んで file_list を作る\n",
    "filename = \"Z:\\\\work\\\\kakushi_file.txt\" # utf-8\n",
    "with open(filename,encoding='utf-8') as f:\n",
    "    kks_file_list = f.read().splitlines()\n",
    "    f.close()\n",
    "\n",
    "kks_file_list.sort()"
   ]
  },
  {
   "cell_type": "code",
   "execution_count": null,
   "metadata": {},
   "outputs": [],
   "source": [
    "# kks_file_list から更新ファイルを一つのリストにまとめて、そのリストをkks_res_list とする    \n",
    "kks_res_list = []\n",
    "cur_list = [kks_file_list[0]]\n",
    "cur_key = get_key( kks_file_list[0] )\n",
    "\n",
    "for idx, lst in enumerate( kks_file_list[1:] ):\n",
    "    tmp_key = get_key( lst, idx)\n",
    "    if cur_key == tmp_key:\n",
    "        cur_list.append( lst )\n",
    "    else:\n",
    "        kks_res_list.append( cur_list )\n",
    "        cur_list = [ lst ]\n",
    "        cur_key = tmp_key        \n",
    "kks_res_list.append( cur_list) # 最終エントリーをフラッシュ\n",
    "len(kks_res_list)"
   ]
  },
  {
   "cell_type": "code",
   "execution_count": null,
   "metadata": {},
   "outputs": [],
   "source": [
    "# 最新を除く重複リストを作成( MSDOSで消せないのでWSLでrmする)\n",
    "kks_notlatest_list = []\n",
    "for lst in kks_res_list:\n",
    "    if len(lst) > 1:\n",
    "        kks_notlatest_list.append(lst[:-1])\n",
    "print_list( kks_notlatest_list )"
   ]
  },
  {
   "cell_type": "code",
   "execution_count": null,
   "metadata": {},
   "outputs": [],
   "source": [
    "# 最新リストを作成\n",
    "kks_latest_list = []\n",
    "for lst in kks_res_list:\n",
    "    kks_latest_list.append(lst[-1])\n",
    "print( len(kks_latest_list) )\n"
   ]
  },
  {
   "cell_type": "markdown",
   "metadata": {},
   "source": [
    "## いよいよリネーム"
   ]
  },
  {
   "cell_type": "code",
   "execution_count": null,
   "metadata": {},
   "outputs": [],
   "source": [
    "kks_newname_list = [ get_key(str) for str in kks_latest_list ]\n",
    "kks_latest_list_dos = upath2dospath( kks_latest_list )\n",
    "kks_newname_list_dos = upath2dospath( kks_newname_list )"
   ]
  },
  {
   "cell_type": "code",
   "execution_count": null,
   "metadata": {},
   "outputs": [],
   "source": [
    "st = 300\n",
    "ed = len(kks_latest_list_dos)\n",
    "ren_filename = wpath + 'kks_ren%d_%d.bat' % (st,ed )\n",
    "chk_filename = wpath + 'kks_chk%d_%d.bat' % (st,ed )\n",
    "fileout_format_list2( ren_filename, kks_latest_list_dos[st:ed], kks_newname_list_dos[st:ed], \"xcopy   {0} {1} /h /k \\nif exist {1} del /ahr {0}\\n\")\n",
    "fileout_format_list( chk_filename, kks_newname_list_dos[st:ed], \"if not exist {0} echo {0}\\n\" )"
   ]
  },
  {
   "cell_type": "code",
   "execution_count": null,
   "metadata": {},
   "outputs": [],
   "source": [
    "ed"
   ]
  },
  {
   "cell_type": "markdown",
   "metadata": {},
   "source": [
    "完了"
   ]
  }
 ],
 "metadata": {
  "kernelspec": {
   "display_name": "Python 3",
   "language": "python",
   "name": "python3"
  },
  "language_info": {
   "codemirror_mode": {
    "name": "ipython",
    "version": 3
   },
   "file_extension": ".py",
   "mimetype": "text/x-python",
   "name": "python",
   "nbconvert_exporter": "python",
   "pygments_lexer": "ipython3",
   "version": "3.6.9"
  },
  "toc": {
   "nav_menu": {},
   "number_sections": true,
   "sideBar": true,
   "skip_h1_title": false,
   "toc_cell": true,
   "toc_position": {
    "height": "408.217px",
    "left": "0px",
    "right": "870.083px",
    "top": "110.783px",
    "width": "212px"
   },
   "toc_section_display": "block",
   "toc_window_display": true
  }
 },
 "nbformat": 4,
 "nbformat_minor": 2
}
